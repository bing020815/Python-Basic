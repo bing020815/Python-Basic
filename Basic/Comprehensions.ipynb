{
  "nbformat": 4,
  "nbformat_minor": 0,
  "metadata": {
    "kernelspec": {
      "display_name": "Python 3",
      "language": "python",
      "name": "python3"
    },
    "language_info": {
      "codemirror_mode": {
        "name": "ipython",
        "version": 3
      },
      "file_extension": ".py",
      "mimetype": "text/x-python",
      "name": "python",
      "nbconvert_exporter": "python",
      "pygments_lexer": "ipython3",
      "version": "3.7.3"
    },
    "colab": {
      "name": "Comprehensions.ipynb",
      "provenance": [],
      "include_colab_link": true
    }
  },
  "cells": [
    {
      "cell_type": "markdown",
      "metadata": {
        "id": "view-in-github",
        "colab_type": "text"
      },
      "source": [
        "<a href=\"https://colab.research.google.com/github/bing020815/Python-Basic/blob/master/Basic/Comprehensions.ipynb\" target=\"_parent\"><img src=\"https://colab.research.google.com/assets/colab-badge.svg\" alt=\"Open In Colab\"/></a>"
      ]
    },
    {
      "cell_type": "markdown",
      "metadata": {
        "id": "teCoCNvqpoIL",
        "colab_type": "text"
      },
      "source": [
        "## List Comprehensions"
      ]
    },
    {
      "cell_type": "code",
      "metadata": {
        "id": "d7C-n45ppoIO",
        "colab_type": "code",
        "colab": {}
      },
      "source": [
        "nums = [1,2,3,4,5,6,7,8,9,10]"
      ],
      "execution_count": 0,
      "outputs": []
    },
    {
      "cell_type": "markdown",
      "metadata": {
        "id": "2wDn3IJdpoIU",
        "colab_type": "text"
      },
      "source": [
        "### # I want 'n' for 'n' in nums"
      ]
    },
    {
      "cell_type": "code",
      "metadata": {
        "id": "oZgXkUB3poIV",
        "colab_type": "code",
        "colab": {
          "base_uri": "https://localhost:8080/",
          "height": 35
        },
        "outputId": "bb5580dd-13e9-4c6c-880b-6bd3b479c9ac"
      },
      "source": [
        "# I want 'n' for 'n' in nums\n",
        "my_list=[]\n",
        "for n in nums:\n",
        "    my_list.append(n)\n",
        "print(my_list)"
      ],
      "execution_count": 2,
      "outputs": [
        {
          "output_type": "stream",
          "text": [
            "[1, 2, 3, 4, 5, 6, 7, 8, 9, 10]\n"
          ],
          "name": "stdout"
        }
      ]
    },
    {
      "cell_type": "code",
      "metadata": {
        "id": "uD7j49O8poIb",
        "colab_type": "code",
        "colab": {
          "base_uri": "https://localhost:8080/",
          "height": 35
        },
        "outputId": "793afac2-f5d0-4efd-b750-08130963b4ca"
      },
      "source": [
        "my_com_list = [n for n in nums]\n",
        "my_com_list"
      ],
      "execution_count": 3,
      "outputs": [
        {
          "output_type": "execute_result",
          "data": {
            "text/plain": [
              "[1, 2, 3, 4, 5, 6, 7, 8, 9, 10]"
            ]
          },
          "metadata": {
            "tags": []
          },
          "execution_count": 3
        }
      ]
    },
    {
      "cell_type": "markdown",
      "metadata": {
        "id": "4JF1D-EJpoIh",
        "colab_type": "text"
      },
      "source": [
        "### I want 'n*n' for 'n' in nums"
      ]
    },
    {
      "cell_type": "code",
      "metadata": {
        "id": "1PGjQby6poIj",
        "colab_type": "code",
        "colab": {
          "base_uri": "https://localhost:8080/",
          "height": 35
        },
        "outputId": "2ecc8e19-eb97-4904-f214-e4c712b4b41f"
      },
      "source": [
        "my_list=[]\n",
        "for n in nums:\n",
        "    my_list.append(n*n)\n",
        "print(my_list)"
      ],
      "execution_count": 4,
      "outputs": [
        {
          "output_type": "stream",
          "text": [
            "[1, 4, 9, 16, 25, 36, 49, 64, 81, 100]\n"
          ],
          "name": "stdout"
        }
      ]
    },
    {
      "cell_type": "code",
      "metadata": {
        "id": "aKIPsAXTpoIq",
        "colab_type": "code",
        "colab": {
          "base_uri": "https://localhost:8080/",
          "height": 35
        },
        "outputId": "9d51bde9-7903-40a8-d255-8b6b19edf964"
      },
      "source": [
        "my_com_list = [n*n for n in nums]\n",
        "my_com_list"
      ],
      "execution_count": 5,
      "outputs": [
        {
          "output_type": "execute_result",
          "data": {
            "text/plain": [
              "[1, 4, 9, 16, 25, 36, 49, 64, 81, 100]"
            ]
          },
          "metadata": {
            "tags": []
          },
          "execution_count": 5
        }
      ]
    },
    {
      "cell_type": "markdown",
      "metadata": {
        "id": "0z8Gm3s7poIx",
        "colab_type": "text"
      },
      "source": [
        "### I want 'n' for 'n' in nums if 'n' is even"
      ]
    },
    {
      "cell_type": "code",
      "metadata": {
        "id": "NCfhxkw0poIy",
        "colab_type": "code",
        "colab": {
          "base_uri": "https://localhost:8080/",
          "height": 35
        },
        "outputId": "8709ed23-a3a5-4296-9b8e-697cec0f5e6c"
      },
      "source": [
        "my_list=[]\n",
        "for n in nums:\n",
        "    if n%2 == 0:\n",
        "        my_list.append(n)\n",
        "print(my_list)"
      ],
      "execution_count": 6,
      "outputs": [
        {
          "output_type": "stream",
          "text": [
            "[2, 4, 6, 8, 10]\n"
          ],
          "name": "stdout"
        }
      ]
    },
    {
      "cell_type": "code",
      "metadata": {
        "id": "mAw1VYOapoI4",
        "colab_type": "code",
        "colab": {
          "base_uri": "https://localhost:8080/",
          "height": 35
        },
        "outputId": "776010fb-c58e-4c1e-dae1-ad41f1288447"
      },
      "source": [
        "my_com_list = [n for n in nums if n%2==0]\n",
        "my_com_list"
      ],
      "execution_count": 7,
      "outputs": [
        {
          "output_type": "execute_result",
          "data": {
            "text/plain": [
              "[2, 4, 6, 8, 10]"
            ]
          },
          "metadata": {
            "tags": []
          },
          "execution_count": 7
        }
      ]
    },
    {
      "cell_type": "markdown",
      "metadata": {
        "id": "jw-9uCB8poI8",
        "colab_type": "text"
      },
      "source": [
        "### I want a (letter, num) pair for each letter in 'abcd' and each number in '0123'"
      ]
    },
    {
      "cell_type": "code",
      "metadata": {
        "id": "S8DgvT9fpoI-",
        "colab_type": "code",
        "colab": {
          "base_uri": "https://localhost:8080/",
          "height": 35
        },
        "outputId": "e9ac97ba-75e5-491b-f9bc-f7cc233326fe"
      },
      "source": [
        "my_list=[]\n",
        "for letter in 'abcd':\n",
        "    for num in range(4):\n",
        "        my_list.append((letter, num))\n",
        "print(my_list)"
      ],
      "execution_count": 8,
      "outputs": [
        {
          "output_type": "stream",
          "text": [
            "[('a', 0), ('a', 1), ('a', 2), ('a', 3), ('b', 0), ('b', 1), ('b', 2), ('b', 3), ('c', 0), ('c', 1), ('c', 2), ('c', 3), ('d', 0), ('d', 1), ('d', 2), ('d', 3)]\n"
          ],
          "name": "stdout"
        }
      ]
    },
    {
      "cell_type": "code",
      "metadata": {
        "id": "9VsZGjlLpoJC",
        "colab_type": "code",
        "colab": {
          "base_uri": "https://localhost:8080/",
          "height": 301
        },
        "outputId": "740ccea0-6c92-4dad-8f36-4a8b5f5ee576"
      },
      "source": [
        "my_com_list = [(letter, num) for letter in 'abcd' for num in range(4)]\n",
        "my_com_list"
      ],
      "execution_count": 9,
      "outputs": [
        {
          "output_type": "execute_result",
          "data": {
            "text/plain": [
              "[('a', 0),\n",
              " ('a', 1),\n",
              " ('a', 2),\n",
              " ('a', 3),\n",
              " ('b', 0),\n",
              " ('b', 1),\n",
              " ('b', 2),\n",
              " ('b', 3),\n",
              " ('c', 0),\n",
              " ('c', 1),\n",
              " ('c', 2),\n",
              " ('c', 3),\n",
              " ('d', 0),\n",
              " ('d', 1),\n",
              " ('d', 2),\n",
              " ('d', 3)]"
            ]
          },
          "metadata": {
            "tags": []
          },
          "execution_count": 9
        }
      ]
    },
    {
      "cell_type": "markdown",
      "metadata": {
        "id": "Zk8OSpjQpoJI",
        "colab_type": "text"
      },
      "source": [
        "## Dictionary Comprehensions"
      ]
    },
    {
      "cell_type": "code",
      "metadata": {
        "id": "2AjcF46CpoJJ",
        "colab_type": "code",
        "colab": {
          "base_uri": "https://localhost:8080/",
          "height": 35
        },
        "outputId": "eb0070e6-45b0-4f96-db70-d30a03f7639e"
      },
      "source": [
        "names=['Bruce', 'Clark', 'Peter','Logan','Wade']\n",
        "heros=['Batman','Superman', 'Spiderman', 'Wolverine','Deadpool']\n",
        "print(zip(names,heros))"
      ],
      "execution_count": 10,
      "outputs": [
        {
          "output_type": "stream",
          "text": [
            "<zip object at 0x7fcb640fc2c8>\n"
          ],
          "name": "stdout"
        }
      ]
    },
    {
      "cell_type": "markdown",
      "metadata": {
        "id": "USPv4TF7poJN",
        "colab_type": "text"
      },
      "source": [
        "### I want a dict{'name':'hero'} for each name, hero in zip(names, heros)\n"
      ]
    },
    {
      "cell_type": "code",
      "metadata": {
        "id": "XKSI46tjpoJO",
        "colab_type": "code",
        "colab": {
          "base_uri": "https://localhost:8080/",
          "height": 35
        },
        "outputId": "7ffc0cb9-6787-4cfc-c80d-60ae88331b63"
      },
      "source": [
        "my_dict={}\n",
        "for name,hero in zip(names, heros):\n",
        "    my_dict[name]=hero\n",
        "print(my_dict)"
      ],
      "execution_count": 11,
      "outputs": [
        {
          "output_type": "stream",
          "text": [
            "{'Bruce': 'Batman', 'Clark': 'Superman', 'Peter': 'Spiderman', 'Logan': 'Wolverine', 'Wade': 'Deadpool'}\n"
          ],
          "name": "stdout"
        }
      ]
    },
    {
      "cell_type": "code",
      "metadata": {
        "id": "D8unGNfGpoJS",
        "colab_type": "code",
        "colab": {
          "base_uri": "https://localhost:8080/",
          "height": 106
        },
        "outputId": "b2641057-c4cb-41e0-d8c1-add1fd5ee7ed"
      },
      "source": [
        "my_com_dict = {name: hero for name,hero in zip(names, heros)}\n",
        "my_com_dict"
      ],
      "execution_count": 12,
      "outputs": [
        {
          "output_type": "execute_result",
          "data": {
            "text/plain": [
              "{'Bruce': 'Batman',\n",
              " 'Clark': 'Superman',\n",
              " 'Logan': 'Wolverine',\n",
              " 'Peter': 'Spiderman',\n",
              " 'Wade': 'Deadpool'}"
            ]
          },
          "metadata": {
            "tags": []
          },
          "execution_count": 12
        }
      ]
    },
    {
      "cell_type": "markdown",
      "metadata": {
        "id": "RgiwTfq4poJY",
        "colab_type": "text"
      },
      "source": [
        "#### If name not equal to Peter"
      ]
    },
    {
      "cell_type": "code",
      "metadata": {
        "id": "o57FtuTfpoJZ",
        "colab_type": "code",
        "colab": {
          "base_uri": "https://localhost:8080/",
          "height": 88
        },
        "outputId": "948b55e0-3fa6-4522-daea-b589a21bf50c"
      },
      "source": [
        "my_com_dict = {name: hero for name,hero in zip(names, heros) if name != 'Peter'}\n",
        "my_com_dict"
      ],
      "execution_count": 13,
      "outputs": [
        {
          "output_type": "execute_result",
          "data": {
            "text/plain": [
              "{'Bruce': 'Batman',\n",
              " 'Clark': 'Superman',\n",
              " 'Logan': 'Wolverine',\n",
              " 'Wade': 'Deadpool'}"
            ]
          },
          "metadata": {
            "tags": []
          },
          "execution_count": 13
        }
      ]
    },
    {
      "cell_type": "markdown",
      "metadata": {
        "id": "eWSx3sXTpoJg",
        "colab_type": "text"
      },
      "source": [
        "## Set Comprehensions"
      ]
    },
    {
      "cell_type": "code",
      "metadata": {
        "id": "YN0c0d-epoJh",
        "colab_type": "code",
        "colab": {
          "base_uri": "https://localhost:8080/",
          "height": 35
        },
        "outputId": "4336e04b-0f5e-4ea3-9bdc-8ac0665eff94"
      },
      "source": [
        "nums=[1,1,2,1,3,4,5,6,6,7,7,8,8,9,9,0]\n",
        "my_set=set()\n",
        "for n in nums:\n",
        "    my_set.add(n)\n",
        "print(my_set)"
      ],
      "execution_count": 14,
      "outputs": [
        {
          "output_type": "stream",
          "text": [
            "{0, 1, 2, 3, 4, 5, 6, 7, 8, 9}\n"
          ],
          "name": "stdout"
        }
      ]
    },
    {
      "cell_type": "code",
      "metadata": {
        "id": "c7O8__BDpoJl",
        "colab_type": "code",
        "colab": {
          "base_uri": "https://localhost:8080/",
          "height": 35
        },
        "outputId": "d1c585cb-2035-4c34-aa94-b8ed5bdb2f34"
      },
      "source": [
        "my_com_set={n for n in nums}\n",
        "my_com_set"
      ],
      "execution_count": 15,
      "outputs": [
        {
          "output_type": "execute_result",
          "data": {
            "text/plain": [
              "{0, 1, 2, 3, 4, 5, 6, 7, 8, 9}"
            ]
          },
          "metadata": {
            "tags": []
          },
          "execution_count": 15
        }
      ]
    },
    {
      "cell_type": "markdown",
      "metadata": {
        "id": "95toerxJpoJp",
        "colab_type": "text"
      },
      "source": [
        "## Generator Expression"
      ]
    },
    {
      "cell_type": "markdown",
      "metadata": {
        "id": "LKUmsOutpoJq",
        "colab_type": "text"
      },
      "source": [
        "### I want to yield 'n*n' for each 'n' in nums"
      ]
    },
    {
      "cell_type": "code",
      "metadata": {
        "id": "IaMIJveVpoJr",
        "colab_type": "code",
        "colab": {
          "base_uri": "https://localhost:8080/",
          "height": 195
        },
        "outputId": "a80b0d31-49fc-4ef7-8560-2b6fe5934650"
      },
      "source": [
        "nums = [1,2,3,4,5,6,7,8,9,10]\n",
        "\n",
        "def gen_func(nums):\n",
        "    for n in nums:\n",
        "        yield n*n      # yield make the function be the generator\n",
        "        \n",
        "my_gen=gen_func(nums)\n",
        "\n",
        "for i in my_gen:\n",
        "    print(i)"
      ],
      "execution_count": 16,
      "outputs": [
        {
          "output_type": "stream",
          "text": [
            "1\n",
            "4\n",
            "9\n",
            "16\n",
            "25\n",
            "36\n",
            "49\n",
            "64\n",
            "81\n",
            "100\n"
          ],
          "name": "stdout"
        }
      ]
    },
    {
      "cell_type": "code",
      "metadata": {
        "id": "zMAZ622PpoJv",
        "colab_type": "code",
        "colab": {
          "base_uri": "https://localhost:8080/",
          "height": 195
        },
        "outputId": "6f5547bd-1157-4d57-95bd-578a130201c4"
      },
      "source": [
        "my_com_gen=(n*n for n in nums)\n",
        "for i in my_com_gen:\n",
        "    print(i)"
      ],
      "execution_count": 17,
      "outputs": [
        {
          "output_type": "stream",
          "text": [
            "1\n",
            "4\n",
            "9\n",
            "16\n",
            "25\n",
            "36\n",
            "49\n",
            "64\n",
            "81\n",
            "100\n"
          ],
          "name": "stdout"
        }
      ]
    },
    {
      "cell_type": "code",
      "metadata": {
        "id": "Azulq5Z2poJ4",
        "colab_type": "code",
        "colab": {}
      },
      "source": [
        ""
      ],
      "execution_count": 0,
      "outputs": []
    }
  ]
}