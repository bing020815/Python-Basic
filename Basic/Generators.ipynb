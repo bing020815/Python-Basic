{
  "nbformat": 4,
  "nbformat_minor": 0,
  "metadata": {
    "colab": {
      "name": "Generators.ipynb",
      "provenance": [],
      "authorship_tag": "ABX9TyMF8Esfj95Dx49BOVFynLg+",
      "include_colab_link": true
    },
    "kernelspec": {
      "name": "python3",
      "display_name": "Python 3"
    }
  },
  "cells": [
    {
      "cell_type": "markdown",
      "metadata": {
        "id": "view-in-github",
        "colab_type": "text"
      },
      "source": [
        "<a href=\"https://colab.research.google.com/github/bing020815/Python-Basic/blob/master/Basic/Generators.ipynb\" target=\"_parent\"><img src=\"https://colab.research.google.com/assets/colab-badge.svg\" alt=\"Open In Colab\"/></a>"
      ]
    },
    {
      "cell_type": "markdown",
      "metadata": {
        "id": "eisF-XnyIa9Y",
        "colab_type": "text"
      },
      "source": [
        "`Generator` has some advantages over list. It is better with performance.\n",
        "\n",
        "Here is a typical python function return a list:"
      ]
    },
    {
      "cell_type": "code",
      "metadata": {
        "id": "n134HucBIW13",
        "colab_type": "code",
        "colab": {}
      },
      "source": [
        "def square_numbers(nums):\n",
        "    result = []\n",
        "    for i in nums:\n",
        "        result.append(i*i)\n",
        "    return result"
      ],
      "execution_count": 0,
      "outputs": []
    },
    {
      "cell_type": "code",
      "metadata": {
        "id": "HRUWTUnfIaqe",
        "colab_type": "code",
        "colab": {
          "base_uri": "https://localhost:8080/",
          "height": 34
        },
        "outputId": "2f58efff-067f-4575-cb2c-9d96552799ff"
      },
      "source": [
        "my_nums = square_numbers([1,2,3,4,5])\n",
        "print(my_nums)"
      ],
      "execution_count": 2,
      "outputs": [
        {
          "output_type": "stream",
          "text": [
            "[1, 4, 9, 16, 25]\n"
          ],
          "name": "stdout"
        }
      ]
    },
    {
      "cell_type": "markdown",
      "metadata": {
        "id": "HmttqZLpJb3V",
        "colab_type": "text"
      },
      "source": [
        "Now, change the python function to a generator by using `yield` instead of `return`"
      ]
    },
    {
      "cell_type": "code",
      "metadata": {
        "id": "MmCFI71cJW4k",
        "colab_type": "code",
        "colab": {}
      },
      "source": [
        "def square_numbers(nums):\n",
        "    for i in nums:\n",
        "        yield (i*i)"
      ],
      "execution_count": 0,
      "outputs": []
    },
    {
      "cell_type": "code",
      "metadata": {
        "id": "MKy-7cCwJ6rl",
        "colab_type": "code",
        "colab": {
          "base_uri": "https://localhost:8080/",
          "height": 34
        },
        "outputId": "1eeabcea-65b6-4944-8008-023a5e40445f"
      },
      "source": [
        "my_nums = square_numbers([1,2,3,4,5])\n",
        "print(my_nums)"
      ],
      "execution_count": 4,
      "outputs": [
        {
          "output_type": "stream",
          "text": [
            "<generator object square_numbers at 0x7fdac9c54fc0>\n"
          ],
          "name": "stdout"
        }
      ]
    },
    {
      "cell_type": "markdown",
      "metadata": {
        "id": "rV9AS4vUJ_Hd",
        "colab_type": "text"
      },
      "source": [
        "The `my_nums` variable has become a generator object.\n",
        "\n",
        "Generators do not hold entire result in memory. It yields one result at a time. It is waiting for the `next` execution for yielding the next value."
      ]
    },
    {
      "cell_type": "code",
      "metadata": {
        "id": "je0XN0B5LQvY",
        "colab_type": "code",
        "colab": {
          "base_uri": "https://localhost:8080/",
          "height": 102
        },
        "outputId": "d57f6308-7dd2-44e6-c4d6-9dd999a41afc"
      },
      "source": [
        "print(next(my_nums)) # yield 1\n",
        "print(next(my_nums)) # yield 4\n",
        "print(next(my_nums)) # yield 9\n",
        "print(next(my_nums)) # yield 16\n",
        "print(next(my_nums)) # yield 25"
      ],
      "execution_count": 5,
      "outputs": [
        {
          "output_type": "stream",
          "text": [
            "1\n",
            "4\n",
            "9\n",
            "16\n",
            "25\n"
          ],
          "name": "stdout"
        }
      ]
    },
    {
      "cell_type": "markdown",
      "metadata": {
        "id": "ghfRDzrhLcV3",
        "colab_type": "text"
      },
      "source": [
        "The generator has yielded all all the value and the next one would be out of value."
      ]
    },
    {
      "cell_type": "code",
      "metadata": {
        "id": "TT_QfnEpJ7J5",
        "colab_type": "code",
        "colab": {
          "base_uri": "https://localhost:8080/",
          "height": 34
        },
        "outputId": "f9f9d9c3-e7f0-4a87-b94c-a986c1598682"
      },
      "source": [
        "try:\n",
        "    print(next(my_nums)) # out of value\n",
        "except:\n",
        "    print(\"StopIteration: out of value\")"
      ],
      "execution_count": 6,
      "outputs": [
        {
          "output_type": "stream",
          "text": [
            "StopIteration: out of value\n"
          ],
          "name": "stdout"
        }
      ]
    },
    {
      "cell_type": "markdown",
      "metadata": {
        "id": "JlnMl-_mLrZg",
        "colab_type": "text"
      },
      "source": [
        "Instead of get the values one at a time, it can be printed with a for loop."
      ]
    },
    {
      "cell_type": "code",
      "metadata": {
        "id": "_V43_-eWK99O",
        "colab_type": "code",
        "colab": {
          "base_uri": "https://localhost:8080/",
          "height": 102
        },
        "outputId": "3bbfd7c3-2708-4fc7-fdfb-38608c9ad7eb"
      },
      "source": [
        "# reset the generator since it has been exploited in the previus steps\n",
        "my_nums = square_numbers([1,2,3,4,5])\n",
        "\n",
        "for num in my_nums:\n",
        "    print(num)"
      ],
      "execution_count": 7,
      "outputs": [
        {
          "output_type": "stream",
          "text": [
            "1\n",
            "4\n",
            "9\n",
            "16\n",
            "25\n"
          ],
          "name": "stdout"
        }
      ]
    },
    {
      "cell_type": "markdown",
      "metadata": {
        "id": "PNEudpicMSr7",
        "colab_type": "text"
      },
      "source": [
        "The `square_numbers(nums)` can also be written as a list comprehension."
      ]
    },
    {
      "cell_type": "code",
      "metadata": {
        "id": "Vdv6zvNlL38a",
        "colab_type": "code",
        "colab": {
          "base_uri": "https://localhost:8080/",
          "height": 119
        },
        "outputId": "39d12976-9c64-4085-a9de-37b1bf695ecd"
      },
      "source": [
        "my_nums = [i*i for i in [1,2,3,4,5]]\n",
        "print(f'This is a list: {my_nums}')\n",
        "\n",
        "for num in my_nums:\n",
        "    print(num)"
      ],
      "execution_count": 8,
      "outputs": [
        {
          "output_type": "stream",
          "text": [
            "This is a list: [1, 4, 9, 16, 25]\n",
            "1\n",
            "4\n",
            "9\n",
            "16\n",
            "25\n"
          ],
          "name": "stdout"
        }
      ]
    },
    {
      "cell_type": "markdown",
      "metadata": {
        "id": "Vl1rA24wMzgv",
        "colab_type": "text"
      },
      "source": [
        "A generator can be produced in the same way with `()` instead of using `[]`"
      ]
    },
    {
      "cell_type": "code",
      "metadata": {
        "id": "JePwudJIMjA8",
        "colab_type": "code",
        "colab": {
          "base_uri": "https://localhost:8080/",
          "height": 119
        },
        "outputId": "8f90142b-4369-4d70-8806-b0659f3a7592"
      },
      "source": [
        "my_nums = (i*i for i in [1,2,3,4,5])\n",
        "print(f'This is a generator object: {my_nums}')\n",
        "\n",
        "for num in my_nums:\n",
        "    print(num)"
      ],
      "execution_count": 9,
      "outputs": [
        {
          "output_type": "stream",
          "text": [
            "This is a generator object: <generator object <genexpr> at 0x7fdac9c10e60>\n",
            "1\n",
            "4\n",
            "9\n",
            "16\n",
            "25\n"
          ],
          "name": "stdout"
        }
      ]
    },
    {
      "cell_type": "markdown",
      "metadata": {
        "id": "_OeHzemuNL5m",
        "colab_type": "text"
      },
      "source": [
        "Because all the values in the generator are not all hold in the memory, to print all the value at one in the generator, a `list()` can be used to convert a `generator` to a `list`.\n",
        "\n",
        "However, by converting a `generator` to a `list`, it loses the benefit in terms of performance.\n",
        "\n",
        "Generator is better with performance, not holding all the values in the memory when dealing with a huge dataset."
      ]
    },
    {
      "cell_type": "code",
      "metadata": {
        "id": "tNzNzKK9QDyN",
        "colab_type": "code",
        "colab": {
          "base_uri": "https://localhost:8080/",
          "height": 51
        },
        "outputId": "4a60820a-95e0-41fa-8253-34da38b80d72"
      },
      "source": [
        "pip install memory_profiler #install memory_profiler extension in Colab"
      ],
      "execution_count": 10,
      "outputs": [
        {
          "output_type": "stream",
          "text": [
            "Requirement already satisfied: memory_profiler in /usr/local/lib/python3.6/dist-packages (0.57.0)\n",
            "Requirement already satisfied: psutil in /usr/local/lib/python3.6/dist-packages (from memory_profiler) (5.4.8)\n"
          ],
          "name": "stdout"
        }
      ]
    },
    {
      "cell_type": "code",
      "metadata": {
        "id": "5RFsAUC1MxrZ",
        "colab_type": "code",
        "colab": {}
      },
      "source": [
        "%load_ext memory_profiler \n",
        "     # load the extension\n",
        "import random\n",
        "import time\n",
        "\n",
        "names = ['John', 'Bing', 'Adam', 'Steve', 'Rick', 'Thomas']\n",
        "majors = ['Math', 'Engineering', 'CompSci', 'Arts', 'Business']"
      ],
      "execution_count": 0,
      "outputs": []
    },
    {
      "cell_type": "code",
      "metadata": {
        "id": "EQjnHQs2Oo8M",
        "colab_type": "code",
        "colab": {}
      },
      "source": [
        "def people_list(num_people):\n",
        "    result = []\n",
        "    for i in range(num_people):\n",
        "        person = {\n",
        "            'id':i,\n",
        "            'name': random.choice(names),\n",
        "            'major': random.choice(majors)\n",
        "        }\n",
        "        result.append(person)\n",
        "    return result\n",
        "\n",
        "def people_generator(num_people):\n",
        "    for i in xrange(num_people): # xrange only stores the range params and generates the numbers on demand\n",
        "        person = {\n",
        "            'id':i,\n",
        "            'name': random.choice(names),\n",
        "            'major': random.choice(majors)\n",
        "        }\n",
        "        yield person"
      ],
      "execution_count": 0,
      "outputs": []
    },
    {
      "cell_type": "code",
      "metadata": {
        "id": "ZBaLXWtzR21t",
        "colab_type": "code",
        "colab": {
          "base_uri": "https://localhost:8080/",
          "height": 51
        },
        "outputId": "a353bdf3-c735-4901-d844-4193c816bf19"
      },
      "source": [
        "%%memit\n",
        "t1 = time.clock()   # time the start point\n",
        "people = people_list(10000000)\n",
        "t2 = time.clock()   # time the end point\n",
        "print(f'Took {t2-t1} Seconds')"
      ],
      "execution_count": 13,
      "outputs": [
        {
          "output_type": "stream",
          "text": [
            "Took 16.511546 Seconds\n",
            "peak memory: 2972.76 MiB, increment: 2820.78 MiB\n"
          ],
          "name": "stdout"
        }
      ]
    },
    {
      "cell_type": "code",
      "metadata": {
        "id": "Cv6lC4t1SFhN",
        "colab_type": "code",
        "colab": {
          "base_uri": "https://localhost:8080/",
          "height": 51
        },
        "outputId": "3af2de34-e0e0-45b5-c5c4-6d7c28039350"
      },
      "source": [
        "%%memit\n",
        "t1 = time.clock()\n",
        "people = people_generator(10000000)\n",
        "t2 = time.clock()\n",
        "print(f'Took {t2-t1} Seconds')"
      ],
      "execution_count": 14,
      "outputs": [
        {
          "output_type": "stream",
          "text": [
            "Took 2.7201030000000017 Seconds\n",
            "peak memory: 2972.83 MiB, increment: 0.00 MiB\n"
          ],
          "name": "stdout"
        }
      ]
    },
    {
      "cell_type": "markdown",
      "metadata": {
        "id": "CyX4s2aOTFF1",
        "colab_type": "text"
      },
      "source": [
        "By comparing two functions, it is obvious to see that the `generator` gives a big performance boost not only in execution time but memory as well.\n",
        "\n",
        "In the future, in order to increase the performance, try to use `comprhensions in generator expression` instead of using `list comprehension`."
      ]
    }
  ]
}