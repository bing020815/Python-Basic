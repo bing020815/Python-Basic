{
  "nbformat": 4,
  "nbformat_minor": 0,
  "metadata": {
    "colab": {
      "name": "Iterators and Iterables.ipynb",
      "provenance": [],
      "authorship_tag": "ABX9TyPiK6WcwzjdV6Mj0MAAK/xq",
      "include_colab_link": true
    },
    "kernelspec": {
      "name": "python3",
      "display_name": "Python 3"
    }
  },
  "cells": [
    {
      "cell_type": "markdown",
      "metadata": {
        "id": "view-in-github",
        "colab_type": "text"
      },
      "source": [
        "<a href=\"https://colab.research.google.com/github/bing020815/Python-Basic/blob/master/Basic/Iterators_and_Iterables.ipynb\" target=\"_parent\"><img src=\"https://colab.research.google.com/assets/colab-badge.svg\" alt=\"Open In Colab\"/></a>"
      ]
    },
    {
      "cell_type": "markdown",
      "metadata": {
        "id": "1Vl477XfV-EV",
        "colab_type": "text"
      },
      "source": [
        "# Iterators and Iterables\n",
        "\n",
        "In high level, when something is able to loop over, it is iterable. For example, a list is iterable but not an iterator."
      ]
    },
    {
      "cell_type": "code",
      "metadata": {
        "id": "wGkRCU_zV64I",
        "colab_type": "code",
        "colab": {
          "base_uri": "https://localhost:8080/",
          "height": 68
        },
        "outputId": "31a9c963-6dbd-4a2b-fd66-b8ffa8d96c98"
      },
      "source": [
        "nums = [1, 2, 3]\n",
        "\n",
        "for num in nums:\n",
        "    print(num)"
      ],
      "execution_count": 1,
      "outputs": [
        {
          "output_type": "stream",
          "text": [
            "1\n",
            "2\n",
            "3\n"
          ],
          "name": "stdout"
        }
      ]
    },
    {
      "cell_type": "markdown",
      "metadata": {
        "id": "D53yJTFWXSfS",
        "colab_type": "text"
      },
      "source": [
        "How to tell something is iterable?  \n",
        "If something is iterable, it needs to have special method, `__iter__()`.\n",
        "\n",
        "Use `dir()` built-in function to get list of the attributes and methods of any object. Check if the object contains `__iter__` method.\n"
      ]
    },
    {
      "cell_type": "code",
      "metadata": {
        "id": "BCZBt48yXP4f",
        "colab_type": "code",
        "colab": {
          "base_uri": "https://localhost:8080/",
          "height": 71
        },
        "outputId": "3167a57e-01a9-4cb2-cbad-f84a688297af"
      },
      "source": [
        "print(dir(nums))\n",
        "\n",
        "# alternative\n",
        "if '__iter__' in dir(nums):\n",
        "    print('true')"
      ],
      "execution_count": 2,
      "outputs": [
        {
          "output_type": "stream",
          "text": [
            "['__add__', '__class__', '__contains__', '__delattr__', '__delitem__', '__dir__', '__doc__', '__eq__', '__format__', '__ge__', '__getattribute__', '__getitem__', '__gt__', '__hash__', '__iadd__', '__imul__', '__init__', '__init_subclass__', '__iter__', '__le__', '__len__', '__lt__', '__mul__', '__ne__', '__new__', '__reduce__', '__reduce_ex__', '__repr__', '__reversed__', '__rmul__', '__setattr__', '__setitem__', '__sizeof__', '__str__', '__subclasshook__', 'append', 'clear', 'copy', 'count', 'extend', 'index', 'insert', 'pop', 'remove', 'reverse', 'sort']\n",
            "true\n"
          ],
          "name": "stdout"
        }
      ]
    },
    {
      "cell_type": "markdown",
      "metadata": {
        "id": "4LtmyNc6Yqa8",
        "colab_type": "text"
      },
      "source": [
        "An `iterator` has a state where it knows where it is during iteration. And iterators also know how to get their next value they. They get the next value with a dunder method, `__next__`.\n",
        "\n",
        "\n",
        "Here, the list does not have a state and it does not know how to get its next value. So, therefore, it is not an interator.\n",
        "\n",
        "If a `next()` method is applied to a list for printing the next value of a list, it will returns an error."
      ]
    },
    {
      "cell_type": "code",
      "metadata": {
        "id": "dNcXC6Y9YNDC",
        "colab_type": "code",
        "colab": {
          "base_uri": "https://localhost:8080/",
          "height": 34
        },
        "outputId": "8f950a6c-0363-4091-9b42-baf97498a9de"
      },
      "source": [
        "try:    \n",
        "    print(next(nums))   \n",
        "except:\n",
        "    print(\"TypeError: 'list' object is not an iterator\")"
      ],
      "execution_count": 3,
      "outputs": [
        {
          "output_type": "stream",
          "text": [
            "TypeError: 'list' object is not an iterator\n"
          ],
          "name": "stdout"
        }
      ]
    },
    {
      "cell_type": "markdown",
      "metadata": {
        "id": "_1LUlezSaOkn",
        "colab_type": "text"
      },
      "source": [
        "However, if run a `__iter__` method, it will return an `iterator`"
      ]
    },
    {
      "cell_type": "code",
      "metadata": {
        "id": "Y-pCQ9hiZrP2",
        "colab_type": "code",
        "colab": {
          "base_uri": "https://localhost:8080/",
          "height": 71
        },
        "outputId": "f27ff608-4b58-4b77-db5f-f97cb57114b7"
      },
      "source": [
        "i_nums = nums.__iter__() # or iter(nums)\n",
        "print(i_nums)   \n",
        "print(dir(i_nums))   "
      ],
      "execution_count": 4,
      "outputs": [
        {
          "output_type": "stream",
          "text": [
            "<list_iterator object at 0x7f594cf27550>\n",
            "['__class__', '__delattr__', '__dir__', '__doc__', '__eq__', '__format__', '__ge__', '__getattribute__', '__gt__', '__hash__', '__init__', '__init_subclass__', '__iter__', '__le__', '__length_hint__', '__lt__', '__ne__', '__new__', '__next__', '__reduce__', '__reduce_ex__', '__repr__', '__setattr__', '__setstate__', '__sizeof__', '__str__', '__subclasshook__']\n"
          ],
          "name": "stdout"
        }
      ]
    },
    {
      "cell_type": "markdown",
      "metadata": {
        "id": "jJkS4qEEbBIw",
        "colab_type": "text"
      },
      "source": [
        "The `i_nums` object now is an iterator since it contains `__iter__` and `__next__` methods.\n",
        "\n",
        "Now, it is able to print the next value using `next()`"
      ]
    },
    {
      "cell_type": "code",
      "metadata": {
        "id": "XN5u8Fk6arFx",
        "colab_type": "code",
        "colab": {
          "base_uri": "https://localhost:8080/",
          "height": 85
        },
        "outputId": "26e9ec48-d868-4983-95e9-e0e7ffc6a16c"
      },
      "source": [
        "try:\n",
        "    print(next(i_nums))\n",
        "    print(next(i_nums))\n",
        "    print(next(i_nums))\n",
        "    print(next(i_nums))\n",
        "except:\n",
        "    print(\"StopIteration\")"
      ],
      "execution_count": 5,
      "outputs": [
        {
          "output_type": "stream",
          "text": [
            "1\n",
            "2\n",
            "3\n",
            "StopIteration\n"
          ],
          "name": "stdout"
        }
      ]
    },
    {
      "cell_type": "markdown",
      "metadata": {
        "id": "0YeGk9wYcmBr",
        "colab_type": "text"
      },
      "source": [
        "What a for loop does on a list is shown as below:\n"
      ]
    },
    {
      "cell_type": "code",
      "metadata": {
        "id": "yaw2ZvLvbt0b",
        "colab_type": "code",
        "colab": {
          "base_uri": "https://localhost:8080/",
          "height": 68
        },
        "outputId": "8d3f8917-8b6b-48a9-e95c-49e2c405fac7"
      },
      "source": [
        "i_nums = iter(nums) # reset the iterator\n",
        "while True:\n",
        "    try: \n",
        "        item = next(i_nums)\n",
        "        print(item)\n",
        "    except StopIteration:\n",
        "        break"
      ],
      "execution_count": 6,
      "outputs": [
        {
          "output_type": "stream",
          "text": [
            "1\n",
            "2\n",
            "3\n"
          ],
          "name": "stdout"
        }
      ]
    },
    {
      "cell_type": "markdown",
      "metadata": {
        "id": "tqs8EZhxc3tr",
        "colab_type": "text"
      },
      "source": [
        "### Pratical examples:\n",
        "Create a class with methods that can make the class interable"
      ]
    },
    {
      "cell_type": "code",
      "metadata": {
        "id": "sXZH5YfQcXTR",
        "colab_type": "code",
        "colab": {}
      },
      "source": [
        "class MyRange:\n",
        "    def __init__(self, start, end):\n",
        "        self.value = start\n",
        "        self.end = end\n",
        "    def __iter__(self):\n",
        "        return self\n",
        "\n",
        "    def __next__(self):\n",
        "        if self.value >= self.end:\n",
        "            raise StopIteration\n",
        "        current = self.value\n",
        "        self.value += 1\n",
        "        return current"
      ],
      "execution_count": 0,
      "outputs": []
    },
    {
      "cell_type": "markdown",
      "metadata": {
        "id": "FpE0HsZnebj0",
        "colab_type": "text"
      },
      "source": [
        "print the value with a for loop"
      ]
    },
    {
      "cell_type": "code",
      "metadata": {
        "id": "yU8i2ZmUeSZL",
        "colab_type": "code",
        "colab": {
          "base_uri": "https://localhost:8080/",
          "height": 170
        },
        "outputId": "eecc728f-18c2-42f4-e605-7c80e0cf974c"
      },
      "source": [
        "nums =MyRange(1, 10)\n",
        "for num in nums:\n",
        "    print(num)"
      ],
      "execution_count": 8,
      "outputs": [
        {
          "output_type": "stream",
          "text": [
            "1\n",
            "2\n",
            "3\n",
            "4\n",
            "5\n",
            "6\n",
            "7\n",
            "8\n",
            "9\n"
          ],
          "name": "stdout"
        }
      ]
    },
    {
      "cell_type": "markdown",
      "metadata": {
        "id": "1MZPsdueeel5",
        "colab_type": "text"
      },
      "source": [
        "use `next()` method to print the next value"
      ]
    },
    {
      "cell_type": "code",
      "metadata": {
        "id": "sJITTonVeSxK",
        "colab_type": "code",
        "colab": {
          "base_uri": "https://localhost:8080/",
          "height": 85
        },
        "outputId": "1b6085c7-dd86-44f4-e67c-baaad714faf1"
      },
      "source": [
        "nums =MyRange(1, 10)\n",
        "print(next(nums))\n",
        "print(next(nums))\n",
        "print(next(nums))\n",
        "print(next(nums))\n"
      ],
      "execution_count": 9,
      "outputs": [
        {
          "output_type": "stream",
          "text": [
            "1\n",
            "2\n",
            "3\n",
            "4\n"
          ],
          "name": "stdout"
        }
      ]
    },
    {
      "cell_type": "markdown",
      "metadata": {
        "id": "zcmxOr5Ce5q6",
        "colab_type": "text"
      },
      "source": [
        "A `generator` can have the same utilities as the iterable `class`"
      ]
    },
    {
      "cell_type": "code",
      "metadata": {
        "id": "k9E24ei_eoQM",
        "colab_type": "code",
        "colab": {}
      },
      "source": [
        "def my_range(start, end):\n",
        "    current = start\n",
        "    while current < end:\n",
        "        yield current\n",
        "        current +=1"
      ],
      "execution_count": 0,
      "outputs": []
    },
    {
      "cell_type": "code",
      "metadata": {
        "id": "zrJAtRo3fM_p",
        "colab_type": "code",
        "colab": {
          "base_uri": "https://localhost:8080/",
          "height": 85
        },
        "outputId": "166683b1-c5a1-4629-e2a8-1cd198d3c91e"
      },
      "source": [
        "nums =my_range(1, 10)\n",
        "print(next(nums))\n",
        "print(next(nums))\n",
        "print(next(nums))\n",
        "print(next(nums))"
      ],
      "execution_count": 11,
      "outputs": [
        {
          "output_type": "stream",
          "text": [
            "1\n",
            "2\n",
            "3\n",
            "4\n"
          ],
          "name": "stdout"
        }
      ]
    },
    {
      "cell_type": "code",
      "metadata": {
        "id": "_yAC6dtpfQEZ",
        "colab_type": "code",
        "colab": {
          "base_uri": "https://localhost:8080/",
          "height": 102
        },
        "outputId": "efd4f9fd-304b-44ab-dfa0-045d20be5818"
      },
      "source": [
        "# use for loop to print the rest of values\n",
        "for num in nums:\n",
        "    print(num)"
      ],
      "execution_count": 12,
      "outputs": [
        {
          "output_type": "stream",
          "text": [
            "5\n",
            "6\n",
            "7\n",
            "8\n",
            "9\n"
          ],
          "name": "stdout"
        }
      ]
    },
    {
      "cell_type": "markdown",
      "metadata": {
        "id": "vRvoVcqVf1E4",
        "colab_type": "text"
      },
      "source": [
        "#### generator iterator goes on forever\n",
        "To have a generator that can iterate over and over without stop: "
      ]
    },
    {
      "cell_type": "code",
      "metadata": {
        "id": "eK9fYATGfjYp",
        "colab_type": "code",
        "colab": {}
      },
      "source": [
        "def my_range(start):\n",
        "    current = start\n",
        "    while True:\n",
        "        yield current\n",
        "        current +=1"
      ],
      "execution_count": 0,
      "outputs": []
    },
    {
      "cell_type": "code",
      "metadata": {
        "id": "Y0nmgr01gAD4",
        "colab_type": "code",
        "colab": {
          "base_uri": "https://localhost:8080/",
          "height": 221
        },
        "outputId": "1aca9e44-95e2-4335-9edd-d928c5f7744f"
      },
      "source": [
        "nums =my_range(1)\n",
        "print(next(nums))\n",
        "print(next(nums))\n",
        "print(next(nums))\n",
        "print(next(nums))\n",
        "print(next(nums))\n",
        "print(next(nums))\n",
        "print(next(nums))\n",
        "print(next(nums))\n",
        "print(next(nums))\n",
        "print(next(nums))\n",
        "print(next(nums))\n",
        "print(next(nums))"
      ],
      "execution_count": 14,
      "outputs": [
        {
          "output_type": "stream",
          "text": [
            "1\n",
            "2\n",
            "3\n",
            "4\n",
            "5\n",
            "6\n",
            "7\n",
            "8\n",
            "9\n",
            "10\n",
            "11\n",
            "12\n"
          ],
          "name": "stdout"
        }
      ]
    }
  ]
}