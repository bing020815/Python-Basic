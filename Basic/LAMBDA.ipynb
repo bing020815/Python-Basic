{
  "nbformat": 4,
  "nbformat_minor": 0,
  "metadata": {
    "kernelspec": {
      "display_name": "Python 3",
      "language": "python",
      "name": "python3"
    },
    "language_info": {
      "codemirror_mode": {
        "name": "ipython",
        "version": 3
      },
      "file_extension": ".py",
      "mimetype": "text/x-python",
      "name": "python",
      "nbconvert_exporter": "python",
      "pygments_lexer": "ipython3",
      "version": "3.7.3"
    },
    "colab": {
      "name": "LAMBDA.ipynb",
      "provenance": [],
      "include_colab_link": true
    }
  },
  "cells": [
    {
      "cell_type": "markdown",
      "metadata": {
        "id": "view-in-github",
        "colab_type": "text"
      },
      "source": [
        "<a href=\"https://colab.research.google.com/github/bing020815/Python-Basic/blob/master/Basic/LAMBDA.ipynb\" target=\"_parent\"><img src=\"https://colab.research.google.com/assets/colab-badge.svg\" alt=\"Open In Colab\"/></a>"
      ]
    },
    {
      "cell_type": "markdown",
      "metadata": {
        "id": "PlmH4khOp4gq",
        "colab_type": "text"
      },
      "source": [
        "# Functions lambda  \n",
        "https://www.bogotobogo.com/python/python_functions_lambda.php"
      ]
    },
    {
      "cell_type": "markdown",
      "metadata": {
        "id": "Rcv4_E9tp4gu",
        "colab_type": "text"
      },
      "source": [
        "Like def, the lambda creates a function to be called later. But it returns the function instead of assigning it to a name.  \n",
        "This is why lambdas are sometimes known as anonymous functions."
      ]
    },
    {
      "cell_type": "markdown",
      "metadata": {
        "id": "E-Jdk4Jip4gw",
        "colab_type": "text"
      },
      "source": [
        "Here is the differece between a normal function definition, func and a lambda function, lamb:"
      ]
    },
    {
      "cell_type": "code",
      "metadata": {
        "id": "uhTFghrJp4gx",
        "colab_type": "code",
        "colab": {
          "base_uri": "https://localhost:8080/",
          "height": 35
        },
        "outputId": "b49b8e39-0039-4ffe-ac1d-7c3fa7ea2871"
      },
      "source": [
        "# Define a function that can takes a value and return the value of power of three\n",
        "def func(x): return x ** 3\n",
        "# try the function\n",
        "func(5)"
      ],
      "execution_count": 47,
      "outputs": [
        {
          "output_type": "execute_result",
          "data": {
            "text/plain": [
              "125"
            ]
          },
          "metadata": {
            "tags": []
          },
          "execution_count": 47
        }
      ]
    },
    {
      "cell_type": "code",
      "metadata": {
        "id": "DxfViZiEp4g4",
        "colab_type": "code",
        "colab": {
          "base_uri": "https://localhost:8080/",
          "height": 35
        },
        "outputId": "5518df00-bc66-4c2b-f060-1a90c50c8524"
      },
      "source": [
        "# Define a function that can takes a value and return the value of power of three\n",
        "lamb = lambda x: x ** 3\n",
        "# try the function\n",
        "lamb(5)"
      ],
      "execution_count": 48,
      "outputs": [
        {
          "output_type": "execute_result",
          "data": {
            "text/plain": [
              "125"
            ]
          },
          "metadata": {
            "tags": []
          },
          "execution_count": 1
        },
        {
          "output_type": "execute_result",
          "data": {
            "text/plain": [
              "125"
            ]
          },
          "metadata": {
            "tags": []
          },
          "execution_count": 24
        },
        {
          "output_type": "execute_result",
          "data": {
            "text/plain": [
              "125"
            ]
          },
          "metadata": {
            "tags": []
          },
          "execution_count": 48
        }
      ]
    },
    {
      "cell_type": "markdown",
      "metadata": {
        "id": "tpP07HZWp4g_",
        "colab_type": "text"
      },
      "source": [
        "As we can see, func() and lamb() do exactly the same and can be used in the sam ways.   \n",
        "** *Note: the lambda definition does not include a return statement* **  \n",
        "we can put a lambda definition anywhere a function is expected, and we don't have to assign it to a variable at all."
      ]
    },
    {
      "cell_type": "markdown",
      "metadata": {
        "id": "f9rabaHhp4hA",
        "colab_type": "text"
      },
      "source": [
        "The lambda's general form is :  \n",
        "**lambda** *arg1, arg2, ...argN*  **:**  *expression using arguments*  \n",
        "\n",
        "1. lambda is an expression, not a statement\n",
        "    + a lambda can appear in places a def is not allowed\n",
        "    + lambda returns a value that can optionally be assigned a name\n",
        "    + the def statement always assigns the new function to the name in the header, instead of returning is as a result\n",
        "\n",
        "\n",
        "2. lambda's body is a single expression, not a block of statements\n",
        "    + a lambda is less general that a def\n",
        "    + lambda is designed for coding simple functions, and def handles larger tasks"
      ]
    },
    {
      "cell_type": "code",
      "metadata": {
        "id": "w-2lVkpWp4hC",
        "colab_type": "code",
        "colab": {
          "base_uri": "https://localhost:8080/",
          "height": 35
        },
        "outputId": "4e4b2f06-5ad9-4aff-c8b7-5a2f3f341cb3"
      },
      "source": [
        "def f(x, y, z): \n",
        "    return x + y + z\n",
        "\n",
        "f(2, 30, 400)"
      ],
      "execution_count": 49,
      "outputs": [
        {
          "output_type": "execute_result",
          "data": {
            "text/plain": [
              "432"
            ]
          },
          "metadata": {
            "tags": []
          },
          "execution_count": 2
        },
        {
          "output_type": "execute_result",
          "data": {
            "text/plain": [
              "432"
            ]
          },
          "metadata": {
            "tags": []
          },
          "execution_count": 25
        },
        {
          "output_type": "execute_result",
          "data": {
            "text/plain": [
              "432"
            ]
          },
          "metadata": {
            "tags": []
          },
          "execution_count": 49
        }
      ]
    },
    {
      "cell_type": "markdown",
      "metadata": {
        "id": "-_fttSprp4hH",
        "colab_type": "text"
      },
      "source": [
        "We can achieve the same effect with lambda expression by explicitly assigning its result to a name through which we can call the function later"
      ]
    },
    {
      "cell_type": "code",
      "metadata": {
        "id": "VtfSgSEPp4hJ",
        "colab_type": "code",
        "colab": {
          "base_uri": "https://localhost:8080/",
          "height": 35
        },
        "outputId": "3fd7faff-7c2f-49d5-fe64-fd2a13f570f7"
      },
      "source": [
        "f = lambda x, y, z: x + y + z\n",
        "\n",
        "f(2, 30, 400)"
      ],
      "execution_count": 50,
      "outputs": [
        {
          "output_type": "execute_result",
          "data": {
            "text/plain": [
              "432"
            ]
          },
          "metadata": {
            "tags": []
          },
          "execution_count": 3
        },
        {
          "output_type": "execute_result",
          "data": {
            "text/plain": [
              "432"
            ]
          },
          "metadata": {
            "tags": []
          },
          "execution_count": 26
        },
        {
          "output_type": "execute_result",
          "data": {
            "text/plain": [
              "432"
            ]
          },
          "metadata": {
            "tags": []
          },
          "execution_count": 50
        }
      ]
    },
    {
      "cell_type": "markdown",
      "metadata": {
        "id": "iWd9jXZlp4hO",
        "colab_type": "text"
      },
      "source": [
        "Here, f is assigned the function object the lambda expression creates. This is how def works, too. But in def, its assignment is an automatic must."
      ]
    },
    {
      "cell_type": "markdown",
      "metadata": {
        "id": "wgHLb1LZp4hQ",
        "colab_type": "text"
      },
      "source": [
        "Default work on lambda arguments:"
      ]
    },
    {
      "cell_type": "code",
      "metadata": {
        "id": "YPjQfPyCp4hS",
        "colab_type": "code",
        "colab": {
          "base_uri": "https://localhost:8080/",
          "height": 35
        },
        "outputId": "5642242a-3a6a-4813-8e80-179491e83bcf"
      },
      "source": [
        "# display a + b + c\n",
        "mz = (lambda a = 'Wolfgangus', b = ' Theophilus', c = ' Mozart': a + b + c)\n",
        "\n",
        "mz('Wolfgang', ' Amadeus')"
      ],
      "execution_count": 51,
      "outputs": [
        {
          "output_type": "execute_result",
          "data": {
            "text/plain": [
              "'Wolfgang Amadeus Mozart'"
            ]
          },
          "metadata": {
            "tags": []
          },
          "execution_count": 4
        },
        {
          "output_type": "execute_result",
          "data": {
            "text/plain": [
              "'Wolfgang Amadeus Mozart'"
            ]
          },
          "metadata": {
            "tags": []
          },
          "execution_count": 27
        },
        {
          "output_type": "execute_result",
          "data": {
            "text/plain": [
              "'Wolfgang Amadeus Mozart'"
            ]
          },
          "metadata": {
            "tags": []
          },
          "execution_count": 51
        }
      ]
    },
    {
      "cell_type": "markdown",
      "metadata": {
        "id": "HzyiuwQvp4hW",
        "colab_type": "text"
      },
      "source": [
        "In the following example, the value for the name title would have been passes in as a default argument value"
      ]
    },
    {
      "cell_type": "code",
      "metadata": {
        "id": "XS7jME2dp4hY",
        "colab_type": "code",
        "colab": {
          "base_uri": "https://localhost:8080/",
          "height": 35
        },
        "outputId": "956e1aa0-78f0-407f-d84c-b83bdc9a3538"
      },
      "source": [
        "def writer():                          # the writer() does not need a input variable\n",
        "    title = 'Sir'\n",
        "    name = (lambda x:title + ' ' + x)  # x is the input variable\n",
        "    return name\n",
        "\n",
        "who = writer()\n",
        "\n",
        "who('Arthur Ignatius Conan Doyle')"
      ],
      "execution_count": 52,
      "outputs": [
        {
          "output_type": "execute_result",
          "data": {
            "text/plain": [
              "'Sir Arthur Ignatius Conan Doyle'"
            ]
          },
          "metadata": {
            "tags": []
          },
          "execution_count": 5
        },
        {
          "output_type": "execute_result",
          "data": {
            "text/plain": [
              "'Sir Arthur Ignatius Conan Doyle'"
            ]
          },
          "metadata": {
            "tags": []
          },
          "execution_count": 28
        },
        {
          "output_type": "execute_result",
          "data": {
            "text/plain": [
              "'Sir Arthur Ignatius Conan Doyle'"
            ]
          },
          "metadata": {
            "tags": []
          },
          "execution_count": 52
        }
      ]
    },
    {
      "cell_type": "markdown",
      "metadata": {
        "id": "nB83a05zp4hg",
        "colab_type": "text"
      },
      "source": [
        "##  Why lambda?  \n",
        "The lambdas can be used as a function shorthand that allows us to embed a function within the code.   \n",
        "For instance, callback handlers are frequently coded as inline lambda expressions embedded directly in a registration call's arguments list.   \n",
        "Instead of being define with a def elsewhere in a file and referenced by name, lambdas are also commonly used to code jump tables which are lists or dictionaries of actions to be performed on demand."
      ]
    },
    {
      "cell_type": "code",
      "metadata": {
        "id": "hKjAbX6Qp4hh",
        "colab_type": "code",
        "colab": {
          "base_uri": "https://localhost:8080/",
          "height": 177
        },
        "outputId": "679718b3-99af-4384-8871-20e35aef82bc"
      },
      "source": [
        "L = [lambda x: x ** 2, \n",
        "     lambda x: x ** 3,\n",
        "     lambda x: x ** 4]\n",
        "\n",
        "for f in L:\n",
        "    print(f(3))"
      ],
      "execution_count": 53,
      "outputs": [
        {
          "output_type": "stream",
          "text": [
            "9\n",
            "27\n",
            "81\n",
            "9\n",
            "27\n",
            "81\n",
            "9\n",
            "27\n",
            "81\n"
          ],
          "name": "stdout"
        }
      ]
    },
    {
      "cell_type": "code",
      "metadata": {
        "id": "h4_yEF1-p4hm",
        "colab_type": "code",
        "colab": {
          "base_uri": "https://localhost:8080/",
          "height": 35
        },
        "outputId": "548baed1-7b1d-4af2-abba-125d2995fa86"
      },
      "source": [
        "L[0](11)"
      ],
      "execution_count": 54,
      "outputs": [
        {
          "output_type": "execute_result",
          "data": {
            "text/plain": [
              "121"
            ]
          },
          "metadata": {
            "tags": []
          },
          "execution_count": 7
        },
        {
          "output_type": "execute_result",
          "data": {
            "text/plain": [
              "121"
            ]
          },
          "metadata": {
            "tags": []
          },
          "execution_count": 30
        },
        {
          "output_type": "execute_result",
          "data": {
            "text/plain": [
              "121"
            ]
          },
          "metadata": {
            "tags": []
          },
          "execution_count": 54
        }
      ]
    },
    {
      "cell_type": "markdown",
      "metadata": {
        "id": "XI1m0nKyp4hr",
        "colab_type": "text"
      },
      "source": [
        "In the example above, a list of three functions was built up by embedding lambda expressions inside a list.   \n",
        "A def won't work inside a list literal like this because it is a statement, not an expression.   \n",
        "\n",
        "If we really want to use def for the same result, we need temporary function names and definitions outside:"
      ]
    },
    {
      "cell_type": "code",
      "metadata": {
        "id": "sNgHbZaWp4ht",
        "colab_type": "code",
        "colab": {
          "base_uri": "https://localhost:8080/",
          "height": 177
        },
        "outputId": "c292283d-adf6-44a2-b734-baa01f48fdb6"
      },
      "source": [
        "def f1(x): return x ** 2\n",
        "def f2(x): return x ** 3\n",
        "def f3(x): return x ** 4\n",
        "\n",
        "# Reference by name\n",
        "L = [f1, f2, f3]\n",
        "for f in L:\n",
        "    print(f(3))"
      ],
      "execution_count": 55,
      "outputs": [
        {
          "output_type": "stream",
          "text": [
            "9\n",
            "27\n",
            "81\n",
            "9\n",
            "27\n",
            "81\n",
            "9\n",
            "27\n",
            "81\n"
          ],
          "name": "stdout"
        }
      ]
    },
    {
      "cell_type": "code",
      "metadata": {
        "id": "AMrbGPMap4hz",
        "colab_type": "code",
        "colab": {
          "base_uri": "https://localhost:8080/",
          "height": 35
        },
        "outputId": "4e8e95aa-6167-410f-a6f4-c09344f8d3e3"
      },
      "source": [
        "L[0](3)"
      ],
      "execution_count": 56,
      "outputs": [
        {
          "output_type": "execute_result",
          "data": {
            "text/plain": [
              "9"
            ]
          },
          "metadata": {
            "tags": []
          },
          "execution_count": 9
        },
        {
          "output_type": "execute_result",
          "data": {
            "text/plain": [
              "9"
            ]
          },
          "metadata": {
            "tags": []
          },
          "execution_count": 32
        },
        {
          "output_type": "execute_result",
          "data": {
            "text/plain": [
              "9"
            ]
          },
          "metadata": {
            "tags": []
          },
          "execution_count": 56
        }
      ]
    },
    {
      "cell_type": "markdown",
      "metadata": {
        "id": "C7jBnOJBp4h3",
        "colab_type": "text"
      },
      "source": [
        "We can use dictionaries doing the same thing:"
      ]
    },
    {
      "cell_type": "code",
      "metadata": {
        "id": "Rx0TrvJUp4h5",
        "colab_type": "code",
        "colab": {
          "base_uri": "https://localhost:8080/",
          "height": 35
        },
        "outputId": "e22b730c-abfa-4e05-9da5-2a00c5c32a99"
      },
      "source": [
        "key = 'quadratic'\n",
        "{'square': (lambda x: x ** 2),\n",
        " 'cubic': (lambda x: x ** 3),\n",
        " 'quadratic': (lambda x: x ** 4)}[key](10)"
      ],
      "execution_count": 57,
      "outputs": [
        {
          "output_type": "execute_result",
          "data": {
            "text/plain": [
              "10000"
            ]
          },
          "metadata": {
            "tags": []
          },
          "execution_count": 10
        },
        {
          "output_type": "execute_result",
          "data": {
            "text/plain": [
              "10000"
            ]
          },
          "metadata": {
            "tags": []
          },
          "execution_count": 33
        },
        {
          "output_type": "execute_result",
          "data": {
            "text/plain": [
              "10000"
            ]
          },
          "metadata": {
            "tags": []
          },
          "execution_count": 57
        }
      ]
    },
    {
      "cell_type": "markdown",
      "metadata": {
        "id": "lyyM77nJp4h_",
        "colab_type": "text"
      },
      "source": [
        "Here, we made the temporary dictionary, each of the nested lambdas generates and leaves behind a function to be called later.  \n",
        "We fetched one of those functions by indexing and the parentheses forced the fetched function to be called.\n",
        "\n",
        "Again, let's do the same thing without lambda:"
      ]
    },
    {
      "cell_type": "code",
      "metadata": {
        "id": "7hhI2S1Xp4iB",
        "colab_type": "code",
        "colab": {
          "base_uri": "https://localhost:8080/",
          "height": 35
        },
        "outputId": "46130601-e57f-4931-84bc-eb3293c7692c"
      },
      "source": [
        "def f1(x): return x ** 2\n",
        "def f2(x): return x ** 3\n",
        "def f3(x): return x ** 4\n",
        "key = 'quadratic'\n",
        "{'square': f1, 'cubic': f2, 'quadratic': f3}[key](10)"
      ],
      "execution_count": 58,
      "outputs": [
        {
          "output_type": "execute_result",
          "data": {
            "text/plain": [
              "10000"
            ]
          },
          "metadata": {
            "tags": []
          },
          "execution_count": 11
        },
        {
          "output_type": "execute_result",
          "data": {
            "text/plain": [
              "10000"
            ]
          },
          "metadata": {
            "tags": []
          },
          "execution_count": 34
        },
        {
          "output_type": "execute_result",
          "data": {
            "text/plain": [
              "10000"
            ]
          },
          "metadata": {
            "tags": []
          },
          "execution_count": 58
        }
      ]
    },
    {
      "cell_type": "markdown",
      "metadata": {
        "id": "gqHDYWEzp4iG",
        "colab_type": "text"
      },
      "source": [
        "The code proximity that lambda provide is useful for functions that will only be used in a single context.   Especially, if the three functions are not going to be used anywhere else, it makes sense to embed them within the dictionary as lambdas.   \n",
        "\n",
        "Also, the def requires more names for these title functions that may cause name clash with other names in this file."
      ]
    },
    {
      "cell_type": "markdown",
      "metadata": {
        "id": "NKcDa4SVp4iH",
        "colab_type": "text"
      },
      "source": [
        "If we know what we're doing, we can code most statements as expressions:"
      ]
    },
    {
      "cell_type": "code",
      "metadata": {
        "id": "2cPw1dgHp4iJ",
        "colab_type": "code",
        "colab": {
          "base_uri": "https://localhost:8080/",
          "height": 35
        },
        "outputId": "01cd2143-3bbc-4577-f5c7-9bc3b38f1dd5"
      },
      "source": [
        "min = (lambda x, y: x if x < y else y)\n",
        "min(101*99, 102*98)"
      ],
      "execution_count": 59,
      "outputs": [
        {
          "output_type": "execute_result",
          "data": {
            "text/plain": [
              "9996"
            ]
          },
          "metadata": {
            "tags": []
          },
          "execution_count": 12
        },
        {
          "output_type": "execute_result",
          "data": {
            "text/plain": [
              "9996"
            ]
          },
          "metadata": {
            "tags": []
          },
          "execution_count": 35
        },
        {
          "output_type": "execute_result",
          "data": {
            "text/plain": [
              "9996"
            ]
          },
          "metadata": {
            "tags": []
          },
          "execution_count": 59
        }
      ]
    },
    {
      "cell_type": "code",
      "metadata": {
        "id": "qhl4qmdEp4iN",
        "colab_type": "code",
        "colab": {
          "base_uri": "https://localhost:8080/",
          "height": 35
        },
        "outputId": "027f759a-e6b2-49d9-d399-8cac44f1f68b"
      },
      "source": [
        "min(102*98, 101*99)"
      ],
      "execution_count": 60,
      "outputs": [
        {
          "output_type": "execute_result",
          "data": {
            "text/plain": [
              "9996"
            ]
          },
          "metadata": {
            "tags": []
          },
          "execution_count": 13
        },
        {
          "output_type": "execute_result",
          "data": {
            "text/plain": [
              "9996"
            ]
          },
          "metadata": {
            "tags": []
          },
          "execution_count": 36
        },
        {
          "output_type": "execute_result",
          "data": {
            "text/plain": [
              "9996"
            ]
          },
          "metadata": {
            "tags": []
          },
          "execution_count": 60
        }
      ]
    },
    {
      "cell_type": "markdown",
      "metadata": {
        "id": "b6b_sf37p4iR",
        "colab_type": "text"
      },
      "source": [
        "If we need to perform loops within a lambda, we can also embed things like map calls and list comprehension expressions."
      ]
    },
    {
      "cell_type": "code",
      "metadata": {
        "id": "Yg3YjjEWp4iX",
        "colab_type": "code",
        "colab": {
          "base_uri": "https://localhost:8080/",
          "height": 35
        },
        "outputId": "29e7136e-f4a5-46bd-8443-3d3806bc4c5d"
      },
      "source": [
        "import sys\n",
        "# with map calls\n",
        "fullname = lambda x: list(map(sys.stdout.write,x))\n",
        "f = fullname(['Wassily ', 'Wassilyevich ', 'Kandinsky'])"
      ],
      "execution_count": 61,
      "outputs": [
        {
          "output_type": "stream",
          "text": [
            "Wassily Wassilyevich KandinskyWassily Wassilyevich KandinskyWassily Wassilyevich Kandinsky"
          ],
          "name": "stdout"
        }
      ]
    },
    {
      "cell_type": "code",
      "metadata": {
        "id": "oYCcBn12p4ig",
        "colab_type": "code",
        "colab": {
          "base_uri": "https://localhost:8080/",
          "height": 35
        },
        "outputId": "a0740fb5-9ecb-430d-fdf0-abc7840d9970"
      },
      "source": [
        "# with list comprehension\n",
        "fullname = lambda x: [sys.stdout.write(a) for a in x]\n",
        "t = fullname(['Wassily ', 'Wassilyevich ', 'Kandinsky'])"
      ],
      "execution_count": 62,
      "outputs": [
        {
          "output_type": "stream",
          "text": [
            "Wassily Wassilyevich KandinskyWassily Wassilyevich KandinskyWassily Wassilyevich Kandinsky"
          ],
          "name": "stdout"
        }
      ]
    },
    {
      "cell_type": "markdown",
      "metadata": {
        "id": "2uZ1gSvJp4il",
        "colab_type": "text"
      },
      "source": [
        "**map(function, iterable, ...)**  \n",
        "Return an iterator that applies function to every item of iterable, yielding the results. If additional iterable arguments are passed, function must take that many arguments and is applied to the items from all iterables in parallel. With multiple iterables, the iterator stops when the shortest iterable is exhausted.  \n",
        "\n",
        "So, in the above example, **sys.stdout.write** is an argument for **function**, and the **x** is an iterable item, list, in the example."
      ]
    },
    {
      "cell_type": "markdown",
      "metadata": {
        "id": "NSUItBI0p4im",
        "colab_type": "text"
      },
      "source": [
        "## Nested lambda\n"
      ]
    },
    {
      "cell_type": "markdown",
      "metadata": {
        "id": "Z1nH_Pr-p4in",
        "colab_type": "text"
      },
      "source": [
        "In the following example, the lambda appears inside a def and so can access the value that the name x has in the function's scope at the time that the enclosing function was called:"
      ]
    },
    {
      "cell_type": "code",
      "metadata": {
        "id": "P-4kDR74p4ip",
        "colab_type": "code",
        "colab": {}
      },
      "source": [
        "def action(x):\n",
        "    # Make and return function, remember x\n",
        "    return (lambda newx: x + newx)"
      ],
      "execution_count": 0,
      "outputs": []
    },
    {
      "cell_type": "code",
      "metadata": {
        "id": "iHpTGMfMp4it",
        "colab_type": "code",
        "colab": {
          "base_uri": "https://localhost:8080/",
          "height": 35
        },
        "outputId": "26f54380-f13d-4574-96e5-5cc3bd3cc1ae"
      },
      "source": [
        "ans = action(99)\n",
        "ans"
      ],
      "execution_count": 64,
      "outputs": [
        {
          "output_type": "execute_result",
          "data": {
            "text/plain": [
              "<function __main__.action.<locals>.<lambda>>"
            ]
          },
          "metadata": {
            "tags": []
          },
          "execution_count": 17
        },
        {
          "output_type": "execute_result",
          "data": {
            "text/plain": [
              "<function __main__.action.<locals>.<lambda>>"
            ]
          },
          "metadata": {
            "tags": []
          },
          "execution_count": 40
        },
        {
          "output_type": "execute_result",
          "data": {
            "text/plain": [
              "<function __main__.action.<locals>.<lambda>>"
            ]
          },
          "metadata": {
            "tags": []
          },
          "execution_count": 64
        }
      ]
    },
    {
      "cell_type": "code",
      "metadata": {
        "id": "KB9zf9LBp4iy",
        "colab_type": "code",
        "colab": {
          "base_uri": "https://localhost:8080/",
          "height": 35
        },
        "outputId": "aaf460cc-7d42-422d-e9c7-805993aef230"
      },
      "source": [
        "ans(100)"
      ],
      "execution_count": 65,
      "outputs": [
        {
          "output_type": "execute_result",
          "data": {
            "text/plain": [
              "199"
            ]
          },
          "metadata": {
            "tags": []
          },
          "execution_count": 18
        },
        {
          "output_type": "execute_result",
          "data": {
            "text/plain": [
              "199"
            ]
          },
          "metadata": {
            "tags": []
          },
          "execution_count": 41
        },
        {
          "output_type": "execute_result",
          "data": {
            "text/plain": [
              "199"
            ]
          },
          "metadata": {
            "tags": []
          },
          "execution_count": 65
        }
      ]
    },
    {
      "cell_type": "markdown",
      "metadata": {
        "id": "JNZ0TyEVp4i1",
        "colab_type": "text"
      },
      "source": [
        "Though not clear in this example, note that lambda also has access to the names in any enclosing lambda. Let's look at the following example:"
      ]
    },
    {
      "cell_type": "code",
      "metadata": {
        "id": "3e3NaoPpp4i2",
        "colab_type": "code",
        "colab": {}
      },
      "source": [
        "action = (lambda x: (lambda newx: x + newx))"
      ],
      "execution_count": 0,
      "outputs": []
    },
    {
      "cell_type": "code",
      "metadata": {
        "id": "Z4r8e1Bjp4i7",
        "colab_type": "code",
        "colab": {
          "base_uri": "https://localhost:8080/",
          "height": 35
        },
        "outputId": "eff69f47-617b-4550-cb05-26ab2c23b639"
      },
      "source": [
        "ans = action(99)\n",
        "ans"
      ],
      "execution_count": 67,
      "outputs": [
        {
          "output_type": "execute_result",
          "data": {
            "text/plain": [
              "<function __main__.<lambda>.<locals>.<lambda>>"
            ]
          },
          "metadata": {
            "tags": []
          },
          "execution_count": 20
        },
        {
          "output_type": "execute_result",
          "data": {
            "text/plain": [
              "<function __main__.<lambda>.<locals>.<lambda>>"
            ]
          },
          "metadata": {
            "tags": []
          },
          "execution_count": 43
        },
        {
          "output_type": "execute_result",
          "data": {
            "text/plain": [
              "<function __main__.<lambda>.<locals>.<lambda>>"
            ]
          },
          "metadata": {
            "tags": []
          },
          "execution_count": 67
        }
      ]
    },
    {
      "cell_type": "code",
      "metadata": {
        "id": "oWX6wsLKp4i_",
        "colab_type": "code",
        "colab": {
          "base_uri": "https://localhost:8080/",
          "height": 35
        },
        "outputId": "769743f0-bfe2-4a13-b6ce-cb375c074786"
      },
      "source": [
        "ans(100)"
      ],
      "execution_count": 68,
      "outputs": [
        {
          "output_type": "execute_result",
          "data": {
            "text/plain": [
              "199"
            ]
          },
          "metadata": {
            "tags": []
          },
          "execution_count": 21
        },
        {
          "output_type": "execute_result",
          "data": {
            "text/plain": [
              "199"
            ]
          },
          "metadata": {
            "tags": []
          },
          "execution_count": 44
        },
        {
          "output_type": "execute_result",
          "data": {
            "text/plain": [
              "199"
            ]
          },
          "metadata": {
            "tags": []
          },
          "execution_count": 68
        }
      ]
    },
    {
      "cell_type": "code",
      "metadata": {
        "id": "XAxf3XmMp4jD",
        "colab_type": "code",
        "colab": {
          "base_uri": "https://localhost:8080/",
          "height": 35
        },
        "outputId": "68be1e4b-475c-412b-bd60-1db3d2ecb89a"
      },
      "source": [
        "(  (lambda x: (lambda newx: x + newx)) (99)) (100)"
      ],
      "execution_count": 69,
      "outputs": [
        {
          "output_type": "execute_result",
          "data": {
            "text/plain": [
              "199"
            ]
          },
          "metadata": {
            "tags": []
          },
          "execution_count": 22
        },
        {
          "output_type": "execute_result",
          "data": {
            "text/plain": [
              "199"
            ]
          },
          "metadata": {
            "tags": []
          },
          "execution_count": 45
        },
        {
          "output_type": "execute_result",
          "data": {
            "text/plain": [
              "199"
            ]
          },
          "metadata": {
            "tags": []
          },
          "execution_count": 69
        }
      ]
    },
    {
      "cell_type": "markdown",
      "metadata": {
        "id": "iLhhT3eLp4jK",
        "colab_type": "text"
      },
      "source": [
        "In the example, we nested lambda structure to make a function that makes a function when called. It's fairly convoluted and it should be avoided."
      ]
    },
    {
      "cell_type": "markdown",
      "metadata": {
        "id": "jzkUE6wrp4jL",
        "colab_type": "text"
      },
      "source": [
        "## lambda and sorted()"
      ]
    },
    {
      "cell_type": "markdown",
      "metadata": {
        "id": "ukxMJuXJp4jM",
        "colab_type": "text"
      },
      "source": [
        "Here is a simple example of using lambda with built-in function sorted():\n",
        "\n",
        "\n",
        "sorted(iterable[, key][, reverse])"
      ]
    },
    {
      "cell_type": "markdown",
      "metadata": {
        "id": "Hp0YFPqzp4jO",
        "colab_type": "text"
      },
      "source": [
        "The sorted() have a key parameter to specify a function to be called on each list element prior to making comparisons."
      ]
    },
    {
      "cell_type": "code",
      "metadata": {
        "id": "hzHG-Qswp4jP",
        "colab_type": "code",
        "colab": {
          "base_uri": "https://localhost:8080/",
          "height": 52
        },
        "outputId": "6999c785-d1d4-42f2-f3d7-311873602e68"
      },
      "source": [
        "death = [\n",
        "    ('James', 'Dean', 24),\n",
        "    ('Jimi', 'Hendrix', 27),\n",
        "    ('George', 'Gershwin', 38),\n",
        "]\n",
        "\n",
        "sorted(death, key=lambda death_or_anyname: death_or_anyname[2])"
      ],
      "execution_count": 70,
      "outputs": [
        {
          "output_type": "execute_result",
          "data": {
            "text/plain": [
              "[('James', 'Dean', 24), ('Jimi', 'Hendrix', 27), ('George', 'Gershwin', 38)]"
            ]
          },
          "metadata": {
            "tags": []
          },
          "execution_count": 23
        },
        {
          "output_type": "execute_result",
          "data": {
            "text/plain": [
              "[('James', 'Dean', 24), ('Jimi', 'Hendrix', 27), ('George', 'Gershwin', 38)]"
            ]
          },
          "metadata": {
            "tags": []
          },
          "execution_count": 46
        },
        {
          "output_type": "execute_result",
          "data": {
            "text/plain": [
              "[('James', 'Dean', 24), ('Jimi', 'Hendrix', 27), ('George', 'Gershwin', 38)]"
            ]
          },
          "metadata": {
            "tags": []
          },
          "execution_count": 70
        }
      ]
    },
    {
      "cell_type": "code",
      "metadata": {
        "id": "4akrrZK2p4jV",
        "colab_type": "code",
        "colab": {}
      },
      "source": [
        ""
      ],
      "execution_count": 0,
      "outputs": []
    }
  ]
}