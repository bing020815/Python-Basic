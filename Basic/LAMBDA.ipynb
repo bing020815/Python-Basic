{
  "nbformat": 4,
  "nbformat_minor": 0,
  "metadata": {
    "kernelspec": {
      "display_name": "Python 3",
      "language": "python",
      "name": "python3"
    },
    "language_info": {
      "codemirror_mode": {
        "name": "ipython",
        "version": 3
      },
      "file_extension": ".py",
      "mimetype": "text/x-python",
      "name": "python",
      "nbconvert_exporter": "python",
      "pygments_lexer": "ipython3",
      "version": "3.7.3"
    },
    "colab": {
      "name": "LAMBDA.ipynb",
      "provenance": [],
      "include_colab_link": true
    }
  },
  "cells": [
    {
      "cell_type": "markdown",
      "metadata": {
        "id": "view-in-github",
        "colab_type": "text"
      },
      "source": [
        "<a href=\"https://colab.research.google.com/github/bing020815/Python-Basic/blob/master/Basic/LAMBDA.ipynb\" target=\"_parent\"><img src=\"https://colab.research.google.com/assets/colab-badge.svg\" alt=\"Open In Colab\"/></a>"
      ]
    },
    {
      "cell_type": "markdown",
      "metadata": {
        "id": "PlmH4khOp4gq",
        "colab_type": "text"
      },
      "source": [
        "# Functions lambda  \n",
        "https://www.bogotobogo.com/python/python_functions_lambda.php"
      ]
    },
    {
      "cell_type": "markdown",
      "metadata": {
        "id": "Rcv4_E9tp4gu",
        "colab_type": "text"
      },
      "source": [
        "Like def, the lambda creates a function to be called later. But it returns the function instead of assigning it to a name.  \n",
        "This is why lambdas are sometimes known as anonymous functions."
      ]
    },
    {
      "cell_type": "markdown",
      "metadata": {
        "id": "E-Jdk4Jip4gw",
        "colab_type": "text"
      },
      "source": [
        "Here is the differece between a normal function definition, func and a lambda function, lamb:"
      ]
    },
    {
      "cell_type": "code",
      "metadata": {
        "id": "uhTFghrJp4gx",
        "colab_type": "code",
        "outputId": "938b2de0-93e2-4be3-8308-7557c13db21c",
        "colab": {
          "base_uri": "https://localhost:8080/",
          "height": 34
        }
      },
      "source": [
        "# Define a function that can takes a value and return the value of power of three\n",
        "def func(x): return x ** 3\n",
        "# try the function\n",
        "func(5)"
      ],
      "execution_count": 1,
      "outputs": [
        {
          "output_type": "execute_result",
          "data": {
            "text/plain": [
              "125"
            ]
          },
          "metadata": {
            "tags": []
          },
          "execution_count": 1
        }
      ]
    },
    {
      "cell_type": "code",
      "metadata": {
        "id": "DxfViZiEp4g4",
        "colab_type": "code",
        "outputId": "13454a7f-1e19-4f10-904d-a6b3b54aa418",
        "colab": {
          "base_uri": "https://localhost:8080/",
          "height": 34
        }
      },
      "source": [
        "# Define a function that can takes a value and return the value of power of three\n",
        "lamb = lambda x: x ** 3\n",
        "# try the function\n",
        "lamb(5)"
      ],
      "execution_count": 2,
      "outputs": [
        {
          "output_type": "execute_result",
          "data": {
            "text/plain": [
              "125"
            ]
          },
          "metadata": {
            "tags": []
          },
          "execution_count": 2
        }
      ]
    },
    {
      "cell_type": "markdown",
      "metadata": {
        "id": "tpP07HZWp4g_",
        "colab_type": "text"
      },
      "source": [
        "As we can see, func() and lamb() do exactly the same and can be used in the sam ways.   \n",
        "** *Note: the lambda definition does not include a return statement* **  \n",
        "we can put a lambda definition anywhere a function is expected, and we don't have to assign it to a variable at all."
      ]
    },
    {
      "cell_type": "markdown",
      "metadata": {
        "id": "f9rabaHhp4hA",
        "colab_type": "text"
      },
      "source": [
        "The lambda's general form is :  \n",
        "**lambda** *arg1, arg2, ...argN*  **:**  *expression using arguments*  \n",
        "\n",
        "1. lambda is an expression, not a statement\n",
        "    + a lambda can appear in places a def is not allowed\n",
        "    + lambda returns a value that can optionally be assigned a name\n",
        "    + the def statement always assigns the new function to the name in the header, instead of returning is as a result\n",
        "\n",
        "\n",
        "2. lambda's body is a single expression, not a block of statements\n",
        "    + a lambda is less general that a def\n",
        "    + lambda is designed for coding simple functions, and def handles larger tasks"
      ]
    },
    {
      "cell_type": "code",
      "metadata": {
        "id": "w-2lVkpWp4hC",
        "colab_type": "code",
        "outputId": "265c027f-b470-4065-d6c1-aad714614295",
        "colab": {
          "base_uri": "https://localhost:8080/",
          "height": 34
        }
      },
      "source": [
        "def f(x, y, z): \n",
        "    return x + y + z\n",
        "\n",
        "f(2, 30, 400)"
      ],
      "execution_count": 3,
      "outputs": [
        {
          "output_type": "execute_result",
          "data": {
            "text/plain": [
              "432"
            ]
          },
          "metadata": {
            "tags": []
          },
          "execution_count": 3
        }
      ]
    },
    {
      "cell_type": "markdown",
      "metadata": {
        "id": "-_fttSprp4hH",
        "colab_type": "text"
      },
      "source": [
        "We can achieve the same effect with lambda expression by explicitly assigning its result to a name through which we can call the function later"
      ]
    },
    {
      "cell_type": "code",
      "metadata": {
        "id": "VtfSgSEPp4hJ",
        "colab_type": "code",
        "outputId": "29cd800d-1c24-4d26-8607-91ecb99fc9ab",
        "colab": {
          "base_uri": "https://localhost:8080/",
          "height": 34
        }
      },
      "source": [
        "f = lambda x, y, z: x + y + z\n",
        "\n",
        "f(2, 30, 400)"
      ],
      "execution_count": 4,
      "outputs": [
        {
          "output_type": "execute_result",
          "data": {
            "text/plain": [
              "432"
            ]
          },
          "metadata": {
            "tags": []
          },
          "execution_count": 4
        }
      ]
    },
    {
      "cell_type": "markdown",
      "metadata": {
        "id": "iWd9jXZlp4hO",
        "colab_type": "text"
      },
      "source": [
        "Here, f is assigned the function object the lambda expression creates. This is how def works, too. But in def, its assignment is an automatic must."
      ]
    },
    {
      "cell_type": "markdown",
      "metadata": {
        "id": "wgHLb1LZp4hQ",
        "colab_type": "text"
      },
      "source": [
        "Default work on lambda arguments:"
      ]
    },
    {
      "cell_type": "code",
      "metadata": {
        "id": "YPjQfPyCp4hS",
        "colab_type": "code",
        "outputId": "970597e2-d988-4e4a-9e41-ffb2cadf50ad",
        "colab": {
          "base_uri": "https://localhost:8080/",
          "height": 34
        }
      },
      "source": [
        "# display a + b + c\n",
        "mz = (lambda a = 'Wolfgangus', b = ' Theophilus', c = ' Mozart': a + b + c)\n",
        "\n",
        "mz('Wolfgang', ' Amadeus')"
      ],
      "execution_count": 5,
      "outputs": [
        {
          "output_type": "execute_result",
          "data": {
            "text/plain": [
              "'Wolfgang Amadeus Mozart'"
            ]
          },
          "metadata": {
            "tags": []
          },
          "execution_count": 5
        }
      ]
    },
    {
      "cell_type": "markdown",
      "metadata": {
        "id": "HzyiuwQvp4hW",
        "colab_type": "text"
      },
      "source": [
        "In the following example, the value for the name title would have been passes in as a default argument value"
      ]
    },
    {
      "cell_type": "code",
      "metadata": {
        "id": "XS7jME2dp4hY",
        "colab_type": "code",
        "outputId": "28eff715-d32a-475a-e1e0-71bc86b26aed",
        "colab": {
          "base_uri": "https://localhost:8080/",
          "height": 34
        }
      },
      "source": [
        "def writer():                          # the writer() does not need a input variable\n",
        "    title = 'Sir'\n",
        "    name = (lambda x:title + ' ' + x)  # x is the input variable\n",
        "    return name\n",
        "\n",
        "who = writer()\n",
        "\n",
        "who('Arthur Ignatius Conan Doyle')"
      ],
      "execution_count": 6,
      "outputs": [
        {
          "output_type": "execute_result",
          "data": {
            "text/plain": [
              "'Sir Arthur Ignatius Conan Doyle'"
            ]
          },
          "metadata": {
            "tags": []
          },
          "execution_count": 6
        }
      ]
    },
    {
      "cell_type": "markdown",
      "metadata": {
        "id": "nB83a05zp4hg",
        "colab_type": "text"
      },
      "source": [
        "##  Why lambda?  \n",
        "The lambdas can be used as a function shorthand that allows us to embed a function within the code.   \n",
        "For instance, callback handlers are frequently coded as inline lambda expressions embedded directly in a registration call's arguments list.   \n",
        "Instead of being define with a def elsewhere in a file and referenced by name, lambdas are also commonly used to code jump tables which are lists or dictionaries of actions to be performed on demand."
      ]
    },
    {
      "cell_type": "code",
      "metadata": {
        "id": "hKjAbX6Qp4hh",
        "colab_type": "code",
        "outputId": "4d0bf5da-5c3c-426a-8949-8869f30f87ec",
        "colab": {
          "base_uri": "https://localhost:8080/",
          "height": 70
        }
      },
      "source": [
        "L = [lambda x: x ** 2, \n",
        "     lambda x: x ** 3,\n",
        "     lambda x: x ** 4]\n",
        "\n",
        "for f in L:\n",
        "    print(f(3))"
      ],
      "execution_count": 7,
      "outputs": [
        {
          "output_type": "stream",
          "text": [
            "9\n",
            "27\n",
            "81\n"
          ],
          "name": "stdout"
        }
      ]
    },
    {
      "cell_type": "code",
      "metadata": {
        "id": "h4_yEF1-p4hm",
        "colab_type": "code",
        "outputId": "476e22d9-b8fe-49be-fbae-dcc1d6e9ec4e",
        "colab": {
          "base_uri": "https://localhost:8080/",
          "height": 34
        }
      },
      "source": [
        "L[0](11)"
      ],
      "execution_count": 8,
      "outputs": [
        {
          "output_type": "execute_result",
          "data": {
            "text/plain": [
              "121"
            ]
          },
          "metadata": {
            "tags": []
          },
          "execution_count": 8
        }
      ]
    },
    {
      "cell_type": "markdown",
      "metadata": {
        "id": "XI1m0nKyp4hr",
        "colab_type": "text"
      },
      "source": [
        "In the example above, a list of three functions was built up by embedding lambda expressions inside a list.   \n",
        "A def won't work inside a list literal like this because it is a statement, not an expression.   \n",
        "\n",
        "If we really want to use def for the same result, we need temporary function names and definitions outside:"
      ]
    },
    {
      "cell_type": "code",
      "metadata": {
        "id": "sNgHbZaWp4ht",
        "colab_type": "code",
        "outputId": "b789d095-582f-4fb3-a6b1-ee17a9d68eaa",
        "colab": {
          "base_uri": "https://localhost:8080/",
          "height": 70
        }
      },
      "source": [
        "def f1(x): return x ** 2\n",
        "def f2(x): return x ** 3\n",
        "def f3(x): return x ** 4\n",
        "\n",
        "# Reference by name\n",
        "L = [f1, f2, f3]\n",
        "for f in L:\n",
        "    print(f(3))"
      ],
      "execution_count": 9,
      "outputs": [
        {
          "output_type": "stream",
          "text": [
            "9\n",
            "27\n",
            "81\n"
          ],
          "name": "stdout"
        }
      ]
    },
    {
      "cell_type": "code",
      "metadata": {
        "id": "AMrbGPMap4hz",
        "colab_type": "code",
        "outputId": "11c1d036-5cc9-4f51-b594-2844588b626b",
        "colab": {
          "base_uri": "https://localhost:8080/",
          "height": 34
        }
      },
      "source": [
        "L[0](3)"
      ],
      "execution_count": 10,
      "outputs": [
        {
          "output_type": "execute_result",
          "data": {
            "text/plain": [
              "9"
            ]
          },
          "metadata": {
            "tags": []
          },
          "execution_count": 10
        }
      ]
    },
    {
      "cell_type": "markdown",
      "metadata": {
        "id": "C7jBnOJBp4h3",
        "colab_type": "text"
      },
      "source": [
        "We can use dictionaries doing the same thing:"
      ]
    },
    {
      "cell_type": "code",
      "metadata": {
        "id": "Rx0TrvJUp4h5",
        "colab_type": "code",
        "outputId": "bb3f8b92-3fb6-4721-e72f-b39267ac4782",
        "colab": {
          "base_uri": "https://localhost:8080/",
          "height": 34
        }
      },
      "source": [
        "key = 'quadratic'\n",
        "{'square': (lambda x: x ** 2),\n",
        " 'cubic': (lambda x: x ** 3),\n",
        " 'quadratic': (lambda x: x ** 4)}[key](10)"
      ],
      "execution_count": 11,
      "outputs": [
        {
          "output_type": "execute_result",
          "data": {
            "text/plain": [
              "10000"
            ]
          },
          "metadata": {
            "tags": []
          },
          "execution_count": 11
        }
      ]
    },
    {
      "cell_type": "markdown",
      "metadata": {
        "id": "lyyM77nJp4h_",
        "colab_type": "text"
      },
      "source": [
        "Here, we made the temporary dictionary, each of the nested lambdas generates and leaves behind a function to be called later.  \n",
        "We fetched one of those functions by indexing and the parentheses forced the fetched function to be called.\n",
        "\n",
        "Again, let's do the same thing without lambda:"
      ]
    },
    {
      "cell_type": "code",
      "metadata": {
        "id": "7hhI2S1Xp4iB",
        "colab_type": "code",
        "outputId": "ff16879e-4847-4a7c-d34e-67f993b3a30c",
        "colab": {
          "base_uri": "https://localhost:8080/",
          "height": 34
        }
      },
      "source": [
        "def f1(x): return x ** 2\n",
        "def f2(x): return x ** 3\n",
        "def f3(x): return x ** 4\n",
        "key = 'quadratic'\n",
        "{'square': f1, 'cubic': f2, 'quadratic': f3}[key](10)"
      ],
      "execution_count": 12,
      "outputs": [
        {
          "output_type": "execute_result",
          "data": {
            "text/plain": [
              "10000"
            ]
          },
          "metadata": {
            "tags": []
          },
          "execution_count": 12
        }
      ]
    },
    {
      "cell_type": "markdown",
      "metadata": {
        "id": "gqHDYWEzp4iG",
        "colab_type": "text"
      },
      "source": [
        "The code proximity that lambda provide is useful for functions that will only be used in a single context.   Especially, if the three functions are not going to be used anywhere else, it makes sense to embed them within the dictionary as lambdas.   \n",
        "\n",
        "Also, the def requires more names for these title functions that may cause name clash with other names in this file."
      ]
    },
    {
      "cell_type": "markdown",
      "metadata": {
        "id": "NKcDa4SVp4iH",
        "colab_type": "text"
      },
      "source": [
        "If we know what we're doing, we can code most statements as expressions:"
      ]
    },
    {
      "cell_type": "code",
      "metadata": {
        "id": "2cPw1dgHp4iJ",
        "colab_type": "code",
        "outputId": "176ac5d6-b23d-45e4-ba31-714d1ce1fe19",
        "colab": {
          "base_uri": "https://localhost:8080/",
          "height": 34
        }
      },
      "source": [
        "min = (lambda x, y: x if x < y else y)\n",
        "min(101*99, 102*98)"
      ],
      "execution_count": 13,
      "outputs": [
        {
          "output_type": "execute_result",
          "data": {
            "text/plain": [
              "9996"
            ]
          },
          "metadata": {
            "tags": []
          },
          "execution_count": 13
        }
      ]
    },
    {
      "cell_type": "code",
      "metadata": {
        "id": "qhl4qmdEp4iN",
        "colab_type": "code",
        "outputId": "a1a05dc0-50d1-4e50-f8d2-195e8fcd2737",
        "colab": {
          "base_uri": "https://localhost:8080/",
          "height": 34
        }
      },
      "source": [
        "min(102*98, 101*99)"
      ],
      "execution_count": 14,
      "outputs": [
        {
          "output_type": "execute_result",
          "data": {
            "text/plain": [
              "9996"
            ]
          },
          "metadata": {
            "tags": []
          },
          "execution_count": 14
        }
      ]
    },
    {
      "cell_type": "markdown",
      "metadata": {
        "id": "b6b_sf37p4iR",
        "colab_type": "text"
      },
      "source": [
        "If we need to perform loops within a lambda, we can also embed things like map calls and list comprehension expressions."
      ]
    },
    {
      "cell_type": "code",
      "metadata": {
        "id": "Yg3YjjEWp4iX",
        "colab_type": "code",
        "outputId": "e1b2398f-bf66-4ef9-9def-35aaa2c80521",
        "colab": {
          "base_uri": "https://localhost:8080/",
          "height": 34
        }
      },
      "source": [
        "import sys\n",
        "# with map calls\n",
        "fullname = lambda x: list(map(sys.stdout.write,x))\n",
        "f = fullname(['Wassily ', 'Wassilyevich ', 'Kandinsky'])"
      ],
      "execution_count": 15,
      "outputs": [
        {
          "output_type": "stream",
          "text": [
            "Wassily Wassilyevich Kandinsky"
          ],
          "name": "stdout"
        }
      ]
    },
    {
      "cell_type": "code",
      "metadata": {
        "id": "oYCcBn12p4ig",
        "colab_type": "code",
        "outputId": "53aeba30-c61f-4260-804e-9b73ca3dcf50",
        "colab": {
          "base_uri": "https://localhost:8080/",
          "height": 34
        }
      },
      "source": [
        "# with list comprehension\n",
        "fullname = lambda x: [sys.stdout.write(a) for a in x]\n",
        "t = fullname(['Wassily ', 'Wassilyevich ', 'Kandinsky'])"
      ],
      "execution_count": 16,
      "outputs": [
        {
          "output_type": "stream",
          "text": [
            "Wassily Wassilyevich Kandinsky"
          ],
          "name": "stdout"
        }
      ]
    },
    {
      "cell_type": "markdown",
      "metadata": {
        "id": "2uZ1gSvJp4il",
        "colab_type": "text"
      },
      "source": [
        "**map(function, iterable, ...)**  \n",
        "Return an iterator that applies function to every item of iterable, yielding the results. If additional iterable arguments are passed, function must take that many arguments and is applied to the items from all iterables in parallel. With multiple iterables, the iterator stops when the shortest iterable is exhausted.  \n",
        "\n",
        "So, in the above example, **sys.stdout.write** is an argument for **function**, and the **x** is an iterable item, list, in the example."
      ]
    },
    {
      "cell_type": "markdown",
      "metadata": {
        "id": "NSUItBI0p4im",
        "colab_type": "text"
      },
      "source": [
        "## Nested lambda\n"
      ]
    },
    {
      "cell_type": "markdown",
      "metadata": {
        "id": "Z1nH_Pr-p4in",
        "colab_type": "text"
      },
      "source": [
        "In the following example, the lambda appears inside a def and so can access the value that the name x has in the function's scope at the time that the enclosing function was called:"
      ]
    },
    {
      "cell_type": "code",
      "metadata": {
        "id": "P-4kDR74p4ip",
        "colab_type": "code",
        "colab": {}
      },
      "source": [
        "def action(x):\n",
        "    # Make and return function, remember x\n",
        "    return (lambda newx: x + newx)"
      ],
      "execution_count": 0,
      "outputs": []
    },
    {
      "cell_type": "code",
      "metadata": {
        "id": "iHpTGMfMp4it",
        "colab_type": "code",
        "outputId": "a08261c1-2349-4b56-c47c-0d8efaefa827",
        "colab": {
          "base_uri": "https://localhost:8080/",
          "height": 34
        }
      },
      "source": [
        "ans = action(99)\n",
        "ans"
      ],
      "execution_count": 18,
      "outputs": [
        {
          "output_type": "execute_result",
          "data": {
            "text/plain": [
              "<function __main__.action.<locals>.<lambda>>"
            ]
          },
          "metadata": {
            "tags": []
          },
          "execution_count": 18
        }
      ]
    },
    {
      "cell_type": "code",
      "metadata": {
        "id": "KB9zf9LBp4iy",
        "colab_type": "code",
        "outputId": "4e6535b4-3cd6-46ea-bf12-d57aba783e17",
        "colab": {
          "base_uri": "https://localhost:8080/",
          "height": 34
        }
      },
      "source": [
        "ans(100)"
      ],
      "execution_count": 19,
      "outputs": [
        {
          "output_type": "execute_result",
          "data": {
            "text/plain": [
              "199"
            ]
          },
          "metadata": {
            "tags": []
          },
          "execution_count": 19
        }
      ]
    },
    {
      "cell_type": "markdown",
      "metadata": {
        "id": "JNZ0TyEVp4i1",
        "colab_type": "text"
      },
      "source": [
        "Though not clear in this example, note that lambda also has access to the names in any enclosing lambda. Let's look at the following example:"
      ]
    },
    {
      "cell_type": "code",
      "metadata": {
        "id": "3e3NaoPpp4i2",
        "colab_type": "code",
        "colab": {}
      },
      "source": [
        "action = (lambda x: (lambda newx: x + newx))"
      ],
      "execution_count": 0,
      "outputs": []
    },
    {
      "cell_type": "code",
      "metadata": {
        "id": "Z4r8e1Bjp4i7",
        "colab_type": "code",
        "outputId": "8969c9de-de78-4ff9-c1e4-551fe1f12a41",
        "colab": {
          "base_uri": "https://localhost:8080/",
          "height": 34
        }
      },
      "source": [
        "ans = action(99)\n",
        "ans"
      ],
      "execution_count": 21,
      "outputs": [
        {
          "output_type": "execute_result",
          "data": {
            "text/plain": [
              "<function __main__.<lambda>.<locals>.<lambda>>"
            ]
          },
          "metadata": {
            "tags": []
          },
          "execution_count": 21
        }
      ]
    },
    {
      "cell_type": "code",
      "metadata": {
        "id": "oWX6wsLKp4i_",
        "colab_type": "code",
        "outputId": "db3ead6b-d0da-429f-f6be-b717748ba810",
        "colab": {
          "base_uri": "https://localhost:8080/",
          "height": 34
        }
      },
      "source": [
        "ans(100)"
      ],
      "execution_count": 22,
      "outputs": [
        {
          "output_type": "execute_result",
          "data": {
            "text/plain": [
              "199"
            ]
          },
          "metadata": {
            "tags": []
          },
          "execution_count": 22
        }
      ]
    },
    {
      "cell_type": "code",
      "metadata": {
        "id": "XAxf3XmMp4jD",
        "colab_type": "code",
        "outputId": "bf465954-e423-4bf4-ea81-2f9638cf3565",
        "colab": {
          "base_uri": "https://localhost:8080/",
          "height": 34
        }
      },
      "source": [
        "(  (lambda x: (lambda newx: x + newx)) (99)) (100)"
      ],
      "execution_count": 23,
      "outputs": [
        {
          "output_type": "execute_result",
          "data": {
            "text/plain": [
              "199"
            ]
          },
          "metadata": {
            "tags": []
          },
          "execution_count": 23
        }
      ]
    },
    {
      "cell_type": "markdown",
      "metadata": {
        "id": "iLhhT3eLp4jK",
        "colab_type": "text"
      },
      "source": [
        "In the example, we nested lambda structure to make a function that makes a function when called. It's fairly convoluted and it should be avoided."
      ]
    },
    {
      "cell_type": "markdown",
      "metadata": {
        "id": "jzkUE6wrp4jL",
        "colab_type": "text"
      },
      "source": [
        "## lambda and sorted()"
      ]
    },
    {
      "cell_type": "markdown",
      "metadata": {
        "id": "ukxMJuXJp4jM",
        "colab_type": "text"
      },
      "source": [
        "Here is a simple example of using lambda with built-in function sorted():\n",
        "\n",
        "\n",
        "sorted(iterable[, key][, reverse])"
      ]
    },
    {
      "cell_type": "markdown",
      "metadata": {
        "id": "Hp0YFPqzp4jO",
        "colab_type": "text"
      },
      "source": [
        "The sorted() have a key parameter to specify a function to be called on each list element prior to making comparisons."
      ]
    },
    {
      "cell_type": "code",
      "metadata": {
        "id": "hzHG-Qswp4jP",
        "colab_type": "code",
        "outputId": "23eafb55-58ce-48c6-e3b8-6f02d64769c2",
        "colab": {
          "base_uri": "https://localhost:8080/",
          "height": 34
        }
      },
      "source": [
        "death = [\n",
        "    ('James', 'Dean', 24),\n",
        "    ('Jimi', 'Hendrix', 27),\n",
        "    ('George', 'Gershwin', 38),\n",
        "]\n",
        "\n",
        "sorted(death, key=lambda death_or_anyname: death_or_anyname[2])"
      ],
      "execution_count": 24,
      "outputs": [
        {
          "output_type": "execute_result",
          "data": {
            "text/plain": [
              "[('James', 'Dean', 24), ('Jimi', 'Hendrix', 27), ('George', 'Gershwin', 38)]"
            ]
          },
          "metadata": {
            "tags": []
          },
          "execution_count": 24
        }
      ]
    },
    {
      "cell_type": "code",
      "metadata": {
        "id": "4akrrZK2p4jV",
        "colab_type": "code",
        "colab": {}
      },
      "source": [
        ""
      ],
      "execution_count": 0,
      "outputs": []
    }
  ]
}