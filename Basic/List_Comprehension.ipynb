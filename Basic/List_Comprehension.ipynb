{
  "nbformat": 4,
  "nbformat_minor": 0,
  "metadata": {
    "colab": {
      "name": "List Comprehension.ipynb",
      "provenance": [],
      "toc_visible": true,
      "authorship_tag": "ABX9TyMy+4nksv+Dk96/VU1v62Yf",
      "include_colab_link": true
    },
    "kernelspec": {
      "name": "python3",
      "display_name": "Python 3"
    }
  },
  "cells": [
    {
      "cell_type": "markdown",
      "metadata": {
        "id": "view-in-github",
        "colab_type": "text"
      },
      "source": [
        "<a href=\"https://colab.research.google.com/github/bing020815/Python-Basic/blob/master/Basic/List_Comprehension.ipynb\" target=\"_parent\"><img src=\"https://colab.research.google.com/assets/colab-badge.svg\" alt=\"Open In Colab\"/></a>"
      ]
    },
    {
      "cell_type": "markdown",
      "metadata": {
        "id": "lsPn_0Vrshe6",
        "colab_type": "text"
      },
      "source": [
        "# List Comprehension\n",
        "List comprehensions provide a concise way to create lists. \n",
        "It is frequently used to make new lists where every element is the result of some operations applied to anthor iterable object."
      ]
    },
    {
      "cell_type": "markdown",
      "metadata": {
        "id": "G7rjqyCDtbyB",
        "colab_type": "text"
      },
      "source": [
        "## Basic example\n",
        "\n",
        "Create a list and square the number from 0 to 9:"
      ]
    },
    {
      "cell_type": "markdown",
      "metadata": {
        "id": "JQGZDEWQsriA",
        "colab_type": "text"
      },
      "source": [
        "### For Loop Method:"
      ]
    },
    {
      "cell_type": "code",
      "metadata": {
        "id": "UtbzcD11stgX",
        "colab_type": "code",
        "colab": {
          "base_uri": "https://localhost:8080/",
          "height": 34
        },
        "outputId": "ea9e71b3-2b78-4c1b-c691-d2f18bb9e107"
      },
      "source": [
        "import numpy as np\n",
        "Alist=list()\n",
        "for i in range(10):\n",
        "    Alist.append(np.square(i))\n",
        "Alist"
      ],
      "execution_count": 1,
      "outputs": [
        {
          "output_type": "execute_result",
          "data": {
            "text/plain": [
              "[0, 1, 4, 9, 16, 25, 36, 49, 64, 81]"
            ]
          },
          "metadata": {
            "tags": []
          },
          "execution_count": 1
        }
      ]
    },
    {
      "cell_type": "markdown",
      "metadata": {
        "id": "ruEoZKHHsr5d",
        "colab_type": "text"
      },
      "source": [
        "### List Comprehension Method:\n"
      ]
    },
    {
      "cell_type": "code",
      "metadata": {
        "id": "bjywoYMIsb_Z",
        "colab_type": "code",
        "colab": {
          "base_uri": "https://localhost:8080/",
          "height": 34
        },
        "outputId": "cd912c23-8210-47c4-b1be-c88fba4405d0"
      },
      "source": [
        "import numpy as np\n",
        "Alist = [np.square(i) for i in range(10)]\n",
        "Alist"
      ],
      "execution_count": 2,
      "outputs": [
        {
          "output_type": "execute_result",
          "data": {
            "text/plain": [
              "[0, 1, 4, 9, 16, 25, 36, 49, 64, 81]"
            ]
          },
          "metadata": {
            "tags": []
          },
          "execution_count": 2
        }
      ]
    },
    {
      "cell_type": "markdown",
      "metadata": {
        "id": "JdmBAPxpst7T",
        "colab_type": "text"
      },
      "source": [
        "## Adding condition\n",
        "Square the number from 0 to 9, and store the odd number to a list: "
      ]
    },
    {
      "cell_type": "markdown",
      "metadata": {
        "id": "PhyVmRstwRoE",
        "colab_type": "text"
      },
      "source": [
        "### For Loop Method:"
      ]
    },
    {
      "cell_type": "code",
      "metadata": {
        "id": "jzdRKdSasuFR",
        "colab_type": "code",
        "colab": {
          "base_uri": "https://localhost:8080/",
          "height": 34
        },
        "outputId": "6d7e0b13-5d84-42fd-8b7b-4ba5f4c19a7a"
      },
      "source": [
        "import numpy as np\n",
        "odd=list()\n",
        "for i in range(10):\n",
        "    num = np.square(i)\n",
        "    if num % 2 !=0:\n",
        "        odd.append(num)\n",
        "odd"
      ],
      "execution_count": 3,
      "outputs": [
        {
          "output_type": "execute_result",
          "data": {
            "text/plain": [
              "[1, 9, 25, 49, 81]"
            ]
          },
          "metadata": {
            "tags": []
          },
          "execution_count": 3
        }
      ]
    },
    {
      "cell_type": "markdown",
      "metadata": {
        "id": "p32nfQFTsuWG",
        "colab_type": "text"
      },
      "source": [
        "### List Comprehension Method:\n",
        "* The **if** statement is put at the end\n"
      ]
    },
    {
      "cell_type": "code",
      "metadata": {
        "id": "1BX9xbgAsug_",
        "colab_type": "code",
        "colab": {
          "base_uri": "https://localhost:8080/",
          "height": 34
        },
        "outputId": "7a5d4146-3cb7-44cf-e737-fd481e449221"
      },
      "source": [
        "import numpy as np\n",
        "odd = [np.square(i) for i in range(10) if np.square(i)%2 !=0]\n",
        "odd"
      ],
      "execution_count": 4,
      "outputs": [
        {
          "output_type": "execute_result",
          "data": {
            "text/plain": [
              "[1, 9, 25, 49, 81]"
            ]
          },
          "metadata": {
            "tags": []
          },
          "execution_count": 4
        }
      ]
    },
    {
      "cell_type": "markdown",
      "metadata": {
        "id": "EPc1mxdwxKwr",
        "colab_type": "text"
      },
      "source": [
        "## Adding if... else... statement\n",
        "Square the number from 0 to 9 and plus 1 for each of number. Then, create a list to store a list of strings.When the number is an odd number, store 'odd'. Otherwise, store 'even'. "
      ]
    },
    {
      "cell_type": "markdown",
      "metadata": {
        "id": "5UZLJtp7sup-",
        "colab_type": "text"
      },
      "source": [
        "### For Loop Method:\n"
      ]
    },
    {
      "cell_type": "code",
      "metadata": {
        "id": "wX3oT-husuyj",
        "colab_type": "code",
        "colab": {
          "base_uri": "https://localhost:8080/",
          "height": 34
        },
        "outputId": "ce003cef-d10c-4fa2-af7f-ef1d1da4f8f0"
      },
      "source": [
        "import numpy as np\n",
        "stringlist=list()\n",
        "for i in range(10):\n",
        "    num = np.square(i) + 1\n",
        "    if num % 2 !=0:\n",
        "        stringlist.append('odd')\n",
        "    else:\n",
        "        stringlist.append('even')\n",
        "stringlist"
      ],
      "execution_count": 5,
      "outputs": [
        {
          "output_type": "execute_result",
          "data": {
            "text/plain": [
              "['odd', 'even', 'odd', 'even', 'odd', 'even', 'odd', 'even', 'odd', 'even']"
            ]
          },
          "metadata": {
            "tags": []
          },
          "execution_count": 5
        }
      ]
    },
    {
      "cell_type": "markdown",
      "metadata": {
        "id": "NtJwxDJUsu5N",
        "colab_type": "text"
      },
      "source": [
        "### List Comprehension Method:\n",
        "* The position of **if** statement has been moved to front and followed by the **else** statement"
      ]
    },
    {
      "cell_type": "code",
      "metadata": {
        "id": "G7qjXh20su_q",
        "colab_type": "code",
        "colab": {
          "base_uri": "https://localhost:8080/",
          "height": 34
        },
        "outputId": "dd9fac10-75ba-4ba4-fa6b-48afc90a7aff"
      },
      "source": [
        "import numpy as np\n",
        "stringlist = ['odd' if (np.square(i)+1)%2 !=0 else 'even' for i in range(10)]\n",
        "stringlist"
      ],
      "execution_count": 6,
      "outputs": [
        {
          "output_type": "execute_result",
          "data": {
            "text/plain": [
              "['odd', 'even', 'odd', 'even', 'odd', 'even', 'odd', 'even', 'odd', 'even']"
            ]
          },
          "metadata": {
            "tags": []
          },
          "execution_count": 6
        }
      ]
    },
    {
      "cell_type": "markdown",
      "metadata": {
        "id": "Je_WKNXTsvF8",
        "colab_type": "text"
      },
      "source": [
        "## Nested ifs in list comprehension\n"
      ]
    },
    {
      "cell_type": "markdown",
      "metadata": {
        "id": "2lvwfHqM-zgF",
        "colab_type": "text"
      },
      "source": [
        "### Two ifs"
      ]
    },
    {
      "cell_type": "markdown",
      "metadata": {
        "id": "v8uuPwO52VNQ",
        "colab_type": "text"
      },
      "source": [
        "#### For Loop Method:"
      ]
    },
    {
      "cell_type": "code",
      "metadata": {
        "id": "32Uz-VaW_nC8",
        "colab_type": "code",
        "colab": {
          "base_uri": "https://localhost:8080/",
          "height": 34
        },
        "outputId": "5bd353e3-7c29-4a9e-83e4-61afefe628ec"
      },
      "source": [
        "import numpy as np\n",
        "str5list=list()\n",
        "for i in range(10):\n",
        "    num = np.square(i) + 1\n",
        "    if (num % 2 != 0):\n",
        "        if (num % 5 == 0):\n",
        "            str5list.append(num)\n",
        "str5list"
      ],
      "execution_count": 7,
      "outputs": [
        {
          "output_type": "execute_result",
          "data": {
            "text/plain": [
              "[5, 65]"
            ]
          },
          "metadata": {
            "tags": []
          },
          "execution_count": 7
        }
      ]
    },
    {
      "cell_type": "markdown",
      "metadata": {
        "id": "lbpLhoSj2g1J",
        "colab_type": "text"
      },
      "source": [
        "#### List Comprehension Method:\n"
      ]
    },
    {
      "cell_type": "code",
      "metadata": {
        "id": "cQ9bY78V9BB0",
        "colab_type": "code",
        "colab": {
          "base_uri": "https://localhost:8080/",
          "height": 34
        },
        "outputId": "41bf8caf-b085-4a43-83d0-4723385d847e"
      },
      "source": [
        "import numpy as np\n",
        "str5list = [(np.square(i)+1) for i in range(10) if ((np.square(i)+1)%2 !=0) if ((np.square(i)+1)%5 ==0)]\n",
        "str5list"
      ],
      "execution_count": 8,
      "outputs": [
        {
          "output_type": "execute_result",
          "data": {
            "text/plain": [
              "[5, 65]"
            ]
          },
          "metadata": {
            "tags": []
          },
          "execution_count": 8
        }
      ]
    },
    {
      "cell_type": "markdown",
      "metadata": {
        "id": "Y-h2eQSJ8JIT",
        "colab_type": "text"
      },
      "source": [
        "### Ifs and else with three outputs:"
      ]
    },
    {
      "cell_type": "markdown",
      "metadata": {
        "id": "SKBM1_IGAKvj",
        "colab_type": "text"
      },
      "source": [
        "#### For Loop Method:\n"
      ]
    },
    {
      "cell_type": "code",
      "metadata": {
        "id": "GRN8NqHo-QUw",
        "colab_type": "code",
        "colab": {
          "base_uri": "https://localhost:8080/",
          "height": 187
        },
        "outputId": "79893974-5697-433a-f0f8-03facb64f918"
      },
      "source": [
        "import numpy as np\n",
        "str5list=list()\n",
        "for i in range(10):\n",
        "    num = np.square(i) + 1\n",
        "    if (num % 2 != 0):\n",
        "        str5list.append('odd')\n",
        "    else:\n",
        "        if (num % 5 == 0):\n",
        "            str5list.append('odd and True')\n",
        "        else:\n",
        "            str5list.append('false')\n",
        "str5list"
      ],
      "execution_count": 9,
      "outputs": [
        {
          "output_type": "execute_result",
          "data": {
            "text/plain": [
              "['odd',\n",
              " 'false',\n",
              " 'odd',\n",
              " 'odd and True',\n",
              " 'odd',\n",
              " 'false',\n",
              " 'odd',\n",
              " 'odd and True',\n",
              " 'odd',\n",
              " 'false']"
            ]
          },
          "metadata": {
            "tags": []
          },
          "execution_count": 9
        }
      ]
    },
    {
      "cell_type": "markdown",
      "metadata": {
        "id": "GERvfPnDANK0",
        "colab_type": "text"
      },
      "source": [
        "#### List Comprehension Method:\n"
      ]
    },
    {
      "cell_type": "code",
      "metadata": {
        "id": "LdaLF0Rs9hq2",
        "colab_type": "code",
        "colab": {
          "base_uri": "https://localhost:8080/",
          "height": 187
        },
        "outputId": "0ee3127f-e8ea-4e57-a35d-41421a17b072"
      },
      "source": [
        "import numpy as np\n",
        "str5list = ['odd'  if ((np.square(i)+1)%2 !=0) else 'odd and True' if ((np.square(i)+1)%5 ==0) else 'false' for i in range(10)]\n",
        "str5list"
      ],
      "execution_count": 10,
      "outputs": [
        {
          "output_type": "execute_result",
          "data": {
            "text/plain": [
              "['odd',\n",
              " 'false',\n",
              " 'odd',\n",
              " 'odd and True',\n",
              " 'odd',\n",
              " 'false',\n",
              " 'odd',\n",
              " 'odd and True',\n",
              " 'odd',\n",
              " 'false']"
            ]
          },
          "metadata": {
            "tags": []
          },
          "execution_count": 10
        }
      ]
    },
    {
      "cell_type": "code",
      "metadata": {
        "id": "Byjbk_Oj6UwJ",
        "colab_type": "code",
        "colab": {}
      },
      "source": [
        ""
      ],
      "execution_count": 0,
      "outputs": []
    }
  ]
}