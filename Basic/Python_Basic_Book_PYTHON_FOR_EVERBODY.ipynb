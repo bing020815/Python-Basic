{
  "nbformat": 4,
  "nbformat_minor": 0,
  "metadata": {
    "colab": {
      "name": "Python Basic - Book: PYTHON FOR EVERBODY.ipynb",
      "provenance": [],
      "collapsed_sections": [
        "2r1ASoOoZTnA"
      ],
      "toc_visible": true,
      "authorship_tag": "ABX9TyPEmO9A8xcmt10t0UzjivX3",
      "include_colab_link": true
    },
    "kernelspec": {
      "name": "python3",
      "display_name": "Python 3"
    }
  },
  "cells": [
    {
      "cell_type": "markdown",
      "metadata": {
        "id": "view-in-github",
        "colab_type": "text"
      },
      "source": [
        "<a href=\"https://colab.research.google.com/github/bing020815/Python-Basic/blob/master/Basic/Python_Basic_Book_PYTHON_FOR_EVERBODY.ipynb\" target=\"_parent\"><img src=\"https://colab.research.google.com/assets/colab-badge.svg\" alt=\"Open In Colab\"/></a>"
      ]
    },
    {
      "cell_type": "markdown",
      "metadata": {
        "id": "hMwQyZmSc_ZK",
        "colab_type": "text"
      },
      "source": [
        "#Pyhon Baisc Outline\n",
        "\n",
        "    **Books: PYTHON FOR EVERBODY**\n",
        "        1. Introduction\n",
        "        2. Variables\n",
        "        3. Conditional Execution\n",
        "        4. Functions\n",
        "        5. Iteration\n",
        "        6. Strings\n",
        "        7. Files\n",
        "        8. List\n",
        "        9. Dictionaries\n",
        "        10. Tuples"
      ]
    },
    {
      "cell_type": "markdown",
      "metadata": {
        "id": "Cuaqyy0tdHjO",
        "colab_type": "text"
      },
      "source": [
        "## 1. Introduction"
      ]
    },
    {
      "cell_type": "markdown",
      "metadata": {
        "id": "1INFV3Lzmkov",
        "colab_type": "text"
      },
      "source": [
        "### Errors"
      ]
    },
    {
      "cell_type": "markdown",
      "metadata": {
        "id": "q75x3gxXdHtN",
        "colab_type": "text"
      },
      "source": [
        "In python, there are three general type of errors:\n",
        "\n",
        "\n",
        "1.   Syntax errors\n",
        "    + You have violated the \"grammar\" rules of python\n",
        "\n",
        "2.   Logic errors\n",
        "    + A mistake in the order of the statements\n",
        "\n",
        "3.   Semantic errors\n",
        "    + The program is perfectly correct but it does not do what you intended for it to do\n"
      ]
    },
    {
      "cell_type": "markdown",
      "metadata": {
        "id": "zseem7ramrqa",
        "colab_type": "text"
      },
      "source": [
        "### Debugging"
      ]
    },
    {
      "cell_type": "markdown",
      "metadata": {
        "id": "jcP5o1vgdHw8",
        "colab_type": "text"
      },
      "source": [
        "1. Reading\n",
        "2. Running\n",
        "3. Ruminating\n",
        "        + syntax\n",
        "        + runtime\n",
        "        + semantic\n",
        "4. retreating"
      ]
    },
    {
      "cell_type": "markdown",
      "metadata": {
        "id": "fafRHS8XdH0M",
        "colab_type": "text"
      },
      "source": [
        "## 2. Variables\n"
      ]
    },
    {
      "cell_type": "markdown",
      "metadata": {
        "id": "_d9MkaHym_OY",
        "colab_type": "text"
      },
      "source": [
        "### Data type"
      ]
    },
    {
      "cell_type": "markdown",
      "metadata": {
        "id": "P3fSHFEYdH4U",
        "colab_type": "text"
      },
      "source": [
        "* String: str\n",
        "* Integers: int\n",
        "* Number with a decimal point: float\n",
        "\n",
        "*# Variable name cannot start with a number*"
      ]
    },
    {
      "cell_type": "markdown",
      "metadata": {
        "id": "Q-r9yr8LdH8-",
        "colab_type": "text"
      },
      "source": [
        "\n",
        "This is a statement/assignment:\n",
        "```\n",
        "x = 2\n",
        "```\n",
        "  \n",
        "  \n",
        "This is a script:\n",
        "```\n",
        "print(1)\n",
        "print(x)\n",
        "```\n",
        "\n",
        "\n"
      ]
    },
    {
      "cell_type": "markdown",
      "metadata": {
        "id": "POVEcc6bnFoB",
        "colab_type": "text"
      },
      "source": [
        "### Opertaion"
      ]
    },
    {
      "cell_type": "markdown",
      "metadata": {
        "id": "4_wgyyDkfnOc",
        "colab_type": "text"
      },
      "source": [
        "**Order of operations:**  \n",
        "Python follows the order of operations, PEMDAS, (Parenthese, Exponentiation, Multiplication, Division, Addition, Substraction)"
      ]
    },
    {
      "cell_type": "markdown",
      "metadata": {
        "id": "rGLHfnwwg9lz",
        "colab_type": "text"
      },
      "source": [
        "**Modulus Operator:**"
      ]
    },
    {
      "cell_type": "code",
      "metadata": {
        "id": "nZIiXIN-dIQc",
        "colab_type": "code",
        "outputId": "3c886cc3-d0c4-4e93-b325-b393d51819f7",
        "colab": {
          "base_uri": "https://localhost:8080/",
          "height": 34
        }
      },
      "source": [
        "quotient = 7 //3\n",
        "print(quotient)"
      ],
      "execution_count": 0,
      "outputs": [
        {
          "output_type": "stream",
          "text": [
            "2\n"
          ],
          "name": "stdout"
        }
      ]
    },
    {
      "cell_type": "code",
      "metadata": {
        "id": "tiM_XozxdIXH",
        "colab_type": "code",
        "outputId": "fa55794d-f134-4fac-d27c-f1a9d742b958",
        "colab": {
          "base_uri": "https://localhost:8080/",
          "height": 34
        }
      },
      "source": [
        "remainder = 7 % 3\n",
        "print(remainder)"
      ],
      "execution_count": 0,
      "outputs": [
        {
          "output_type": "stream",
          "text": [
            "1\n"
          ],
          "name": "stdout"
        }
      ]
    },
    {
      "cell_type": "markdown",
      "metadata": {
        "id": "iPXZMoJShoOq",
        "colab_type": "text"
      },
      "source": [
        "**String Operation:**\n"
      ]
    },
    {
      "cell_type": "code",
      "metadata": {
        "id": "ufUS5rRKdIcR",
        "colab_type": "code",
        "outputId": "1fdd35ce-2fd9-44bf-c6b5-b775755a3969",
        "colab": {
          "base_uri": "https://localhost:8080/",
          "height": 34
        }
      },
      "source": [
        "# Case 1\n",
        "first = '100'\n",
        "second = '150'\n",
        "print(first + second)"
      ],
      "execution_count": 0,
      "outputs": [
        {
          "output_type": "stream",
          "text": [
            "100150\n"
          ],
          "name": "stdout"
        }
      ]
    },
    {
      "cell_type": "code",
      "metadata": {
        "id": "XnbW09-5dIgd",
        "colab_type": "code",
        "outputId": "5c8f6577-26e4-4efd-ec4b-f3b47be95b09",
        "colab": {
          "base_uri": "https://localhost:8080/",
          "height": 34
        }
      },
      "source": [
        "# Case 2\n",
        "first = 'Test'\n",
        "second = 3\n",
        "print(first * second)"
      ],
      "execution_count": 0,
      "outputs": [
        {
          "output_type": "stream",
          "text": [
            "TestTestTest\n"
          ],
          "name": "stdout"
        }
      ]
    },
    {
      "cell_type": "markdown",
      "metadata": {
        "id": "l9JO4d-4iDme",
        "colab_type": "text"
      },
      "source": [
        "## 3. Conditional Execution\n",
        "\n"
      ]
    },
    {
      "cell_type": "markdown",
      "metadata": {
        "id": "ro0_cYlZnLMK",
        "colab_type": "text"
      },
      "source": [
        "### Bool"
      ]
    },
    {
      "cell_type": "markdown",
      "metadata": {
        "id": "tISFXgN3iMzZ",
        "colab_type": "text"
      },
      "source": [
        "Boolean Expression: TRUE/FALSE  \n",
        "    =>  data type: bool\n"
      ]
    },
    {
      "cell_type": "markdown",
      "metadata": {
        "id": "UCca31r2iM5D",
        "colab_type": "text"
      },
      "source": [
        "* x != y\n",
        "    -  x is not equal to y\n",
        "* x > y\n",
        "    - x is greater than y\n",
        "* x < y\n",
        "    - x is less tahn y\n",
        "* x >= y\n",
        "    - x is greater than or equal to y\n",
        "* x <= y\n",
        "    - x is less than or equal to y\n",
        "* x is y\n",
        "    - x is the same as y\n",
        "* x is not y\n",
        "    - x is not the same as y\n",
        "* x == y\n",
        "    - x is equal to y\n"
      ]
    },
    {
      "cell_type": "markdown",
      "metadata": {
        "id": "-RUQX_bHnOtw",
        "colab_type": "text"
      },
      "source": [
        "### Operation"
      ]
    },
    {
      "cell_type": "markdown",
      "metadata": {
        "id": "6StnYqmviM87",
        "colab_type": "text"
      },
      "source": [
        "**Logical Operator:**  \n",
        "    1. and   \n",
        "    2. or  \n",
        "    3. not  \n"
      ]
    },
    {
      "cell_type": "code",
      "metadata": {
        "id": "lj9YdToRdDWF",
        "colab_type": "code",
        "outputId": "c9de3a2b-5c16-4552-f0d8-da8da35449c7",
        "colab": {
          "base_uri": "https://localhost:8080/",
          "height": 52
        }
      },
      "source": [
        "inp = input(\"Enter Fahrenhiet:\")\n",
        "try:\n",
        "    fahr = float(inp)\n",
        "    cel = (fahr-32.0) * 5.0/9.0\n",
        "    print(cel)\n",
        "except:\n",
        "    print(cel)"
      ],
      "execution_count": 0,
      "outputs": [
        {
          "output_type": "stream",
          "text": [
            "Enter Fahrenhiet:123\n",
            "50.55555555555556\n"
          ],
          "name": "stdout"
        }
      ]
    },
    {
      "cell_type": "markdown",
      "metadata": {
        "id": "sxhWT8G3oQZG",
        "colab_type": "text"
      },
      "source": [
        "## 4. Functions"
      ]
    },
    {
      "cell_type": "markdown",
      "metadata": {
        "id": "mBHzRycxIgSK",
        "colab_type": "text"
      },
      "source": [
        "A function is a named sequence of statements that performs a comptation."
      ]
    },
    {
      "cell_type": "markdown",
      "metadata": {
        "id": "ZmaUAFNiIgcD",
        "colab_type": "text"
      },
      "source": [
        "### Built-in function:\n",
        "1. max: In a string, Z would be the largest one\n",
        "2. min: In a string, a space would be the smallest\n",
        "3. len: In a string, returns the # of characters"
      ]
    },
    {
      "cell_type": "markdown",
      "metadata": {
        "id": "69rA4Lb8Ks64",
        "colab_type": "text"
      },
      "source": [
        "### Conversion functions\n",
        "1. int\n",
        "    * takes any value and converts it to an integer if it can\n",
        "    * it can convert floating-point values to integers but it does not round off\n",
        "    * it will chops off the fraction part\n",
        "2. float\n",
        "    * it converts integers and strings to floating-point numbers   \n",
        "3. str\n",
        "    * it converts its argument to a string"
      ]
    },
    {
      "cell_type": "markdown",
      "metadata": {
        "id": "Zklm3dsQLW-B",
        "colab_type": "text"
      },
      "source": [
        "### Math functions\n",
        "A 'math' module needs to be imported by using:"
      ]
    },
    {
      "cell_type": "code",
      "metadata": {
        "id": "e-E5FcYQIghp",
        "colab_type": "code",
        "colab": {}
      },
      "source": [
        "import math"
      ],
      "execution_count": 0,
      "outputs": []
    },
    {
      "cell_type": "markdown",
      "metadata": {
        "id": "sNSvWGWTIg7k",
        "colab_type": "text"
      },
      "source": [
        "* A module contains the **functions** and **variables** defined in the module.\n",
        "* To access one of the function, you have to specify the name of the module and the name of the function, separted by a dot"
      ]
    },
    {
      "cell_type": "code",
      "metadata": {
        "id": "kpeVQOPBL7Ds",
        "colab_type": "code",
        "colab": {
          "base_uri": "https://localhost:8080/",
          "height": 34
        },
        "outputId": "5a81880c-d25f-4774-a2b9-ae557d338bf9"
      },
      "source": [
        "ratio = 12/24\n",
        "result = 10 * math.log10(ratio)\n",
        "print(result)"
      ],
      "execution_count": 96,
      "outputs": [
        {
          "output_type": "stream",
          "text": [
            "-3.010299956639812\n"
          ],
          "name": "stdout"
        }
      ]
    },
    {
      "cell_type": "code",
      "metadata": {
        "id": "s14Mg9lXMMWJ",
        "colab_type": "code",
        "colab": {
          "base_uri": "https://localhost:8080/",
          "height": 34
        },
        "outputId": "b9f50cf0-8b18-471a-d019-bde53a317844"
      },
      "source": [
        "radians = 0.7\n",
        "height = math.sin(radians)\n",
        "print(height)"
      ],
      "execution_count": 97,
      "outputs": [
        {
          "output_type": "stream",
          "text": [
            "0.644217687237691\n"
          ],
          "name": "stdout"
        }
      ]
    },
    {
      "cell_type": "code",
      "metadata": {
        "id": "uZljZGGGMw_p",
        "colab_type": "code",
        "colab": {
          "base_uri": "https://localhost:8080/",
          "height": 34
        },
        "outputId": "94810c33-ff9d-4576-f681-ce81666aaa52"
      },
      "source": [
        "degrees = 45\n",
        "radians = degrees/360.0*2*math.pi\n",
        "math.sin(radians)"
      ],
      "execution_count": 100,
      "outputs": [
        {
          "output_type": "execute_result",
          "data": {
            "text/plain": [
              "0.7071067811865475"
            ]
          },
          "metadata": {
            "tags": []
          },
          "execution_count": 100
        }
      ]
    },
    {
      "cell_type": "markdown",
      "metadata": {
        "id": "V8cNJLpeIhKm",
        "colab_type": "text"
      },
      "source": [
        "### Random numbers\n",
        "1. random: (From random module)\n",
        "    * it returns a random float between 0.0 and 1.0 (including 0.0 but not 1.0)\n",
        "2. randint\n",
        "    * it takes the parameters 'low' and 'high' and returns an integer between 'low' and 'high'\n",
        "3. choice\n",
        "    * it choose an element from a sequence at random"
      ]
    },
    {
      "cell_type": "code",
      "metadata": {
        "id": "wCFLyQuAMhd5",
        "colab_type": "code",
        "colab": {
          "base_uri": "https://localhost:8080/",
          "height": 187
        },
        "outputId": "394a07a6-e2ac-4223-afdc-005cea480970"
      },
      "source": [
        "# random\n",
        "import random\n",
        "for i in range(10):\n",
        "    x = random.random()\n",
        "    print(x)"
      ],
      "execution_count": 99,
      "outputs": [
        {
          "output_type": "stream",
          "text": [
            "0.7305591062488854\n",
            "0.8859907707980562\n",
            "0.449918375542002\n",
            "0.7643633082695483\n",
            "0.42944509322878277\n",
            "0.8951958910887714\n",
            "0.3319489418362195\n",
            "0.11402093233851263\n",
            "0.7428676466169906\n",
            "0.9881847290549769\n"
          ],
          "name": "stdout"
        }
      ]
    },
    {
      "cell_type": "code",
      "metadata": {
        "id": "gr3oeptdMhlM",
        "colab_type": "code",
        "colab": {
          "base_uri": "https://localhost:8080/",
          "height": 34
        },
        "outputId": "acf7f866-b03c-4a7d-fe2e-f877bf5fda96"
      },
      "source": [
        "# randint\n",
        "random.randint(5,10)"
      ],
      "execution_count": 102,
      "outputs": [
        {
          "output_type": "execute_result",
          "data": {
            "text/plain": [
              "8"
            ]
          },
          "metadata": {
            "tags": []
          },
          "execution_count": 102
        }
      ]
    },
    {
      "cell_type": "code",
      "metadata": {
        "id": "b_ou-g4_No92",
        "colab_type": "code",
        "colab": {
          "base_uri": "https://localhost:8080/",
          "height": 34
        },
        "outputId": "a718b3da-bb7f-42f5-e009-e14b74c7bde0"
      },
      "source": [
        "# randint\n",
        "random.randint(5,10)"
      ],
      "execution_count": 103,
      "outputs": [
        {
          "output_type": "execute_result",
          "data": {
            "text/plain": [
              "7"
            ]
          },
          "metadata": {
            "tags": []
          },
          "execution_count": 103
        }
      ]
    },
    {
      "cell_type": "code",
      "metadata": {
        "id": "1aqym2YDMgTs",
        "colab_type": "code",
        "colab": {
          "base_uri": "https://localhost:8080/",
          "height": 34
        },
        "outputId": "8fdf2569-a1d8-4974-e731-5db9912acf25"
      },
      "source": [
        "# choice\n",
        "t = [1,2,3]\n",
        "random.choice(t)"
      ],
      "execution_count": 104,
      "outputs": [
        {
          "output_type": "execute_result",
          "data": {
            "text/plain": [
              "3"
            ]
          },
          "metadata": {
            "tags": []
          },
          "execution_count": 104
        }
      ]
    },
    {
      "cell_type": "code",
      "metadata": {
        "id": "um40pNPDIg0i",
        "colab_type": "code",
        "colab": {
          "base_uri": "https://localhost:8080/",
          "height": 34
        },
        "outputId": "1b8f3d07-3869-4b14-ce40-f6d25b15bff7"
      },
      "source": [
        "# choice\n",
        "random.choice(t)"
      ],
      "execution_count": 107,
      "outputs": [
        {
          "output_type": "execute_result",
          "data": {
            "text/plain": [
              "1"
            ]
          },
          "metadata": {
            "tags": []
          },
          "execution_count": 107
        }
      ]
    },
    {
      "cell_type": "markdown",
      "metadata": {
        "id": "g5dnq6VrOALG",
        "colab_type": "text"
      },
      "source": [
        "The 'random' module also provides functions to generate random values form continuous distributions inclusing \"Gaussian\", \"exponential\", \"gamma\" and a few more."
      ]
    },
    {
      "cell_type": "markdown",
      "metadata": {
        "id": "vgJcAJMmOOwP",
        "colab_type": "text"
      },
      "source": [
        "### Define a new function\n",
        "A function definition specifies the name of a new function and the sequence of statements that exceute when the function is called.\n",
        "\n",
        "* def\n",
        "    + it indicates that this is a function definition"
      ]
    },
    {
      "cell_type": "code",
      "metadata": {
        "id": "mjovvROwIgWh",
        "colab_type": "code",
        "colab": {
          "base_uri": "https://localhost:8080/",
          "height": 51
        },
        "outputId": "bb0cc644-de9e-49b4-b586-933ecfbb8d91"
      },
      "source": [
        "def print_lyrics(): \n",
        "    print(\"I'm a lumberjack, and I am okay.\")\n",
        "    print('I sleep all night and I work all day.')\n",
        "print_lyrics()"
      ],
      "execution_count": 109,
      "outputs": [
        {
          "output_type": "stream",
          "text": [
            "I'm a lumberjack, and I am okay.\n",
            "I sleep all night and I work all day.\n"
          ],
          "name": "stdout"
        }
      ]
    },
    {
      "cell_type": "markdown",
      "metadata": {
        "id": "_9tUaz2pO0RO",
        "colab_type": "text"
      },
      "source": [
        "* Defining a function also create a variable with the same name.\n",
        "* The value of the function is a function object, which has type \"function\"\n",
        "* Function can be used inside another function\n",
        "* The statements inside the function do not get executed until the function is called"
      ]
    },
    {
      "cell_type": "markdown",
      "metadata": {
        "id": "fmmCYCkNO0fk",
        "colab_type": "text"
      },
      "source": [
        "fruitful functions: yeild a result  \n",
        "void functions: perform action but don;t return a value  "
      ]
    },
    {
      "cell_type": "markdown",
      "metadata": {
        "id": "aL2GcDSzPVTK",
        "colab_type": "text"
      },
      "source": [
        "* Void function might display something on the screen or have some other effects but they do not have a return value.\n",
        "* If you try to assign the result from a void function to a variable, you will get a speial value called \"None\""
      ]
    },
    {
      "cell_type": "code",
      "metadata": {
        "id": "dzLLw_qWPmLR",
        "colab_type": "code",
        "colab": {
          "base_uri": "https://localhost:8080/",
          "height": 51
        },
        "outputId": "14b37664-05de-404c-d15e-b4887ac28ab4"
      },
      "source": [
        "def print_twice(string):\n",
        "    print(string)\n",
        "    print(string)\n",
        "\n",
        "result = print_twice('test')"
      ],
      "execution_count": 112,
      "outputs": [
        {
          "output_type": "stream",
          "text": [
            "test\n",
            "test\n"
          ],
          "name": "stdout"
        }
      ]
    },
    {
      "cell_type": "code",
      "metadata": {
        "id": "5UY84V67P-Cr",
        "colab_type": "code",
        "colab": {
          "base_uri": "https://localhost:8080/",
          "height": 34
        },
        "outputId": "f6a30b15-438a-45a9-e2d0-b37b4a1b5964"
      },
      "source": [
        "print(result)"
      ],
      "execution_count": 113,
      "outputs": [
        {
          "output_type": "stream",
          "text": [
            "None\n"
          ],
          "name": "stdout"
        }
      ]
    },
    {
      "cell_type": "markdown",
      "metadata": {
        "id": "XfQVC_dcQGdv",
        "colab_type": "text"
      },
      "source": [
        "In order to return a result from a function, use \"return\" statement."
      ]
    },
    {
      "cell_type": "code",
      "metadata": {
        "id": "zRKcXYs9QMt6",
        "colab_type": "code",
        "colab": {
          "base_uri": "https://localhost:8080/",
          "height": 34
        },
        "outputId": "61db4e69-f5f5-404a-8b8f-c6b1e2ca504e"
      },
      "source": [
        "def addtwo(a,b):\n",
        "    added = a+b\n",
        "    return added\n",
        "    \n",
        "x = addtwo(3,5)\n",
        "print(x)"
      ],
      "execution_count": 114,
      "outputs": [
        {
          "output_type": "stream",
          "text": [
            "8\n"
          ],
          "name": "stdout"
        }
      ]
    },
    {
      "cell_type": "markdown",
      "metadata": {
        "id": "SlTrFNsYiDEG",
        "colab_type": "text"
      },
      "source": [
        "## 5. Iteration\n"
      ]
    },
    {
      "cell_type": "markdown",
      "metadata": {
        "id": "Nway9jgonYc7",
        "colab_type": "text"
      },
      "source": [
        "### loops"
      ]
    },
    {
      "cell_type": "markdown",
      "metadata": {
        "id": "1NMTge4sknSs",
        "colab_type": "text"
      },
      "source": [
        "Python has five iteration functions: \n",
        "1.   if - looping with conditions\n",
        "2.   for - looping through a know set of items\n",
        "3.   while - loops until some condition becomes False\n",
        "  \n",
        "  \n",
        "**The following script has five iterations:**\n",
        "```\n",
        "n = 5\n",
        "while n > 0:\n",
        "    print(n)\n",
        "    n = n-1\n",
        "print('blast off')\n",
        "```\n",
        "\n",
        "**Endless Loop:**\n",
        "```\n",
        "while True:\n",
        "    line = input('> ')\n",
        "    if line == 'done':\n",
        "        break\n",
        "    print(line)\n",
        "print('Done!')\n",
        "```\n",
        "\n"
      ]
    },
    {
      "cell_type": "markdown",
      "metadata": {
        "id": "Mdi2lySkn8hX",
        "colab_type": "text"
      },
      "source": [
        "## 6. Strings"
      ]
    },
    {
      "cell_type": "markdown",
      "metadata": {
        "id": "SDQdhBoj41Ov",
        "colab_type": "text"
      },
      "source": [
        "The expression in brackets is called an index. Index starts from 0 to n-1. n is the length of a string."
      ]
    },
    {
      "cell_type": "code",
      "metadata": {
        "id": "2PO4msYc48t-",
        "colab_type": "code",
        "colab": {
          "base_uri": "https://localhost:8080/",
          "height": 34
        },
        "outputId": "dc7b24f1-35ea-473f-dc68-4661b8c777f9"
      },
      "source": [
        "fruit = 'banana'\n",
        "letter = fruit[1]\n",
        "print(letter)"
      ],
      "execution_count": 15,
      "outputs": [
        {
          "output_type": "stream",
          "text": [
            "a\n"
          ],
          "name": "stdout"
        }
      ]
    },
    {
      "cell_type": "markdown",
      "metadata": {
        "id": "DtE386LQ5FQV",
        "colab_type": "text"
      },
      "source": [
        "Getting the length of string using len:\n"
      ]
    },
    {
      "cell_type": "code",
      "metadata": {
        "id": "cYaZ7GDq482M",
        "colab_type": "code",
        "colab": {
          "base_uri": "https://localhost:8080/",
          "height": 34
        },
        "outputId": "6cef897f-9238-42b0-c89d-2eb338565277"
      },
      "source": [
        "fruit = 'banana'\n",
        "len(fruit)"
      ],
      "execution_count": 16,
      "outputs": [
        {
          "output_type": "execute_result",
          "data": {
            "text/plain": [
              "6"
            ]
          },
          "metadata": {
            "tags": []
          },
          "execution_count": 16
        }
      ]
    },
    {
      "cell_type": "code",
      "metadata": {
        "id": "DLLDSNeC489Y",
        "colab_type": "code",
        "colab": {
          "base_uri": "https://localhost:8080/",
          "height": 34
        },
        "outputId": "04c0590e-9a1a-44bb-d05e-ea702b47dbea"
      },
      "source": [
        "length=len(fruit)\n",
        "last = fruit[length-1]\n",
        "print(last)"
      ],
      "execution_count": 21,
      "outputs": [
        {
          "output_type": "stream",
          "text": [
            "a\n"
          ],
          "name": "stdout"
        }
      ]
    },
    {
      "cell_type": "markdown",
      "metadata": {
        "id": "Vqu3sBAS574K",
        "colab_type": "text"
      },
      "source": [
        "#### Negative indices"
      ]
    },
    {
      "cell_type": "code",
      "metadata": {
        "id": "h0GJvGIC48ys",
        "colab_type": "code",
        "colab": {
          "base_uri": "https://localhost:8080/",
          "height": 34
        },
        "outputId": "eef3563e-b268-4399-c446-f0c78ef9b8c4"
      },
      "source": [
        "fruit[-1]"
      ],
      "execution_count": 22,
      "outputs": [
        {
          "output_type": "execute_result",
          "data": {
            "text/plain": [
              "'a'"
            ]
          },
          "metadata": {
            "tags": []
          },
          "execution_count": 22
        }
      ]
    },
    {
      "cell_type": "code",
      "metadata": {
        "id": "TEcwg5KO6C9L",
        "colab_type": "code",
        "colab": {
          "base_uri": "https://localhost:8080/",
          "height": 34
        },
        "outputId": "d246bf3d-39d2-41ca-9147-5f5d4f4e9ca1"
      },
      "source": [
        "fruit[-2]"
      ],
      "execution_count": 23,
      "outputs": [
        {
          "output_type": "execute_result",
          "data": {
            "text/plain": [
              "'n'"
            ]
          },
          "metadata": {
            "tags": []
          },
          "execution_count": 23
        }
      ]
    },
    {
      "cell_type": "markdown",
      "metadata": {
        "id": "W_zUu5Lo7Phm",
        "colab_type": "text"
      },
      "source": [
        "### Loops application"
      ]
    },
    {
      "cell_type": "markdown",
      "metadata": {
        "id": "5XBB5rgX6N7i",
        "colab_type": "text"
      },
      "source": [
        "Use while loop to write a traversal:"
      ]
    },
    {
      "cell_type": "code",
      "metadata": {
        "id": "q4ORSHis6Roq",
        "colab_type": "code",
        "colab": {
          "base_uri": "https://localhost:8080/",
          "height": 119
        },
        "outputId": "d0b2b97c-0b7c-4568-de8d-ac3ca2eeecfe"
      },
      "source": [
        "index=0\n",
        "while index < len(fruit):\n",
        "    letter = fruit[index]\n",
        "    print(f'{index}:{letter}')\n",
        "    index = index + 1"
      ],
      "execution_count": 29,
      "outputs": [
        {
          "output_type": "stream",
          "text": [
            "0:b\n",
            "1:a\n",
            "2:n\n",
            "3:a\n",
            "4:n\n",
            "5:a\n"
          ],
          "name": "stdout"
        }
      ]
    },
    {
      "cell_type": "markdown",
      "metadata": {
        "id": "9MXa8aVe6StB",
        "colab_type": "text"
      },
      "source": [
        "Use for loop to write a traversal:"
      ]
    },
    {
      "cell_type": "code",
      "metadata": {
        "id": "d0_-FsNw6Rvf",
        "colab_type": "code",
        "colab": {
          "base_uri": "https://localhost:8080/",
          "height": 119
        },
        "outputId": "07dc7452-7fe4-4444-c193-db25a8114cb3"
      },
      "source": [
        "for char in fruit:\n",
        "    print(char)"
      ],
      "execution_count": 25,
      "outputs": [
        {
          "output_type": "stream",
          "text": [
            "b\n",
            "a\n",
            "n\n",
            "a\n",
            "n\n",
            "a\n"
          ],
          "name": "stdout"
        }
      ]
    },
    {
      "cell_type": "markdown",
      "metadata": {
        "id": "1V-KsJ-86TTr",
        "colab_type": "text"
      },
      "source": [
        "Use while loop to write a reverse traversal:\n"
      ]
    },
    {
      "cell_type": "code",
      "metadata": {
        "id": "KeL6lJmV6TZS",
        "colab_type": "code",
        "colab": {
          "base_uri": "https://localhost:8080/",
          "height": 119
        },
        "outputId": "4f7da5a3-4aa6-41ca-d91c-5abdfd40cfa5"
      },
      "source": [
        "index = 1\n",
        "while index-1 < len(fruit):\n",
        "    letter = fruit[-index]\n",
        "    print(f'{index}:{letter}')\n",
        "    index = index + 1"
      ],
      "execution_count": 28,
      "outputs": [
        {
          "output_type": "stream",
          "text": [
            "1:a\n",
            "2:n\n",
            "3:a\n",
            "4:n\n",
            "5:a\n",
            "6:b\n"
          ],
          "name": "stdout"
        }
      ]
    },
    {
      "cell_type": "markdown",
      "metadata": {
        "id": "u9mBMp3x7T4J",
        "colab_type": "text"
      },
      "source": [
        "### String slices\n",
        "Selecting a slice is similar to selecting a character."
      ]
    },
    {
      "cell_type": "code",
      "metadata": {
        "id": "2lmMwUE07s6i",
        "colab_type": "code",
        "colab": {
          "base_uri": "https://localhost:8080/",
          "height": 51
        },
        "outputId": "854e3897-e5f2-4617-ce48-51d115d97538"
      },
      "source": [
        "s = 'Monty Python'\n",
        "print(s[0:5])\n",
        "print(s[6:12])"
      ],
      "execution_count": 30,
      "outputs": [
        {
          "output_type": "stream",
          "text": [
            "Monty\n",
            "Python\n"
          ],
          "name": "stdout"
        }
      ]
    },
    {
      "cell_type": "markdown",
      "metadata": {
        "id": "-NP3PhP975A5",
        "colab_type": "text"
      },
      "source": [
        "The operator returns the part of the sting from the 'n-th' to 'm-th' character, including the first but excluding the last."
      ]
    },
    {
      "cell_type": "code",
      "metadata": {
        "id": "csdcPhT48ERO",
        "colab_type": "code",
        "colab": {
          "base_uri": "https://localhost:8080/",
          "height": 34
        },
        "outputId": "7ccd42ed-115f-4803-b4bc-2e0cbf525f44"
      },
      "source": [
        "fruit = 'banana'\n",
        "fruit[:3]"
      ],
      "execution_count": 31,
      "outputs": [
        {
          "output_type": "execute_result",
          "data": {
            "text/plain": [
              "'ban'"
            ]
          },
          "metadata": {
            "tags": []
          },
          "execution_count": 31
        }
      ]
    },
    {
      "cell_type": "code",
      "metadata": {
        "id": "b9ZOSjyC8EZB",
        "colab_type": "code",
        "colab": {
          "base_uri": "https://localhost:8080/",
          "height": 34
        },
        "outputId": "7e3782e9-e793-4d73-cc14-7f43dee468c6"
      },
      "source": [
        "fruit[3:]"
      ],
      "execution_count": 32,
      "outputs": [
        {
          "output_type": "execute_result",
          "data": {
            "text/plain": [
              "'ana'"
            ]
          },
          "metadata": {
            "tags": []
          },
          "execution_count": 32
        }
      ]
    },
    {
      "cell_type": "markdown",
      "metadata": {
        "id": "2FP_8Me68KvC",
        "colab_type": "text"
      },
      "source": [
        "If the first index is greater than or equal to the second the result is an empty string"
      ]
    },
    {
      "cell_type": "code",
      "metadata": {
        "id": "-vsU0BLl8SQu",
        "colab_type": "code",
        "colab": {
          "base_uri": "https://localhost:8080/",
          "height": 34
        },
        "outputId": "92ad5d29-7910-48b1-95e5-89d7bcdf4803"
      },
      "source": [
        "fruit = 'banana'\n",
        "fruit[3:3]"
      ],
      "execution_count": 33,
      "outputs": [
        {
          "output_type": "execute_result",
          "data": {
            "text/plain": [
              "''"
            ]
          },
          "metadata": {
            "tags": []
          },
          "execution_count": 33
        }
      ]
    },
    {
      "cell_type": "markdown",
      "metadata": {
        "id": "pTqOPHY38bjQ",
        "colab_type": "text"
      },
      "source": [
        "The best you can do is create a new string that is a variation on the original:"
      ]
    },
    {
      "cell_type": "code",
      "metadata": {
        "id": "EkBXXyOs8Sk_",
        "colab_type": "code",
        "colab": {
          "base_uri": "https://localhost:8080/",
          "height": 34
        },
        "outputId": "4725cbe1-e53a-47fd-8880-ec8f221d1100"
      },
      "source": [
        "greeting = 'Hello World!'\n",
        "new_greeting = 'J' + greeting[1:]\n",
        "print(new_greeting)"
      ],
      "execution_count": 36,
      "outputs": [
        {
          "output_type": "stream",
          "text": [
            "Jello World!\n"
          ],
          "name": "stdout"
        }
      ]
    },
    {
      "cell_type": "markdown",
      "metadata": {
        "id": "aooNUmPO834_",
        "colab_type": "text"
      },
      "source": [
        "### Looping and counting"
      ]
    },
    {
      "cell_type": "code",
      "metadata": {
        "id": "mXYQ-oud85zb",
        "colab_type": "code",
        "colab": {
          "base_uri": "https://localhost:8080/",
          "height": 68
        },
        "outputId": "167f234d-ed1d-4986-deaf-cf6e12262df4"
      },
      "source": [
        "word = 'banana'\n",
        "count = 0\n",
        "for letter in word:\n",
        "    if letter == 'a':\n",
        "        count = count + 1\n",
        "        print(count)"
      ],
      "execution_count": 38,
      "outputs": [
        {
          "output_type": "stream",
          "text": [
            "1\n",
            "2\n",
            "3\n"
          ],
          "name": "stdout"
        }
      ]
    },
    {
      "cell_type": "markdown",
      "metadata": {
        "id": "gmhPrEDR9Pys",
        "colab_type": "text"
      },
      "source": [
        "### The 'in' operator"
      ]
    },
    {
      "cell_type": "code",
      "metadata": {
        "id": "dWuyE3bG9Txw",
        "colab_type": "code",
        "colab": {
          "base_uri": "https://localhost:8080/",
          "height": 34
        },
        "outputId": "92342f2f-86bf-4d5a-dce8-379b19c1b222"
      },
      "source": [
        "'a' in 'banana'"
      ],
      "execution_count": 39,
      "outputs": [
        {
          "output_type": "execute_result",
          "data": {
            "text/plain": [
              "True"
            ]
          },
          "metadata": {
            "tags": []
          },
          "execution_count": 39
        }
      ]
    },
    {
      "cell_type": "code",
      "metadata": {
        "id": "6Obb-FoB9WEH",
        "colab_type": "code",
        "colab": {
          "base_uri": "https://localhost:8080/",
          "height": 34
        },
        "outputId": "cdc3f79d-3015-44ba-8b67-20bacd06acff"
      },
      "source": [
        "'seed' in 'banana'"
      ],
      "execution_count": 40,
      "outputs": [
        {
          "output_type": "execute_result",
          "data": {
            "text/plain": [
              "False"
            ]
          },
          "metadata": {
            "tags": []
          },
          "execution_count": 40
        }
      ]
    },
    {
      "cell_type": "markdown",
      "metadata": {
        "id": "R6k2acje9P-_",
        "colab_type": "text"
      },
      "source": [
        "### String comparison"
      ]
    },
    {
      "cell_type": "code",
      "metadata": {
        "id": "DMk6H3XE9b_B",
        "colab_type": "code",
        "colab": {
          "base_uri": "https://localhost:8080/",
          "height": 34
        },
        "outputId": "2b56d94d-9127-4b84-8da1-20e3680c64b9"
      },
      "source": [
        "word = 'banana'\n",
        "if word == 'banana':\n",
        "    print('All right, bananas')"
      ],
      "execution_count": 42,
      "outputs": [
        {
          "output_type": "stream",
          "text": [
            "All right, bananas\n"
          ],
          "name": "stdout"
        }
      ]
    },
    {
      "cell_type": "markdown",
      "metadata": {
        "id": "AN5YmSQ19QIX",
        "colab_type": "text"
      },
      "source": [
        "### String Methods\n",
        "1. dir: shows the available methods\n",
        "2. type: type of an object"
      ]
    },
    {
      "cell_type": "code",
      "metadata": {
        "id": "WRKJ_LtY-CkX",
        "colab_type": "code",
        "colab": {
          "base_uri": "https://localhost:8080/",
          "height": 34
        },
        "outputId": "c2ae81be-8371-4ef7-f3e1-f6b973f0e917"
      },
      "source": [
        "stuff = 'hello world'\n",
        "type(stuff)"
      ],
      "execution_count": 43,
      "outputs": [
        {
          "output_type": "execute_result",
          "data": {
            "text/plain": [
              "str"
            ]
          },
          "metadata": {
            "tags": []
          },
          "execution_count": 43
        }
      ]
    },
    {
      "cell_type": "code",
      "metadata": {
        "id": "np24cTbW-JYX",
        "colab_type": "code",
        "colab": {
          "base_uri": "https://localhost:8080/",
          "height": 1000
        },
        "outputId": "a01499bf-ec3a-4579-8493-0d2e59a9e99e"
      },
      "source": [
        "dir(stuff)"
      ],
      "execution_count": 44,
      "outputs": [
        {
          "output_type": "execute_result",
          "data": {
            "text/plain": [
              "['__add__',\n",
              " '__class__',\n",
              " '__contains__',\n",
              " '__delattr__',\n",
              " '__dir__',\n",
              " '__doc__',\n",
              " '__eq__',\n",
              " '__format__',\n",
              " '__ge__',\n",
              " '__getattribute__',\n",
              " '__getitem__',\n",
              " '__getnewargs__',\n",
              " '__gt__',\n",
              " '__hash__',\n",
              " '__init__',\n",
              " '__init_subclass__',\n",
              " '__iter__',\n",
              " '__le__',\n",
              " '__len__',\n",
              " '__lt__',\n",
              " '__mod__',\n",
              " '__mul__',\n",
              " '__ne__',\n",
              " '__new__',\n",
              " '__reduce__',\n",
              " '__reduce_ex__',\n",
              " '__repr__',\n",
              " '__rmod__',\n",
              " '__rmul__',\n",
              " '__setattr__',\n",
              " '__sizeof__',\n",
              " '__str__',\n",
              " '__subclasshook__',\n",
              " 'capitalize',\n",
              " 'casefold',\n",
              " 'center',\n",
              " 'count',\n",
              " 'encode',\n",
              " 'endswith',\n",
              " 'expandtabs',\n",
              " 'find',\n",
              " 'format',\n",
              " 'format_map',\n",
              " 'index',\n",
              " 'isalnum',\n",
              " 'isalpha',\n",
              " 'isdecimal',\n",
              " 'isdigit',\n",
              " 'isidentifier',\n",
              " 'islower',\n",
              " 'isnumeric',\n",
              " 'isprintable',\n",
              " 'isspace',\n",
              " 'istitle',\n",
              " 'isupper',\n",
              " 'join',\n",
              " 'ljust',\n",
              " 'lower',\n",
              " 'lstrip',\n",
              " 'maketrans',\n",
              " 'partition',\n",
              " 'replace',\n",
              " 'rfind',\n",
              " 'rindex',\n",
              " 'rjust',\n",
              " 'rpartition',\n",
              " 'rsplit',\n",
              " 'rstrip',\n",
              " 'split',\n",
              " 'splitlines',\n",
              " 'startswith',\n",
              " 'strip',\n",
              " 'swapcase',\n",
              " 'title',\n",
              " 'translate',\n",
              " 'upper',\n",
              " 'zfill']"
            ]
          },
          "metadata": {
            "tags": []
          },
          "execution_count": 44
        }
      ]
    },
    {
      "cell_type": "code",
      "metadata": {
        "id": "KOKu2ZUX-Jhz",
        "colab_type": "code",
        "colab": {
          "base_uri": "https://localhost:8080/",
          "height": 153
        },
        "outputId": "db2beea0-3130-4a6d-fa03-694071850149"
      },
      "source": [
        "help(str.capitalize)"
      ],
      "execution_count": 45,
      "outputs": [
        {
          "output_type": "stream",
          "text": [
            "Help on method_descriptor:\n",
            "\n",
            "capitalize(...)\n",
            "    S.capitalize() -> str\n",
            "    \n",
            "    Return a capitalized version of S, i.e. make the first character\n",
            "    have upper case and the rest lower case.\n",
            "\n"
          ],
          "name": "stdout"
        }
      ]
    },
    {
      "cell_type": "markdown",
      "metadata": {
        "id": "foTW5FHi-V3d",
        "colab_type": "text"
      },
      "source": [
        "Calling a method is similar to calling a function but the syntax is different:\n",
        "1. upper\n",
        "2. find\n",
        "3. strip\n",
        "4. lower\n",
        "5. startswith\n",
        "6. count\n"
      ]
    },
    {
      "cell_type": "code",
      "metadata": {
        "id": "ryM0kEXG-fxD",
        "colab_type": "code",
        "colab": {
          "base_uri": "https://localhost:8080/",
          "height": 34
        },
        "outputId": "2d913985-1e0a-4ccb-dacd-158a383c4046"
      },
      "source": [
        "# upper\n",
        "word = 'banana'\n",
        "new_word = word.upper()\n",
        "print(new_word)"
      ],
      "execution_count": 47,
      "outputs": [
        {
          "output_type": "stream",
          "text": [
            "BANANA\n"
          ],
          "name": "stdout"
        }
      ]
    },
    {
      "cell_type": "code",
      "metadata": {
        "id": "jTJDBmRT-o41",
        "colab_type": "code",
        "colab": {
          "base_uri": "https://localhost:8080/",
          "height": 34
        },
        "outputId": "44c78b62-15dd-4d5e-f001-3045fdbd058f"
      },
      "source": [
        "# find\n",
        "word.find('na')"
      ],
      "execution_count": 48,
      "outputs": [
        {
          "output_type": "execute_result",
          "data": {
            "text/plain": [
              "2"
            ]
          },
          "metadata": {
            "tags": []
          },
          "execution_count": 48
        }
      ]
    },
    {
      "cell_type": "code",
      "metadata": {
        "id": "bG8JkstB-f2-",
        "colab_type": "code",
        "colab": {
          "base_uri": "https://localhost:8080/",
          "height": 34
        },
        "outputId": "ca33724d-8343-4899-a4e4-a58d970b3c4b"
      },
      "source": [
        "# find (setting the index where it should start)\n",
        "word.find('na', 3)"
      ],
      "execution_count": 49,
      "outputs": [
        {
          "output_type": "execute_result",
          "data": {
            "text/plain": [
              "4"
            ]
          },
          "metadata": {
            "tags": []
          },
          "execution_count": 49
        }
      ]
    },
    {
      "cell_type": "code",
      "metadata": {
        "id": "Q3C5xjEn-76n",
        "colab_type": "code",
        "colab": {
          "base_uri": "https://localhost:8080/",
          "height": 34
        },
        "outputId": "02e06990-9ba9-42e4-da0f-9856de818df0"
      },
      "source": [
        "# strip: get rid of leading and trailing spaces\n",
        "line = ' Here we go             '\n",
        "line.strip()"
      ],
      "execution_count": 52,
      "outputs": [
        {
          "output_type": "execute_result",
          "data": {
            "text/plain": [
              "'Here we go'"
            ]
          },
          "metadata": {
            "tags": []
          },
          "execution_count": 52
        }
      ]
    },
    {
      "cell_type": "code",
      "metadata": {
        "id": "-7FQT2YP-8BN",
        "colab_type": "code",
        "colab": {
          "base_uri": "https://localhost:8080/",
          "height": 34
        },
        "outputId": "f56a366e-e7fb-4759-ccad-f4e4fcf3d606"
      },
      "source": [
        "# lower\n",
        "line = 'Have a nice day'\n",
        "line.lower()"
      ],
      "execution_count": 53,
      "outputs": [
        {
          "output_type": "execute_result",
          "data": {
            "text/plain": [
              "'have a nice day'"
            ]
          },
          "metadata": {
            "tags": []
          },
          "execution_count": 53
        }
      ]
    },
    {
      "cell_type": "code",
      "metadata": {
        "id": "5kvbSIzy_Oru",
        "colab_type": "code",
        "colab": {
          "base_uri": "https://localhost:8080/",
          "height": 34
        },
        "outputId": "18ff94a2-8f9a-4882-9505-a0d63d326371"
      },
      "source": [
        "# startswith\n",
        "line = 'Have a nice day'\n",
        "line.startswith('h')"
      ],
      "execution_count": 54,
      "outputs": [
        {
          "output_type": "execute_result",
          "data": {
            "text/plain": [
              "False"
            ]
          },
          "metadata": {
            "tags": []
          },
          "execution_count": 54
        }
      ]
    },
    {
      "cell_type": "code",
      "metadata": {
        "id": "leHC14TY-8JB",
        "colab_type": "code",
        "colab": {
          "base_uri": "https://localhost:8080/",
          "height": 34
        },
        "outputId": "707357aa-4162-4225-ee6a-5dfa7f454149"
      },
      "source": [
        "line.startswith('H')"
      ],
      "execution_count": 55,
      "outputs": [
        {
          "output_type": "execute_result",
          "data": {
            "text/plain": [
              "True"
            ]
          },
          "metadata": {
            "tags": []
          },
          "execution_count": 55
        }
      ]
    },
    {
      "cell_type": "code",
      "metadata": {
        "id": "pj0Cz7HS_eE2",
        "colab_type": "code",
        "colab": {
          "base_uri": "https://localhost:8080/",
          "height": 34
        },
        "outputId": "e9447210-f0b8-4cc7-e483-cdb4a9a5b7a7"
      },
      "source": [
        "# count\n",
        "line.count('e')"
      ],
      "execution_count": 56,
      "outputs": [
        {
          "output_type": "execute_result",
          "data": {
            "text/plain": [
              "2"
            ]
          },
          "metadata": {
            "tags": []
          },
          "execution_count": 56
        }
      ]
    },
    {
      "cell_type": "markdown",
      "metadata": {
        "id": "DRd6KJ7N-6XM",
        "colab_type": "text"
      },
      "source": [
        "### Parsing strings"
      ]
    },
    {
      "cell_type": "code",
      "metadata": {
        "id": "fpU5LbC7_xQh",
        "colab_type": "code",
        "colab": {
          "base_uri": "https://localhost:8080/",
          "height": 34
        },
        "outputId": "6b49f365-96f7-430f-fe74-b4b38e345cfd"
      },
      "source": [
        "data = ' from abc@this.is.test Sat Jan 23:45:67 2019'\n",
        "atpos = data.find('@')\n",
        "stoppos = data.find(' ', atpos)\n",
        "host = data[atpos +1 :stoppos]\n",
        "print(host)"
      ],
      "execution_count": 60,
      "outputs": [
        {
          "output_type": "stream",
          "text": [
            "this.is.test\n"
          ],
          "name": "stdout"
        }
      ]
    },
    {
      "cell_type": "markdown",
      "metadata": {
        "id": "Fvm3D5wdAaXZ",
        "colab_type": "text"
      },
      "source": [
        "### Format operator\n",
        "The formate operator, % allows us to construct strings, replacing parts of the strings with the data stored in variables.  \n"
      ]
    },
    {
      "cell_type": "markdown",
      "metadata": {
        "id": "W7kApztPBmSl",
        "colab_type": "text"
      },
      "source": [
        "%d means that the second operand should be formatted as an integer:\n"
      ]
    },
    {
      "cell_type": "code",
      "metadata": {
        "id": "ZSU0ZcTD_xlz",
        "colab_type": "code",
        "colab": {
          "base_uri": "https://localhost:8080/",
          "height": 34
        },
        "outputId": "62964b1e-4bc0-40a6-cd64-50070ef5adcb"
      },
      "source": [
        "camels=42\n",
        "\"I have spotted %d camels\" %camels"
      ],
      "execution_count": 69,
      "outputs": [
        {
          "output_type": "execute_result",
          "data": {
            "text/plain": [
              "'I have spotted 42 camels'"
            ]
          },
          "metadata": {
            "tags": []
          },
          "execution_count": 69
        }
      ]
    },
    {
      "cell_type": "markdown",
      "metadata": {
        "id": "1a4bCKL4Bow3",
        "colab_type": "text"
      },
      "source": [
        "%g is to format a floating-point number and % is to formate a string\n"
      ]
    },
    {
      "cell_type": "code",
      "metadata": {
        "id": "3sfrmYD__xv_",
        "colab_type": "code",
        "colab": {
          "base_uri": "https://localhost:8080/",
          "height": 34
        },
        "outputId": "6286d8d4-525b-4cea-93a2-e493f38baaa6"
      },
      "source": [
        "'In %d years, I have spotted %g %s.' %(3, 0.1, 'camels')"
      ],
      "execution_count": 71,
      "outputs": [
        {
          "output_type": "execute_result",
          "data": {
            "text/plain": [
              "'In 3 years, I have spotted 0.1 camels.'"
            ]
          },
          "metadata": {
            "tags": []
          },
          "execution_count": 71
        }
      ]
    },
    {
      "cell_type": "markdown",
      "metadata": {
        "id": "G679UkISoHYh",
        "colab_type": "text"
      },
      "source": [
        "## 7. Files\n"
      ]
    },
    {
      "cell_type": "markdown",
      "metadata": {
        "id": "6S1L6-_6CeTc",
        "colab_type": "text"
      },
      "source": [
        "### Use open()\n"
      ]
    },
    {
      "cell_type": "markdown",
      "metadata": {
        "id": "SsK4fXPDCjHe",
        "colab_type": "text"
      },
      "source": [
        "Count each of the lines in a files:\n",
        "\n",
        "\n",
        "\n",
        "```\n",
        "fhand = open('inbox-short.txt')\n",
        "count = 0\n",
        "for line in fhand:\n",
        "    count = count +1\n",
        "    print('Line count:', count)\n",
        "```\n",
        "\n"
      ]
    },
    {
      "cell_type": "markdown",
      "metadata": {
        "id": "qihmqu6BDB-S",
        "colab_type": "text"
      },
      "source": [
        "If the file is relatively small compared to the size of your main memory, using the 'read' method on the file handle.\n",
        "\n",
        "\n",
        "```\n",
        "fhand = open('inbox-short.txt')\n",
        "inp = fhand.read()\n",
        "```\n",
        "\n"
      ]
    },
    {
      "cell_type": "markdown",
      "metadata": {
        "id": "RgJ7dDGnDhZH",
        "colab_type": "text"
      },
      "source": [
        "If the file is too large to fit in main memory, you should write your program to read the file in chunks using a for or while loop.\n",
        "\n",
        "```\n",
        "fhand = open('inbox-short.txt')\n",
        "count = 0\n",
        "for line in fhand:\n",
        "    line = line.strip()\n",
        "    if line.startswith('From:'):\n",
        "        print(line)\n",
        "```"
      ]
    },
    {
      "cell_type": "markdown",
      "metadata": {
        "id": "AvmHj9Q6EHDF",
        "colab_type": "text"
      },
      "source": [
        "As the file processing programs get more complicated, you may want to structure your search loops using \"continue\"\n",
        "\n",
        "\n",
        "\n",
        "```\n",
        "fhand = open('inbox-short.txt')\n",
        "count = 0\n",
        "for line in fhand:\n",
        "    line = line.strip()\n",
        "# skip 'uninteresting lines'\n",
        "    if not line.startswith('From:'):\n",
        "        continue\n",
        "# process the 'interesting lines'\n",
        "    print(line)\n",
        "```\n",
        "\n"
      ]
    },
    {
      "cell_type": "markdown",
      "metadata": {
        "id": "OC4BLrb5EHJ1",
        "colab_type": "text"
      },
      "source": [
        "* find() return -1 if the string was not found\n",
        "\n",
        "\n",
        "```\n",
        "fhand = open('inbox-short.txt')\n",
        "count = 0\n",
        "for line in fhand:\n",
        "    line = line.strip()\n",
        "    if line.find('@utc.ac.za')==-1:\n",
        "        continue\n",
        "    print(line)\n",
        "```\n",
        "\n"
      ]
    },
    {
      "cell_type": "markdown",
      "metadata": {
        "id": "DVMRwtL2FHK_",
        "colab_type": "text"
      },
      "source": [
        "* try/except for reading file program\n",
        "\n",
        "\n",
        "```\n",
        "fname = input('Enter the file name:')\n",
        "try:\n",
        "    fhand=open('inbox-short.txt')\n",
        "except:\n",
        "    print('File cannot be opened', fname)\n",
        "    exit() # terminate the program\n",
        "count = 0\n",
        "for line in fhand:\n",
        "    line = line.strip()\n",
        "# skip 'uninteresting lines'\n",
        "    if not line.startswith('Subject:'):\n",
        "        count= count + 1\n",
        "print('There were', count, 'subject lives in', fname)\n",
        "```\n",
        "\n"
      ]
    },
    {
      "cell_type": "markdown",
      "metadata": {
        "id": "WjaPUV1mEHNA",
        "colab_type": "text"
      },
      "source": [
        "### writting files"
      ]
    },
    {
      "cell_type": "markdown",
      "metadata": {
        "id": "lcQ4IeruGDQH",
        "colab_type": "text"
      },
      "source": [
        "To write a file, you have to open it with mode \"w\" as a second parameter:\n"
      ]
    },
    {
      "cell_type": "code",
      "metadata": {
        "id": "irYMd4DEGLcI",
        "colab_type": "code",
        "colab": {
          "base_uri": "https://localhost:8080/",
          "height": 34
        },
        "outputId": "e16fd8ea-9c36-410a-ec1f-d4812eac75a8"
      },
      "source": [
        "# If the file already exists, opening it in write mode clears out the old data and starts fresh\n",
        "# + sign allow the 'read' mode\n",
        "fout = open('output.txt','w+')\n",
        "print(fout)"
      ],
      "execution_count": 80,
      "outputs": [
        {
          "output_type": "stream",
          "text": [
            "<_io.TextIOWrapper name='output.txt' mode='w+' encoding='UTF-8'>\n"
          ],
          "name": "stdout"
        }
      ]
    },
    {
      "cell_type": "markdown",
      "metadata": {
        "id": "_xfs0tswGK-b",
        "colab_type": "text"
      },
      "source": [
        "The 'write' method of the file handle object puts data into the file, returning the number of characters written"
      ]
    },
    {
      "cell_type": "code",
      "metadata": {
        "id": "kbTxZJJeGurZ",
        "colab_type": "code",
        "colab": {
          "base_uri": "https://localhost:8080/",
          "height": 34
        },
        "outputId": "fc735b31-ff4e-458f-cf5b-bc5942421b3d"
      },
      "source": [
        "line1='This is test line\\n'\n",
        "fout.write(line1)"
      ],
      "execution_count": 76,
      "outputs": [
        {
          "output_type": "execute_result",
          "data": {
            "text/plain": [
              "18"
            ]
          },
          "metadata": {
            "tags": []
          },
          "execution_count": 76
        }
      ]
    },
    {
      "cell_type": "code",
      "metadata": {
        "id": "Vv8LCHKIHBWQ",
        "colab_type": "code",
        "colab": {
          "base_uri": "https://localhost:8080/",
          "height": 34
        },
        "outputId": "d6e1b881-6fdb-4c17-86d2-c1fb6f9305f9"
      },
      "source": [
        "for line in fout:\n",
        "    line = line.strip()\n",
        "    print(line)"
      ],
      "execution_count": 81,
      "outputs": [
        {
          "output_type": "stream",
          "text": [
            "This is test line\n"
          ],
          "name": "stdout"
        }
      ]
    },
    {
      "cell_type": "markdown",
      "metadata": {
        "id": "RGXiwzP8GDZb",
        "colab_type": "text"
      },
      "source": [
        "Close the file when writting is done.\n"
      ]
    },
    {
      "cell_type": "code",
      "metadata": {
        "id": "s_44icSOHoLr",
        "colab_type": "code",
        "colab": {}
      },
      "source": [
        "fout.close()"
      ],
      "execution_count": 0,
      "outputs": []
    },
    {
      "cell_type": "markdown",
      "metadata": {
        "id": "PdhfHK4MGDci",
        "colab_type": "text"
      },
      "source": [
        "Spaces, tabs, and newlines can be treated as a string by using 'repr'"
      ]
    },
    {
      "cell_type": "code",
      "metadata": {
        "id": "f957gJw0Hxu-",
        "colab_type": "code",
        "colab": {
          "base_uri": "https://localhost:8080/",
          "height": 102
        },
        "outputId": "26ba03fa-635d-4dab-d05a-26372cd356eb"
      },
      "source": [
        "s='1 2\\t 3\\n 4'\n",
        "print(f'Without \"repr\":\\n{s}\\n')\n",
        "print(f'With \"repr\":{repr(s)}')"
      ],
      "execution_count": 89,
      "outputs": [
        {
          "output_type": "stream",
          "text": [
            "Without \"repr\":\n",
            "1 2\t 3\n",
            " 4\n",
            "\n",
            "With \"repr\":'1 2\\t 3\\n 4'\n"
          ],
          "name": "stdout"
        }
      ]
    },
    {
      "cell_type": "markdown",
      "metadata": {
        "id": "cUDxOWBtGDff",
        "colab_type": "text"
      },
      "source": [
        ""
      ]
    },
    {
      "cell_type": "markdown",
      "metadata": {
        "id": "SN-YLkOLnSgW",
        "colab_type": "text"
      },
      "source": [
        "## 8. List\n"
      ]
    },
    {
      "cell_type": "markdown",
      "metadata": {
        "id": "ufw58FzvPl_j",
        "colab_type": "text"
      },
      "source": [
        "A list is a sequence of values (elements/items). \n",
        "* In a string: values are characters\n",
        "* In a list: values can be any type\n",
        "\n",
        "Example: [10, 20, 30, 40]"
      ]
    },
    {
      "cell_type": "markdown",
      "metadata": {
        "id": "SSfUsGi3P-BR",
        "colab_type": "text"
      },
      "source": [
        "A list within another list is nested. A list that contains no elements is called an empty list.  \n",
        "Example: []  \n",
        "\n",
        "```\n",
        "['Spam', 2.0, 5, [10,20]]\n",
        "```\n",
        "Here, 'Spam' is string type; 2.0 is float type, 5 is integer; and [10,20] is a list\n",
        "\n"
      ]
    },
    {
      "cell_type": "markdown",
      "metadata": {
        "id": "8HJHJvCjRq_U",
        "colab_type": "text"
      },
      "source": [
        "len(): returns the number of elements in the list  \n",
        "range(): returns a list of indices from 0 to n-1"
      ]
    },
    {
      "cell_type": "markdown",
      "metadata": {
        "id": "eckqfRhlQz8e",
        "colab_type": "text"
      },
      "source": [
        "### Lists are mutable:"
      ]
    },
    {
      "cell_type": "code",
      "metadata": {
        "id": "CyT3tRV4PisM",
        "colab_type": "code",
        "outputId": "9912f6f8-79d1-45ef-b6a7-858a1c227ff5",
        "colab": {
          "base_uri": "https://localhost:8080/",
          "height": 34
        }
      },
      "source": [
        "# Define a list\n",
        "cheeses = ['cheddar', 'Edam' , 'Gouda']\n",
        "# assign a value to the list\n",
        "cheeses[0] = 'Cheddar'\n",
        "# call the lis\n",
        "cheeses"
      ],
      "execution_count": 0,
      "outputs": [
        {
          "output_type": "execute_result",
          "data": {
            "text/plain": [
              "['Cheddar', 'Edam', 'Gouda']"
            ]
          },
          "metadata": {
            "tags": []
          },
          "execution_count": 3
        }
      ]
    },
    {
      "cell_type": "markdown",
      "metadata": {
        "id": "iDpLRhxoRbUO",
        "colab_type": "text"
      },
      "source": [
        "### List operation"
      ]
    },
    {
      "cell_type": "code",
      "metadata": {
        "id": "8jYS8g68Pi4e",
        "colab_type": "code",
        "outputId": "598380af-7b7e-4997-f466-b026b2da0ed8",
        "colab": {
          "base_uri": "https://localhost:8080/",
          "height": 34
        }
      },
      "source": [
        "# Concatenation\n",
        "a=[1,2,3]\n",
        "b=[4,5,6]\n",
        "c=a+b\n",
        "print(c)"
      ],
      "execution_count": 0,
      "outputs": [
        {
          "output_type": "stream",
          "text": [
            "[1, 2, 3, 4, 5, 6]\n"
          ],
          "name": "stdout"
        }
      ]
    },
    {
      "cell_type": "code",
      "metadata": {
        "id": "N9KpennXR4T1",
        "colab_type": "code",
        "outputId": "8d0ce945-092c-4665-e534-30c41a466f0c",
        "colab": {
          "base_uri": "https://localhost:8080/",
          "height": 34
        }
      },
      "source": [
        "# Repetition\n",
        "[0]*4"
      ],
      "execution_count": 0,
      "outputs": [
        {
          "output_type": "execute_result",
          "data": {
            "text/plain": [
              "[0, 0, 0, 0]"
            ]
          },
          "metadata": {
            "tags": []
          },
          "execution_count": 5
        }
      ]
    },
    {
      "cell_type": "code",
      "metadata": {
        "id": "U3S7tPj8SNoC",
        "colab_type": "code",
        "outputId": "37ee5283-440f-4993-cb24-3e007da94446",
        "colab": {
          "base_uri": "https://localhost:8080/",
          "height": 34
        }
      },
      "source": [
        "# Repetition\n",
        "[1, 2, 3]* 3"
      ],
      "execution_count": 0,
      "outputs": [
        {
          "output_type": "execute_result",
          "data": {
            "text/plain": [
              "[1, 2, 3, 1, 2, 3, 1, 2, 3]"
            ]
          },
          "metadata": {
            "tags": []
          },
          "execution_count": 6
        }
      ]
    },
    {
      "cell_type": "code",
      "metadata": {
        "id": "C09MIWIUSpy2",
        "colab_type": "code",
        "outputId": "b84c981d-31b4-41ad-d192-1e18c2bba1f3",
        "colab": {
          "base_uri": "https://localhost:8080/",
          "height": 34
        }
      },
      "source": [
        "# Membership\n",
        "1 in [1,2,3]"
      ],
      "execution_count": 0,
      "outputs": [
        {
          "output_type": "execute_result",
          "data": {
            "text/plain": [
              "True"
            ]
          },
          "metadata": {
            "tags": []
          },
          "execution_count": 7
        }
      ]
    },
    {
      "cell_type": "code",
      "metadata": {
        "id": "avrinJmXSuce",
        "colab_type": "code",
        "outputId": "030979b1-e40c-48c8-eaff-ba28fd9ec66f",
        "colab": {
          "base_uri": "https://localhost:8080/",
          "height": 70
        }
      },
      "source": [
        "# Iteration\n",
        "for x in [1, 2, 3]: \n",
        "    print(x)"
      ],
      "execution_count": 0,
      "outputs": [
        {
          "output_type": "stream",
          "text": [
            "1\n",
            "2\n",
            "3\n"
          ],
          "name": "stdout"
        }
      ]
    },
    {
      "cell_type": "code",
      "metadata": {
        "id": "gtrzrCPTSyQx",
        "colab_type": "code",
        "outputId": "7733cd3d-138d-4961-ccbf-8a4b98f3bd32",
        "colab": {
          "base_uri": "https://localhost:8080/",
          "height": 34
        }
      },
      "source": [
        "# Length\n",
        "len([1, 2, 3])"
      ],
      "execution_count": 0,
      "outputs": [
        {
          "output_type": "execute_result",
          "data": {
            "text/plain": [
              "3"
            ]
          },
          "metadata": {
            "tags": []
          },
          "execution_count": 9
        }
      ]
    },
    {
      "cell_type": "markdown",
      "metadata": {
        "id": "nDt3Qck0TLFm",
        "colab_type": "text"
      },
      "source": [
        "### List slices"
      ]
    },
    {
      "cell_type": "code",
      "metadata": {
        "id": "Cw_DqBs8TOJe",
        "colab_type": "code",
        "colab": {}
      },
      "source": [
        "t = ['a', 'b', 'c', 'd', 'e', 'f']"
      ],
      "execution_count": 0,
      "outputs": []
    },
    {
      "cell_type": "code",
      "metadata": {
        "id": "BNLs0BsDTOOd",
        "colab_type": "code",
        "outputId": "8bf6b0ea-acc7-4fe2-9dc6-a8955b953f6b",
        "colab": {
          "base_uri": "https://localhost:8080/",
          "height": 34
        }
      },
      "source": [
        "t[1:3]"
      ],
      "execution_count": 0,
      "outputs": [
        {
          "output_type": "execute_result",
          "data": {
            "text/plain": [
              "['b', 'c']"
            ]
          },
          "metadata": {
            "tags": []
          },
          "execution_count": 13
        }
      ]
    },
    {
      "cell_type": "code",
      "metadata": {
        "id": "mGLp0umXTOeg",
        "colab_type": "code",
        "outputId": "0bd3a05e-7a02-4726-ee6c-bce9e6d5a96e",
        "colab": {
          "base_uri": "https://localhost:8080/",
          "height": 34
        }
      },
      "source": [
        "t[:4]\n"
      ],
      "execution_count": 0,
      "outputs": [
        {
          "output_type": "execute_result",
          "data": {
            "text/plain": [
              "['a', 'b', 'c', 'd']"
            ]
          },
          "metadata": {
            "tags": []
          },
          "execution_count": 14
        }
      ]
    },
    {
      "cell_type": "code",
      "metadata": {
        "id": "zBwLrmd7TOir",
        "colab_type": "code",
        "outputId": "26fdf19e-fb8f-41b0-e2e8-3e9e58c73ef6",
        "colab": {
          "base_uri": "https://localhost:8080/",
          "height": 34
        }
      },
      "source": [
        "t[:]"
      ],
      "execution_count": 0,
      "outputs": [
        {
          "output_type": "execute_result",
          "data": {
            "text/plain": [
              "['a', 'b', 'c', 'd', 'e', 'f']"
            ]
          },
          "metadata": {
            "tags": []
          },
          "execution_count": 15
        }
      ]
    },
    {
      "cell_type": "code",
      "metadata": {
        "id": "JJaBQrY-T2xP",
        "colab_type": "code",
        "outputId": "f9db293b-f382-4686-844e-2d5ab203ca85",
        "colab": {
          "base_uri": "https://localhost:8080/",
          "height": 34
        }
      },
      "source": [
        "t[-1]"
      ],
      "execution_count": 0,
      "outputs": [
        {
          "output_type": "execute_result",
          "data": {
            "text/plain": [
              "'f'"
            ]
          },
          "metadata": {
            "tags": []
          },
          "execution_count": 16
        }
      ]
    },
    {
      "cell_type": "code",
      "metadata": {
        "id": "g2bK6ZlZT3Yg",
        "colab_type": "code",
        "outputId": "d839a4e7-60cd-4fde-c8f4-10ec5b00f995",
        "colab": {
          "base_uri": "https://localhost:8080/",
          "height": 34
        }
      },
      "source": [
        "t[:-1]"
      ],
      "execution_count": 0,
      "outputs": [
        {
          "output_type": "execute_result",
          "data": {
            "text/plain": [
              "['a', 'b', 'c', 'd', 'e']"
            ]
          },
          "metadata": {
            "tags": []
          },
          "execution_count": 17
        }
      ]
    },
    {
      "cell_type": "code",
      "metadata": {
        "id": "WLGDzylGT9f2",
        "colab_type": "code",
        "outputId": "95e13027-112b-46bc-f599-bb0bfb8f6116",
        "colab": {
          "base_uri": "https://localhost:8080/",
          "height": 34
        }
      },
      "source": [
        "t[1:3]=['x','y']\n",
        "t"
      ],
      "execution_count": 0,
      "outputs": [
        {
          "output_type": "execute_result",
          "data": {
            "text/plain": [
              "['a', 'x', 'y', 'd', 'e', 'f']"
            ]
          },
          "metadata": {
            "tags": []
          },
          "execution_count": 18
        }
      ]
    },
    {
      "cell_type": "markdown",
      "metadata": {
        "id": "X-i6scVBUDVr",
        "colab_type": "text"
      },
      "source": [
        "### List methods\n",
        "1. append\n",
        "2. extend\n",
        "3. sort"
      ]
    },
    {
      "cell_type": "code",
      "metadata": {
        "id": "xf0gdOemWB9a",
        "colab_type": "code",
        "outputId": "865602e4-e25c-439a-95dd-7b05a03d48f6",
        "colab": {
          "base_uri": "https://localhost:8080/",
          "height": 34
        }
      },
      "source": [
        "# append\n",
        "t = ['a', 'b', 'c']\n",
        "t.append(['d','e'])\n",
        "print(t)"
      ],
      "execution_count": 0,
      "outputs": [
        {
          "output_type": "stream",
          "text": [
            "['a', 'b', 'c', ['d', 'e']]\n"
          ],
          "name": "stdout"
        }
      ]
    },
    {
      "cell_type": "code",
      "metadata": {
        "id": "2L7qlOQjW_OT",
        "colab_type": "code",
        "outputId": "537349e7-b4ad-442a-e3d5-0d5ee8b3e89a",
        "colab": {
          "base_uri": "https://localhost:8080/",
          "height": 34
        }
      },
      "source": [
        "# extend\n",
        "t1 = ['a', 'b', 'c']\n",
        "t2= ['d','e']\n",
        "t1.extend(t2)\n",
        "print(t1)"
      ],
      "execution_count": 0,
      "outputs": [
        {
          "output_type": "stream",
          "text": [
            "['a', 'b', 'c', 'd', 'e']\n"
          ],
          "name": "stdout"
        }
      ]
    },
    {
      "cell_type": "markdown",
      "metadata": {
        "id": "DaWkVi3JXOud",
        "colab_type": "text"
      },
      "source": [
        "This method leaves t2 unmodified."
      ]
    },
    {
      "cell_type": "code",
      "metadata": {
        "id": "ads924sVXSvv",
        "colab_type": "code",
        "outputId": "cc603893-a685-4cc0-8d1c-d41447feeff3",
        "colab": {
          "base_uri": "https://localhost:8080/",
          "height": 34
        }
      },
      "source": [
        "# sort\n",
        "t=['a', 'd', 'e', 'b', 'c', 'f']\n",
        "t.sort()\n",
        "print(t)"
      ],
      "execution_count": 0,
      "outputs": [
        {
          "output_type": "stream",
          "text": [
            "['a', 'b', 'c', 'd', 'e', 'f']\n"
          ],
          "name": "stdout"
        }
      ]
    },
    {
      "cell_type": "markdown",
      "metadata": {
        "id": "x6T3yrBSXgNi",
        "colab_type": "text"
      },
      "source": [
        "DONT USE t=t.sort() ! It will return \"NONE\" !! "
      ]
    },
    {
      "cell_type": "markdown",
      "metadata": {
        "colab_type": "text",
        "id": "QzrQSO_YYX6p"
      },
      "source": [
        "### Deleting elements\n",
        "1. pop    - can save the deleted value\n",
        "2. del    - Don't need the removed value and know index \n",
        "3. remove - know elem,ent but not index"
      ]
    },
    {
      "cell_type": "code",
      "metadata": {
        "id": "w4eVOjoUX0G_",
        "colab_type": "code",
        "outputId": "27863235-cf32-4b8a-c0bc-5bd532399ad2",
        "colab": {
          "base_uri": "https://localhost:8080/",
          "height": 52
        }
      },
      "source": [
        "# pop\n",
        "t = ['a', 'b', 'c']\n",
        "x=t.pop(1)\n",
        "print(f't: {t}')\n",
        "print(f'x: {x}')"
      ],
      "execution_count": 0,
      "outputs": [
        {
          "output_type": "stream",
          "text": [
            "t: ['a', 'c']\n",
            "x: b\n"
          ],
          "name": "stdout"
        }
      ]
    },
    {
      "cell_type": "code",
      "metadata": {
        "id": "ODLPSsGAX19N",
        "colab_type": "code",
        "outputId": "92c22671-e3f4-4f49-f3c7-2c855d458161",
        "colab": {
          "base_uri": "https://localhost:8080/",
          "height": 34
        }
      },
      "source": [
        "# del\n",
        "t = ['a', 'b', 'c']\n",
        "del t[1:3]\n",
        "print(t)"
      ],
      "execution_count": 0,
      "outputs": [
        {
          "output_type": "stream",
          "text": [
            "['a']\n"
          ],
          "name": "stdout"
        }
      ]
    },
    {
      "cell_type": "code",
      "metadata": {
        "id": "jaHxIrpIX26w",
        "colab_type": "code",
        "outputId": "6d1f5178-b553-4cef-a40e-a04da4bbcd27",
        "colab": {
          "base_uri": "https://localhost:8080/",
          "height": 34
        }
      },
      "source": [
        "# remove\n",
        "t = ['a', 'b', 'c']\n",
        "t.remove('b')\n",
        "print(t)"
      ],
      "execution_count": 0,
      "outputs": [
        {
          "output_type": "stream",
          "text": [
            "['a', 'c']\n"
          ],
          "name": "stdout"
        }
      ]
    },
    {
      "cell_type": "markdown",
      "metadata": {
        "id": "kH3MhrxFZFQL",
        "colab_type": "text"
      },
      "source": [
        "* sum() can only be used when the elements are numbers\n",
        "* max(), len(), etc, can be used with lists of strings and other types"
      ]
    },
    {
      "cell_type": "code",
      "metadata": {
        "id": "05umlasKZYM9",
        "colab_type": "code",
        "outputId": "69e51935-3647-4b95-b091-cbc5ffc8ebe5",
        "colab": {
          "base_uri": "https://localhost:8080/",
          "height": 141
        }
      },
      "source": [
        "numlist = list()\n",
        "while True:\n",
        "    inp = input('Enter a number:')\n",
        "    if inp == 'done':\n",
        "        break\n",
        "    value = float(inp)\n",
        "    numlist.append(value)\n",
        "    average = sum(numlist)/len(numlist)\n",
        "    print(f'Average: {average}')"
      ],
      "execution_count": 0,
      "outputs": [
        {
          "output_type": "stream",
          "text": [
            "Enter a number:10\n",
            "Average: 10.0\n",
            "Enter a number:85\n",
            "Average: 47.5\n",
            "Enter a number:2\n",
            "Average: 32.333333333333336\n",
            "Enter a number:done\n"
          ],
          "name": "stdout"
        }
      ]
    },
    {
      "cell_type": "markdown",
      "metadata": {
        "id": "2r1ASoOoZTnA",
        "colab_type": "text"
      },
      "source": [
        "### Lists and strings\n"
      ]
    },
    {
      "cell_type": "markdown",
      "metadata": {
        "id": "vivW8nt52hIu",
        "colab_type": "text"
      },
      "source": [
        "#### Convert a string to a list of char:\n",
        "1. list\n",
        "2. split"
      ]
    },
    {
      "cell_type": "code",
      "metadata": {
        "id": "4hsMEbBO1Prj",
        "colab_type": "code",
        "colab": {
          "base_uri": "https://localhost:8080/",
          "height": 34
        },
        "outputId": "5fd6fc3b-404f-46e2-d21d-8ed8b6038d78"
      },
      "source": [
        "# list - break a string into individual letters\n",
        "s='spam'\n",
        "t=list(s)\n",
        "print(t)"
      ],
      "execution_count": 1,
      "outputs": [
        {
          "output_type": "stream",
          "text": [
            "['s', 'p', 'a', 'm']\n"
          ],
          "name": "stdout"
        }
      ]
    },
    {
      "cell_type": "code",
      "metadata": {
        "id": "2boaYEct1i09",
        "colab_type": "code",
        "colab": {
          "base_uri": "https://localhost:8080/",
          "height": 34
        },
        "outputId": "63bb229c-3e6b-4d68-9b94-b828009c672a"
      },
      "source": [
        "# split - break a string into words\n",
        "s = \"printing      for the    frog\"\n",
        "t=s.split()  #- In default, it will split all the words on varies of white spaces\n",
        "print(t)"
      ],
      "execution_count": 6,
      "outputs": [
        {
          "output_type": "stream",
          "text": [
            "['printing', 'for', 'the', 'frog']\n"
          ],
          "name": "stdout"
        }
      ]
    },
    {
      "cell_type": "code",
      "metadata": {
        "id": "eSMgfG5U1jCG",
        "colab_type": "code",
        "colab": {
          "base_uri": "https://localhost:8080/",
          "height": 34
        },
        "outputId": "52b92d4f-5983-4c6a-fa73-9a25614899ab"
      },
      "source": [
        "print(t[3])"
      ],
      "execution_count": 8,
      "outputs": [
        {
          "output_type": "stream",
          "text": [
            "frog\n"
          ],
          "name": "stdout"
        }
      ]
    },
    {
      "cell_type": "code",
      "metadata": {
        "id": "Y6qgui_x2Sam",
        "colab_type": "code",
        "colab": {
          "base_uri": "https://localhost:8080/",
          "height": 34
        },
        "outputId": "0a83be6f-a7b2-41d1-e8e0-34853d552f19"
      },
      "source": [
        "# split - with delimiter\n",
        "s='spam-spam-spam'\n",
        "delimiter = '-'\n",
        "s.split(delimiter)"
      ],
      "execution_count": 9,
      "outputs": [
        {
          "output_type": "execute_result",
          "data": {
            "text/plain": [
              "['spam', 'spam', 'spam']"
            ]
          },
          "metadata": {
            "tags": []
          },
          "execution_count": 9
        }
      ]
    },
    {
      "cell_type": "markdown",
      "metadata": {
        "id": "95YTkrzb2jHW",
        "colab_type": "text"
      },
      "source": [
        "#### Take a list of strings and concatenates the elements:\n",
        "* join"
      ]
    },
    {
      "cell_type": "code",
      "metadata": {
        "id": "qLTfaABL2tTu",
        "colab_type": "code",
        "colab": {
          "base_uri": "https://localhost:8080/",
          "height": 34
        },
        "outputId": "ddf0d39d-1134-4615-876e-d2f4cb1bb5f6"
      },
      "source": [
        "# delimiter as a whitespace\n",
        "t=['printing', 'for', 'the', 'frog']\n",
        "delimiter=' '\n",
        "delimiter.join(t)"
      ],
      "execution_count": 11,
      "outputs": [
        {
          "output_type": "execute_result",
          "data": {
            "text/plain": [
              "'printing for the frog'"
            ]
          },
          "metadata": {
            "tags": []
          },
          "execution_count": 11
        }
      ]
    },
    {
      "cell_type": "code",
      "metadata": {
        "id": "g9xfwLAX2taU",
        "colab_type": "code",
        "colab": {
          "base_uri": "https://localhost:8080/",
          "height": 34
        },
        "outputId": "5eb88aab-2272-4f8e-971d-2350e510c6fa"
      },
      "source": [
        "# delimiter as None\n",
        "t=['printing', 'for', 'the', 'frog']\n",
        "delimiter=''\n",
        "delimiter.join(t)"
      ],
      "execution_count": 12,
      "outputs": [
        {
          "output_type": "execute_result",
          "data": {
            "text/plain": [
              "'printingforthefrog'"
            ]
          },
          "metadata": {
            "tags": []
          },
          "execution_count": 12
        }
      ]
    },
    {
      "cell_type": "markdown",
      "metadata": {
        "id": "Hx5WgLOA3Eix",
        "colab_type": "text"
      },
      "source": [
        "### Parsing lines\n",
        "* If two list are equivalent, they are not necessarily identical.\n",
        "* If two list are identical, they are also equivalent."
      ]
    },
    {
      "cell_type": "markdown",
      "metadata": {
        "id": "zAhOjST33Uw3",
        "colab_type": "text"
      },
      "source": [
        "### Aliasing"
      ]
    },
    {
      "cell_type": "code",
      "metadata": {
        "id": "xypzu-6k2tf8",
        "colab_type": "code",
        "colab": {
          "base_uri": "https://localhost:8080/",
          "height": 34
        },
        "outputId": "31e7fc16-1395-4727-82ff-68c44ce40e83"
      },
      "source": [
        "a=[1,2,3]\n",
        "b = a\n",
        "b is a "
      ],
      "execution_count": 13,
      "outputs": [
        {
          "output_type": "execute_result",
          "data": {
            "text/plain": [
              "True"
            ]
          },
          "metadata": {
            "tags": []
          },
          "execution_count": 13
        }
      ]
    },
    {
      "cell_type": "markdown",
      "metadata": {
        "id": "jw6yzrDq3laP",
        "colab_type": "text"
      },
      "source": [
        "Now, b is refering a.\n",
        "When b is changed, a is also changed."
      ]
    },
    {
      "cell_type": "code",
      "metadata": {
        "id": "LMh1tRwL3dtj",
        "colab_type": "code",
        "colab": {
          "base_uri": "https://localhost:8080/",
          "height": 34
        },
        "outputId": "9d8da15a-30d5-4757-c071-f459424a95c8"
      },
      "source": [
        "b[0] = 17\n",
        "print(a)"
      ],
      "execution_count": 14,
      "outputs": [
        {
          "output_type": "stream",
          "text": [
            "[17, 2, 3]\n"
          ],
          "name": "stdout"
        }
      ]
    },
    {
      "cell_type": "markdown",
      "metadata": {
        "id": "3lLEorcp3vtO",
        "colab_type": "text"
      },
      "source": [
        "In general, it is safter to avoid aliasing when you are working withmutable objects."
      ]
    },
    {
      "cell_type": "markdown",
      "metadata": {
        "id": "u0FoTkvvoWRO",
        "colab_type": "text"
      },
      "source": [
        "## 9. Dictionaries\n",
        "* A dictionary is like a list\n",
        "* The indices of a dictionary can be any type"
      ]
    },
    {
      "cell_type": "markdown",
      "metadata": {
        "id": "gt1mEn3-Q01S",
        "colab_type": "text"
      },
      "source": [
        "**Dictionary**: A mapping between a set of indices (which are called keys) and a set of values  \n",
        "\n",
        "**Key-value pair**: the associationi of a key and a value  "
      ]
    },
    {
      "cell_type": "code",
      "metadata": {
        "id": "3iVx_IXnT8za",
        "colab_type": "code",
        "colab": {
          "base_uri": "https://localhost:8080/",
          "height": 34
        },
        "outputId": "a464d74d-e65f-4726-a4df-f1f3f5f44a04"
      },
      "source": [
        "adict=dict()\n",
        "print(adict)"
      ],
      "execution_count": 115,
      "outputs": [
        {
          "output_type": "stream",
          "text": [
            "{}\n"
          ],
          "name": "stdout"
        }
      ]
    },
    {
      "cell_type": "markdown",
      "metadata": {
        "id": "cScMnAj-RRl0",
        "colab_type": "text"
      },
      "source": [
        "The curly breakets, {}, represent an empty dictionary.  \n",
        "To add items to the dictionary, use square brackets:\n"
      ]
    },
    {
      "cell_type": "code",
      "metadata": {
        "id": "0AsNXeewkf-v",
        "colab_type": "code",
        "colab": {}
      },
      "source": [
        "# add a key value pair: 'one':'uno'\n",
        "adict['one']='uno'"
      ],
      "execution_count": 0,
      "outputs": []
    },
    {
      "cell_type": "markdown",
      "metadata": {
        "id": "8M0HVS1ERtKx",
        "colab_type": "text"
      },
      "source": [
        "The order of items in a dictionary isunpredictable."
      ]
    },
    {
      "cell_type": "code",
      "metadata": {
        "id": "2izpe_GRRzG0",
        "colab_type": "code",
        "colab": {
          "base_uri": "https://localhost:8080/",
          "height": 34
        },
        "outputId": "2da35c81-1f1a-46c3-f596-a00423b0a313"
      },
      "source": [
        "adict={'one':'uno', 'two':'dos', 'three':'tres', 'a':'wha'}\n",
        "print(adict)\n"
      ],
      "execution_count": 118,
      "outputs": [
        {
          "output_type": "stream",
          "text": [
            "{'one': 'uno', 'two': 'dos', 'three': 'tres', 'a': 'wha'}\n"
          ],
          "name": "stdout"
        }
      ]
    },
    {
      "cell_type": "markdown",
      "metadata": {
        "id": "ZQwVLdTeSYbD",
        "colab_type": "text"
      },
      "source": [
        "Look up the corresponding values by keys:"
      ]
    },
    {
      "cell_type": "code",
      "metadata": {
        "id": "8pwGwQOPSb6M",
        "colab_type": "code",
        "colab": {
          "base_uri": "https://localhost:8080/",
          "height": 34
        },
        "outputId": "6507a89d-9aa0-4a37-f360-1369f6b8342b"
      },
      "source": [
        "print(adict['a'])"
      ],
      "execution_count": 119,
      "outputs": [
        {
          "output_type": "stream",
          "text": [
            "wha\n"
          ],
          "name": "stdout"
        }
      ]
    },
    {
      "cell_type": "markdown",
      "metadata": {
        "id": "svvpa6VeShR3",
        "colab_type": "text"
      },
      "source": [
        "The len function works on dictionaries; it returns the number of key value pairs"
      ]
    },
    {
      "cell_type": "code",
      "metadata": {
        "id": "evpMZKBPScD6",
        "colab_type": "code",
        "colab": {
          "base_uri": "https://localhost:8080/",
          "height": 34
        },
        "outputId": "be395695-3143-4423-b74d-92804c4e7d9d"
      },
      "source": [
        "len(adict)"
      ],
      "execution_count": 120,
      "outputs": [
        {
          "output_type": "execute_result",
          "data": {
            "text/plain": [
              "4"
            ]
          },
          "metadata": {
            "tags": []
          },
          "execution_count": 120
        }
      ]
    },
    {
      "cell_type": "markdown",
      "metadata": {
        "id": "px1Iq9ieSqMj",
        "colab_type": "text"
      },
      "source": [
        "The \"in\" operator works on dictionaries; it tells you whether something appears as a key in the dictionary."
      ]
    },
    {
      "cell_type": "code",
      "metadata": {
        "id": "xD2dhg9VScCq",
        "colab_type": "code",
        "colab": {
          "base_uri": "https://localhost:8080/",
          "height": 34
        },
        "outputId": "1b874c56-2378-4866-9bcd-e1c19d5ca371"
      },
      "source": [
        "# works with key\n",
        "'one' in adict"
      ],
      "execution_count": 123,
      "outputs": [
        {
          "output_type": "execute_result",
          "data": {
            "text/plain": [
              "True"
            ]
          },
          "metadata": {
            "tags": []
          },
          "execution_count": 123
        }
      ]
    },
    {
      "cell_type": "code",
      "metadata": {
        "id": "mv2_4cz4S5Lr",
        "colab_type": "code",
        "colab": {
          "base_uri": "https://localhost:8080/",
          "height": 34
        },
        "outputId": "e5035c89-2ef9-4cf6-e0bf-7541e8ff382a"
      },
      "source": [
        "# does not work with value\n",
        "'uno' in adict"
      ],
      "execution_count": 124,
      "outputs": [
        {
          "output_type": "execute_result",
          "data": {
            "text/plain": [
              "False"
            ]
          },
          "metadata": {
            "tags": []
          },
          "execution_count": 124
        }
      ]
    },
    {
      "cell_type": "markdown",
      "metadata": {
        "id": "O-8NjTzGS282",
        "colab_type": "text"
      },
      "source": [
        "Use 'values' to see whether somehing appears as a value in a dictionary"
      ]
    },
    {
      "cell_type": "code",
      "metadata": {
        "id": "i_To5QEOTJvx",
        "colab_type": "code",
        "colab": {
          "base_uri": "https://localhost:8080/",
          "height": 34
        },
        "outputId": "f9672582-2a4f-4763-d5a8-8e2baf5cd1c7"
      },
      "source": [
        "vals = list(adict.values())\n",
        "'uno' in vals"
      ],
      "execution_count": 126,
      "outputs": [
        {
          "output_type": "execute_result",
          "data": {
            "text/plain": [
              "True"
            ]
          },
          "metadata": {
            "tags": []
          },
          "execution_count": 126
        }
      ]
    },
    {
      "cell_type": "markdown",
      "metadata": {
        "id": "lWdMJa6bTJDJ",
        "colab_type": "text"
      },
      "source": [
        "### Dictionary as a set of counters"
      ]
    },
    {
      "cell_type": "code",
      "metadata": {
        "id": "AAypyLD6Tfte",
        "colab_type": "code",
        "colab": {
          "base_uri": "https://localhost:8080/",
          "height": 34
        },
        "outputId": "d446a4fb-c12c-439f-9081-9a7116caefa1"
      },
      "source": [
        "word = 'brontosaurus'\n",
        "d = dict()\n",
        "for c in word:\n",
        "    if c not in d:\n",
        "        d[c] = 1\n",
        "    else:\n",
        "        d[c]= d[c] + 1\n",
        "print(d)"
      ],
      "execution_count": 127,
      "outputs": [
        {
          "output_type": "stream",
          "text": [
            "{'b': 1, 'r': 2, 'o': 2, 'n': 1, 't': 1, 's': 2, 'a': 1, 'u': 2}\n"
          ],
          "name": "stdout"
        }
      ]
    },
    {
      "cell_type": "markdown",
      "metadata": {
        "id": "RzD9baBdS3OC",
        "colab_type": "text"
      },
      "source": [
        "### get\n",
        "It takes a key and a default value. If the key appears in the dictionary. 'get' returns the corresponding value; otherwise it returns the default value."
      ]
    },
    {
      "cell_type": "code",
      "metadata": {
        "id": "jZQGFgmPUB8l",
        "colab_type": "code",
        "colab": {
          "base_uri": "https://localhost:8080/",
          "height": 34
        },
        "outputId": "25a1c72a-0c0f-4ece-c60e-25e667cbc91e"
      },
      "source": [
        "counts = {'chuck':1, 'annie':42, 'jan':100}\n",
        "print(counts.get('jan'))"
      ],
      "execution_count": 129,
      "outputs": [
        {
          "output_type": "stream",
          "text": [
            "100\n"
          ],
          "name": "stdout"
        }
      ]
    },
    {
      "cell_type": "code",
      "metadata": {
        "id": "uw2q5I1ES3fB",
        "colab_type": "code",
        "colab": {
          "base_uri": "https://localhost:8080/",
          "height": 34
        },
        "outputId": "b144de43-287a-4b48-9a9e-87756b9df872"
      },
      "source": [
        "print(counts.get('tim'))"
      ],
      "execution_count": 131,
      "outputs": [
        {
          "output_type": "stream",
          "text": [
            "None\n"
          ],
          "name": "stdout"
        }
      ]
    },
    {
      "cell_type": "markdown",
      "metadata": {
        "id": "4vPjK0IAS3bR",
        "colab_type": "text"
      },
      "source": [
        "Write a histogram loop"
      ]
    },
    {
      "cell_type": "code",
      "metadata": {
        "id": "FN4RFiWrS3T4",
        "colab_type": "code",
        "colab": {
          "base_uri": "https://localhost:8080/",
          "height": 34
        },
        "outputId": "a382f9ec-2ff6-44d5-8439-8d41082e79a1"
      },
      "source": [
        "word = 'brontosaurus'\n",
        "d = dict()\n",
        "for c in word:\n",
        "    # get(c,0): if there is not key in the dictionary, return 0\n",
        "    d[c]=d.get(c,0)+1\n",
        "print(d)"
      ],
      "execution_count": 133,
      "outputs": [
        {
          "output_type": "stream",
          "text": [
            "{'b': 1, 'r': 2, 'o': 2, 'n': 1, 't': 1, 's': 2, 'a': 1, 'u': 2}\n"
          ],
          "name": "stdout"
        }
      ]
    },
    {
      "cell_type": "markdown",
      "metadata": {
        "id": "eHVlHivbU-hY",
        "colab_type": "text"
      },
      "source": [
        "### Dictionaries and files"
      ]
    },
    {
      "cell_type": "code",
      "metadata": {
        "id": "59i2WKOpS3F0",
        "colab_type": "code",
        "colab": {}
      },
      "source": [
        "fname = input('Enter the file name:')\n",
        "try:\n",
        "    fhand=open(fname)\n",
        "except:\n",
        "    print('File cannot be opend:', fname)\n",
        "    exit()\n",
        "counts = dict()\n",
        "for line in fhand:\n",
        "    words=line.split()\n",
        "    for word in words:\n",
        "        if word not in counts:\n",
        "            count[word]=1\n",
        "        else:\n",
        "            counts[word]+=1\n",
        "print(counts)"
      ],
      "execution_count": 0,
      "outputs": []
    },
    {
      "cell_type": "markdown",
      "metadata": {
        "id": "nGzWEvvhVgSo",
        "colab_type": "text"
      },
      "source": [
        "### Looping and dictionaries"
      ]
    },
    {
      "cell_type": "code",
      "metadata": {
        "id": "OrfXxipPVjbc",
        "colab_type": "code",
        "colab": {
          "base_uri": "https://localhost:8080/",
          "height": 68
        },
        "outputId": "6122f0aa-f51f-4157-ae4f-991ba55ec7b8"
      },
      "source": [
        "counts = {'chuck':1, 'annie':42, 'jan':100}\n",
        "for key in counts:\n",
        "    print(key, counts[key])"
      ],
      "execution_count": 134,
      "outputs": [
        {
          "output_type": "stream",
          "text": [
            "chuck 1\n",
            "annie 42\n",
            "jan 100\n"
          ],
          "name": "stdout"
        }
      ]
    },
    {
      "cell_type": "markdown",
      "metadata": {
        "id": "NSKcB7-7VwGK",
        "colab_type": "text"
      },
      "source": [
        "### Using pattern"
      ]
    },
    {
      "cell_type": "code",
      "metadata": {
        "id": "B-qVdonGVx4T",
        "colab_type": "code",
        "colab": {
          "base_uri": "https://localhost:8080/",
          "height": 51
        },
        "outputId": "de9e2f44-d38b-46cd-eabf-74f5accefef8"
      },
      "source": [
        "counts = {'chuck':1, 'annie':42, 'jan':100}\n",
        "for key in counts:\n",
        "    if counts[key]>10:\n",
        "        print(key, counts[key])"
      ],
      "execution_count": 135,
      "outputs": [
        {
          "output_type": "stream",
          "text": [
            "annie 42\n",
            "jan 100\n"
          ],
          "name": "stdout"
        }
      ]
    },
    {
      "cell_type": "markdown",
      "metadata": {
        "id": "NhEmOJd-V9Sd",
        "colab_type": "text"
      },
      "source": [
        "### Make the keys in alphabetical order"
      ]
    },
    {
      "cell_type": "code",
      "metadata": {
        "id": "rMbRSJBvV9cP",
        "colab_type": "code",
        "colab": {
          "base_uri": "https://localhost:8080/",
          "height": 85
        },
        "outputId": "dea958be-3c4a-4add-a871-987f02a6dda4"
      },
      "source": [
        "counts = {'chuck':1, 'annie':42, 'jan':100}\n",
        "\n",
        "lst = list(counts.keys())\n",
        "print(lst)\n",
        "lst.sort()\n",
        "for key in lst:\n",
        "    print(key, counts[key])"
      ],
      "execution_count": 136,
      "outputs": [
        {
          "output_type": "stream",
          "text": [
            "['chuck', 'annie', 'jan']\n",
            "annie 42\n",
            "chuck 1\n",
            "jan 100\n"
          ],
          "name": "stdout"
        }
      ]
    },
    {
      "cell_type": "markdown",
      "metadata": {
        "id": "qYq7i2C-WN54",
        "colab_type": "text"
      },
      "source": [
        "### Advanced text parsing (with punctuation)\n",
        "1. string method:\n",
        "    * lower\n",
        "    * punctuation\n",
        "    * translate\n",
        "2. fromstr\n",
        "    * replace the characters\n",
        "3. tostr\n",
        "    * with the character in the same position\n",
        "4. deletstr\n",
        "    * delete all charactors"
      ]
    },
    {
      "cell_type": "code",
      "metadata": {
        "id": "v2F7xiWCWo6m",
        "colab_type": "code",
        "colab": {}
      },
      "source": [
        "import string"
      ],
      "execution_count": 0,
      "outputs": []
    },
    {
      "cell_type": "code",
      "metadata": {
        "id": "HrsbiznAWo4l",
        "colab_type": "code",
        "colab": {
          "base_uri": "https://localhost:8080/",
          "height": 34
        },
        "outputId": "c0352e53-736f-45ed-8dc4-8dae8def79c9"
      },
      "source": [
        "string.punctuation"
      ],
      "execution_count": 138,
      "outputs": [
        {
          "output_type": "execute_result",
          "data": {
            "text/plain": [
              "'!\"#$%&\\'()*+,-./:;<=>?@[\\\\]^_`{|}~'"
            ]
          },
          "metadata": {
            "tags": []
          },
          "execution_count": 138
        }
      ]
    },
    {
      "cell_type": "markdown",
      "metadata": {
        "id": "--muyrmcWznv",
        "colab_type": "text"
      },
      "source": [
        "To remove punctuation of a text:"
      ]
    },
    {
      "cell_type": "code",
      "metadata": {
        "id": "BEQRBWPUWozt",
        "colab_type": "code",
        "colab": {}
      },
      "source": [
        "fname = input('Enter the file name:')\n",
        "try:\n",
        "    fhand=open(fname)\n",
        "except:\n",
        "    print('File cannot be opend:', fname)\n",
        "    exit()\n",
        "counts = dict()\n",
        "for line in fhand:\n",
        "    line = line.translate(line.maketrans(' ','',string.punctuation))\n",
        "    line=line.lower()\n",
        "    words=line.split()\n",
        "    for word in words:\n",
        "        if word not in counts:\n",
        "            count[word]=1\n",
        "        else:\n",
        "            counts[word]+=1\n",
        "print(counts)"
      ],
      "execution_count": 0,
      "outputs": []
    },
    {
      "cell_type": "markdown",
      "metadata": {
        "id": "Nfx7x9uHobTq",
        "colab_type": "text"
      },
      "source": [
        "## 10. Tuples\n",
        "A tuple is a sequence of values much like a list.  \n",
        "THe values stored in a tuple can be any type and they are indexed by integers.\n",
        "\n",
        "* tuples are immutable\n",
        "* tuples are also comparable and hashable\n",
        "* tuples can be sorted and be used as key alues in Python dictionaries\n",
        "* tuple is a comma-separated list of values"
      ]
    },
    {
      "cell_type": "code",
      "metadata": {
        "id": "IbZzaqFsogD5",
        "colab_type": "code",
        "colab": {
          "base_uri": "https://localhost:8080/",
          "height": 34
        },
        "outputId": "1e47ede5-caf3-4166-b17c-afc304dc7e02"
      },
      "source": [
        "t = 'a', 'b', 'c', 'd', 'e'\n",
        "t"
      ],
      "execution_count": 139,
      "outputs": [
        {
          "output_type": "execute_result",
          "data": {
            "text/plain": [
              "('a', 'b', 'c', 'd', 'e')"
            ]
          },
          "metadata": {
            "tags": []
          },
          "execution_count": 139
        }
      ]
    },
    {
      "cell_type": "code",
      "metadata": {
        "id": "kRAoEHiSuz2U",
        "colab_type": "code",
        "colab": {
          "base_uri": "https://localhost:8080/",
          "height": 34
        },
        "outputId": "dc23e765-5f8c-4494-f30b-77160f44f03b"
      },
      "source": [
        "t = ('a', 'b', 'c', 'd', 'e')\n",
        "t"
      ],
      "execution_count": 140,
      "outputs": [
        {
          "output_type": "execute_result",
          "data": {
            "text/plain": [
              "('a', 'b', 'c', 'd', 'e')"
            ]
          },
          "metadata": {
            "tags": []
          },
          "execution_count": 140
        }
      ]
    },
    {
      "cell_type": "markdown",
      "metadata": {
        "id": "k7Hmu9iYwgU1",
        "colab_type": "text"
      },
      "source": [
        "To create a tuple with a single element, a final comma must be included. Otherwise, python will treats ('a') as an expression with a string"
      ]
    },
    {
      "cell_type": "code",
      "metadata": {
        "id": "y0evymZhu3ua",
        "colab_type": "code",
        "colab": {
          "base_uri": "https://localhost:8080/",
          "height": 34
        },
        "outputId": "5d6f0d39-158e-4d18-862e-0f5f8a32a639"
      },
      "source": [
        "t1=('a',)\n",
        "type(t1)"
      ],
      "execution_count": 141,
      "outputs": [
        {
          "output_type": "execute_result",
          "data": {
            "text/plain": [
              "tuple"
            ]
          },
          "metadata": {
            "tags": []
          },
          "execution_count": 141
        }
      ]
    },
    {
      "cell_type": "code",
      "metadata": {
        "id": "GEEEgo8swykh",
        "colab_type": "code",
        "colab": {
          "base_uri": "https://localhost:8080/",
          "height": 34
        },
        "outputId": "620425ee-e460-40f6-9aef-0c1de9af72ba"
      },
      "source": [
        "t=tuple()\n",
        "print(t)"
      ],
      "execution_count": 142,
      "outputs": [
        {
          "output_type": "stream",
          "text": [
            "()\n"
          ],
          "name": "stdout"
        }
      ]
    },
    {
      "cell_type": "markdown",
      "metadata": {
        "id": "I9OkwaBaxBK0",
        "colab_type": "text"
      },
      "source": [
        "If the argument is a sequence (string, list, or tuple), the result of the call to tuple is a tuple with the elements of the swquence:\n"
      ]
    },
    {
      "cell_type": "code",
      "metadata": {
        "id": "dfhTdqYFw--2",
        "colab_type": "code",
        "colab": {
          "base_uri": "https://localhost:8080/",
          "height": 34
        },
        "outputId": "4323bf86-2234-41aa-b880-e6c486885f4b"
      },
      "source": [
        "t=tuple('lupins')\n",
        "print(t)"
      ],
      "execution_count": 143,
      "outputs": [
        {
          "output_type": "stream",
          "text": [
            "('l', 'u', 'p', 'i', 'n', 's')\n"
          ],
          "name": "stdout"
        }
      ]
    },
    {
      "cell_type": "markdown",
      "metadata": {
        "id": "hO8m4KEvxRGM",
        "colab_type": "text"
      },
      "source": [
        "* Tuple cannot be modified"
      ]
    },
    {
      "cell_type": "code",
      "metadata": {
        "id": "Xo83AI7KxVBD",
        "colab_type": "code",
        "colab": {
          "base_uri": "https://localhost:8080/",
          "height": 163
        },
        "outputId": "e453892d-5f91-492a-ab50-afd9f89ed8f3"
      },
      "source": [
        "t[0]='A'"
      ],
      "execution_count": 144,
      "outputs": [
        {
          "output_type": "error",
          "ename": "TypeError",
          "evalue": "ignored",
          "traceback": [
            "\u001b[0;31m---------------------------------------------------------------------------\u001b[0m",
            "\u001b[0;31mTypeError\u001b[0m                                 Traceback (most recent call last)",
            "\u001b[0;32m<ipython-input-144-2cabaacd7cc5>\u001b[0m in \u001b[0;36m<module>\u001b[0;34m()\u001b[0m\n\u001b[0;32m----> 1\u001b[0;31m \u001b[0mt\u001b[0m\u001b[0;34m[\u001b[0m\u001b[0;36m0\u001b[0m\u001b[0;34m]\u001b[0m\u001b[0;34m=\u001b[0m\u001b[0;34m'A'\u001b[0m\u001b[0;34m\u001b[0m\u001b[0;34m\u001b[0m\u001b[0m\n\u001b[0m",
            "\u001b[0;31mTypeError\u001b[0m: 'tuple' object does not support item assignment"
          ]
        }
      ]
    },
    {
      "cell_type": "markdown",
      "metadata": {
        "id": "PB4IV7zuxRKW",
        "colab_type": "text"
      },
      "source": [
        "* But tuple can be replaced by other tuple"
      ]
    },
    {
      "cell_type": "code",
      "metadata": {
        "id": "u2YsJVvNxqvz",
        "colab_type": "code",
        "colab": {
          "base_uri": "https://localhost:8080/",
          "height": 34
        },
        "outputId": "7b1c6da2-5d08-40f7-99a0-e2b9c55c38a6"
      },
      "source": [
        "t=('A', ) + t[1:]\n",
        "print(t)"
      ],
      "execution_count": 146,
      "outputs": [
        {
          "output_type": "stream",
          "text": [
            "('A', 'u', 'p', 'i', 'n', 's')\n"
          ],
          "name": "stdout"
        }
      ]
    },
    {
      "cell_type": "markdown",
      "metadata": {
        "id": "0fr34_s5xzfV",
        "colab_type": "text"
      },
      "source": [
        "### Comparing tuples\n",
        "1. Decorate\n",
        "2. Sort\n",
        "3. Undercorate"
      ]
    },
    {
      "cell_type": "markdown",
      "metadata": {
        "id": "ORq5fpNsxRPM",
        "colab_type": "text"
      },
      "source": [
        "Sort a list of words from longest to shortest"
      ]
    },
    {
      "cell_type": "code",
      "metadata": {
        "id": "wTzxQv0UyCWe",
        "colab_type": "code",
        "colab": {
          "base_uri": "https://localhost:8080/",
          "height": 68
        },
        "outputId": "889e6022-7f39-4fb5-f8f2-123e3bbbb1c0"
      },
      "source": [
        "txt = 'but soft what light in yonder window breaks'\n",
        "words=txt.split()\n",
        "t=list()\n",
        "words.sort(reverse=True)\n",
        "print('sorted on alphabet:',words)\n",
        "for word in words:\n",
        "    t.append((len(word), word)) #tuple\n",
        "t.sort(reverse=True)\n",
        "print('sorted on length:',t)\n",
        "res = list()\n",
        "for length, word in t:\n",
        "    res.append(word)\n",
        "print(res)"
      ],
      "execution_count": 155,
      "outputs": [
        {
          "output_type": "stream",
          "text": [
            "sorted on alphabet: ['yonder', 'window', 'what', 'soft', 'light', 'in', 'but', 'breaks']\n",
            "sorted on length: [(6, 'yonder'), (6, 'window'), (6, 'breaks'), (5, 'light'), (4, 'what'), (4, 'soft'), (3, 'but'), (2, 'in')]\n",
            "['yonder', 'window', 'breaks', 'light', 'what', 'soft', 'but', 'in']\n"
          ],
          "name": "stdout"
        }
      ]
    },
    {
      "cell_type": "markdown",
      "metadata": {
        "id": "4zOgYmuVzY2i",
        "colab_type": "text"
      },
      "source": [
        "### Tuple assignment\n",
        "It can be assigned to more than one variable at a time when the left side is a sequence"
      ]
    },
    {
      "cell_type": "code",
      "metadata": {
        "id": "eRhOrQDFzkjx",
        "colab_type": "code",
        "colab": {
          "base_uri": "https://localhost:8080/",
          "height": 51
        },
        "outputId": "f99d1733-6586-4489-9c06-1ed480ad3675"
      },
      "source": [
        "m=['have', 'fun']\n",
        "x,y=m\n",
        "print(x)\n",
        "print(y)"
      ],
      "execution_count": 156,
      "outputs": [
        {
          "output_type": "stream",
          "text": [
            "have\n",
            "fun\n"
          ],
          "name": "stdout"
        }
      ]
    },
    {
      "cell_type": "code",
      "metadata": {
        "id": "dz9czCFQyBsU",
        "colab_type": "code",
        "colab": {
          "base_uri": "https://localhost:8080/",
          "height": 51
        },
        "outputId": "487e590a-7e81-4ef1-96d9-9ba38979d6a9"
      },
      "source": [
        "m=['have', 'fun']\n",
        "x=m[0]\n",
        "y=m[1]\n",
        "print(x)\n",
        "print(y)"
      ],
      "execution_count": 157,
      "outputs": [
        {
          "output_type": "stream",
          "text": [
            "have\n",
            "fun\n"
          ],
          "name": "stdout"
        }
      ]
    },
    {
      "cell_type": "code",
      "metadata": {
        "id": "zcnNP4l1xNLO",
        "colab_type": "code",
        "colab": {
          "base_uri": "https://localhost:8080/",
          "height": 51
        },
        "outputId": "abc19011-add3-4a8e-be4f-87f47566b8d5"
      },
      "source": [
        "m=['have', 'fun']\n",
        "(x,y)=m\n",
        "print(x)\n",
        "print(y)"
      ],
      "execution_count": 158,
      "outputs": [
        {
          "output_type": "stream",
          "text": [
            "have\n",
            "fun\n"
          ],
          "name": "stdout"
        }
      ]
    },
    {
      "cell_type": "markdown",
      "metadata": {
        "id": "2FGxVc0Y0Bqk",
        "colab_type": "text"
      },
      "source": [
        "* Swap the values of two variables in a single statement\n"
      ]
    },
    {
      "cell_type": "code",
      "metadata": {
        "id": "mU1-zhyxz8DY",
        "colab_type": "code",
        "colab": {
          "base_uri": "https://localhost:8080/",
          "height": 136
        },
        "outputId": "f1494529-568e-4e9b-a2f4-42672b84960e"
      },
      "source": [
        "(a,b)=(1,2)\n",
        "print('before:')\n",
        "print(a)\n",
        "print(b)\n",
        "\n",
        "a,b=b,a\n",
        "print('\\nafter:')\n",
        "print(a)\n",
        "print(b)"
      ],
      "execution_count": 164,
      "outputs": [
        {
          "output_type": "stream",
          "text": [
            "before:\n",
            "1\n",
            "2\n",
            "\n",
            "after:\n",
            "2\n",
            "1\n"
          ],
          "name": "stdout"
        }
      ]
    },
    {
      "cell_type": "markdown",
      "metadata": {
        "id": "jqfBgZCT0nlf",
        "colab_type": "text"
      },
      "source": [
        "Split an email address into a name&domain:"
      ]
    },
    {
      "cell_type": "code",
      "metadata": {
        "id": "ELYLV_Sq0KiH",
        "colab_type": "code",
        "colab": {
          "base_uri": "https://localhost:8080/",
          "height": 51
        },
        "outputId": "a3ce05ee-3aac-422d-ad17-f6311f27bdc4"
      },
      "source": [
        "addr='monty@python.org'\n",
        "uname, domain=addr.split('@')\n",
        "print(uname)\n",
        "print(domain)"
      ],
      "execution_count": 165,
      "outputs": [
        {
          "output_type": "stream",
          "text": [
            "monty\n",
            "python.org\n"
          ],
          "name": "stdout"
        }
      ]
    },
    {
      "cell_type": "markdown",
      "metadata": {
        "id": "NuN8K8Zk03Nn",
        "colab_type": "text"
      },
      "source": [
        "* Dictionaries have a method called \"items\" that returns a list of tuples, where each tuple is akey-value pair"
      ]
    },
    {
      "cell_type": "code",
      "metadata": {
        "id": "6jsdKeMb00VG",
        "colab_type": "code",
        "colab": {
          "base_uri": "https://localhost:8080/",
          "height": 34
        },
        "outputId": "5f64d2c7-f7ce-4e02-afcc-63370e32f11d"
      },
      "source": [
        "d={'a':10, 'c':22, 'b':1}\n",
        "t=list(d.items())\n",
        "print(t)"
      ],
      "execution_count": 171,
      "outputs": [
        {
          "output_type": "stream",
          "text": [
            "[('a', 10), ('c', 22), ('b', 1)]\n"
          ],
          "name": "stdout"
        }
      ]
    },
    {
      "cell_type": "markdown",
      "metadata": {
        "id": "B5yvD_971KJ7",
        "colab_type": "text"
      },
      "source": [
        "It can be sorted after using .items()"
      ]
    },
    {
      "cell_type": "code",
      "metadata": {
        "id": "x4GwHmVv1IkK",
        "colab_type": "code",
        "colab": {
          "base_uri": "https://localhost:8080/",
          "height": 34
        },
        "outputId": "ad15fc6b-1a08-4ef7-d911-f983940edcf1"
      },
      "source": [
        "d={'a':10, 'c':22, 'b':1}\n",
        "t=list(d.items())\n",
        "t.sort()\n",
        "t"
      ],
      "execution_count": 172,
      "outputs": [
        {
          "output_type": "execute_result",
          "data": {
            "text/plain": [
              "[('a', 10), ('b', 1), ('c', 22)]"
            ]
          },
          "metadata": {
            "tags": []
          },
          "execution_count": 172
        }
      ]
    },
    {
      "cell_type": "markdown",
      "metadata": {
        "id": "LKZzE5X11oqB",
        "colab_type": "text"
      },
      "source": [
        "* Mutiple assignment with dictionaries"
      ]
    },
    {
      "cell_type": "code",
      "metadata": {
        "id": "bemBALLH1U_8",
        "colab_type": "code",
        "colab": {
          "base_uri": "https://localhost:8080/",
          "height": 68
        },
        "outputId": "0b54ce55-581d-4c62-ea6a-560c075b85f9"
      },
      "source": [
        "for key, val in list(d.items()):\n",
        "    print('key:{:1} value:{:2}'.format(key, val))"
      ],
      "execution_count": 178,
      "outputs": [
        {
          "output_type": "stream",
          "text": [
            "key:a value:10\n",
            "key:c value:22\n",
            "key:b value: 1\n"
          ],
          "name": "stdout"
        }
      ]
    },
    {
      "cell_type": "markdown",
      "metadata": {
        "id": "XF2G1S6n2RB4",
        "colab_type": "text"
      },
      "source": [
        "* Lists are more common than tuples\n",
        "* There are a few cases you might prefer tuples\n",
        "1. \"return\" statement\n",
        "    * it is sytactically simpler to create a tuple than a list\n",
        "2. use a sequence as a dictionary key\n",
        "    * you have to use an immutable type like a tuple or string\n",
        "3.  passing a sequence as an argement to a function, using tuples reduces the potential for unexpected behavior"
      ]
    },
    {
      "cell_type": "markdown",
      "metadata": {
        "id": "GNnyIVB23hhr",
        "colab_type": "text"
      },
      "source": [
        "'sort', 'sorted', 'reverse', 'reversed' do work on tuples"
      ]
    },
    {
      "cell_type": "code",
      "metadata": {
        "id": "H46TovDQ2f10",
        "colab_type": "code",
        "colab": {}
      },
      "source": [
        ""
      ],
      "execution_count": 0,
      "outputs": []
    }
  ]
}