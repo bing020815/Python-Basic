{
  "nbformat": 4,
  "nbformat_minor": 0,
  "metadata": {
    "colab": {
      "name": "Python Exceptions.ipynb",
      "provenance": [],
      "authorship_tag": "ABX9TyP8RPtOtQ9aFd8yKs9dk1eA",
      "include_colab_link": true
    },
    "kernelspec": {
      "name": "python3",
      "display_name": "Python 3"
    }
  },
  "cells": [
    {
      "cell_type": "markdown",
      "metadata": {
        "id": "view-in-github",
        "colab_type": "text"
      },
      "source": [
        "<a href=\"https://colab.research.google.com/github/bing020815/Python-Basic/blob/master/Basic/Python_Exceptions.ipynb\" target=\"_parent\"><img src=\"https://colab.research.google.com/assets/colab-badge.svg\" alt=\"Open In Colab\"/></a>"
      ]
    },
    {
      "cell_type": "markdown",
      "metadata": {
        "id": "dqlWTVO0ursM",
        "colab_type": "text"
      },
      "source": [
        "A Python program terminates as soon as it encounters an error. In Python, an error can be a `syntax error` or an `exception`."
      ]
    },
    {
      "cell_type": "markdown",
      "metadata": {
        "id": "Qei7CdCDu-5b",
        "colab_type": "text"
      },
      "source": [
        "## Raising an Exception\n",
        "We can use raise to throw an exception if a condition occurs. The statement can be complemented with a custom exception."
      ]
    },
    {
      "cell_type": "code",
      "metadata": {
        "id": "DA4vhKupu-aO",
        "colab_type": "code",
        "colab": {
          "base_uri": "https://localhost:8080/",
          "height": 197
        },
        "outputId": "49bc2053-9988-4660-c61e-6398eb4b47dc"
      },
      "source": [
        "x = 10\n",
        "if x > 5:\n",
        "    raise Exception('x should not exceed 5. The value of x was: {}'.format(x))"
      ],
      "execution_count": 1,
      "outputs": [
        {
          "output_type": "error",
          "ename": "Exception",
          "evalue": "ignored",
          "traceback": [
            "\u001b[0;31m---------------------------------------------------------------------------\u001b[0m",
            "\u001b[0;31mException\u001b[0m                                 Traceback (most recent call last)",
            "\u001b[0;32m<ipython-input-1-3dcc1a597936>\u001b[0m in \u001b[0;36m<module>\u001b[0;34m()\u001b[0m\n\u001b[1;32m      1\u001b[0m \u001b[0mx\u001b[0m \u001b[0;34m=\u001b[0m \u001b[0;36m10\u001b[0m\u001b[0;34m\u001b[0m\u001b[0;34m\u001b[0m\u001b[0m\n\u001b[1;32m      2\u001b[0m \u001b[0;32mif\u001b[0m \u001b[0mx\u001b[0m \u001b[0;34m>\u001b[0m \u001b[0;36m5\u001b[0m\u001b[0;34m:\u001b[0m\u001b[0;34m\u001b[0m\u001b[0;34m\u001b[0m\u001b[0m\n\u001b[0;32m----> 3\u001b[0;31m     \u001b[0;32mraise\u001b[0m \u001b[0mException\u001b[0m\u001b[0;34m(\u001b[0m\u001b[0;34m'x should not exceed 5. The value of x was: {}'\u001b[0m\u001b[0;34m.\u001b[0m\u001b[0mformat\u001b[0m\u001b[0;34m(\u001b[0m\u001b[0mx\u001b[0m\u001b[0;34m)\u001b[0m\u001b[0;34m)\u001b[0m\u001b[0;34m\u001b[0m\u001b[0;34m\u001b[0m\u001b[0m\n\u001b[0m",
            "\u001b[0;31mException\u001b[0m: x should not exceed 5. The value of x was: 10"
          ]
        }
      ]
    },
    {
      "cell_type": "markdown",
      "metadata": {
        "id": "M3NGkB_Ku-mC",
        "colab_type": "text"
      },
      "source": [
        "## The AssertionError Exception\n",
        "\n",
        "Instead of waiting for a program to crash midway, you can also start by making an assertion in Python. We assert that a certain condition is met. If this condition turns out to be True, then that is excellent! The program can continue. If the condition turns out to be False, you can have the program throw an `AssertionError exception`."
      ]
    },
    {
      "cell_type": "code",
      "metadata": {
        "id": "yUTSuqcpudFt",
        "colab_type": "code",
        "colab": {}
      },
      "source": [
        "import sys\n",
        "assert ('linux' in sys.platform), \"This code runs on Linux only.\""
      ],
      "execution_count": 0,
      "outputs": []
    },
    {
      "cell_type": "markdown",
      "metadata": {
        "id": "xtUjfPB0vbvk",
        "colab_type": "text"
      },
      "source": [
        "## The try and except Block: Handling Exceptions\n",
        "\n",
        "The `try` and `except` block in Python is used to catch and handle exceptions. Python executes code following the `try statement` as a “normal” part of the program. The code that follows the `except statement` is the program’s response to any exceptions in the preceding try clause."
      ]
    },
    {
      "cell_type": "code",
      "metadata": {
        "id": "5sdUAdhsvaC8",
        "colab_type": "code",
        "colab": {}
      },
      "source": [
        "try:\n",
        "    a\n",
        "except:\n",
        "    pass"
      ],
      "execution_count": 0,
      "outputs": []
    },
    {
      "cell_type": "code",
      "metadata": {
        "id": "UyL5vjVLv1qj",
        "colab_type": "code",
        "colab": {
          "base_uri": "https://localhost:8080/",
          "height": 34
        },
        "outputId": "98ff3ca5-712a-431b-9a58-960d41be3c89"
      },
      "source": [
        "try:\n",
        "    a\n",
        "except:\n",
        "    print('There is no variable \"a\"')"
      ],
      "execution_count": 4,
      "outputs": [
        {
          "output_type": "stream",
          "text": [
            "There is no variable \"a\"\n"
          ],
          "name": "stdout"
        }
      ]
    },
    {
      "cell_type": "code",
      "metadata": {
        "id": "ubeCB71swFNu",
        "colab_type": "code",
        "colab": {
          "base_uri": "https://localhost:8080/",
          "height": 51
        },
        "outputId": "804d593f-a97d-48c7-f907-e940d7b94c3e"
      },
      "source": [
        "try:\n",
        "    a\n",
        "except NameError as error:\n",
        "    print(error)\n",
        "    print('NameError: There is no variable \"a\"')"
      ],
      "execution_count": 5,
      "outputs": [
        {
          "output_type": "stream",
          "text": [
            "name 'a' is not defined\n",
            "NameError: There is no variable \"a\"\n"
          ],
          "name": "stdout"
        }
      ]
    }
  ]
}