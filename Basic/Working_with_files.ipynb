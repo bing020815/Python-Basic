{
  "nbformat": 4,
  "nbformat_minor": 0,
  "metadata": {
    "kernelspec": {
      "display_name": "Python 3",
      "language": "python",
      "name": "python3"
    },
    "language_info": {
      "codemirror_mode": {
        "name": "ipython",
        "version": 3
      },
      "file_extension": ".py",
      "mimetype": "text/x-python",
      "name": "python",
      "nbconvert_exporter": "python",
      "pygments_lexer": "ipython3",
      "version": "3.7.3"
    },
    "colab": {
      "name": "Working with files.ipynb",
      "provenance": [],
      "include_colab_link": true
    }
  },
  "cells": [
    {
      "cell_type": "markdown",
      "metadata": {
        "id": "view-in-github",
        "colab_type": "text"
      },
      "source": [
        "<a href=\"https://colab.research.google.com/github/bing020815/Python-Basic/blob/master/Basic/Working_with_files.ipynb\" target=\"_parent\"><img src=\"https://colab.research.google.com/assets/colab-badge.svg\" alt=\"Open In Colab\"/></a>"
      ]
    },
    {
      "cell_type": "markdown",
      "metadata": {
        "id": "uWhzq0GtorGz",
        "colab_type": "text"
      },
      "source": [
        "### Read and write files using the built-in Python file methods"
      ]
    },
    {
      "cell_type": "code",
      "metadata": {
        "id": "lSAPOXvHorG5",
        "colab_type": "code",
        "colab": {}
      },
      "source": [
        "# Open a file for writing and create it if it doesn't exist\n",
        "f = open('textfile.txt','w+')\n",
        "\n",
        "# write some lines of data to the file\n",
        "for i in range(10):\n",
        "    f.write(f'This is line {i} \\r\\n')\n",
        "# close the file when done\n",
        "f.close()\n"
      ],
      "execution_count": 0,
      "outputs": []
    },
    {
      "cell_type": "code",
      "metadata": {
        "id": "cJUx4utDorHB",
        "colab_type": "code",
        "colab": {}
      },
      "source": [
        "# Open the file for appending text to the end\n",
        "f = open('textfile.txt','a') # a is to append instead of overwrite the data\n",
        "# write some lines of data to the file\n",
        "for i in range(10):\n",
        "    f.write(f'This is line {i} \\r\\n')\n",
        "# close the file when done\n",
        "f.close()"
      ],
      "execution_count": 0,
      "outputs": []
    },
    {
      "cell_type": "code",
      "metadata": {
        "id": "dZKKSNlsorHH",
        "colab_type": "code",
        "colab": {
          "base_uri": "https://localhost:8080/",
          "height": 390
        },
        "outputId": "3e43cbc2-00c9-407f-b5de-cc7f7607c196"
      },
      "source": [
        "# Open the file to read\n",
        "f = open('textfile.txt','r')\n",
        "# Open the file back up and read the contents\n",
        "if f.mode == 'r':\n",
        "    contents = f.read()\n",
        "    print(contents)"
      ],
      "execution_count": 3,
      "outputs": [
        {
          "output_type": "stream",
          "text": [
            "This is line 0 \n",
            "This is line 1 \n",
            "This is line 2 \n",
            "This is line 3 \n",
            "This is line 4 \n",
            "This is line 5 \n",
            "This is line 6 \n",
            "This is line 7 \n",
            "This is line 8 \n",
            "This is line 9 \n",
            "This is line 0 \n",
            "This is line 1 \n",
            "This is line 2 \n",
            "This is line 3 \n",
            "This is line 4 \n",
            "This is line 5 \n",
            "This is line 6 \n",
            "This is line 7 \n",
            "This is line 8 \n",
            "This is line 9 \n",
            "\n"
          ],
          "name": "stdout"
        }
      ]
    },
    {
      "cell_type": "markdown",
      "metadata": {
        "id": "PJqIc7q-orHO",
        "colab_type": "text"
      },
      "source": [
        "### readlines()"
      ]
    },
    {
      "cell_type": "code",
      "metadata": {
        "id": "dSf1r_CeorHP",
        "colab_type": "code",
        "colab": {
          "base_uri": "https://localhost:8080/",
          "height": 728
        },
        "outputId": "359f6501-2e5d-4bc5-feab-a657687720ee"
      },
      "source": [
        "# Open the file to read\n",
        "f = open('textfile.txt','r')\n",
        "# Open the file back up and read the contents\n",
        "if f.mode == 'r':\n",
        "    fl=f.readlines()\n",
        "    for x in fl:\n",
        "        print(x)"
      ],
      "execution_count": 4,
      "outputs": [
        {
          "output_type": "stream",
          "text": [
            "This is line 0 \n",
            "\n",
            "This is line 1 \n",
            "\n",
            "This is line 2 \n",
            "\n",
            "This is line 3 \n",
            "\n",
            "This is line 4 \n",
            "\n",
            "This is line 5 \n",
            "\n",
            "This is line 6 \n",
            "\n",
            "This is line 7 \n",
            "\n",
            "This is line 8 \n",
            "\n",
            "This is line 9 \n",
            "\n",
            "This is line 0 \n",
            "\n",
            "This is line 1 \n",
            "\n",
            "This is line 2 \n",
            "\n",
            "This is line 3 \n",
            "\n",
            "This is line 4 \n",
            "\n",
            "This is line 5 \n",
            "\n",
            "This is line 6 \n",
            "\n",
            "This is line 7 \n",
            "\n",
            "This is line 8 \n",
            "\n",
            "This is line 9 \n",
            "\n"
          ],
          "name": "stdout"
        }
      ]
    },
    {
      "cell_type": "markdown",
      "metadata": {
        "id": "JZjDbVV6orHV",
        "colab_type": "text"
      },
      "source": [
        "### Example file for working with os.path module"
      ]
    },
    {
      "cell_type": "code",
      "metadata": {
        "id": "T1KB0JP0orHX",
        "colab_type": "code",
        "colab": {}
      },
      "source": [
        "import os\n",
        "from os import path\n",
        "import datetime\n",
        "from datetime import date, time, timedelta\n",
        "import time"
      ],
      "execution_count": 0,
      "outputs": []
    },
    {
      "cell_type": "code",
      "metadata": {
        "id": "y4xbwaLsorHc",
        "colab_type": "code",
        "colab": {
          "base_uri": "https://localhost:8080/",
          "height": 35
        },
        "outputId": "4eb5a95a-e144-4962-e9c1-ea9f9132d86d"
      },
      "source": [
        "# print the name of the os\n",
        "print(os.name)"
      ],
      "execution_count": 6,
      "outputs": [
        {
          "output_type": "stream",
          "text": [
            "posix\n"
          ],
          "name": "stdout"
        }
      ]
    },
    {
      "cell_type": "code",
      "metadata": {
        "id": "1_aKJtPXorHi",
        "colab_type": "code",
        "colab": {
          "base_uri": "https://localhost:8080/",
          "height": 70
        },
        "outputId": "48d5cd4c-1365-4969-a0e5-916aa9b00ba8"
      },
      "source": [
        "# check for item existence and type\n",
        "print(f'Item exists: {path.exists(\"textfile.txt\")}')\n",
        "print(f'Item is a file: {path.isfile(\"textfile.txt\")}')\n",
        "print(f'Item is a directory: {path.isdir(\"textfile.txt\")}')"
      ],
      "execution_count": 7,
      "outputs": [
        {
          "output_type": "stream",
          "text": [
            "Item exists: True\n",
            "Item is a file: True\n",
            "Item is a directory: False\n"
          ],
          "name": "stdout"
        }
      ]
    },
    {
      "cell_type": "code",
      "metadata": {
        "id": "Aw6p6jskorHn",
        "colab_type": "code",
        "colab": {
          "base_uri": "https://localhost:8080/",
          "height": 52
        },
        "outputId": "49089c63-1012-48ad-b982-ffd4b988b798"
      },
      "source": [
        "# work with file paths\n",
        "print(f'Item path: {path.realpath(\"textfile.txt\")}')\n",
        "print(f'Item is a file: {path.split(path.realpath(\"textfile.txt\"))}')"
      ],
      "execution_count": 8,
      "outputs": [
        {
          "output_type": "stream",
          "text": [
            "Item path: /content/textfile.txt\n",
            "Item is a file: ('/content', 'textfile.txt')\n"
          ],
          "name": "stdout"
        }
      ]
    },
    {
      "cell_type": "code",
      "metadata": {
        "id": "UbKQs_nborHr",
        "colab_type": "code",
        "colab": {
          "base_uri": "https://localhost:8080/",
          "height": 52
        },
        "outputId": "7cf99f51-0f47-455c-81e2-37f2d55ac342"
      },
      "source": [
        "# Get the modification time\n",
        "t=time.ctime(path.getmtime(\"textfile.txt\"))\n",
        "print(t)\n",
        "print(datetime.datetime.fromtimestamp(path.getmtime(\"textfile.txt\")))"
      ],
      "execution_count": 9,
      "outputs": [
        {
          "output_type": "stream",
          "text": [
            "Wed Mar  4 22:22:44 2020\n",
            "2020-03-04 22:22:44.357671\n"
          ],
          "name": "stdout"
        }
      ]
    },
    {
      "cell_type": "code",
      "metadata": {
        "id": "Zp0jjGcnorHx",
        "colab_type": "code",
        "colab": {
          "base_uri": "https://localhost:8080/",
          "height": 52
        },
        "outputId": "a2d34c48-1595-4b06-8523-3eaad69be743"
      },
      "source": [
        "# Calculate how long ago the item was modified\n",
        "td=datetime.datetime.now()-datetime.datetime.fromtimestamp(path.getmtime(\"textfile.txt\"))\n",
        "print(f'It has been {td} since the file was modified')\n",
        "print(f'Or, {td.total_seconds()} seconds')"
      ],
      "execution_count": 10,
      "outputs": [
        {
          "output_type": "stream",
          "text": [
            "It has been 0:00:00.115905 since the file was modified\n",
            "Or, 0.115905 seconds\n"
          ],
          "name": "stdout"
        }
      ]
    },
    {
      "cell_type": "code",
      "metadata": {
        "id": "saRLGGWmorH3",
        "colab_type": "code",
        "colab": {}
      },
      "source": [
        ""
      ],
      "execution_count": 0,
      "outputs": []
    }
  ]
}