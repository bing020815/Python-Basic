{
  "nbformat": 4,
  "nbformat_minor": 0,
  "metadata": {
    "colab": {
      "name": "*args and **kwargs.ipynb",
      "provenance": [],
      "authorship_tag": "ABX9TyNbU8KseXUdyJ7QZWQWmR21",
      "include_colab_link": true
    },
    "kernelspec": {
      "name": "python3",
      "display_name": "Python 3"
    }
  },
  "cells": [
    {
      "cell_type": "markdown",
      "metadata": {
        "id": "view-in-github",
        "colab_type": "text"
      },
      "source": [
        "<a href=\"https://colab.research.google.com/github/bing020815/Python-Basic/blob/master/Basic/_args_and_kwargs.ipynb\" target=\"_parent\"><img src=\"https://colab.research.google.com/assets/colab-badge.svg\" alt=\"Open In Colab\"/></a>"
      ]
    },
    {
      "cell_type": "markdown",
      "metadata": {
        "id": "VhVd0KC-7ANh",
        "colab_type": "text"
      },
      "source": [
        "# \\*args and \\*\\*kwargs\n",
        "\n",
        "\\*args and \\*\\*kwargs allow user to pass multiple arguments(args) and keyward arguments(kwargs) to a function.  \\*args can unpack iterable and \\*\\*kwargs is for unpacking dictionaries.\n"
      ]
    },
    {
      "cell_type": "markdown",
      "metadata": {
        "id": "1MpbTRtn_2w_",
        "colab_type": "text"
      },
      "source": [
        "## \\*args\n",
        "When we declare a function to sum up numbers, we often need to pass arguments. There are several ways to do so. The most common method is using a sigle **list** as the function argument. However, using \\*args as the alternative method can make the code elegant. "
      ]
    },
    {
      "cell_type": "markdown",
      "metadata": {
        "id": "yYR0gsxkBeLa",
        "colab_type": "text"
      },
      "source": [
        "The first example using list argument:"
      ]
    },
    {
      "cell_type": "code",
      "metadata": {
        "id": "h4ZyYWHl6fsL",
        "colab_type": "code",
        "colab": {}
      },
      "source": [
        "def sum_num(list_num):\n",
        "    total=0\n",
        "    for n in list_num:\n",
        "        total += n\n",
        "    return total"
      ],
      "execution_count": 1,
      "outputs": []
    },
    {
      "cell_type": "code",
      "metadata": {
        "id": "tOQSzznMBV_4",
        "colab_type": "code",
        "colab": {
          "base_uri": "https://localhost:8080/",
          "height": 35
        },
        "outputId": "4fbd2be1-137c-4c97-eded-ff2a80135c1e"
      },
      "source": [
        "numbers = [1, 2, 3, 4, 5]\n",
        "sum_num(numbers)"
      ],
      "execution_count": 2,
      "outputs": [
        {
          "output_type": "execute_result",
          "data": {
            "text/plain": [
              "15"
            ]
          },
          "metadata": {
            "tags": []
          },
          "execution_count": 2
        }
      ]
    },
    {
      "cell_type": "markdown",
      "metadata": {
        "id": "so5rdpN46_vs",
        "colab_type": "text"
      },
      "source": [
        "Using \\*args instead of a list:"
      ]
    },
    {
      "cell_type": "code",
      "metadata": {
        "id": "6hX7n93dBq7X",
        "colab_type": "code",
        "colab": {}
      },
      "source": [
        "def sum_num_args(*args):\n",
        "    total=0\n",
        "    for n in args:\n",
        "        total += n\n",
        "    return total"
      ],
      "execution_count": 3,
      "outputs": []
    },
    {
      "cell_type": "markdown",
      "metadata": {
        "id": "MXC7Tyl0CGTr",
        "colab_type": "text"
      },
      "source": [
        "It can takes multiple arguments."
      ]
    },
    {
      "cell_type": "code",
      "metadata": {
        "id": "PX93-yX8Bx2X",
        "colab_type": "code",
        "colab": {
          "base_uri": "https://localhost:8080/",
          "height": 35
        },
        "outputId": "fc886427-80f8-416a-cca3-a3ff33729eea"
      },
      "source": [
        "sum_num_args(1, 2, 3, 4, 5)\n"
      ],
      "execution_count": 4,
      "outputs": [
        {
          "output_type": "execute_result",
          "data": {
            "text/plain": [
              "15"
            ]
          },
          "metadata": {
            "tags": []
          },
          "execution_count": 4
        }
      ]
    },
    {
      "cell_type": "markdown",
      "metadata": {
        "id": "c1Qb4T8JCRYc",
        "colab_type": "text"
      },
      "source": [
        "### List unpacking\n",
        "The idea of unpacking is to, well, unpack any iterable object. The single asterisk * is used to unpack any iterable."
      ]
    },
    {
      "cell_type": "code",
      "metadata": {
        "id": "CbxtWbhdCiEv",
        "colab_type": "code",
        "colab": {
          "base_uri": "https://localhost:8080/",
          "height": 35
        },
        "outputId": "53cb270c-15f3-484b-f69b-ac9e186fd2fd"
      },
      "source": [
        "num_arr = [1, 2, 3, 4, 5]\n",
        "print(*num_arr)"
      ],
      "execution_count": 5,
      "outputs": [
        {
          "output_type": "stream",
          "text": [
            "1 2 3 4 5\n"
          ],
          "name": "stdout"
        }
      ]
    },
    {
      "cell_type": "markdown",
      "metadata": {
        "id": "fNfH8PJKCq21",
        "colab_type": "text"
      },
      "source": [
        "The result above shows that the print function can print the element of the list by using \\*args"
      ]
    },
    {
      "cell_type": "markdown",
      "metadata": {
        "id": "YG9qQMZhCYOV",
        "colab_type": "text"
      },
      "source": [
        "### List concatenation\n",
        "Another thing that *args can do is list concatenation:"
      ]
    },
    {
      "cell_type": "code",
      "metadata": {
        "id": "npF-HRvdCT1w",
        "colab_type": "code",
        "colab": {
          "base_uri": "https://localhost:8080/",
          "height": 35
        },
        "outputId": "cd7f7b45-304b-41ca-b10f-7df8c54ca427"
      },
      "source": [
        "nums1 = [1, 2, 3, 4, 5, 6]\n",
        "nums2 = [7, 8, 9, 10]\n",
        "nums = [*nums1, *nums2]\n",
        "print(nums)"
      ],
      "execution_count": 6,
      "outputs": [
        {
          "output_type": "stream",
          "text": [
            "[1, 2, 3, 4, 5, 6, 7, 8, 9, 10]\n"
          ],
          "name": "stdout"
        }
      ]
    },
    {
      "cell_type": "markdown",
      "metadata": {
        "id": "CAuNKKZOD3uk",
        "colab_type": "text"
      },
      "source": [
        "## \\*\\*kwargs\n",
        "\\*\\*kwargs are used to unpack dictionaries. \n",
        "\n",
        "Let's try a calculation function that take a, b and c using traditional positional arguments:"
      ]
    },
    {
      "cell_type": "code",
      "metadata": {
        "id": "BnX4IHNkCXL2",
        "colab_type": "code",
        "colab": {
          "base_uri": "https://localhost:8080/",
          "height": 35
        },
        "outputId": "482e85e1-5a75-4c44-f5fa-3604e9685d84"
      },
      "source": [
        "dic={'a':1 , 'b':20, 'c':12}\n",
        "def calculate(a, b, c):\n",
        "    total = a*10 + b*5 + c*1\n",
        "    return total\n",
        "\n",
        "calculate(dic['a'], dic['b'], dic['c'])"
      ],
      "execution_count": 7,
      "outputs": [
        {
          "output_type": "execute_result",
          "data": {
            "text/plain": [
              "122"
            ]
          },
          "metadata": {
            "tags": []
          },
          "execution_count": 7
        }
      ]
    },
    {
      "cell_type": "markdown",
      "metadata": {
        "id": "rvOugLAIF8mm",
        "colab_type": "text"
      },
      "source": [
        "However, if we use the **kwargs, we can get the same results."
      ]
    },
    {
      "cell_type": "code",
      "metadata": {
        "id": "KIXm_ZK7FvVv",
        "colab_type": "code",
        "colab": {
          "base_uri": "https://localhost:8080/",
          "height": 35
        },
        "outputId": "b5b3a1ab-9384-43db-d40d-8956b1ac294b"
      },
      "source": [
        "calculate(**dic)"
      ],
      "execution_count": 8,
      "outputs": [
        {
          "output_type": "execute_result",
          "data": {
            "text/plain": [
              "122"
            ]
          },
          "metadata": {
            "tags": []
          },
          "execution_count": 8
        }
      ]
    },
    {
      "cell_type": "markdown",
      "metadata": {
        "id": "1k-99WiAGJjT",
        "colab_type": "text"
      },
      "source": [
        "It is clear to see that using \\*\\*kwargs is simpler, cleaner and more elegant. "
      ]
    },
    {
      "cell_type": "markdown",
      "metadata": {
        "id": "xZ_EhKuyGv73",
        "colab_type": "text"
      },
      "source": [
        "### Dictionary concatenation\n",
        "The dictionary concatenation is the same as the list concatenation. It will concatenate two different dictionaries into one. But, if there are duplicate keys, the value of the second dictionary will be used."
      ]
    },
    {
      "cell_type": "code",
      "metadata": {
        "id": "O4bOVCcjGpp9",
        "colab_type": "code",
        "colab": {
          "base_uri": "https://localhost:8080/",
          "height": 35
        },
        "outputId": "12df6cd7-ab69-4bef-9d40-3f4eb8ab6831"
      },
      "source": [
        "# No key duplication\n",
        "dic1 = {'a': 1, 'b': 2}\n",
        "dic2 = {'c': 3, 'd': 4}\n",
        "d = {**dic1, **dic2}\n",
        "print(d)"
      ],
      "execution_count": 9,
      "outputs": [
        {
          "output_type": "stream",
          "text": [
            "{'a': 1, 'b': 2, 'c': 3, 'd': 4}\n"
          ],
          "name": "stdout"
        }
      ]
    },
    {
      "cell_type": "code",
      "metadata": {
        "id": "E_8DF0xFHh5F",
        "colab_type": "code",
        "colab": {
          "base_uri": "https://localhost:8080/",
          "height": 35
        },
        "outputId": "9d129268-d864-41ae-9fe6-53ebf0181ccd"
      },
      "source": [
        "# key duplication\n",
        "dic1 = {'a': 1, 'b': 2}\n",
        "dic2 = {'b': 3, 'c': 4}\n",
        "d = {**dic1, **dic2}\n",
        "print(d)"
      ],
      "execution_count": 10,
      "outputs": [
        {
          "output_type": "stream",
          "text": [
            "{'a': 1, 'b': 3, 'c': 4}\n"
          ],
          "name": "stdout"
        }
      ]
    }
  ]
}