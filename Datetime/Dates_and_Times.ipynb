{
  "nbformat": 4,
  "nbformat_minor": 0,
  "metadata": {
    "kernelspec": {
      "display_name": "Python 3",
      "language": "python",
      "name": "python3"
    },
    "language_info": {
      "codemirror_mode": {
        "name": "ipython",
        "version": 3
      },
      "file_extension": ".py",
      "mimetype": "text/x-python",
      "name": "python",
      "nbconvert_exporter": "python",
      "pygments_lexer": "ipython3",
      "version": "3.7.3"
    },
    "colab": {
      "name": "Dates and Times.ipynb",
      "provenance": [],
      "include_colab_link": true
    }
  },
  "cells": [
    {
      "cell_type": "markdown",
      "metadata": {
        "id": "view-in-github",
        "colab_type": "text"
      },
      "source": [
        "<a href=\"https://colab.research.google.com/github/bing020815/Python-Basic/blob/master/Datetime/Dates_and_Times.ipynb\" target=\"_parent\"><img src=\"https://colab.research.google.com/assets/colab-badge.svg\" alt=\"Open In Colab\"/></a>"
      ]
    },
    {
      "cell_type": "markdown",
      "metadata": {
        "id": "LUmgkN8Flbzf",
        "colab_type": "text"
      },
      "source": [
        "## Load libraries for working with date information"
      ]
    },
    {
      "cell_type": "markdown",
      "metadata": {
        "id": "910adEGflbzi",
        "colab_type": "text"
      },
      "source": [
        "### The date, time and datetime classes"
      ]
    },
    {
      "cell_type": "code",
      "metadata": {
        "id": "W0-pAko4lbzk",
        "colab_type": "code",
        "colab": {}
      },
      "source": [
        "from datetime import date # date class\n",
        "from datetime import time # time class\n",
        "from datetime import datetime # datetime class"
      ],
      "execution_count": 0,
      "outputs": []
    },
    {
      "cell_type": "code",
      "metadata": {
        "id": "IXlKW7Nglbzs",
        "colab_type": "code",
        "colab": {},
        "outputId": "d500af11-5c61-4f01-9592-8a7f96940713"
      },
      "source": [
        "## Date objects\n",
        "# Get today's date from the simple today() method from the date class\n",
        "today=date.today()\n",
        "print(\"Today's date is \", today)"
      ],
      "execution_count": 0,
      "outputs": [
        {
          "output_type": "stream",
          "text": [
            "Today's date is  2019-10-29\n"
          ],
          "name": "stdout"
        }
      ]
    },
    {
      "cell_type": "code",
      "metadata": {
        "id": "49ksuifAlbzz",
        "colab_type": "code",
        "colab": {},
        "outputId": "24c1e7a5-f5b5-4c8f-883d-de99a737ed64"
      },
      "source": [
        "# print out the date's individual components\n",
        "print(\"Date components: \", today.day, today.month, today.year)"
      ],
      "execution_count": 0,
      "outputs": [
        {
          "output_type": "stream",
          "text": [
            "Date components:  29 10 2019\n"
          ],
          "name": "stdout"
        }
      ]
    },
    {
      "cell_type": "code",
      "metadata": {
        "id": "zhjrH5hRlbz9",
        "colab_type": "code",
        "colab": {},
        "outputId": "eb0e89c7-15a9-40a6-a484-4c71ab44a8b8"
      },
      "source": [
        "# retrieve today's weekday (0=Monday, 6=Sunday)\n",
        "print(\"Today's weekday # is:\", today.weekday() )\n",
        "days=['Mon', 'Tud','Wed', 'Thu','Fri', 'Sat','Sun']\n",
        "print(\"Which is a: \", days[today.weekday()])"
      ],
      "execution_count": 0,
      "outputs": [
        {
          "output_type": "stream",
          "text": [
            "Today's weekday # is: 1\n",
            "Which is a:  Tud\n"
          ],
          "name": "stdout"
        }
      ]
    },
    {
      "cell_type": "code",
      "metadata": {
        "id": "DfA-g_1Alb0C",
        "colab_type": "code",
        "colab": {},
        "outputId": "df087fc0-58b8-4b6e-f049-a81e633859b6"
      },
      "source": [
        "## Date objects\n",
        "# Get today's date from the datetime class\n",
        "today = datetime.now()\n",
        "print(\"The current date and time is \", today)\n"
      ],
      "execution_count": 0,
      "outputs": [
        {
          "output_type": "stream",
          "text": [
            "The current date and time is  2019-10-29 15:43:13.613935\n"
          ],
          "name": "stdout"
        }
      ]
    },
    {
      "cell_type": "code",
      "metadata": {
        "id": "NXHReTAXlb0K",
        "colab_type": "code",
        "colab": {},
        "outputId": "afcf324e-92d2-496e-c3e5-c28568e0209b"
      },
      "source": [
        "# Get the current time\n",
        "t=datetime.time(datetime.now())\n",
        "print(t)"
      ],
      "execution_count": 0,
      "outputs": [
        {
          "output_type": "stream",
          "text": [
            "15:43:57.483355\n"
          ],
          "name": "stdout"
        }
      ]
    },
    {
      "cell_type": "markdown",
      "metadata": {
        "id": "M9_HgCzmlb0Z",
        "colab_type": "text"
      },
      "source": [
        "### Formatting time output"
      ]
    },
    {
      "cell_type": "code",
      "metadata": {
        "id": "k9JrSsj4lb0b",
        "colab_type": "code",
        "colab": {}
      },
      "source": [
        "from datetime import date # date class\n",
        "from datetime import time # time class\n",
        "from datetime import datetime # datetime class"
      ],
      "execution_count": 0,
      "outputs": []
    },
    {
      "cell_type": "markdown",
      "metadata": {
        "id": "6yXtTsOGlb0g",
        "colab_type": "text"
      },
      "source": [
        "#### Date Formatting:\n",
        "%t/%Y - Year  \n",
        "%a/%A - Weekday  \n",
        "%b/%B - Month in English\n",
        "%m - Month\n",
        "%d/%D - Day of month  \n",
        "%c - local's date and time  \n",
        "%x - local's date  \n",
        "%X - local's time\n",
        "%j - Day of the year as a zero-padded decimal number\n",
        "%U - Week number of the year (Sunday as the first day of the week)\n",
        "%W - Week number of the year (Monday as the first day of the week)"
      ]
    },
    {
      "cell_type": "code",
      "metadata": {
        "id": "4IR4GxPglb0h",
        "colab_type": "code",
        "colab": {},
        "outputId": "2282f7e0-552b-443d-9a0c-d19ce0637eee"
      },
      "source": [
        "# Times and dates can be formatted using a set of predefiend string control codes\n",
        "now=datetime.now()\n",
        "print(now.strftime(\"The current year is: %Y\"))"
      ],
      "execution_count": 0,
      "outputs": [
        {
          "output_type": "stream",
          "text": [
            "The current year is: 2019\n"
          ],
          "name": "stdout"
        }
      ]
    },
    {
      "cell_type": "code",
      "metadata": {
        "id": "JV_tDWxjlb0q",
        "colab_type": "code",
        "colab": {},
        "outputId": "a0a54ccb-e63f-4724-c0cd-65489b12c34c"
      },
      "source": [
        "print(now.strftime(\"%a, %d %B, %y\"))"
      ],
      "execution_count": 0,
      "outputs": [
        {
          "output_type": "stream",
          "text": [
            "Tue, 29 October, 19\n"
          ],
          "name": "stdout"
        }
      ]
    },
    {
      "cell_type": "code",
      "metadata": {
        "id": "j23HKj9hlb0w",
        "colab_type": "code",
        "colab": {},
        "outputId": "405d389c-fea4-4da2-e4d4-8fed71f93df3"
      },
      "source": [
        "print(now.strftime(\"Locale date and time: %c\"))\n",
        "print(now.strftime(\"Locale date: %x\"))\n",
        "print(now.strftime(\"Locale time: %X\"))"
      ],
      "execution_count": 0,
      "outputs": [
        {
          "output_type": "stream",
          "text": [
            "Locale date and time: Tue Oct 29 15:50:45 2019\n",
            "Locale date: 10/29/19\n",
            "Locale time: 15:50:45\n"
          ],
          "name": "stdout"
        }
      ]
    },
    {
      "cell_type": "markdown",
      "metadata": {
        "id": "MEwfyo1Glb01",
        "colab_type": "text"
      },
      "source": [
        "#### Time Formatting:\n",
        "%I/%H - 12/24 Hour  \n",
        "%M - Minute  \n",
        "%S - Second\n",
        "%p local's AM/PM"
      ]
    },
    {
      "cell_type": "code",
      "metadata": {
        "id": "AgjVx1nVlb03",
        "colab_type": "code",
        "colab": {},
        "outputId": "78f6cdb5-dcdc-42ac-9747-69536cda5521"
      },
      "source": [
        "print(now.strftime(\"Current time: %I:%M:%S %p\"))\n",
        "print(now.strftime(\"24-hour time: %H:%M\"))"
      ],
      "execution_count": 0,
      "outputs": [
        {
          "output_type": "stream",
          "text": [
            "Current time: 03:50:45 PM\n",
            "24-hour time: 15:50\n"
          ],
          "name": "stdout"
        }
      ]
    },
    {
      "cell_type": "markdown",
      "metadata": {
        "id": "xeI5lFlTlb08",
        "colab_type": "text"
      },
      "source": [
        "### Using timedelta objects"
      ]
    },
    {
      "cell_type": "code",
      "metadata": {
        "id": "4tbW_ZoJlb09",
        "colab_type": "code",
        "colab": {}
      },
      "source": [
        "from datetime import date # date class\n",
        "from datetime import time # time class\n",
        "from datetime import datetime # datetime class\n",
        "from datetime import timedelta"
      ],
      "execution_count": 0,
      "outputs": []
    },
    {
      "cell_type": "code",
      "metadata": {
        "id": "oaeC3YQflb1B",
        "colab_type": "code",
        "colab": {},
        "outputId": "ddae9bee-f51a-4297-bb94-6dc29ec6dc5e"
      },
      "source": [
        "# Construct a basic timedelta and print it\n",
        "print(timedelta(days=365, hours=5, minutes=1))"
      ],
      "execution_count": 0,
      "outputs": [
        {
          "output_type": "stream",
          "text": [
            "365 days, 5:01:00\n"
          ],
          "name": "stdout"
        }
      ]
    },
    {
      "cell_type": "code",
      "metadata": {
        "id": "1KgOD1NMlb1I",
        "colab_type": "code",
        "colab": {},
        "outputId": "cd31c09c-f511-4a8e-86c0-5f73b4d2ef31"
      },
      "source": [
        "# print today's date\n",
        "now=datetime.now()\n",
        "print(\"today is : \" + str(now))"
      ],
      "execution_count": 0,
      "outputs": [
        {
          "output_type": "stream",
          "text": [
            "today is : 2019-10-29 16:21:43.632307\n"
          ],
          "name": "stdout"
        }
      ]
    },
    {
      "cell_type": "code",
      "metadata": {
        "id": "97eT5K4Xlb1P",
        "colab_type": "code",
        "colab": {},
        "outputId": "9f6c7f3b-2d6b-4025-b9cb-88dbe22dc913"
      },
      "source": [
        "# print today's date one year from now\n",
        "print(\"today is : \" + str(now))\n",
        "print(\"one year from now it will be: \" + str(now + timedelta(days=365)))"
      ],
      "execution_count": 0,
      "outputs": [
        {
          "output_type": "stream",
          "text": [
            "today is : 2019-10-29 16:21:43.632307\n",
            "one year from now it will be: 2020-10-28 16:21:43.632307\n"
          ],
          "name": "stdout"
        }
      ]
    },
    {
      "cell_type": "code",
      "metadata": {
        "id": "qlKoV8Uglb1V",
        "colab_type": "code",
        "colab": {},
        "outputId": "89068648-ea86-4de4-9a0f-8dd583d0923c"
      },
      "source": [
        "# create a timedelta that uses more than one argument\n",
        "print(\"today is : \" + str(now))\n",
        "print(\"In 2 days and 3 weeks, it will be: \" + str(now + timedelta(days=2, weeks=3)))"
      ],
      "execution_count": 0,
      "outputs": [
        {
          "output_type": "stream",
          "text": [
            "today is : 2019-10-29 16:21:43.632307\n",
            "In 2 days and 3 weeks, it will be: 2019-11-21 16:21:43.632307\n"
          ],
          "name": "stdout"
        }
      ]
    },
    {
      "cell_type": "code",
      "metadata": {
        "id": "juo5iOrqlb1Z",
        "colab_type": "code",
        "colab": {},
        "outputId": "ca43263f-e2b9-403a-d939-62cc11154933"
      },
      "source": [
        "# calculate the date 1 week ago, formatted as a sting\n",
        "t = datetime.now() -timedelta(weeks=1)\n",
        "s=t.strftime(\"%A %B %d, %Y\")\n",
        "print(\"One week ago it was: \" + s)"
      ],
      "execution_count": 0,
      "outputs": [
        {
          "output_type": "stream",
          "text": [
            "One week ago it was: Tuesday October 22, 2019\n"
          ],
          "name": "stdout"
        }
      ]
    },
    {
      "cell_type": "code",
      "metadata": {
        "id": "D_iD4uwGlb1e",
        "colab_type": "code",
        "colab": {},
        "outputId": "3e31511f-4055-4e29-c861-8595d3a68ed1"
      },
      "source": [
        "# Calculate how many days until April Fools' Day?\n",
        "today = date.today()\n",
        "afd = date(today.year, 4, 1)\n",
        "\n",
        "# use date comparison to see if April Fool's has already gone for this year\n",
        "# if it has, use replace() function to get the date for next year\n",
        "if afd < today:\n",
        "    print(f\"April Fool's day already went by {(today-afd).days} days ago\")\n",
        "    afd=afd.replace(year=today.year+1)\n",
        "    \n",
        "# Now calculate the amountof time until April Fool's Day\n",
        "time_to_afd = afd-today\n",
        "print(f\"It's just {time_to_afd.days} days until April Fool's Day\")"
      ],
      "execution_count": 0,
      "outputs": [
        {
          "output_type": "stream",
          "text": [
            "April Fool's day already went by 211 days ago\n",
            "It's just 155 days until April Fool's Day\n"
          ],
          "name": "stdout"
        }
      ]
    },
    {
      "cell_type": "markdown",
      "metadata": {
        "id": "he9YGsZ-lb1i",
        "colab_type": "text"
      },
      "source": [
        "### Working with calendars"
      ]
    },
    {
      "cell_type": "code",
      "metadata": {
        "id": "OcGEaPR4lb1k",
        "colab_type": "code",
        "colab": {}
      },
      "source": [
        "# Import the calendar module\n",
        "import calendar"
      ],
      "execution_count": 0,
      "outputs": []
    },
    {
      "cell_type": "code",
      "metadata": {
        "id": "V7jVUpJwlb1q",
        "colab_type": "code",
        "colab": {},
        "outputId": "abff4936-e648-4895-f0b0-e92be60fab09"
      },
      "source": [
        "# create a plain text calender\n",
        "c = calendar.TextCalendar(calendar.SUNDAY) # indicate which day of the week we want to start on\n",
        "st = c.formatmonth(2019,1,0,0)\n",
        "print(st)"
      ],
      "execution_count": 0,
      "outputs": [
        {
          "output_type": "stream",
          "text": [
            "    January 2019\n",
            "Su Mo Tu We Th Fr Sa\n",
            "       1  2  3  4  5\n",
            " 6  7  8  9 10 11 12\n",
            "13 14 15 16 17 18 19\n",
            "20 21 22 23 24 25 26\n",
            "27 28 29 30 31\n",
            "\n"
          ],
          "name": "stdout"
        }
      ]
    },
    {
      "cell_type": "code",
      "metadata": {
        "id": "7LBcNTMVlb1w",
        "colab_type": "code",
        "colab": {},
        "outputId": "e37625ae-0b8a-4f6d-ea3b-8bfdbb0a1ba8"
      },
      "source": [
        "# create an HTML formatted calendar\n",
        "hc = calendar.HTMLCalendar(calendar.SUNDAY) # indicate which day of the week we want to start on\n",
        "st = hc.formatmonth(2019,1)\n",
        "print(st)"
      ],
      "execution_count": 0,
      "outputs": [
        {
          "output_type": "stream",
          "text": [
            "<table border=\"0\" cellpadding=\"0\" cellspacing=\"0\" class=\"month\">\n",
            "<tr><th colspan=\"7\" class=\"month\">January 2019</th></tr>\n",
            "<tr><th class=\"sun\">Sun</th><th class=\"mon\">Mon</th><th class=\"tue\">Tue</th><th class=\"wed\">Wed</th><th class=\"thu\">Thu</th><th class=\"fri\">Fri</th><th class=\"sat\">Sat</th></tr>\n",
            "<tr><td class=\"noday\">&nbsp;</td><td class=\"noday\">&nbsp;</td><td class=\"tue\">1</td><td class=\"wed\">2</td><td class=\"thu\">3</td><td class=\"fri\">4</td><td class=\"sat\">5</td></tr>\n",
            "<tr><td class=\"sun\">6</td><td class=\"mon\">7</td><td class=\"tue\">8</td><td class=\"wed\">9</td><td class=\"thu\">10</td><td class=\"fri\">11</td><td class=\"sat\">12</td></tr>\n",
            "<tr><td class=\"sun\">13</td><td class=\"mon\">14</td><td class=\"tue\">15</td><td class=\"wed\">16</td><td class=\"thu\">17</td><td class=\"fri\">18</td><td class=\"sat\">19</td></tr>\n",
            "<tr><td class=\"sun\">20</td><td class=\"mon\">21</td><td class=\"tue\">22</td><td class=\"wed\">23</td><td class=\"thu\">24</td><td class=\"fri\">25</td><td class=\"sat\">26</td></tr>\n",
            "<tr><td class=\"sun\">27</td><td class=\"mon\">28</td><td class=\"tue\">29</td><td class=\"wed\">30</td><td class=\"thu\">31</td><td class=\"noday\">&nbsp;</td><td class=\"noday\">&nbsp;</td></tr>\n",
            "</table>\n",
            "\n"
          ],
          "name": "stdout"
        }
      ]
    },
    {
      "cell_type": "code",
      "metadata": {
        "id": "WScIUVIWlb10",
        "colab_type": "code",
        "colab": {},
        "outputId": "407ec8da-fc01-4a65-f40e-7b3adbefa551"
      },
      "source": [
        "# loop over the days of a month\n",
        "# zeros mean that the day of the week is in an overlapping month\n",
        "for i in c.itermonthdays(2019, 8):\n",
        "   print(i)\n",
        "# zeros in the output represent the days that belong to other months"
      ],
      "execution_count": 0,
      "outputs": [
        {
          "output_type": "stream",
          "text": [
            "0\n",
            "0\n",
            "0\n",
            "0\n",
            "1\n",
            "2\n",
            "3\n",
            "4\n",
            "5\n",
            "6\n",
            "7\n",
            "8\n",
            "9\n",
            "10\n",
            "11\n",
            "12\n",
            "13\n",
            "14\n",
            "15\n",
            "16\n",
            "17\n",
            "18\n",
            "19\n",
            "20\n",
            "21\n",
            "22\n",
            "23\n",
            "24\n",
            "25\n",
            "26\n",
            "27\n",
            "28\n",
            "29\n",
            "30\n",
            "31\n"
          ],
          "name": "stdout"
        }
      ]
    },
    {
      "cell_type": "code",
      "metadata": {
        "id": "LKB7sN2Xlb13",
        "colab_type": "code",
        "colab": {},
        "outputId": "51140a72-1e34-40a2-8934-c7d3d75b2057"
      },
      "source": [
        "# The Calendar module provides useful utilities for the given local,\n",
        "# such as the names of days and months in both full and abbreviated forms\n",
        "for name in calendar.month_name:\n",
        "    print(name)\n",
        "\n",
        "for day in calendar.day_name:\n",
        "    print(day)"
      ],
      "execution_count": 0,
      "outputs": [
        {
          "output_type": "stream",
          "text": [
            "\n",
            "January\n",
            "February\n",
            "March\n",
            "April\n",
            "May\n",
            "June\n",
            "July\n",
            "August\n",
            "September\n",
            "October\n",
            "November\n",
            "December\n",
            "Monday\n",
            "Tuesday\n",
            "Wednesday\n",
            "Thursday\n",
            "Friday\n",
            "Saturday\n",
            "Sunday\n"
          ],
          "name": "stdout"
        }
      ]
    },
    {
      "cell_type": "code",
      "metadata": {
        "id": "ntTr7KYilb1_",
        "colab_type": "code",
        "colab": {},
        "outputId": "3e5980f9-235d-49ec-e985-384ac2292a11"
      },
      "source": [
        "# Calculate days based on a rule:\n",
        "# Consider a team meeting on the first Friday of every month. \n",
        "# To figure out what days that would be for each month, we can use this script:\n",
        "print(\"Team meetings will be on:\")\n",
        "for m in range(1,13):\n",
        "    cal = calendar.monthcalendar(2019, m)\n",
        "    weekone=cal[0] # store the first week of the month\n",
        "    weektwo=cal[1] # store the second week of the month\n",
        "    \n",
        "    if weekone[calendar.FRIDAY] != 0:\n",
        "        meetday=weekone[calendar.FRIDAY]\n",
        "    else:\n",
        "        meetday=weektwo[calendar.FRIDAY]\n",
        "    print('{:10s} {:2d}'.format(calendar.month_name[m],meetday))"
      ],
      "execution_count": 0,
      "outputs": [
        {
          "output_type": "stream",
          "text": [
            "Team meetings will be on:\n",
            "January     4\n",
            "February    1\n",
            "March       1\n",
            "April       5\n",
            "May         3\n",
            "June        7\n",
            "July        5\n",
            "August      2\n",
            "September   6\n",
            "October     4\n",
            "November    1\n",
            "December    6\n"
          ],
          "name": "stdout"
        }
      ]
    },
    {
      "cell_type": "code",
      "metadata": {
        "id": "_STtHYCvlb2E",
        "colab_type": "code",
        "colab": {},
        "outputId": "fd797682-986d-4b7b-8312-99201f37dae4"
      },
      "source": [
        "c = calendar.TextCalendar(calendar.SUNDAY) \n",
        "# indicate which day of the week we want to start on\n",
        "# in default it starts on Monday\n",
        "st = c.formatmonth(2019,12,0,0)\n",
        "print(st)"
      ],
      "execution_count": 0,
      "outputs": [
        {
          "output_type": "stream",
          "text": [
            "   December 2019\n",
            "Su Mo Tu We Th Fr Sa\n",
            " 1  2  3  4  5  6  7\n",
            " 8  9 10 11 12 13 14\n",
            "15 16 17 18 19 20 21\n",
            "22 23 24 25 26 27 28\n",
            "29 30 31\n",
            "\n"
          ],
          "name": "stdout"
        }
      ]
    },
    {
      "cell_type": "code",
      "metadata": {
        "id": "6_PHXZ8Ilb2J",
        "colab_type": "code",
        "colab": {},
        "outputId": "cf4db1ca-a716-4e54-c516-971454f9049f"
      },
      "source": [
        "# The calender day starts from Mon, Tue, Wed, Thu, Fri, Sat, Sun\n",
        "# The calender index for each day of a week starts from 0(Mon), 1(Tue),2(Wed),3(Thu), 4(Fri), 5(Sun) and 6(Sun)\n",
        "calendar.monthcalendar(2019, 12)"
      ],
      "execution_count": 0,
      "outputs": [
        {
          "output_type": "execute_result",
          "data": {
            "text/plain": [
              "[[0, 0, 0, 0, 0, 0, 1],\n",
              " [2, 3, 4, 5, 6, 7, 8],\n",
              " [9, 10, 11, 12, 13, 14, 15],\n",
              " [16, 17, 18, 19, 20, 21, 22],\n",
              " [23, 24, 25, 26, 27, 28, 29],\n",
              " [30, 31, 0, 0, 0, 0, 0]]"
            ]
          },
          "metadata": {
            "tags": []
          },
          "execution_count": 109
        }
      ]
    },
    {
      "cell_type": "code",
      "metadata": {
        "id": "BuWCWmrilb2O",
        "colab_type": "code",
        "colab": {},
        "outputId": "b98bc1b7-e691-477b-f2c9-6f439513bee3"
      },
      "source": [
        "weekone # first week of December "
      ],
      "execution_count": 0,
      "outputs": [
        {
          "output_type": "execute_result",
          "data": {
            "text/plain": [
              "[0, 0, 0, 0, 0, 0, 1]"
            ]
          },
          "metadata": {
            "tags": []
          },
          "execution_count": 110
        }
      ]
    },
    {
      "cell_type": "code",
      "metadata": {
        "id": "-DxNjOljlb2S",
        "colab_type": "code",
        "colab": {},
        "outputId": "cec42e59-7795-48b1-d8bc-647a38def0de"
      },
      "source": [
        "weektwo # second week of December "
      ],
      "execution_count": 0,
      "outputs": [
        {
          "output_type": "execute_result",
          "data": {
            "text/plain": [
              "[2, 3, 4, 5, 6, 7, 8]"
            ]
          },
          "metadata": {
            "tags": []
          },
          "execution_count": 111
        }
      ]
    },
    {
      "cell_type": "code",
      "metadata": {
        "id": "K9tSml9xlb2V",
        "colab_type": "code",
        "colab": {},
        "outputId": "1eac21a7-15c7-428b-af05-10d1011e735d"
      },
      "source": [
        "calendar.MONDAY"
      ],
      "execution_count": 0,
      "outputs": [
        {
          "output_type": "execute_result",
          "data": {
            "text/plain": [
              "0"
            ]
          },
          "metadata": {
            "tags": []
          },
          "execution_count": 101
        }
      ]
    },
    {
      "cell_type": "code",
      "metadata": {
        "id": "GPdNxpWvlb2a",
        "colab_type": "code",
        "colab": {},
        "outputId": "01af857a-1e3f-4324-88b6-c5308bfb3333"
      },
      "source": [
        "calendar.TUESDAY"
      ],
      "execution_count": 0,
      "outputs": [
        {
          "output_type": "execute_result",
          "data": {
            "text/plain": [
              "1"
            ]
          },
          "metadata": {
            "tags": []
          },
          "execution_count": 102
        }
      ]
    },
    {
      "cell_type": "code",
      "metadata": {
        "id": "WTegoImAlb2h",
        "colab_type": "code",
        "colab": {},
        "outputId": "5dcf586d-8de2-47d1-ff93-a362c434d842"
      },
      "source": [
        "calendar.WEDNESDAY"
      ],
      "execution_count": 0,
      "outputs": [
        {
          "output_type": "execute_result",
          "data": {
            "text/plain": [
              "2"
            ]
          },
          "metadata": {
            "tags": []
          },
          "execution_count": 103
        }
      ]
    },
    {
      "cell_type": "code",
      "metadata": {
        "id": "UgTwqvqelb2m",
        "colab_type": "code",
        "colab": {},
        "outputId": "e4df685d-c7fb-4dd8-fe0d-b6098841ed62"
      },
      "source": [
        "calendar.THURSDAY"
      ],
      "execution_count": 0,
      "outputs": [
        {
          "output_type": "execute_result",
          "data": {
            "text/plain": [
              "3"
            ]
          },
          "metadata": {
            "tags": []
          },
          "execution_count": 104
        }
      ]
    },
    {
      "cell_type": "code",
      "metadata": {
        "id": "PSIgAat6lb2p",
        "colab_type": "code",
        "colab": {},
        "outputId": "df444edd-5611-4f20-8de5-ec9c5292f60d"
      },
      "source": [
        "calendar.FRIDAY"
      ],
      "execution_count": 0,
      "outputs": [
        {
          "output_type": "execute_result",
          "data": {
            "text/plain": [
              "4"
            ]
          },
          "metadata": {
            "tags": []
          },
          "execution_count": 105
        }
      ]
    },
    {
      "cell_type": "code",
      "metadata": {
        "id": "GbuZANQxlb2w",
        "colab_type": "code",
        "colab": {},
        "outputId": "f264d6c7-4644-465e-e9cf-a75c041c9751"
      },
      "source": [
        "calendar.SATURDAY"
      ],
      "execution_count": 0,
      "outputs": [
        {
          "output_type": "execute_result",
          "data": {
            "text/plain": [
              "5"
            ]
          },
          "metadata": {
            "tags": []
          },
          "execution_count": 106
        }
      ]
    },
    {
      "cell_type": "code",
      "metadata": {
        "id": "PYuWyavAlb20",
        "colab_type": "code",
        "colab": {},
        "outputId": "ccf4e977-a430-479c-adb6-7bb99a6e47a0"
      },
      "source": [
        "calendar.SUNDAY"
      ],
      "execution_count": 0,
      "outputs": [
        {
          "output_type": "execute_result",
          "data": {
            "text/plain": [
              "6"
            ]
          },
          "metadata": {
            "tags": []
          },
          "execution_count": 107
        }
      ]
    },
    {
      "cell_type": "code",
      "metadata": {
        "id": "vj-xPXtTlb25",
        "colab_type": "code",
        "colab": {}
      },
      "source": [
        ""
      ],
      "execution_count": 0,
      "outputs": []
    },
    {
      "cell_type": "code",
      "metadata": {
        "id": "fhDvhF2Ulb28",
        "colab_type": "code",
        "colab": {}
      },
      "source": [
        ""
      ],
      "execution_count": 0,
      "outputs": []
    },
    {
      "cell_type": "code",
      "metadata": {
        "id": "6odpe4IRlb3E",
        "colab_type": "code",
        "colab": {}
      },
      "source": [
        ""
      ],
      "execution_count": 0,
      "outputs": []
    },
    {
      "cell_type": "code",
      "metadata": {
        "id": "cIAMf7w0lb3J",
        "colab_type": "code",
        "colab": {}
      },
      "source": [
        ""
      ],
      "execution_count": 0,
      "outputs": []
    }
  ]
}