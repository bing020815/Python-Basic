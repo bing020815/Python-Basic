{
  "nbformat": 4,
  "nbformat_minor": 0,
  "metadata": {
    "kernelspec": {
      "display_name": "Python 3",
      "language": "python",
      "name": "python3"
    },
    "language_info": {
      "codemirror_mode": {
        "name": "ipython",
        "version": 3
      },
      "file_extension": ".py",
      "mimetype": "text/x-python",
      "name": "python",
      "nbconvert_exporter": "python",
      "pygments_lexer": "ipython3",
      "version": "3.7.3"
    },
    "colab": {
      "name": "Datetime Module.ipynb",
      "provenance": [],
      "include_colab_link": true
    }
  },
  "cells": [
    {
      "cell_type": "markdown",
      "metadata": {
        "id": "view-in-github",
        "colab_type": "text"
      },
      "source": [
        "<a href=\"https://colab.research.google.com/github/bing020815/Python-Basic/blob/master/Datetime/Datetime_Module.ipynb\" target=\"_parent\"><img src=\"https://colab.research.google.com/assets/colab-badge.svg\" alt=\"Open In Colab\"/></a>"
      ]
    },
    {
      "cell_type": "code",
      "metadata": {
        "id": "yX3AgI_Zqaqp",
        "colab_type": "code",
        "colab": {
          "base_uri": "https://localhost:8080/",
          "height": 441
        },
        "outputId": "5f99be8b-5b18-4b3a-d618-bed195dbfd3f"
      },
      "source": [
        "%%HTML\n",
        "<iframe width=\"680\" height=\"420\" src=\"https://www.youtube.com/embed/eirjjyP2qcQ\" frameborder=\"0\" allow=\"accelerometer; autoplay; encrypted-media; gyroscope; picture-in-picture\" allowfullscreen></iframe>"
      ],
      "execution_count": 1,
      "outputs": [
        {
          "output_type": "display_data",
          "data": {
            "text/html": [
              "<iframe width=\"680\" height=\"420\" src=\"https://www.youtube.com/embed/eirjjyP2qcQ\" frameborder=\"0\" allow=\"accelerometer; autoplay; encrypted-media; gyroscope; picture-in-picture\" allowfullscreen></iframe>"
            ],
            "text/plain": [
              "<IPython.core.display.HTML object>"
            ]
          },
          "metadata": {
            "tags": []
          }
        }
      ]
    },
    {
      "cell_type": "code",
      "metadata": {
        "id": "4qWEIHdaqaq7",
        "colab_type": "code",
        "colab": {}
      },
      "source": [
        "import datetime"
      ],
      "execution_count": 0,
      "outputs": []
    },
    {
      "cell_type": "code",
      "metadata": {
        "id": "QVserSr9qarD",
        "colab_type": "code",
        "colab": {
          "base_uri": "https://localhost:8080/",
          "height": 35
        },
        "outputId": "32ecbf57-2ea8-4962-b182-5bdfd071413e"
      },
      "source": [
        "# create a date\n",
        "d = datetime.date(2016,7,24)\n",
        "print(d)"
      ],
      "execution_count": 3,
      "outputs": [
        {
          "output_type": "stream",
          "text": [
            "2016-07-24\n"
          ],
          "name": "stdout"
        }
      ]
    },
    {
      "cell_type": "code",
      "metadata": {
        "scrolled": true,
        "id": "pHUV6GF_qarI",
        "colab_type": "code",
        "colab": {
          "base_uri": "https://localhost:8080/",
          "height": 106
        },
        "outputId": "8551262d-7981-4b47-ab16-62ce54d8337b"
      },
      "source": [
        "# get today local date\n",
        "tday = datetime.date.today()\n",
        "print(tday.year)\n",
        "print(tday.month)\n",
        "print(tday.day)\n",
        "print(tday.weekday())    #  Monday: 0 ; Sunday: 6\n",
        "print(tday.isoweekday()) #  Monday: 1 ; Sunday: 7"
      ],
      "execution_count": 4,
      "outputs": [
        {
          "output_type": "stream",
          "text": [
            "2020\n",
            "3\n",
            "4\n",
            "2\n",
            "3\n"
          ],
          "name": "stdout"
        }
      ]
    },
    {
      "cell_type": "code",
      "metadata": {
        "id": "HGcVXuLbqarN",
        "colab_type": "code",
        "colab": {}
      },
      "source": [
        "# Create a 7  days time delta\n",
        "tdelta = datetime.timedelta(days=7)"
      ],
      "execution_count": 0,
      "outputs": []
    },
    {
      "cell_type": "code",
      "metadata": {
        "id": "qfsxnPRCqarU",
        "colab_type": "code",
        "colab": {
          "base_uri": "https://localhost:8080/",
          "height": 35
        },
        "outputId": "d9e228e7-598d-4cfc-a962-04dcbf1dd421"
      },
      "source": [
        "# One week ahead\n",
        "print(tday+tdelta)"
      ],
      "execution_count": 6,
      "outputs": [
        {
          "output_type": "stream",
          "text": [
            "2020-03-11\n"
          ],
          "name": "stdout"
        }
      ]
    },
    {
      "cell_type": "code",
      "metadata": {
        "id": "q4Kizb_mqara",
        "colab_type": "code",
        "colab": {
          "base_uri": "https://localhost:8080/",
          "height": 35
        },
        "outputId": "0881bd41-454e-4b33-fab4-3a15df0ef039"
      },
      "source": [
        "# One week before\n",
        "print(tday-tdelta)"
      ],
      "execution_count": 7,
      "outputs": [
        {
          "output_type": "stream",
          "text": [
            "2020-02-26\n"
          ],
          "name": "stdout"
        }
      ]
    },
    {
      "cell_type": "markdown",
      "metadata": {
        "id": "lZAHYWgJqari",
        "colab_type": "text"
      },
      "source": [
        "1. date 2 = date 1 + timedelta  \n",
        "2. timedelta = date 1 + date 2  "
      ]
    },
    {
      "cell_type": "code",
      "metadata": {
        "id": "aP9PKhmTqarl",
        "colab_type": "code",
        "colab": {
          "base_uri": "https://localhost:8080/",
          "height": 70
        },
        "outputId": "c6b823f3-fcb2-4a9a-bffc-913d3f29827e"
      },
      "source": [
        "bday=datetime.date(2020,9,24)\n",
        "till_bday=bday-tday\n",
        "print(till_bday)\n",
        "print(till_bday.days)\n",
        "print(till_bday.total_seconds())"
      ],
      "execution_count": 8,
      "outputs": [
        {
          "output_type": "stream",
          "text": [
            "204 days, 0:00:00\n",
            "204\n",
            "17625600.0\n"
          ],
          "name": "stdout"
        }
      ]
    },
    {
      "cell_type": "code",
      "metadata": {
        "id": "On5IYSl2qarq",
        "colab_type": "code",
        "colab": {
          "base_uri": "https://localhost:8080/",
          "height": 52
        },
        "outputId": "7512f235-2bc3-49d3-af8f-4531bbbb000b"
      },
      "source": [
        "t=datetime.time(9,29,45,100000)\n",
        "print(t)\n",
        "print(t.hour)"
      ],
      "execution_count": 9,
      "outputs": [
        {
          "output_type": "stream",
          "text": [
            "09:29:45.100000\n",
            "9\n"
          ],
          "name": "stdout"
        }
      ]
    },
    {
      "cell_type": "code",
      "metadata": {
        "id": "Hn2kLIn_qarz",
        "colab_type": "code",
        "colab": {
          "base_uri": "https://localhost:8080/",
          "height": 88
        },
        "outputId": "f9035e25-f3bc-4fc1-e959-ceb22c8729a1"
      },
      "source": [
        "dt=datetime.datetime(2016,7,26,13,30,45, 100000)\n",
        "print(dt)\n",
        "print(dt.date())\n",
        "print(dt.time())\n",
        "print(dt.year)"
      ],
      "execution_count": 10,
      "outputs": [
        {
          "output_type": "stream",
          "text": [
            "2016-07-26 13:30:45.100000\n",
            "2016-07-26\n",
            "13:30:45.100000\n",
            "2016\n"
          ],
          "name": "stdout"
        }
      ]
    },
    {
      "cell_type": "code",
      "metadata": {
        "id": "Rt61Pn9uqar4",
        "colab_type": "code",
        "colab": {
          "base_uri": "https://localhost:8080/",
          "height": 35
        },
        "outputId": "8ae926b0-d080-4617-92ec-ecc02f777d88"
      },
      "source": [
        "# Create a 7  days time delta\n",
        "tdelta = datetime.timedelta(hours=12)\n",
        "print(dt+tdelta)"
      ],
      "execution_count": 11,
      "outputs": [
        {
          "output_type": "stream",
          "text": [
            "2016-07-27 01:30:45.100000\n"
          ],
          "name": "stdout"
        }
      ]
    },
    {
      "cell_type": "code",
      "metadata": {
        "id": "rU6rVaODqar8",
        "colab_type": "code",
        "colab": {}
      },
      "source": [
        "dt_today=datetime.datetime.today()\n",
        "dt_now=datetime.datetime.now()\n",
        "dt_utcnow=datetime.datetime.utcnow()"
      ],
      "execution_count": 0,
      "outputs": []
    },
    {
      "cell_type": "code",
      "metadata": {
        "id": "MVTuDb8PqasA",
        "colab_type": "code",
        "colab": {
          "base_uri": "https://localhost:8080/",
          "height": 70
        },
        "outputId": "e1f5b3cc-77b2-45a2-81c6-ac4582c3816b"
      },
      "source": [
        "print(dt_today)\n",
        "print(dt_now)\n",
        "print(dt_utcnow)"
      ],
      "execution_count": 13,
      "outputs": [
        {
          "output_type": "stream",
          "text": [
            "2020-03-04 22:28:22.508616\n",
            "2020-03-04 22:28:22.508659\n",
            "2020-03-04 22:28:22.508687\n"
          ],
          "name": "stdout"
        }
      ]
    },
    {
      "cell_type": "code",
      "metadata": {
        "id": "Dj_qVBgVqasH",
        "colab_type": "code",
        "colab": {}
      },
      "source": [
        "#pip install pytz"
      ],
      "execution_count": 0,
      "outputs": []
    },
    {
      "cell_type": "code",
      "metadata": {
        "id": "DBW1wVp8qasK",
        "colab_type": "code",
        "colab": {}
      },
      "source": [
        "import datetime\n",
        "import pytz"
      ],
      "execution_count": 0,
      "outputs": []
    },
    {
      "cell_type": "code",
      "metadata": {
        "id": "MsEPrgRbqasS",
        "colab_type": "code",
        "colab": {
          "base_uri": "https://localhost:8080/",
          "height": 35
        },
        "outputId": "41aae422-f1d5-4672-b4a5-372b7e63bab8"
      },
      "source": [
        "dt=datetime.datetime(2016,7,27,12,30,45,tzinfo=pytz.UTC)\n",
        "print(dt)"
      ],
      "execution_count": 16,
      "outputs": [
        {
          "output_type": "stream",
          "text": [
            "2016-07-27 12:30:45+00:00\n"
          ],
          "name": "stdout"
        }
      ]
    },
    {
      "cell_type": "code",
      "metadata": {
        "id": "ogZK4iOSqasZ",
        "colab_type": "code",
        "colab": {
          "base_uri": "https://localhost:8080/",
          "height": 35
        },
        "outputId": "321a1291-16bc-4978-e251-ab7c794aee6a"
      },
      "source": [
        "dt_utcow=datetime.datetime.now(tz=pytz.UTC)\n",
        "print(dt_utcnow)"
      ],
      "execution_count": 17,
      "outputs": [
        {
          "output_type": "stream",
          "text": [
            "2020-03-04 22:28:22.508687\n"
          ],
          "name": "stdout"
        }
      ]
    },
    {
      "cell_type": "code",
      "metadata": {
        "id": "gUk92p23qasd",
        "colab_type": "code",
        "colab": {
          "base_uri": "https://localhost:8080/",
          "height": 35
        },
        "outputId": "86b70dc4-4a14-4f15-ea1c-afd8acedc09a"
      },
      "source": [
        "dt_mtn=dt_utcnow.astimezone(pytz.timezone('US/Eastern'))\n",
        "print(dt_mtn)"
      ],
      "execution_count": 18,
      "outputs": [
        {
          "output_type": "stream",
          "text": [
            "2020-03-04 17:28:22.508687-05:00\n"
          ],
          "name": "stdout"
        }
      ]
    },
    {
      "cell_type": "code",
      "metadata": {
        "scrolled": true,
        "id": "kdkPt_i8qasj",
        "colab_type": "code",
        "colab": {
          "base_uri": "https://localhost:8080/",
          "height": 1000
        },
        "outputId": "1f60d9b6-76b3-46a6-b170-2bf431edeb0e"
      },
      "source": [
        "for tz in pytz.all_timezones:\n",
        "    print(tz)"
      ],
      "execution_count": 19,
      "outputs": [
        {
          "output_type": "stream",
          "text": [
            "Africa/Abidjan\n",
            "Africa/Accra\n",
            "Africa/Addis_Ababa\n",
            "Africa/Algiers\n",
            "Africa/Asmara\n",
            "Africa/Asmera\n",
            "Africa/Bamako\n",
            "Africa/Bangui\n",
            "Africa/Banjul\n",
            "Africa/Bissau\n",
            "Africa/Blantyre\n",
            "Africa/Brazzaville\n",
            "Africa/Bujumbura\n",
            "Africa/Cairo\n",
            "Africa/Casablanca\n",
            "Africa/Ceuta\n",
            "Africa/Conakry\n",
            "Africa/Dakar\n",
            "Africa/Dar_es_Salaam\n",
            "Africa/Djibouti\n",
            "Africa/Douala\n",
            "Africa/El_Aaiun\n",
            "Africa/Freetown\n",
            "Africa/Gaborone\n",
            "Africa/Harare\n",
            "Africa/Johannesburg\n",
            "Africa/Juba\n",
            "Africa/Kampala\n",
            "Africa/Khartoum\n",
            "Africa/Kigali\n",
            "Africa/Kinshasa\n",
            "Africa/Lagos\n",
            "Africa/Libreville\n",
            "Africa/Lome\n",
            "Africa/Luanda\n",
            "Africa/Lubumbashi\n",
            "Africa/Lusaka\n",
            "Africa/Malabo\n",
            "Africa/Maputo\n",
            "Africa/Maseru\n",
            "Africa/Mbabane\n",
            "Africa/Mogadishu\n",
            "Africa/Monrovia\n",
            "Africa/Nairobi\n",
            "Africa/Ndjamena\n",
            "Africa/Niamey\n",
            "Africa/Nouakchott\n",
            "Africa/Ouagadougou\n",
            "Africa/Porto-Novo\n",
            "Africa/Sao_Tome\n",
            "Africa/Timbuktu\n",
            "Africa/Tripoli\n",
            "Africa/Tunis\n",
            "Africa/Windhoek\n",
            "America/Adak\n",
            "America/Anchorage\n",
            "America/Anguilla\n",
            "America/Antigua\n",
            "America/Araguaina\n",
            "America/Argentina/Buenos_Aires\n",
            "America/Argentina/Catamarca\n",
            "America/Argentina/ComodRivadavia\n",
            "America/Argentina/Cordoba\n",
            "America/Argentina/Jujuy\n",
            "America/Argentina/La_Rioja\n",
            "America/Argentina/Mendoza\n",
            "America/Argentina/Rio_Gallegos\n",
            "America/Argentina/Salta\n",
            "America/Argentina/San_Juan\n",
            "America/Argentina/San_Luis\n",
            "America/Argentina/Tucuman\n",
            "America/Argentina/Ushuaia\n",
            "America/Aruba\n",
            "America/Asuncion\n",
            "America/Atikokan\n",
            "America/Atka\n",
            "America/Bahia\n",
            "America/Bahia_Banderas\n",
            "America/Barbados\n",
            "America/Belem\n",
            "America/Belize\n",
            "America/Blanc-Sablon\n",
            "America/Boa_Vista\n",
            "America/Bogota\n",
            "America/Boise\n",
            "America/Buenos_Aires\n",
            "America/Cambridge_Bay\n",
            "America/Campo_Grande\n",
            "America/Cancun\n",
            "America/Caracas\n",
            "America/Catamarca\n",
            "America/Cayenne\n",
            "America/Cayman\n",
            "America/Chicago\n",
            "America/Chihuahua\n",
            "America/Coral_Harbour\n",
            "America/Cordoba\n",
            "America/Costa_Rica\n",
            "America/Creston\n",
            "America/Cuiaba\n",
            "America/Curacao\n",
            "America/Danmarkshavn\n",
            "America/Dawson\n",
            "America/Dawson_Creek\n",
            "America/Denver\n",
            "America/Detroit\n",
            "America/Dominica\n",
            "America/Edmonton\n",
            "America/Eirunepe\n",
            "America/El_Salvador\n",
            "America/Ensenada\n",
            "America/Fort_Nelson\n",
            "America/Fort_Wayne\n",
            "America/Fortaleza\n",
            "America/Glace_Bay\n",
            "America/Godthab\n",
            "America/Goose_Bay\n",
            "America/Grand_Turk\n",
            "America/Grenada\n",
            "America/Guadeloupe\n",
            "America/Guatemala\n",
            "America/Guayaquil\n",
            "America/Guyana\n",
            "America/Halifax\n",
            "America/Havana\n",
            "America/Hermosillo\n",
            "America/Indiana/Indianapolis\n",
            "America/Indiana/Knox\n",
            "America/Indiana/Marengo\n",
            "America/Indiana/Petersburg\n",
            "America/Indiana/Tell_City\n",
            "America/Indiana/Vevay\n",
            "America/Indiana/Vincennes\n",
            "America/Indiana/Winamac\n",
            "America/Indianapolis\n",
            "America/Inuvik\n",
            "America/Iqaluit\n",
            "America/Jamaica\n",
            "America/Jujuy\n",
            "America/Juneau\n",
            "America/Kentucky/Louisville\n",
            "America/Kentucky/Monticello\n",
            "America/Knox_IN\n",
            "America/Kralendijk\n",
            "America/La_Paz\n",
            "America/Lima\n",
            "America/Los_Angeles\n",
            "America/Louisville\n",
            "America/Lower_Princes\n",
            "America/Maceio\n",
            "America/Managua\n",
            "America/Manaus\n",
            "America/Marigot\n",
            "America/Martinique\n",
            "America/Matamoros\n",
            "America/Mazatlan\n",
            "America/Mendoza\n",
            "America/Menominee\n",
            "America/Merida\n",
            "America/Metlakatla\n",
            "America/Mexico_City\n",
            "America/Miquelon\n",
            "America/Moncton\n",
            "America/Monterrey\n",
            "America/Montevideo\n",
            "America/Montreal\n",
            "America/Montserrat\n",
            "America/Nassau\n",
            "America/New_York\n",
            "America/Nipigon\n",
            "America/Nome\n",
            "America/Noronha\n",
            "America/North_Dakota/Beulah\n",
            "America/North_Dakota/Center\n",
            "America/North_Dakota/New_Salem\n",
            "America/Ojinaga\n",
            "America/Panama\n",
            "America/Pangnirtung\n",
            "America/Paramaribo\n",
            "America/Phoenix\n",
            "America/Port-au-Prince\n",
            "America/Port_of_Spain\n",
            "America/Porto_Acre\n",
            "America/Porto_Velho\n",
            "America/Puerto_Rico\n",
            "America/Punta_Arenas\n",
            "America/Rainy_River\n",
            "America/Rankin_Inlet\n",
            "America/Recife\n",
            "America/Regina\n",
            "America/Resolute\n",
            "America/Rio_Branco\n",
            "America/Rosario\n",
            "America/Santa_Isabel\n",
            "America/Santarem\n",
            "America/Santiago\n",
            "America/Santo_Domingo\n",
            "America/Sao_Paulo\n",
            "America/Scoresbysund\n",
            "America/Shiprock\n",
            "America/Sitka\n",
            "America/St_Barthelemy\n",
            "America/St_Johns\n",
            "America/St_Kitts\n",
            "America/St_Lucia\n",
            "America/St_Thomas\n",
            "America/St_Vincent\n",
            "America/Swift_Current\n",
            "America/Tegucigalpa\n",
            "America/Thule\n",
            "America/Thunder_Bay\n",
            "America/Tijuana\n",
            "America/Toronto\n",
            "America/Tortola\n",
            "America/Vancouver\n",
            "America/Virgin\n",
            "America/Whitehorse\n",
            "America/Winnipeg\n",
            "America/Yakutat\n",
            "America/Yellowknife\n",
            "Antarctica/Casey\n",
            "Antarctica/Davis\n",
            "Antarctica/DumontDUrville\n",
            "Antarctica/Macquarie\n",
            "Antarctica/Mawson\n",
            "Antarctica/McMurdo\n",
            "Antarctica/Palmer\n",
            "Antarctica/Rothera\n",
            "Antarctica/South_Pole\n",
            "Antarctica/Syowa\n",
            "Antarctica/Troll\n",
            "Antarctica/Vostok\n",
            "Arctic/Longyearbyen\n",
            "Asia/Aden\n",
            "Asia/Almaty\n",
            "Asia/Amman\n",
            "Asia/Anadyr\n",
            "Asia/Aqtau\n",
            "Asia/Aqtobe\n",
            "Asia/Ashgabat\n",
            "Asia/Ashkhabad\n",
            "Asia/Atyrau\n",
            "Asia/Baghdad\n",
            "Asia/Bahrain\n",
            "Asia/Baku\n",
            "Asia/Bangkok\n",
            "Asia/Barnaul\n",
            "Asia/Beirut\n",
            "Asia/Bishkek\n",
            "Asia/Brunei\n",
            "Asia/Calcutta\n",
            "Asia/Chita\n",
            "Asia/Choibalsan\n",
            "Asia/Chongqing\n",
            "Asia/Chungking\n",
            "Asia/Colombo\n",
            "Asia/Dacca\n",
            "Asia/Damascus\n",
            "Asia/Dhaka\n",
            "Asia/Dili\n",
            "Asia/Dubai\n",
            "Asia/Dushanbe\n",
            "Asia/Famagusta\n",
            "Asia/Gaza\n",
            "Asia/Harbin\n",
            "Asia/Hebron\n",
            "Asia/Ho_Chi_Minh\n",
            "Asia/Hong_Kong\n",
            "Asia/Hovd\n",
            "Asia/Irkutsk\n",
            "Asia/Istanbul\n",
            "Asia/Jakarta\n",
            "Asia/Jayapura\n",
            "Asia/Jerusalem\n",
            "Asia/Kabul\n",
            "Asia/Kamchatka\n",
            "Asia/Karachi\n",
            "Asia/Kashgar\n",
            "Asia/Kathmandu\n",
            "Asia/Katmandu\n",
            "Asia/Khandyga\n",
            "Asia/Kolkata\n",
            "Asia/Krasnoyarsk\n",
            "Asia/Kuala_Lumpur\n",
            "Asia/Kuching\n",
            "Asia/Kuwait\n",
            "Asia/Macao\n",
            "Asia/Macau\n",
            "Asia/Magadan\n",
            "Asia/Makassar\n",
            "Asia/Manila\n",
            "Asia/Muscat\n",
            "Asia/Nicosia\n",
            "Asia/Novokuznetsk\n",
            "Asia/Novosibirsk\n",
            "Asia/Omsk\n",
            "Asia/Oral\n",
            "Asia/Phnom_Penh\n",
            "Asia/Pontianak\n",
            "Asia/Pyongyang\n",
            "Asia/Qatar\n",
            "Asia/Qostanay\n",
            "Asia/Qyzylorda\n",
            "Asia/Rangoon\n",
            "Asia/Riyadh\n",
            "Asia/Saigon\n",
            "Asia/Sakhalin\n",
            "Asia/Samarkand\n",
            "Asia/Seoul\n",
            "Asia/Shanghai\n",
            "Asia/Singapore\n",
            "Asia/Srednekolymsk\n",
            "Asia/Taipei\n",
            "Asia/Tashkent\n",
            "Asia/Tbilisi\n",
            "Asia/Tehran\n",
            "Asia/Tel_Aviv\n",
            "Asia/Thimbu\n",
            "Asia/Thimphu\n",
            "Asia/Tokyo\n",
            "Asia/Tomsk\n",
            "Asia/Ujung_Pandang\n",
            "Asia/Ulaanbaatar\n",
            "Asia/Ulan_Bator\n",
            "Asia/Urumqi\n",
            "Asia/Ust-Nera\n",
            "Asia/Vientiane\n",
            "Asia/Vladivostok\n",
            "Asia/Yakutsk\n",
            "Asia/Yangon\n",
            "Asia/Yekaterinburg\n",
            "Asia/Yerevan\n",
            "Atlantic/Azores\n",
            "Atlantic/Bermuda\n",
            "Atlantic/Canary\n",
            "Atlantic/Cape_Verde\n",
            "Atlantic/Faeroe\n",
            "Atlantic/Faroe\n",
            "Atlantic/Jan_Mayen\n",
            "Atlantic/Madeira\n",
            "Atlantic/Reykjavik\n",
            "Atlantic/South_Georgia\n",
            "Atlantic/St_Helena\n",
            "Atlantic/Stanley\n",
            "Australia/ACT\n",
            "Australia/Adelaide\n",
            "Australia/Brisbane\n",
            "Australia/Broken_Hill\n",
            "Australia/Canberra\n",
            "Australia/Currie\n",
            "Australia/Darwin\n",
            "Australia/Eucla\n",
            "Australia/Hobart\n",
            "Australia/LHI\n",
            "Australia/Lindeman\n",
            "Australia/Lord_Howe\n",
            "Australia/Melbourne\n",
            "Australia/NSW\n",
            "Australia/North\n",
            "Australia/Perth\n",
            "Australia/Queensland\n",
            "Australia/South\n",
            "Australia/Sydney\n",
            "Australia/Tasmania\n",
            "Australia/Victoria\n",
            "Australia/West\n",
            "Australia/Yancowinna\n",
            "Brazil/Acre\n",
            "Brazil/DeNoronha\n",
            "Brazil/East\n",
            "Brazil/West\n",
            "CET\n",
            "CST6CDT\n",
            "Canada/Atlantic\n",
            "Canada/Central\n",
            "Canada/Eastern\n",
            "Canada/Mountain\n",
            "Canada/Newfoundland\n",
            "Canada/Pacific\n",
            "Canada/Saskatchewan\n",
            "Canada/Yukon\n",
            "Chile/Continental\n",
            "Chile/EasterIsland\n",
            "Cuba\n",
            "EET\n",
            "EST\n",
            "EST5EDT\n",
            "Egypt\n",
            "Eire\n",
            "Etc/GMT\n",
            "Etc/GMT+0\n",
            "Etc/GMT+1\n",
            "Etc/GMT+10\n",
            "Etc/GMT+11\n",
            "Etc/GMT+12\n",
            "Etc/GMT+2\n",
            "Etc/GMT+3\n",
            "Etc/GMT+4\n",
            "Etc/GMT+5\n",
            "Etc/GMT+6\n",
            "Etc/GMT+7\n",
            "Etc/GMT+8\n",
            "Etc/GMT+9\n",
            "Etc/GMT-0\n",
            "Etc/GMT-1\n",
            "Etc/GMT-10\n",
            "Etc/GMT-11\n",
            "Etc/GMT-12\n",
            "Etc/GMT-13\n",
            "Etc/GMT-14\n",
            "Etc/GMT-2\n",
            "Etc/GMT-3\n",
            "Etc/GMT-4\n",
            "Etc/GMT-5\n",
            "Etc/GMT-6\n",
            "Etc/GMT-7\n",
            "Etc/GMT-8\n",
            "Etc/GMT-9\n",
            "Etc/GMT0\n",
            "Etc/Greenwich\n",
            "Etc/UCT\n",
            "Etc/UTC\n",
            "Etc/Universal\n",
            "Etc/Zulu\n",
            "Europe/Amsterdam\n",
            "Europe/Andorra\n",
            "Europe/Astrakhan\n",
            "Europe/Athens\n",
            "Europe/Belfast\n",
            "Europe/Belgrade\n",
            "Europe/Berlin\n",
            "Europe/Bratislava\n",
            "Europe/Brussels\n",
            "Europe/Bucharest\n",
            "Europe/Budapest\n",
            "Europe/Busingen\n",
            "Europe/Chisinau\n",
            "Europe/Copenhagen\n",
            "Europe/Dublin\n",
            "Europe/Gibraltar\n",
            "Europe/Guernsey\n",
            "Europe/Helsinki\n",
            "Europe/Isle_of_Man\n",
            "Europe/Istanbul\n",
            "Europe/Jersey\n",
            "Europe/Kaliningrad\n",
            "Europe/Kiev\n",
            "Europe/Kirov\n",
            "Europe/Lisbon\n",
            "Europe/Ljubljana\n",
            "Europe/London\n",
            "Europe/Luxembourg\n",
            "Europe/Madrid\n",
            "Europe/Malta\n",
            "Europe/Mariehamn\n",
            "Europe/Minsk\n",
            "Europe/Monaco\n",
            "Europe/Moscow\n",
            "Europe/Nicosia\n",
            "Europe/Oslo\n",
            "Europe/Paris\n",
            "Europe/Podgorica\n",
            "Europe/Prague\n",
            "Europe/Riga\n",
            "Europe/Rome\n",
            "Europe/Samara\n",
            "Europe/San_Marino\n",
            "Europe/Sarajevo\n",
            "Europe/Saratov\n",
            "Europe/Simferopol\n",
            "Europe/Skopje\n",
            "Europe/Sofia\n",
            "Europe/Stockholm\n",
            "Europe/Tallinn\n",
            "Europe/Tirane\n",
            "Europe/Tiraspol\n",
            "Europe/Ulyanovsk\n",
            "Europe/Uzhgorod\n",
            "Europe/Vaduz\n",
            "Europe/Vatican\n",
            "Europe/Vienna\n",
            "Europe/Vilnius\n",
            "Europe/Volgograd\n",
            "Europe/Warsaw\n",
            "Europe/Zagreb\n",
            "Europe/Zaporozhye\n",
            "Europe/Zurich\n",
            "GB\n",
            "GB-Eire\n",
            "GMT\n",
            "GMT+0\n",
            "GMT-0\n",
            "GMT0\n",
            "Greenwich\n",
            "HST\n",
            "Hongkong\n",
            "Iceland\n",
            "Indian/Antananarivo\n",
            "Indian/Chagos\n",
            "Indian/Christmas\n",
            "Indian/Cocos\n",
            "Indian/Comoro\n",
            "Indian/Kerguelen\n",
            "Indian/Mahe\n",
            "Indian/Maldives\n",
            "Indian/Mauritius\n",
            "Indian/Mayotte\n",
            "Indian/Reunion\n",
            "Iran\n",
            "Israel\n",
            "Jamaica\n",
            "Japan\n",
            "Kwajalein\n",
            "Libya\n",
            "MET\n",
            "MST\n",
            "MST7MDT\n",
            "Mexico/BajaNorte\n",
            "Mexico/BajaSur\n",
            "Mexico/General\n",
            "NZ\n",
            "NZ-CHAT\n",
            "Navajo\n",
            "PRC\n",
            "PST8PDT\n",
            "Pacific/Apia\n",
            "Pacific/Auckland\n",
            "Pacific/Bougainville\n",
            "Pacific/Chatham\n",
            "Pacific/Chuuk\n",
            "Pacific/Easter\n",
            "Pacific/Efate\n",
            "Pacific/Enderbury\n",
            "Pacific/Fakaofo\n",
            "Pacific/Fiji\n",
            "Pacific/Funafuti\n",
            "Pacific/Galapagos\n",
            "Pacific/Gambier\n",
            "Pacific/Guadalcanal\n",
            "Pacific/Guam\n",
            "Pacific/Honolulu\n",
            "Pacific/Johnston\n",
            "Pacific/Kiritimati\n",
            "Pacific/Kosrae\n",
            "Pacific/Kwajalein\n",
            "Pacific/Majuro\n",
            "Pacific/Marquesas\n",
            "Pacific/Midway\n",
            "Pacific/Nauru\n",
            "Pacific/Niue\n",
            "Pacific/Norfolk\n",
            "Pacific/Noumea\n",
            "Pacific/Pago_Pago\n",
            "Pacific/Palau\n",
            "Pacific/Pitcairn\n",
            "Pacific/Pohnpei\n",
            "Pacific/Ponape\n",
            "Pacific/Port_Moresby\n",
            "Pacific/Rarotonga\n",
            "Pacific/Saipan\n",
            "Pacific/Samoa\n",
            "Pacific/Tahiti\n",
            "Pacific/Tarawa\n",
            "Pacific/Tongatapu\n",
            "Pacific/Truk\n",
            "Pacific/Wake\n",
            "Pacific/Wallis\n",
            "Pacific/Yap\n",
            "Poland\n",
            "Portugal\n",
            "ROC\n",
            "ROK\n",
            "Singapore\n",
            "Turkey\n",
            "UCT\n",
            "US/Alaska\n",
            "US/Aleutian\n",
            "US/Arizona\n",
            "US/Central\n",
            "US/East-Indiana\n",
            "US/Eastern\n",
            "US/Hawaii\n",
            "US/Indiana-Starke\n",
            "US/Michigan\n",
            "US/Mountain\n",
            "US/Pacific\n",
            "US/Samoa\n",
            "UTC\n",
            "Universal\n",
            "W-SU\n",
            "WET\n",
            "Zulu\n"
          ],
          "name": "stdout"
        }
      ]
    },
    {
      "cell_type": "code",
      "metadata": {
        "id": "iEIrZdE4qasp",
        "colab_type": "code",
        "colab": {
          "base_uri": "https://localhost:8080/",
          "height": 35
        },
        "outputId": "37ce8c6f-b47b-4b1c-ffb4-6395f6775bfc"
      },
      "source": [
        "# strftime : Datetime to String\n",
        "print(dt_mtn.strftime('%B %d, %Y'))"
      ],
      "execution_count": 20,
      "outputs": [
        {
          "output_type": "stream",
          "text": [
            "March 04, 2020\n"
          ],
          "name": "stdout"
        }
      ]
    },
    {
      "cell_type": "code",
      "metadata": {
        "id": "vcfc5fkEqass",
        "colab_type": "code",
        "colab": {
          "base_uri": "https://localhost:8080/",
          "height": 35
        },
        "outputId": "ec307204-aef7-4759-9e11-7328da70046f"
      },
      "source": [
        "# strptime : String to Datetime\n",
        "dt_str='November 26, 2019'\n",
        "dt=datetime.datetime.strptime(dt_str, '%B %d, %Y')\n",
        "print(dt)"
      ],
      "execution_count": 21,
      "outputs": [
        {
          "output_type": "stream",
          "text": [
            "2019-11-26 00:00:00\n"
          ],
          "name": "stdout"
        }
      ]
    },
    {
      "cell_type": "code",
      "metadata": {
        "id": "6ipQuoA6qas3",
        "colab_type": "code",
        "colab": {}
      },
      "source": [
        ""
      ],
      "execution_count": 0,
      "outputs": []
    }
  ]
}