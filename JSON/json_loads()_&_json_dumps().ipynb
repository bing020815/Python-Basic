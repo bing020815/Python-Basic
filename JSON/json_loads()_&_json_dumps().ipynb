{
  "nbformat": 4,
  "nbformat_minor": 0,
  "metadata": {
    "kernelspec": {
      "display_name": "Python 3",
      "language": "python",
      "name": "python3"
    },
    "language_info": {
      "codemirror_mode": {
        "name": "ipython",
        "version": 3
      },
      "file_extension": ".py",
      "mimetype": "text/x-python",
      "name": "python",
      "nbconvert_exporter": "python",
      "pygments_lexer": "ipython3",
      "version": "3.7.3"
    },
    "colab": {
      "name": "json.loads() & json.dumps().ipynb",
      "provenance": [],
      "include_colab_link": true
    }
  },
  "cells": [
    {
      "cell_type": "markdown",
      "metadata": {
        "id": "view-in-github",
        "colab_type": "text"
      },
      "source": [
        "<a href=\"https://colab.research.google.com/github/bing020815/Python-Basic/blob/master/JSON/json_loads()_%26_json_dumps().ipynb\" target=\"_parent\"><img src=\"https://colab.research.google.com/assets/colab-badge.svg\" alt=\"Open In Colab\"/></a>"
      ]
    },
    {
      "cell_type": "markdown",
      "metadata": {
        "id": "qPJGOm1qi0g5",
        "colab_type": "text"
      },
      "source": [
        "https://www.bogotobogo.com/python/python-json-dumps-loads-file-read-write.php"
      ]
    },
    {
      "cell_type": "markdown",
      "metadata": {
        "id": "XErkKx4wi0g9",
        "colab_type": "text"
      },
      "source": [
        "Create a JSON for the following demo:"
      ]
    },
    {
      "cell_type": "code",
      "metadata": {
        "id": "mtKPQjvui0g-",
        "colab_type": "code",
        "colab": {}
      },
      "source": [
        "injson={'alpha': 1, 'beta': 2}\n",
        "import json\n",
        "with open('in.json', 'w', encoding='utf-8') as tfile:\n",
        "    json.dump(injson, tfile, ensure_ascii=False, indent=4)\n",
        "    # The use of \"ensure_ascii=False\" and \"indent=4\" gives better readability and smaller size"
      ],
      "execution_count": 0,
      "outputs": []
    },
    {
      "cell_type": "markdown",
      "metadata": {
        "id": "vG5u7r2ti0hG",
        "colab_type": "text"
      },
      "source": [
        "* Associate with files:\n",
        "    + dump: dict -> str file\n",
        "    + load: str file -> dict \n",
        "  \n",
        "  \n",
        "* Not associate with files:\n",
        "    + dumps: dict -> str \n",
        "    + loads: str -> dict"
      ]
    },
    {
      "cell_type": "markdown",
      "metadata": {
        "id": "HhHFgMtai0hI",
        "colab_type": "text"
      },
      "source": [
        "### There are two ways of reading in (load/loads) json file:"
      ]
    },
    {
      "cell_type": "markdown",
      "metadata": {
        "id": "B3KDI_wui0hJ",
        "colab_type": "text"
      },
      "source": [
        "1. String:"
      ]
    },
    {
      "cell_type": "code",
      "metadata": {
        "scrolled": true,
        "id": "1bZWBmO4i0hM",
        "colab_type": "code",
        "colab": {
          "base_uri": "https://localhost:8080/",
          "height": 35
        },
        "outputId": "35ff3fe4-6221-462f-e088-9b71d6a50f12"
      },
      "source": [
        "type(json.loads(open(\"in.json\",\"r\").read() ) )"
      ],
      "execution_count": 2,
      "outputs": [
        {
          "output_type": "execute_result",
          "data": {
            "text/plain": [
              "dict"
            ]
          },
          "metadata": {
            "tags": []
          },
          "execution_count": 2
        }
      ]
    },
    {
      "cell_type": "code",
      "metadata": {
        "scrolled": true,
        "id": "vAgpdtgMi0hU",
        "colab_type": "code",
        "colab": {
          "base_uri": "https://localhost:8080/",
          "height": 35
        },
        "outputId": "ebaaea10-71b4-4db5-85e2-dbd570d468f9"
      },
      "source": [
        "import json\n",
        "# open(\"in.json\",\"r\").read() returns strings\n",
        "# json.loads(string) returns a dictionary\n",
        "print ( json.loads(open(\"in.json\",\"r\").read() ) ) "
      ],
      "execution_count": 3,
      "outputs": [
        {
          "output_type": "stream",
          "text": [
            "{'alpha': 1, 'beta': 2}\n"
          ],
          "name": "stdout"
        }
      ]
    },
    {
      "cell_type": "markdown",
      "metadata": {
        "id": "TQxmptBhi0hZ",
        "colab_type": "text"
      },
      "source": [
        "2. Dictionary:"
      ]
    },
    {
      "cell_type": "code",
      "metadata": {
        "id": "59Wg-fkvi0hc",
        "colab_type": "code",
        "colab": {
          "base_uri": "https://localhost:8080/",
          "height": 35
        },
        "outputId": "f163e3d1-4e08-4313-8ce6-14e33bd1dce5"
      },
      "source": [
        "type(json.load(open(\"in.json\",\"r\")) )"
      ],
      "execution_count": 4,
      "outputs": [
        {
          "output_type": "execute_result",
          "data": {
            "text/plain": [
              "dict"
            ]
          },
          "metadata": {
            "tags": []
          },
          "execution_count": 4
        }
      ]
    },
    {
      "cell_type": "code",
      "metadata": {
        "id": "JgBHueTSi0hn",
        "colab_type": "code",
        "colab": {
          "base_uri": "https://localhost:8080/",
          "height": 35
        },
        "outputId": "6c12121c-bb8c-4e72-b8a4-4920c44607ec"
      },
      "source": [
        "import json\n",
        "# The io(input/output) module provides the Python interfaces to stream handling.\n",
        "# json.load(_io) returns a dictionary\n",
        "print( json.load(open(\"in.json\",\"r\")) )"
      ],
      "execution_count": 5,
      "outputs": [
        {
          "output_type": "stream",
          "text": [
            "{'alpha': 1, 'beta': 2}\n"
          ],
          "name": "stdout"
        }
      ]
    },
    {
      "cell_type": "markdown",
      "metadata": {
        "id": "_wwM55v0i0hs",
        "colab_type": "text"
      },
      "source": [
        "### Similarly, we can write a (dump/dumps) json file:"
      ]
    },
    {
      "cell_type": "markdown",
      "metadata": {
        "id": "UO28ZNHhi0ht",
        "colab_type": "text"
      },
      "source": [
        "1. String:"
      ]
    },
    {
      "cell_type": "code",
      "metadata": {
        "id": "17z4ynQ1i0hv",
        "colab_type": "code",
        "colab": {
          "base_uri": "https://localhost:8080/",
          "height": 35
        },
        "outputId": "6935a3a5-0c09-462d-ef90-12ee13db8a6c"
      },
      "source": [
        "import json\n",
        "d = {'alpha': 1, 'beta': 2}\n",
        "# json.dumps() returns a str\n",
        "s = json.dumps(d) \n",
        "open(\"out.json\",\"w\").write(s)"
      ],
      "execution_count": 6,
      "outputs": [
        {
          "output_type": "execute_result",
          "data": {
            "text/plain": [
              "23"
            ]
          },
          "metadata": {
            "tags": []
          },
          "execution_count": 6
        }
      ]
    },
    {
      "cell_type": "markdown",
      "metadata": {
        "id": "mfoBWGyAi0hz",
        "colab_type": "text"
      },
      "source": [
        "2. Dictionary:"
      ]
    },
    {
      "cell_type": "code",
      "metadata": {
        "id": "4YRVIKLNi0h0",
        "colab_type": "code",
        "colab": {}
      },
      "source": [
        "import json\n",
        "d = {'alpha': 1, 'beta': 2}\n",
        "# json.dump() returns a str file\n",
        "with open('out.json', 'w', encoding='utf-8') as outfile:\n",
        "    json.dump(d, outfile, ensure_ascii=False, indent=4)\n",
        "# The use of \"ensure_ascii=False\" and \"indent=4\" gives better readability and smaller size"
      ],
      "execution_count": 0,
      "outputs": []
    },
    {
      "cell_type": "markdown",
      "metadata": {
        "id": "9Ywyah8ei0h5",
        "colab_type": "text"
      },
      "source": [
        "    "
      ]
    },
    {
      "cell_type": "markdown",
      "metadata": {
        "id": "FwA-pNumi0h7",
        "colab_type": "text"
      },
      "source": [
        "### In this tutorial, we'll convert Python dictionary to JSON and write it to a text file. Then, we'll read in back from the file and play with it."
      ]
    },
    {
      "cell_type": "markdown",
      "metadata": {
        "id": "M_-kcSqti0h9",
        "colab_type": "text"
      },
      "source": [
        "Initially we'll construct Python dictionary like this:"
      ]
    },
    {
      "cell_type": "code",
      "metadata": {
        "id": "92uxk-T8i0h-",
        "colab_type": "code",
        "colab": {
          "base_uri": "https://localhost:8080/",
          "height": 55
        },
        "outputId": "4fb0523c-d9e8-4a40-c83d-445293d3dc82"
      },
      "source": [
        "# Four Fundamental Forces with JSON\n",
        "d = {}\n",
        "\n",
        "d [\"gravity\"] = {\n",
        "    \"mediator\":\"gravitons\",\n",
        "    \"relative strength\" : \"1\",\n",
        "    \"range\" : \"infinity\"\n",
        "}\n",
        "d [\"weak\"] = {\n",
        "    \"mediator\":\"W/Z bosons\",\n",
        "    \"relative strength\" : \"10^25\",\n",
        "    \"range\" : \"10^-18\"\n",
        "}\n",
        "d [\"electromagnetic\"] = {\n",
        "    \"mediator\":\"photons\",\n",
        "    \"relative strength\" : \"10^36\",\n",
        "    \"range\" : \"infinity\"\n",
        "}\n",
        "d [\"strong\"] = {\n",
        "    \"mediator\":\"gluons\",\n",
        "    \"relative strength\" : \"10^38\",\n",
        "    \"range\" : \"10^-15\"\n",
        "}\n",
        "\n",
        "print(d)"
      ],
      "execution_count": 8,
      "outputs": [
        {
          "output_type": "stream",
          "text": [
            "{'gravity': {'mediator': 'gravitons', 'relative strength': '1', 'range': 'infinity'}, 'weak': {'mediator': 'W/Z bosons', 'relative strength': '10^25', 'range': '10^-18'}, 'electromagnetic': {'mediator': 'photons', 'relative strength': '10^36', 'range': 'infinity'}, 'strong': {'mediator': 'gluons', 'relative strength': '10^38', 'range': '10^-15'}}\n"
          ],
          "name": "stdout"
        }
      ]
    },
    {
      "cell_type": "markdown",
      "metadata": {
        "id": "eum3Kt-xi0iC",
        "colab_type": "text"
      },
      "source": [
        "The out put is a dictionary. \n",
        "##### Now we want to convert the dictionary to a string using json.dumps()"
      ]
    },
    {
      "cell_type": "code",
      "metadata": {
        "id": "cwuKUeHQi0iE",
        "colab_type": "code",
        "colab": {
          "base_uri": "https://localhost:8080/",
          "height": 72
        },
        "outputId": "fba594d3-cf69-446b-c8ca-ccae0b513cc9"
      },
      "source": [
        "# The ouutput should be a string\n",
        "import json\n",
        "data = json.dumps(d)\n",
        "print(type(data))\n",
        "print(data)"
      ],
      "execution_count": 9,
      "outputs": [
        {
          "output_type": "stream",
          "text": [
            "<class 'str'>\n",
            "{\"gravity\": {\"mediator\": \"gravitons\", \"relative strength\": \"1\", \"range\": \"infinity\"}, \"weak\": {\"mediator\": \"W/Z bosons\", \"relative strength\": \"10^25\", \"range\": \"10^-18\"}, \"electromagnetic\": {\"mediator\": \"photons\", \"relative strength\": \"10^36\", \"range\": \"infinity\"}, \"strong\": {\"mediator\": \"gluons\", \"relative strength\": \"10^38\", \"range\": \"10^-15\"}}\n"
          ],
          "name": "stdout"
        }
      ]
    },
    {
      "cell_type": "markdown",
      "metadata": {
        "id": "DHq-gnPRi0iI",
        "colab_type": "text"
      },
      "source": [
        "Note that the \"json.dumps()\" returns a string as indicated by the \"s\" at the end of \"dumps\". This process is called encoding.  \n",
        "Let's write it to a file:  "
      ]
    },
    {
      "cell_type": "code",
      "metadata": {
        "id": "2rU_QjLgi0iK",
        "colab_type": "code",
        "colab": {}
      },
      "source": [
        "import json\n",
        "data = json.dumps(d)\n",
        "with open(\"4forces.json\",\"w\") as f:\n",
        "  f.write(data)"
      ],
      "execution_count": 0,
      "outputs": []
    },
    {
      "cell_type": "markdown",
      "metadata": {
        "id": "AyhuSi7_i0iO",
        "colab_type": "text"
      },
      "source": [
        "Now that the file is written. Let's reads it back and decoding the JSON-encoded string back into a Python dictionary data structure:"
      ]
    },
    {
      "cell_type": "code",
      "metadata": {
        "id": "0ogfF4pPi0iQ",
        "colab_type": "code",
        "colab": {}
      },
      "source": [
        "# reads it back\n",
        "with open(\"4forces.json\",\"r\") as f:\n",
        "  data = f.read() # read() a file as string\n",
        "\n",
        "# decoding the JSON to dictionay with loads() -- meaing load string to json dictionary\n",
        "d = json.loads(data)"
      ],
      "execution_count": 0,
      "outputs": []
    },
    {
      "cell_type": "code",
      "metadata": {
        "id": "gfUzqmVri0iV",
        "colab_type": "code",
        "colab": {
          "base_uri": "https://localhost:8080/",
          "height": 230
        },
        "outputId": "b8dde984-8dd5-42b1-de11-ecc5e87a1039"
      },
      "source": [
        "d"
      ],
      "execution_count": 12,
      "outputs": [
        {
          "output_type": "execute_result",
          "data": {
            "text/plain": [
              "{'electromagnetic': {'mediator': 'photons',\n",
              "  'range': 'infinity',\n",
              "  'relative strength': '10^36'},\n",
              " 'gravity': {'mediator': 'gravitons',\n",
              "  'range': 'infinity',\n",
              "  'relative strength': '1'},\n",
              " 'strong': {'mediator': 'gluons',\n",
              "  'range': '10^-15',\n",
              "  'relative strength': '10^38'},\n",
              " 'weak': {'mediator': 'W/Z bosons',\n",
              "  'range': '10^-18',\n",
              "  'relative strength': '10^25'}}"
            ]
          },
          "metadata": {
            "tags": []
          },
          "execution_count": 12
        }
      ]
    },
    {
      "cell_type": "markdown",
      "metadata": {
        "id": "_GVvbXaRi0ib",
        "colab_type": "text"
      },
      "source": [
        "Let's play with the dictionary a little bit.  \n",
        "##### What's the relative strength of electromagnetic compared to gravity?"
      ]
    },
    {
      "cell_type": "code",
      "metadata": {
        "id": "SO0HvM64i0ic",
        "colab_type": "code",
        "colab": {
          "base_uri": "https://localhost:8080/",
          "height": 35
        },
        "outputId": "e3b9cb1f-827a-47dc-e061-c635bb3b4608"
      },
      "source": [
        "print(d[\"electromagnetic\"][\"relative strength\"])"
      ],
      "execution_count": 13,
      "outputs": [
        {
          "output_type": "stream",
          "text": [
            "10^36\n"
          ],
          "name": "stdout"
        }
      ]
    },
    {
      "cell_type": "markdown",
      "metadata": {
        "id": "0El0CHPTi0ig",
        "colab_type": "text"
      },
      "source": [
        "##### Who's the mediator for \"strong\" force?"
      ]
    },
    {
      "cell_type": "code",
      "metadata": {
        "id": "BxqKr7-0i0ih",
        "colab_type": "code",
        "colab": {
          "base_uri": "https://localhost:8080/",
          "height": 35
        },
        "outputId": "f4568dd9-500b-4a75-b6c1-5e63e8f704ce"
      },
      "source": [
        "print(d[\"strong\"][\"mediator\"])"
      ],
      "execution_count": 14,
      "outputs": [
        {
          "output_type": "stream",
          "text": [
            "gluons\n"
          ],
          "name": "stdout"
        }
      ]
    },
    {
      "cell_type": "markdown",
      "metadata": {
        "id": "QMzNhH3qi0in",
        "colab_type": "text"
      },
      "source": [
        "    "
      ]
    },
    {
      "cell_type": "markdown",
      "metadata": {
        "id": "qs5KLll8i0io",
        "colab_type": "text"
      },
      "source": [
        "#### If we prefer working with files instead of strings, we may want to use json.dump() / json.load() to encode / decode JSON data using the data from the previous example:"
      ]
    },
    {
      "cell_type": "code",
      "metadata": {
        "id": "XIVsOjhQi0iq",
        "colab_type": "code",
        "colab": {}
      },
      "source": [
        "# write to a file\n",
        "with open(\"4forces.json\",\"w\") as f:\n",
        "  json.dump(d, f, indent=4)\n",
        "\n",
        "# reads it back\n",
        "with open(\"4forces.json\",\"r\") as f:\n",
        "  d = json.load(f)"
      ],
      "execution_count": 0,
      "outputs": []
    },
    {
      "cell_type": "code",
      "metadata": {
        "id": "2H7kIxYsi0iv",
        "colab_type": "code",
        "colab": {
          "base_uri": "https://localhost:8080/",
          "height": 230
        },
        "outputId": "026c60b3-3c5e-47d1-f2d9-10e5904e906f"
      },
      "source": [
        "d"
      ],
      "execution_count": 16,
      "outputs": [
        {
          "output_type": "execute_result",
          "data": {
            "text/plain": [
              "{'electromagnetic': {'mediator': 'photons',\n",
              "  'range': 'infinity',\n",
              "  'relative strength': '10^36'},\n",
              " 'gravity': {'mediator': 'gravitons',\n",
              "  'range': 'infinity',\n",
              "  'relative strength': '1'},\n",
              " 'strong': {'mediator': 'gluons',\n",
              "  'range': '10^-15',\n",
              "  'relative strength': '10^38'},\n",
              " 'weak': {'mediator': 'W/Z bosons',\n",
              "  'range': '10^-18',\n",
              "  'relative strength': '10^25'}}"
            ]
          },
          "metadata": {
            "tags": []
          },
          "execution_count": 16
        }
      ]
    },
    {
      "cell_type": "markdown",
      "metadata": {
        "id": "x8ygYVIti0iz",
        "colab_type": "text"
      },
      "source": [
        "    "
      ]
    },
    {
      "cell_type": "markdown",
      "metadata": {
        "id": "2VNA4_gTi0i0",
        "colab_type": "text"
      },
      "source": [
        "#### Here is another example (json.dump()/json.load()) using simpler data:"
      ]
    },
    {
      "cell_type": "code",
      "metadata": {
        "id": "48tRF0g9i0i1",
        "colab_type": "code",
        "colab": {
          "base_uri": "https://localhost:8080/",
          "height": 35
        },
        "outputId": "1459dd4b-0d7b-4c10-b577-8ae140787ede"
      },
      "source": [
        "import json\n",
        "# read\n",
        "# in.json file - {\"alpha\":1, \"beta\":2}\n",
        "with open(\"in.json\",\"r\") as fr:\n",
        "  out_dict = json.load(fr)\n",
        "print(out_dict)"
      ],
      "execution_count": 17,
      "outputs": [
        {
          "output_type": "stream",
          "text": [
            "{'alpha': 1, 'beta': 2}\n"
          ],
          "name": "stdout"
        }
      ]
    },
    {
      "cell_type": "code",
      "metadata": {
        "id": "-rAdcfS_i0i7",
        "colab_type": "code",
        "colab": {}
      },
      "source": [
        "# write to a file\n",
        "in_dict = {\"a\":1,\"b\":2}\n",
        "with open(\"out.json\",\"w\") as fw:\n",
        "    json.dump(in_dict, fw, indent=4)\n",
        "# out.json file - {\"a\":1,\"b\":2}"
      ],
      "execution_count": 0,
      "outputs": []
    },
    {
      "cell_type": "markdown",
      "metadata": {
        "id": "zcWOwhxNi0i_",
        "colab_type": "text"
      },
      "source": [
        "    "
      ]
    },
    {
      "cell_type": "markdown",
      "metadata": {
        "id": "vaYso7rAi0jA",
        "colab_type": "text"
      },
      "source": [
        "#### Usage for string version: json.loads()/json.dumps():"
      ]
    },
    {
      "cell_type": "code",
      "metadata": {
        "id": "cLeqvv_9i0jC",
        "colab_type": "code",
        "colab": {}
      },
      "source": [
        "import json\n",
        "# read\n",
        "# in.json file - {\"alpha\":1, \"beta\":2}\n",
        "with open(\"in.json\", \"r\") as fr:\n",
        "    out_str = fr.read()\n",
        "out_dict = json.loads(out_str)"
      ],
      "execution_count": 0,
      "outputs": []
    },
    {
      "cell_type": "code",
      "metadata": {
        "id": "8W2ToIjqi0jF",
        "colab_type": "code",
        "colab": {}
      },
      "source": [
        "# in_dict = {\"a\":1,\"b\":2}\n",
        "in_str = json.dumps(in_dict)\n",
        "with open(\"out.json\",\"w\") as fw:\n",
        "    fw.write(in_str)\n",
        "# out.json file - {\"a\":1,\"b\":2}"
      ],
      "execution_count": 0,
      "outputs": []
    },
    {
      "cell_type": "code",
      "metadata": {
        "id": "NThKPB2_i0jI",
        "colab_type": "code",
        "colab": {}
      },
      "source": [
        ""
      ],
      "execution_count": 0,
      "outputs": []
    }
  ]
}