{
 "cells": [
  {
   "cell_type": "markdown",
   "metadata": {},
   "source": [
    "### Reshape image"
   ]
  },
  {
   "cell_type": "markdown",
   "metadata": {},
   "source": [
    "#### The concept"
   ]
  },
  {
   "cell_type": "markdown",
   "metadata": {},
   "source": [
    "In image recognition task, we often need to convert the image to pixels values and manipulate it within arrays. However, dealing with dimensions is always a pain, not only for beginners but for everyone. \n",
    "Here is the simpler example to help. Let's say we have 10 images, each one with size of 4 * 4 pixels (width and length), and it has 3 dimensions (channels) of them R, G, B:\n",
    "\n",
    "images in data (10, 4, 4, 3)\n",
    "\n",
    "* dataset (images) : 10\n",
    "\n",
    "    + image width : 4\n",
    "\n",
    "    + image length : 4\n",
    "\n",
    "    + channels (R, G, B): 3\n",
    "\n",
    "Given that dataset, it cannot be fed into a neural network with a 4-D matrix. It should be reshaped into a 2-D array (vector per sample/image). In other words, we need to make the matrix of size (10, 4, 4, 3) to one with the size of (10, 4 * 4 * 3), so it will be a matrix with size of (10, 48). \n",
    "\n",
    "* New data: (10, 48)\n",
    "\n",
    "\t+ dataset (images) : 10\n",
    "\n",
    "\t+ reshaped pixels : 4 * 4 * 3 = 48"
   ]
  },
  {
   "cell_type": "markdown",
   "metadata": {},
   "source": [
    "#### Resahpe 1-d Array to n-d Array"
   ]
  },
  {
   "cell_type": "code",
   "execution_count": null,
   "metadata": {
    "scrolled": false
   },
   "outputs": [],
   "source": [
    "import numpy as np\n",
    "# to keep the example easy to view, we use 10 examples of pictures.  \n",
    "# Each picture is of size 4x4 pixels, and each pixel contains 3 (r,g,b) values\n",
    "# we first fill an array with sequential 480 entries (10*4*4*3) and then reshape it into an 10x4x4x3 array\n",
    "a=np.arange(10*4*4*3)\n",
    "print(f'Before doing reshape:\\n')\n",
    "print(a.shape)\n",
    "print(f'Rank 1 Array: \\n{a}')\n",
    "\n",
    "a = a.reshape(10, 4, 4, 3)\n",
    "print('\\n-------------------\\nAfter doing reshape:\\n')\n",
    "print(a.shape)\n",
    "print(f'4-D Array: \\n{a}')"
   ]
  },
  {
   "cell_type": "markdown",
   "metadata": {},
   "source": [
    "The `.reshape` method will reshape an array in specified order in the input argument. Here, we have input as `(10, 4, 4, 3)`. The innermost two axis are `4` and `3`. Thus, we can see that the innermost layer consists of `12` values. That 12 values makeup a small array, and it contains `4` rows and `3` columns. Every four small arrays compose a bigger array which contains 48 values (4 * 4 * 3) in total based on the second argurement, `4`, in the input. There are 10 bigger array (10 images) in response to the input `10`.\n",
    "\n",
    "So we can observe that the `.reshape` method makes an array by order.\n",
    "1. takes 0-11 to fullfill the third and fourth dimension \n",
    "2. repeats the fisrt step 4 times to fullfill the second dimension\n",
    "3. combines first and second steps as a whole and repeats it 10 times as specified in the first dimension  "
   ]
  },
  {
   "cell_type": "markdown",
   "metadata": {},
   "source": [
    "#### Flatten Array"
   ]
  },
  {
   "cell_type": "markdown",
   "metadata": {},
   "source": [
    "After finishing the forward thinking, let's do it backward to understand more the `.reshape` method.\n",
    "We can reshape arrays using `.reshape` method to flat an array.   \n",
    "Array axis is numbered from 0 and accessed through `.shape` method.  \n",
    "If a specific axis is specified to `.reshape`, that axis is preserved and the rest of the axis' are reshaped/flattened.   \n",
    "`-1` argument tells numpy to figure out the dimensions of reshaped axis. "
   ]
  },
  {
   "cell_type": "code",
   "execution_count": null,
   "metadata": {
    "scrolled": false
   },
   "outputs": [],
   "source": [
    "# flatten the innermost axis (the r,g,b values), which are already flat, so this operation does nothing\n",
    "aflat=a.reshape(a.shape[0],a.shape[1],a.shape[2],-1)\n",
    "print(aflat.shape)\n",
    "print(aflat)"
   ]
  },
  {
   "cell_type": "code",
   "execution_count": null,
   "metadata": {},
   "outputs": [],
   "source": [
    "# flatten the innermost two axis (r,g,b values in each pixel row). 4x3 gets flattened to 12 color values\n",
    "aflat=a.reshape(a.shape[0],a.shape[1],-1)\n",
    "print(aflat.shape)\n",
    "print(aflat)"
   ]
  },
  {
   "cell_type": "code",
   "execution_count": null,
   "metadata": {},
   "outputs": [],
   "source": [
    "# flatten the innermost three axis (r,g,b values in each pixel row, reading left to right and top to bottom). \n",
    "# 4x4x3 gets flattened to 48 values.  this operation flattens each individual image\n",
    "aflat=a.reshape(a.shape[0],-1)\n",
    "print(aflat.shape)\n",
    "print(aflat)"
   ]
  },
  {
   "cell_type": "markdown",
   "metadata": {},
   "source": [
    "At this point, the rows have 'examples' (the training or test cases) and columns have the 'features' (the color values).  "
   ]
  },
  {
   "cell_type": "code",
   "execution_count": null,
   "metadata": {},
   "outputs": [],
   "source": [
    "# to get the features in rows and examples in columns, we transpose the matrix using the .T method\n",
    "aflatt=aflat.T\n",
    "print(aflatt.shape)\n",
    "print(aflatt)"
   ]
  },
  {
   "cell_type": "code",
   "execution_count": null,
   "metadata": {},
   "outputs": [],
   "source": [
    "# fun exercise\n",
    "# to create random pixel noise to test your trained network, try the following\n",
    "x_test=np.random.randint(255,size=(64*64*3,209))\n",
    "print(x_test.shape)\n",
    "print(x_test)"
   ]
  },
  {
   "cell_type": "code",
   "execution_count": null,
   "metadata": {},
   "outputs": [],
   "source": []
  }
 ],
 "metadata": {
  "kernelspec": {
   "display_name": "Python 3",
   "language": "python",
   "name": "python3"
  },
  "language_info": {
   "codemirror_mode": {
    "name": "ipython",
    "version": 3
   },
   "file_extension": ".py",
   "mimetype": "text/x-python",
   "name": "python",
   "nbconvert_exporter": "python",
   "pygments_lexer": "ipython3",
   "version": "3.7.3"
  }
 },
 "nbformat": 4,
 "nbformat_minor": 4
}
