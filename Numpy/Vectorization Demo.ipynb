{
 "cells": [
  {
   "cell_type": "markdown",
   "metadata": {},
   "source": [
    "In the big data era, we often need to compute thousands of data or more. To increase the speed and efficiecy on the computation, we would like to take advantages on vectorization. It can do computation in parallel instead of iterating through for-loops. Here are the demo to compare the efficiency between vectorization method and for-loop method."
   ]
  },
  {
   "cell_type": "code",
   "execution_count": 1,
   "metadata": {},
   "outputs": [
    {
     "name": "stdout",
     "output_type": "stream",
     "text": [
      "a: [1 2 3 4]\n",
      "a.shape: (4,)\n"
     ]
    }
   ],
   "source": [
    "import numpy as np\n",
    "a = np.array([1,2,3,4])\n",
    "print(f\"a: {a}\")\n",
    "print(f\"a.shape: {a.shape}\")"
   ]
  },
  {
   "cell_type": "code",
   "execution_count": 2,
   "metadata": {},
   "outputs": [
    {
     "name": "stdout",
     "output_type": "stream",
     "text": [
      "a:[0.64765647 0.66400807 0.88634352 ... 0.02563275 0.85729959 0.75305928] ;\n",
      "b:[0.77827806 0.65743669 0.9024418  ... 0.61962603 0.78409965 0.47896914]\n",
      "\n",
      "a.shape:(1000000,) ;\n",
      "b.shape:(1000000,)\n"
     ]
    }
   ],
   "source": [
    "a = np.random.rand(1000000)\n",
    "b = np.random.rand(1000000)\n",
    "print('a:{} ;\\nb:{}\\n'.format(a,b))\n",
    "print('a.shape:{} ;\\nb.shape:{}'.format(a.shape,b.shape))"
   ]
  },
  {
   "cell_type": "code",
   "execution_count": 3,
   "metadata": {},
   "outputs": [
    {
     "name": "stdout",
     "output_type": "stream",
     "text": [
      "c = 249613.00502631514\n",
      "Vectorized versiion: 3.012418746948242 ms\n",
      "\n",
      "c = 249613.00502631374\n",
      "For-loop versiion: 943.0043697357178 ms\n",
      "\n",
      "The vectorized version is 313 times faster than forloop version\n"
     ]
    }
   ],
   "source": [
    "import time\n",
    "a = np.random.rand(1000000)\n",
    "b = np.random.rand(1000000)\n",
    "\n",
    "# vectorized version\n",
    "c = 0\n",
    "tic = time.time()\n",
    "c = np.dot(a,b)\n",
    "toc = time.time()\n",
    "print(f\"c = {c}\")\n",
    "print(\"Vectorized versiion: {} ms\\n\".format(1000*(toc-tic)))\n",
    "vecV= 1000*(toc-tic)\n",
    "\n",
    "# vectorized version\n",
    "c = 0\n",
    "tic = time.time()\n",
    "for i in range(1000000):\n",
    "    c += a[i] * b[i]  # c = c + a[i]*b[i]\n",
    "toc = time.time()\n",
    "print(f\"c = {c}\")\n",
    "print(\"For-loop versiion: {} ms\\n\".format(1000*(toc-tic)))\n",
    "forV = 1000*(toc-tic)\n",
    "\n",
    "# comparison\n",
    "print(f\"The vectorized version is {round(forV/vecV)} times faster than forloop version\")"
   ]
  },
  {
   "cell_type": "code",
   "execution_count": 4,
   "metadata": {},
   "outputs": [
    {
     "name": "stdout",
     "output_type": "stream",
     "text": [
      "u: \n",
      "[[0.]\n",
      " [0.]\n",
      " [0.]\n",
      " [0.]\n",
      " [0.]]\n",
      "v: \n",
      "[0.49068565 0.8785064  0.67276652 0.60107853 0.28136746]\n"
     ]
    }
   ],
   "source": [
    "u=np.zeros((5,1))\n",
    "print(f\"u: \\n{u}\")\n",
    "v = np.random.rand(5)\n",
    "print(f\"v: \\n{v}\")"
   ]
  },
  {
   "cell_type": "code",
   "execution_count": 5,
   "metadata": {},
   "outputs": [
    {
     "name": "stdout",
     "output_type": "stream",
     "text": [
      "u: \n",
      "[1.70935453 2.27257708 1.46078209 ... 2.32710143 1.09417619 2.58486672]\n",
      "For-loop versiion: 648.2234001159668 ms\n",
      "\n",
      "u: \n",
      "[1.70935453 2.27257708 1.46078209 ... 2.32710143 1.09417619 2.58486672]\n",
      "Numpy Vectorized versiion: 16.544342041015625 ms\n",
      "\n"
     ]
    }
   ],
   "source": [
    "import math\n",
    "n=1000000\n",
    "u=np.zeros((n))\n",
    "v = np.random.rand(n)\n",
    "\n",
    "# for-loops\n",
    "tic = time.time()\n",
    "for i in range(n):\n",
    "    u[i] = math.exp(v[i])\n",
    "toc = time.time()\n",
    "print(f\"u: \\n{u}\")\n",
    "print(\"For-loop versiion: {} ms\\n\".format(1000*(toc-tic)))\n",
    "\n",
    "# numpy built-in vectorized method\n",
    "tic = time.time()\n",
    "u = np.exp(v)\n",
    "toc = time.time()\n",
    "print(f\"u: \\n{u}\")\n",
    "print(\"Numpy Vectorized versiion: {} ms\\n\".format(1000*(toc-tic)))"
   ]
  },
  {
   "cell_type": "markdown",
   "metadata": {},
   "source": [
    "## Broadcasting in Python"
   ]
  },
  {
   "cell_type": "code",
   "execution_count": 6,
   "metadata": {},
   "outputs": [
    {
     "name": "stdout",
     "output_type": "stream",
     "text": [
      "[[ 56.    0.    4.4  68. ]\n",
      " [  1.2 104.   52.    8. ]\n",
      " [  1.8 135.   99.    0.9]]\n"
     ]
    }
   ],
   "source": [
    "A = np.array([[56.0, 0.0, 4.4, 68.0],\n",
    "             [1.2, 104.0, 52.0, 8.0],\n",
    "             [1.8, 135.0, 99.0, 0.9]])\n",
    "print(A)"
   ]
  },
  {
   "cell_type": "code",
   "execution_count": 7,
   "metadata": {},
   "outputs": [
    {
     "name": "stdout",
     "output_type": "stream",
     "text": [
      "[ 59.  239.  155.4  76.9]\n"
     ]
    }
   ],
   "source": [
    "cal = A.sum(axis=0)\n",
    "print(cal)"
   ]
  },
  {
   "cell_type": "code",
   "execution_count": 8,
   "metadata": {},
   "outputs": [
    {
     "data": {
      "text/plain": [
       "array([[ 59. , 239. , 155.4,  76.9]])"
      ]
     },
     "execution_count": 8,
     "metadata": {},
     "output_type": "execute_result"
    }
   ],
   "source": [
    "cal.reshape(1,4)"
   ]
  },
  {
   "cell_type": "code",
   "execution_count": 9,
   "metadata": {},
   "outputs": [
    {
     "name": "stdout",
     "output_type": "stream",
     "text": [
      "[[94.91525424  0.          2.83140283 88.42652796]\n",
      " [ 2.03389831 43.51464435 33.46203346 10.40312094]\n",
      " [ 3.05084746 56.48535565 63.70656371  1.17035111]]\n"
     ]
    }
   ],
   "source": [
    "percentage = 100*A/cal.reshape(1,4)\n",
    "print(percentage)"
   ]
  },
  {
   "cell_type": "markdown",
   "metadata": {},
   "source": [
    "## Numpy Vector"
   ]
  },
  {
   "cell_type": "code",
   "execution_count": 10,
   "metadata": {},
   "outputs": [
    {
     "name": "stdout",
     "output_type": "stream",
     "text": [
      "[-0.21570704  0.56618351 -0.20783644 -1.5515172  -1.12910407]\n"
     ]
    }
   ],
   "source": [
    "import numpy as np\n",
    "a = np.random.randn(5) # five random gaussian number stored in array a\n",
    "print(a)"
   ]
  },
  {
   "cell_type": "code",
   "execution_count": 11,
   "metadata": {},
   "outputs": [
    {
     "name": "stdout",
     "output_type": "stream",
     "text": [
      "(5,)\n",
      "\n",
      "Array 'a' is a rank 1 array in python; \n",
      "It is neither a row vector nor a column vector!\n",
      "It have some slight non-intuitive effects\n"
     ]
    }
   ],
   "source": [
    "print(a.shape) # rank 1 array in python \n",
    "print(\"\"\"\n",
    "Array 'a' is a rank 1 array in python; \n",
    "It is neither a row vector nor a column vector!\n",
    "It have some slight non-intuitive effects\"\"\")"
   ]
  },
  {
   "cell_type": "code",
   "execution_count": 12,
   "metadata": {},
   "outputs": [
    {
     "name": "stdout",
     "output_type": "stream",
     "text": [
      "[-0.21570704  0.56618351 -0.20783644 -1.5515172  -1.12910407]\n",
      "(5,)\n"
     ]
    }
   ],
   "source": [
    "print(a.T)\n",
    "print(a.T.shape)"
   ]
  },
  {
   "cell_type": "code",
   "execution_count": 13,
   "metadata": {},
   "outputs": [
    {
     "name": "stdout",
     "output_type": "stream",
     "text": [
      "4.0923708867409925\n"
     ]
    }
   ],
   "source": [
    "print(np.dot(a,a.T))"
   ]
  },
  {
   "cell_type": "markdown",
   "metadata": {},
   "source": [
    "By expliciting parameter on randn(5,1), it will return a 5 by 1 column vector"
   ]
  },
  {
   "cell_type": "code",
   "execution_count": 14,
   "metadata": {},
   "outputs": [
    {
     "name": "stdout",
     "output_type": "stream",
     "text": [
      "[[-0.68315156]\n",
      " [ 0.17948474]\n",
      " [-0.14198841]\n",
      " [-0.51533806]\n",
      " [-1.06276184]]\n",
      "(5, 1)\n"
     ]
    }
   ],
   "source": [
    "a = np.random.randn(5,1)\n",
    "print(a)\n",
    "print(a.shape)"
   ]
  },
  {
   "cell_type": "code",
   "execution_count": 15,
   "metadata": {},
   "outputs": [
    {
     "name": "stdout",
     "output_type": "stream",
     "text": [
      "[[-0.68315156  0.17948474 -0.14198841 -0.51533806 -1.06276184]]\n",
      "(1, 5)\n"
     ]
    }
   ],
   "source": [
    "print(a.T)\n",
    "print(a.T.shape)"
   ]
  },
  {
   "cell_type": "markdown",
   "metadata": {},
   "source": [
    "5 by 1 matrix inner dot with 1 by 5 matrix: it should be a 5 by 5 matrix"
   ]
  },
  {
   "cell_type": "code",
   "execution_count": 16,
   "metadata": {},
   "outputs": [
    {
     "name": "stdout",
     "output_type": "stream",
     "text": [
      "[[ 0.46669605 -0.12261528  0.0969996   0.352054    0.72602741]\n",
      " [-0.12261528  0.03221477 -0.02548475 -0.09249532 -0.19074953]\n",
      " [ 0.0969996  -0.02548475  0.02016071  0.07317203  0.15089986]\n",
      " [ 0.352054   -0.09249532  0.07317203  0.26557332  0.54768163]\n",
      " [ 0.72602741 -0.19074953  0.15089986  0.54768163  1.12946273]]\n"
     ]
    }
   ],
   "source": [
    "print(np.dot(a,a.T))"
   ]
  },
  {
   "cell_type": "code",
   "execution_count": 17,
   "metadata": {},
   "outputs": [
    {
     "name": "stdout",
     "output_type": "stream",
     "text": [
      "(5, 5)\n"
     ]
    }
   ],
   "source": [
    "print(np.dot(a,a.T).shape)"
   ]
  },
  {
   "cell_type": "code",
   "execution_count": 18,
   "metadata": {},
   "outputs": [],
   "source": [
    "assert(a.shape==(5,1))"
   ]
  },
  {
   "cell_type": "code",
   "execution_count": 19,
   "metadata": {},
   "outputs": [
    {
     "ename": "AssertionError",
     "evalue": "",
     "output_type": "error",
     "traceback": [
      "\u001b[1;31m---------------------------------------------------------------------------\u001b[0m",
      "\u001b[1;31mAssertionError\u001b[0m                            Traceback (most recent call last)",
      "\u001b[1;32m<ipython-input-19-3360bff583e7>\u001b[0m in \u001b[0;36m<module>\u001b[1;34m\u001b[0m\n\u001b[1;32m----> 1\u001b[1;33m \u001b[1;32massert\u001b[0m\u001b[1;33m(\u001b[0m\u001b[0ma\u001b[0m\u001b[1;33m.\u001b[0m\u001b[0mshape\u001b[0m\u001b[1;33m==\u001b[0m\u001b[1;33m(\u001b[0m\u001b[1;36m1\u001b[0m\u001b[1;33m,\u001b[0m\u001b[1;36m5\u001b[0m\u001b[1;33m)\u001b[0m\u001b[1;33m)\u001b[0m\u001b[1;33m\u001b[0m\u001b[1;33m\u001b[0m\u001b[0m\n\u001b[0m",
      "\u001b[1;31mAssertionError\u001b[0m: "
     ]
    }
   ],
   "source": [
    "assert(a.shape==(1,5))"
   ]
  },
  {
   "cell_type": "code",
   "execution_count": 20,
   "metadata": {},
   "outputs": [
    {
     "data": {
      "text/plain": [
       "(3, 3)"
      ]
     },
     "execution_count": 20,
     "metadata": {},
     "output_type": "execute_result"
    }
   ],
   "source": [
    "a = np.random.randn(3, 3)\n",
    "b = np.random.randn(3, 1)\n",
    "c = a*b\n",
    "c.shape"
   ]
  },
  {
   "cell_type": "code",
   "execution_count": 2,
   "metadata": {},
   "outputs": [],
   "source": [
    "import numpy as np\n",
    "A= np.random.randn(4,3)\n",
    "B = np.sum(A, axis = 1, keepdims = True)"
   ]
  },
  {
   "cell_type": "code",
   "execution_count": 4,
   "metadata": {},
   "outputs": [
    {
     "data": {
      "text/plain": [
       "(4, 3)"
      ]
     },
     "execution_count": 4,
     "metadata": {},
     "output_type": "execute_result"
    }
   ],
   "source": [
    "A.shape"
   ]
  },
  {
   "cell_type": "code",
   "execution_count": 5,
   "metadata": {},
   "outputs": [
    {
     "data": {
      "text/plain": [
       "array([[-0.91665361, -0.26577029,  0.9095057 ],\n",
       "       [-2.37451795, -0.76792386,  1.14053363],\n",
       "       [-1.0487089 ,  1.09541977,  0.35821027],\n",
       "       [ 0.09690215, -1.19163622, -0.08646674]])"
      ]
     },
     "execution_count": 5,
     "metadata": {},
     "output_type": "execute_result"
    }
   ],
   "source": [
    "A"
   ]
  },
  {
   "cell_type": "code",
   "execution_count": 6,
   "metadata": {},
   "outputs": [
    {
     "data": {
      "text/plain": [
       "array([[-0.2729182 ],\n",
       "       [-2.00190818],\n",
       "       [ 0.40492114],\n",
       "       [-1.18120081]])"
      ]
     },
     "execution_count": 6,
     "metadata": {},
     "output_type": "execute_result"
    }
   ],
   "source": [
    "B"
   ]
  },
  {
   "cell_type": "code",
   "execution_count": 3,
   "metadata": {},
   "outputs": [
    {
     "data": {
      "text/plain": [
       "(4, 1)"
      ]
     },
     "execution_count": 3,
     "metadata": {},
     "output_type": "execute_result"
    }
   ],
   "source": [
    "B.shape"
   ]
  },
  {
   "cell_type": "code",
   "execution_count": null,
   "metadata": {},
   "outputs": [],
   "source": []
  }
 ],
 "metadata": {
  "kernelspec": {
   "display_name": "Python 3",
   "language": "python",
   "name": "python3"
  },
  "language_info": {
   "codemirror_mode": {
    "name": "ipython",
    "version": 3
   },
   "file_extension": ".py",
   "mimetype": "text/x-python",
   "name": "python",
   "nbconvert_exporter": "python",
   "pygments_lexer": "ipython3",
   "version": "3.7.6"
  }
 },
 "nbformat": 4,
 "nbformat_minor": 2
}
