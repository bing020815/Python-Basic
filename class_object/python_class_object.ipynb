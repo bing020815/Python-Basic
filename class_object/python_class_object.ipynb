{
  "nbformat": 4,
  "nbformat_minor": 0,
  "metadata": {
    "kernelspec": {
      "display_name": "Python 3",
      "language": "python",
      "name": "python3"
    },
    "language_info": {
      "codemirror_mode": {
        "name": "ipython",
        "version": 3
      },
      "file_extension": ".py",
      "mimetype": "text/x-python",
      "name": "python",
      "nbconvert_exporter": "python",
      "pygments_lexer": "ipython3",
      "version": "3.7.3"
    },
    "colab": {
      "name": "  python_class_object.ipynb",
      "provenance": [],
      "collapsed_sections": [],
      "include_colab_link": true
    }
  },
  "cells": [
    {
      "cell_type": "markdown",
      "metadata": {
        "id": "view-in-github",
        "colab_type": "text"
      },
      "source": [
        "<a href=\"https://colab.research.google.com/github/bing020815/Python-Basic/blob/master/class_object/python_class_object.ipynb\" target=\"_parent\"><img src=\"https://colab.research.google.com/assets/colab-badge.svg\" alt=\"Open In Colab\"/></a>"
      ]
    },
    {
      "cell_type": "markdown",
      "metadata": {
        "id": "A8MkViNb08Nw",
        "colab_type": "text"
      },
      "source": [
        "# class and object\n",
        "\n",
        "Python is an object oriented programming language.  \n",
        "Almost everything in Python is an `object`, with its properties and methods.  \n",
        "\n",
        "\n",
        "A `class` is like an `object` constructor, or a \"blueprint\" for creating objects.  \n",
        "  \n",
        "\n",
        "Example:   \n",
        "A factory can have a blueprint of making a car for a specific model. The blueprint is a 'class'.   \n",
        "Customer can buy a customized car, leather interior, roof, navigation system ...etc, for that specific model. The customized car here is an `object`.  "
      ]
    },
    {
      "cell_type": "markdown",
      "metadata": {
        "id": "NWUT4NZA08Ny",
        "colab_type": "text"
      },
      "source": [
        "## Basic Python Class"
      ]
    },
    {
      "cell_type": "markdown",
      "metadata": {
        "id": "D0KSv9Te3BLm",
        "colab_type": "text"
      },
      "source": [
        "In python, there are built-in data types, such as numeric (`int`, `float`), Boolean (`True`, `False`), Sequence Type (`string`, `list`, `tuple`) and Dictionary (`dict`).  \n",
        "\n",
        "Python has an built-in function `type()` to ascertain the data type of a certain value.  \n",
        "\n",
        "However, a custom datatype can be built by using python class.   \n",
        "\n",
        "Let's say we want to have a __Book__ datatype in python. We want the __Book__ datatype contains the information of book name, publish year, author name, book price, and if it is kindle version.  \n",
        "\n"
      ]
    },
    {
      "cell_type": "code",
      "metadata": {
        "id": "gm02Vb2r08Nz",
        "colab_type": "code",
        "colab": {}
      },
      "source": [
        "class Book:\n",
        "    '''This is the comment section that you are able to access through \"__doc__\" attribute.'''\n",
        "\n",
        "    # class variable\n",
        "    num_of_books = 0  \n",
        "    # When access a class variable, it should be called through a class itself or an instance of a class\n",
        "\n",
        "\n",
        "    # The __init__ method is roughly what represents a constructor in Python\n",
        "    # It runs everytime when a new instance has been created \n",
        "    # 'self' refers as an instance of a class\n",
        "    # 'name', 'publish_year', 'author', 'price', 'is_kindle' are parameters\n",
        "    def __init__(self, name, publish_year, author, price, is_kindle):\n",
        "    # 'self.name', 'self.publish_year', 'self.author', 'self.price', 'self.is_kindle' are attributes, also called instance variables\n",
        "        self.name = name\n",
        "        self.publish_year = publish_year        \n",
        "        self.author = author        \n",
        "        self.price = price \n",
        "        self.is_kindle = is_kindle \n",
        "\n",
        "        Book.num_of_books += 1 # it increases everytime when a instance has been created"
      ],
      "execution_count": 0,
      "outputs": []
    },
    {
      "cell_type": "markdown",
      "metadata": {
        "id": "qzm2y4L343am",
        "colab_type": "text"
      },
      "source": [
        "Now, the __Book__ data type has been created. The next step is to instanciate the class to create an object, a book."
      ]
    },
    {
      "cell_type": "code",
      "metadata": {
        "id": "LLtyTZW608N3",
        "colab_type": "code",
        "colab": {}
      },
      "source": [
        "book1 = Book('How to master python', 2020, \"Bing-Je\", 20, False)"
      ],
      "execution_count": 0,
      "outputs": []
    },
    {
      "cell_type": "code",
      "metadata": {
        "id": "SxN1_HGe08N6",
        "colab_type": "code",
        "outputId": "0ef82d8a-8196-445a-eaf1-e47f71e9e4ae",
        "colab": {
          "base_uri": "https://localhost:8080/",
          "height": 34
        }
      },
      "source": [
        "book1.name"
      ],
      "execution_count": 3,
      "outputs": [
        {
          "output_type": "execute_result",
          "data": {
            "text/plain": [
              "'How to master python'"
            ]
          },
          "metadata": {
            "tags": []
          },
          "execution_count": 3
        }
      ]
    },
    {
      "cell_type": "code",
      "metadata": {
        "id": "FKHIH5gM08OA",
        "colab_type": "code",
        "outputId": "a6e8d2b2-b870-4627-c540-155168bf68cd",
        "colab": {
          "base_uri": "https://localhost:8080/",
          "height": 34
        }
      },
      "source": [
        "book1.publish_year"
      ],
      "execution_count": 4,
      "outputs": [
        {
          "output_type": "execute_result",
          "data": {
            "text/plain": [
              "2020"
            ]
          },
          "metadata": {
            "tags": []
          },
          "execution_count": 4
        }
      ]
    },
    {
      "cell_type": "code",
      "metadata": {
        "id": "TbgK0LK308OG",
        "colab_type": "code",
        "outputId": "9582d553-3946-4579-f4d8-0f0319ed7299",
        "colab": {
          "base_uri": "https://localhost:8080/",
          "height": 34
        }
      },
      "source": [
        "book1.price"
      ],
      "execution_count": 5,
      "outputs": [
        {
          "output_type": "execute_result",
          "data": {
            "text/plain": [
              "20"
            ]
          },
          "metadata": {
            "tags": []
          },
          "execution_count": 5
        }
      ]
    },
    {
      "cell_type": "code",
      "metadata": {
        "id": "NllLAjT808OJ",
        "colab_type": "code",
        "outputId": "2e592699-6c98-41df-d97d-ffb2dde84d2a",
        "colab": {
          "base_uri": "https://localhost:8080/",
          "height": 34
        }
      },
      "source": [
        "book1.author"
      ],
      "execution_count": 6,
      "outputs": [
        {
          "output_type": "execute_result",
          "data": {
            "text/plain": [
              "'Bing-Je'"
            ]
          },
          "metadata": {
            "tags": []
          },
          "execution_count": 6
        }
      ]
    },
    {
      "cell_type": "code",
      "metadata": {
        "id": "_VHGLcvl08OM",
        "colab_type": "code",
        "outputId": "72c90e4b-6286-4bb6-acfe-b839e8550a45",
        "colab": {
          "base_uri": "https://localhost:8080/",
          "height": 34
        }
      },
      "source": [
        "book1.is_kindle"
      ],
      "execution_count": 7,
      "outputs": [
        {
          "output_type": "execute_result",
          "data": {
            "text/plain": [
              "False"
            ]
          },
          "metadata": {
            "tags": []
          },
          "execution_count": 7
        }
      ]
    },
    {
      "cell_type": "markdown",
      "metadata": {
        "id": "Or_GiMET518v",
        "colab_type": "text"
      },
      "source": [
        "Let's create another object, second book."
      ]
    },
    {
      "cell_type": "code",
      "metadata": {
        "id": "dePFxxE908OQ",
        "colab_type": "code",
        "colab": {}
      },
      "source": [
        "book2 = Book('The Road Ahead: Completely Revised and Up-to-Date', 1996, 'Bill Gates', 24, True)"
      ],
      "execution_count": 0,
      "outputs": []
    },
    {
      "cell_type": "code",
      "metadata": {
        "id": "a_4YBwcq08OS",
        "colab_type": "code",
        "outputId": "786713e9-e719-454c-e117-4ed82aee3f4c",
        "colab": {
          "base_uri": "https://localhost:8080/",
          "height": 34
        }
      },
      "source": [
        "book2.name"
      ],
      "execution_count": 9,
      "outputs": [
        {
          "output_type": "execute_result",
          "data": {
            "text/plain": [
              "'The Road Ahead: Completely Revised and Up-to-Date'"
            ]
          },
          "metadata": {
            "tags": []
          },
          "execution_count": 9
        }
      ]
    },
    {
      "cell_type": "code",
      "metadata": {
        "id": "SMkjuWpz08OV",
        "colab_type": "code",
        "outputId": "57497418-b061-4bd2-a737-fab1c8b15cdb",
        "colab": {
          "base_uri": "https://localhost:8080/",
          "height": 34
        }
      },
      "source": [
        "book2.is_kindle"
      ],
      "execution_count": 10,
      "outputs": [
        {
          "output_type": "execute_result",
          "data": {
            "text/plain": [
              "True"
            ]
          },
          "metadata": {
            "tags": []
          },
          "execution_count": 10
        }
      ]
    },
    {
      "cell_type": "code",
      "metadata": {
        "id": "Iv6n7VtPHrm5",
        "colab_type": "code",
        "colab": {
          "base_uri": "https://localhost:8080/",
          "height": 34
        },
        "outputId": "30da1cf5-67e9-4790-ac0e-cf82dcfddd42"
      },
      "source": [
        "book1.is_kindle"
      ],
      "execution_count": 11,
      "outputs": [
        {
          "output_type": "execute_result",
          "data": {
            "text/plain": [
              "False"
            ]
          },
          "metadata": {
            "tags": []
          },
          "execution_count": 11
        }
      ]
    },
    {
      "cell_type": "code",
      "metadata": {
        "id": "5X-O82FzHrx8",
        "colab_type": "code",
        "colab": {
          "base_uri": "https://localhost:8080/",
          "height": 34
        },
        "outputId": "917b23b7-d931-4b55-eb58-9c135b4b9377"
      },
      "source": [
        "try:\n",
        "    Book.is_kindle\n",
        "except AttributeError:\n",
        "    print('class does not inherent from a class or does not have the instance attribute, \"is_kindle\"!')"
      ],
      "execution_count": 12,
      "outputs": [
        {
          "output_type": "stream",
          "text": [
            "class does not inherent from a class or does not have the instance attribute, \"is_kindle\"!\n"
          ],
          "name": "stdout"
        }
      ]
    },
    {
      "cell_type": "markdown",
      "metadata": {
        "id": "0NOvdBRQG49k",
        "colab_type": "text"
      },
      "source": [
        "Using `__dict__` attribute and check the current parameters that are assigined to a class or a instance."
      ]
    },
    {
      "cell_type": "code",
      "metadata": {
        "id": "f08lYVajHFzL",
        "colab_type": "code",
        "colab": {
          "base_uri": "https://localhost:8080/",
          "height": 102
        },
        "outputId": "eccc5dd6-4d29-4fd9-e1f8-d2d4a7c73576"
      },
      "source": [
        "# Check book1 instance\n",
        "book1.__dict__"
      ],
      "execution_count": 13,
      "outputs": [
        {
          "output_type": "execute_result",
          "data": {
            "text/plain": [
              "{'author': 'Bing-Je',\n",
              " 'is_kindle': False,\n",
              " 'name': 'How to master python',\n",
              " 'price': 20,\n",
              " 'publish_year': 2020}"
            ]
          },
          "metadata": {
            "tags": []
          },
          "execution_count": 13
        }
      ]
    },
    {
      "cell_type": "markdown",
      "metadata": {
        "id": "lasTrvidIpIe",
        "colab_type": "text"
      },
      "source": [
        "The `__dict__` attribute only shows the instance variables"
      ]
    },
    {
      "cell_type": "code",
      "metadata": {
        "id": "DbpPo1wzGzpc",
        "colab_type": "code",
        "colab": {
          "base_uri": "https://localhost:8080/",
          "height": 119
        },
        "outputId": "8020c357-f1ff-4c67-b102-a4a8c23cd7c6"
      },
      "source": [
        "# Check Book class\n",
        "Book.__dict__"
      ],
      "execution_count": 14,
      "outputs": [
        {
          "output_type": "execute_result",
          "data": {
            "text/plain": [
              "mappingproxy({'__dict__': <attribute '__dict__' of 'Book' objects>,\n",
              "              '__doc__': 'This is the comment section that you are able to access through \"__doc__\" attribute.',\n",
              "              '__init__': <function __main__.Book.__init__>,\n",
              "              '__module__': '__main__',\n",
              "              '__weakref__': <attribute '__weakref__' of 'Book' objects>,\n",
              "              'num_of_books': 2})"
            ]
          },
          "metadata": {
            "tags": []
          },
          "execution_count": 14
        }
      ]
    },
    {
      "cell_type": "markdown",
      "metadata": {
        "id": "lyYdab4YQLYl",
        "colab_type": "text"
      },
      "source": [
        "The `__doc__` attribute shows the information about the class."
      ]
    },
    {
      "cell_type": "code",
      "metadata": {
        "id": "FNLco25IPmFe",
        "colab_type": "code",
        "colab": {
          "base_uri": "https://localhost:8080/",
          "height": 34
        },
        "outputId": "30458661-b1ca-4f32-cb13-fa9a549ae96e"
      },
      "source": [
        "Book.__doc__"
      ],
      "execution_count": 15,
      "outputs": [
        {
          "output_type": "execute_result",
          "data": {
            "text/plain": [
              "'This is the comment section that you are able to access through \"__doc__\" attribute.'"
            ]
          },
          "metadata": {
            "tags": []
          },
          "execution_count": 15
        }
      ]
    },
    {
      "cell_type": "markdown",
      "metadata": {
        "id": "pvu8QI1i59P5",
        "colab_type": "text"
      },
      "source": [
        "See? The num_of_book parameter, `class variable`, indicates the number of instances has been instanciated for the class.  \n",
        "\n",
        "Alright, that is the basis of the python class and object."
      ]
    },
    {
      "cell_type": "markdown",
      "metadata": {
        "id": "U07qJkK208OY",
        "colab_type": "text"
      },
      "source": [
        "## Python Class Method"
      ]
    },
    {
      "cell_type": "markdown",
      "metadata": {
        "id": "PLsd616N6Ftm",
        "colab_type": "text"
      },
      "source": [
        "Within a python `class`, it can define mutiple functions as the method of an `object`. When an `object` is created based on the `class`, it is automatically assigned the functions as methods that can be used in advanced."
      ]
    },
    {
      "cell_type": "code",
      "metadata": {
        "id": "uGc5TKQR08Of",
        "colab_type": "code",
        "colab": {}
      },
      "source": [
        "# importing datetime module and random module for the functions created in the Robot class\n",
        "from datetime import datetime\n",
        "import random\n",
        "\n",
        "class Robot:\n",
        "    \n",
        "    # class variables\n",
        "    bettery_amt = 50\n",
        "    # When access a class variable, it should be called through a class itself or an instance of a class\n",
        "\n",
        "    def __init__(self, robotname, ownername, birth):\n",
        "        self.robotname = robotname\n",
        "        self.ownername = ownername\n",
        "        self.birth = birth\n",
        "\n",
        "    @property     # allow user to access 'id' as an instanace attribute\n",
        "    def id(self):\n",
        "        return \"{}'s {} \".format(self.ownername, self.robotname)\n",
        "\n",
        "    @id.setter  # allow user to change the 'id' also change the attributes of 'robotname' and 'ownername'\n",
        "    def id(self, identity):\n",
        "        owner, robot = identity.split(\"'s \")\n",
        "        self.ownername = owner\n",
        "        self.robotname = robot\n",
        "\n",
        "    # saying hello with user name\n",
        "    def say_hello(self):\n",
        "        print('Hello, {}!'.format(self.ownername))\n",
        "        \n",
        "    # return the current time    \n",
        "    def tell_me_time(self):\n",
        "        current_time= datetime.now()\n",
        "        print('Current time is {}'.format(current_time))\n",
        "\n",
        "    # return what day is today randomly    \n",
        "    def what_day_is_today(self):\n",
        "        day = ['Monday', 'Tuesday', 'Wednesday', 'Thursday', \n",
        "               'Friday', 'Saturday', 'Sunday']\n",
        "        today = random.choice(range(7))\n",
        "        print('Today is {}!'.format(day[today]))\n",
        "\n",
        "    # method can access a class variable as an attribute of an instance\n",
        "    def charge_bettery(self, amount):\n",
        "        self.bettery_amt = int(self.bettery_amt + amount)\n",
        "\n",
        "    @classmethod    # using decorator to refer a method with a class instead of instances\n",
        "    def set_bettery(cls, amount):   # using 'cls' as convention to refer the class\n",
        "        cls.bettery_amt = amount  # call a class variable from a class\n",
        "\n",
        "    @classmethod\n",
        "    def from_string(cls, robot_string, separator):\n",
        "        robotname, ownername, birth = robot_string.split(separator)\n",
        "        return cls(robotname, ownername, birth)\n",
        "\n",
        "    @staticmethod    # staticmethod does not access a class or an instance within the function\n",
        "    def lucky_number_1_to_10():\n",
        "        import random\n",
        "        return random.randint(1,10)\n",
        "\n",
        "    def __repr__(self): # at least has this method to show more infomation of an instance\n",
        "        return \"'{}', '{}', '{}'\".format(self.robotname, self.ownername, self.birth)\n",
        "\n",
        "    def __str__(self):\n",
        "        return \"'{} - {} - {}\".format(self.robotname, self.ownername, self.birth)"
      ],
      "execution_count": 0,
      "outputs": []
    },
    {
      "cell_type": "markdown",
      "metadata": {
        "id": "4qwz_g-C7Tp4",
        "colab_type": "text"
      },
      "source": [
        "Now, we have created a new `class`, __Robot__ data type. We are ready to create instances, `objects`."
      ]
    },
    {
      "cell_type": "code",
      "metadata": {
        "id": "_oqLa_Dp08Oi",
        "colab_type": "code",
        "colab": {}
      },
      "source": [
        "alexa = Robot('alexa', 'Bing', '08/15')\n",
        "siri = Robot('siri', 'Bing-Je', '12/30')"
      ],
      "execution_count": 0,
      "outputs": []
    },
    {
      "cell_type": "code",
      "metadata": {
        "id": "e6h-D1Zj08On",
        "colab_type": "code",
        "outputId": "5a472a24-291f-4a26-e338-77624d6ff680",
        "colab": {
          "base_uri": "https://localhost:8080/",
          "height": 34
        }
      },
      "source": [
        "alexa.say_hello()"
      ],
      "execution_count": 18,
      "outputs": [
        {
          "output_type": "stream",
          "text": [
            "Hello, Bing!\n"
          ],
          "name": "stdout"
        }
      ]
    },
    {
      "cell_type": "code",
      "metadata": {
        "id": "s2B-nQhz08Op",
        "colab_type": "code",
        "outputId": "d92e00f3-8d27-444a-b3dd-278cbc5d37a2",
        "colab": {
          "base_uri": "https://localhost:8080/",
          "height": 34
        }
      },
      "source": [
        "alexa.tell_me_time()"
      ],
      "execution_count": 19,
      "outputs": [
        {
          "output_type": "stream",
          "text": [
            "Current time is 2020-04-22 20:10:38.150784\n"
          ],
          "name": "stdout"
        }
      ]
    },
    {
      "cell_type": "code",
      "metadata": {
        "id": "sEyeVFYg08Or",
        "colab_type": "code",
        "outputId": "637cc356-df92-40cb-8d0e-2da9069884cb",
        "colab": {
          "base_uri": "https://localhost:8080/",
          "height": 34
        }
      },
      "source": [
        "alexa.what_day_is_today()"
      ],
      "execution_count": 20,
      "outputs": [
        {
          "output_type": "stream",
          "text": [
            "Today is Friday!\n"
          ],
          "name": "stdout"
        }
      ]
    },
    {
      "cell_type": "markdown",
      "metadata": {
        "id": "-38jSrQ7n9tg",
        "colab_type": "text"
      },
      "source": [
        "`class variable` can be assigned to an instance through methods. Calling a 'class variable` will not assign the `class variable` as an attribute of the instance."
      ]
    },
    {
      "cell_type": "code",
      "metadata": {
        "id": "B9Rrkib6oLZ5",
        "colab_type": "code",
        "colab": {
          "base_uri": "https://localhost:8080/",
          "height": 34
        },
        "outputId": "1f50aa10-3d9c-406c-a039-6f81788c6570"
      },
      "source": [
        "# one attribute\n",
        "alexa.__dict__"
      ],
      "execution_count": 21,
      "outputs": [
        {
          "output_type": "execute_result",
          "data": {
            "text/plain": [
              "{'birth': '08/15', 'ownername': 'Bing', 'robotname': 'alexa'}"
            ]
          },
          "metadata": {
            "tags": []
          },
          "execution_count": 21
        }
      ]
    },
    {
      "cell_type": "code",
      "metadata": {
        "id": "DiIgY2VIm5vA",
        "colab_type": "code",
        "colab": {}
      },
      "source": [
        "# accessing a class variable through methods\n",
        "alexa.charge_bettery(10)"
      ],
      "execution_count": 0,
      "outputs": []
    },
    {
      "cell_type": "code",
      "metadata": {
        "id": "LiFgAckLnC-0",
        "colab_type": "code",
        "colab": {
          "base_uri": "https://localhost:8080/",
          "height": 34
        },
        "outputId": "dafaf57a-2f4b-49bd-da42-93a5f828ebb2"
      },
      "source": [
        "# new attribute for the instance\n",
        "alexa.bettery_amt"
      ],
      "execution_count": 23,
      "outputs": [
        {
          "output_type": "execute_result",
          "data": {
            "text/plain": [
              "60"
            ]
          },
          "metadata": {
            "tags": []
          },
          "execution_count": 23
        }
      ]
    },
    {
      "cell_type": "code",
      "metadata": {
        "id": "NYAOa7wonOfc",
        "colab_type": "code",
        "colab": {
          "base_uri": "https://localhost:8080/",
          "height": 85
        },
        "outputId": "f810e1fc-d09f-4800-d518-be6ec4ef38af"
      },
      "source": [
        "# two attributes\n",
        "alexa.__dict__"
      ],
      "execution_count": 24,
      "outputs": [
        {
          "output_type": "execute_result",
          "data": {
            "text/plain": [
              "{'bettery_amt': 60,\n",
              " 'birth': '08/15',\n",
              " 'ownername': 'Bing',\n",
              " 'robotname': 'alexa'}"
            ]
          },
          "metadata": {
            "tags": []
          },
          "execution_count": 24
        }
      ]
    },
    {
      "cell_type": "markdown",
      "metadata": {
        "id": "tgS6pasAliPa",
        "colab_type": "text"
      },
      "source": [
        "`class variable` can be changed through a class method."
      ]
    },
    {
      "cell_type": "code",
      "metadata": {
        "id": "wVOSBiD-j_Un",
        "colab_type": "code",
        "colab": {
          "base_uri": "https://localhost:8080/",
          "height": 34
        },
        "outputId": "04aaa503-3dee-4870-85f2-07e878ef3dcd"
      },
      "source": [
        "# class attribute\n",
        "Robot.bettery_amt  "
      ],
      "execution_count": 25,
      "outputs": [
        {
          "output_type": "execute_result",
          "data": {
            "text/plain": [
              "50"
            ]
          },
          "metadata": {
            "tags": []
          },
          "execution_count": 25
        }
      ]
    },
    {
      "cell_type": "markdown",
      "metadata": {
        "id": "IUNgv4NGlr8m",
        "colab_type": "text"
      },
      "source": [
        "The `bettery_amt` is a class variable with e default setting as `50`. Using a class method, `set_bettery` to change the default value to `30`."
      ]
    },
    {
      "cell_type": "code",
      "metadata": {
        "id": "MRKWDharkJ0G",
        "colab_type": "code",
        "colab": {}
      },
      "source": [
        "# class method\n",
        "Robot.set_bettery(30)"
      ],
      "execution_count": 0,
      "outputs": []
    },
    {
      "cell_type": "code",
      "metadata": {
        "id": "ud2BoBW7kJ29",
        "colab_type": "code",
        "colab": {
          "base_uri": "https://localhost:8080/",
          "height": 34
        },
        "outputId": "efc1931f-08c8-467a-8de8-7e0ae0e2d4db"
      },
      "source": [
        "# class attribute\n",
        "Robot.bettery_amt  "
      ],
      "execution_count": 27,
      "outputs": [
        {
          "output_type": "execute_result",
          "data": {
            "text/plain": [
              "30"
            ]
          },
          "metadata": {
            "tags": []
          },
          "execution_count": 27
        }
      ]
    },
    {
      "cell_type": "code",
      "metadata": {
        "id": "qkRLdAY9mHWP",
        "colab_type": "code",
        "colab": {
          "base_uri": "https://localhost:8080/",
          "height": 85
        },
        "outputId": "a58a5ed0-34f8-409c-c2df-4b6bee165ee4"
      },
      "source": [
        "# the instance attribute remains the same\n",
        "alexa.__dict__"
      ],
      "execution_count": 28,
      "outputs": [
        {
          "output_type": "execute_result",
          "data": {
            "text/plain": [
              "{'bettery_amt': 60,\n",
              " 'birth': '08/15',\n",
              " 'ownername': 'Bing',\n",
              " 'robotname': 'alexa'}"
            ]
          },
          "metadata": {
            "tags": []
          },
          "execution_count": 28
        }
      ]
    },
    {
      "cell_type": "markdown",
      "metadata": {
        "id": "1Q3rKpO2rJAV",
        "colab_type": "text"
      },
      "source": [
        "Using a `class method` from an instance will not only update the `class variable` but also that `instance attribute`."
      ]
    },
    {
      "cell_type": "code",
      "metadata": {
        "id": "64s44kAqmHeg",
        "colab_type": "code",
        "colab": {}
      },
      "source": [
        "# runing class method from an instance still works\n",
        "alexa.set_bettery(60)"
      ],
      "execution_count": 0,
      "outputs": []
    },
    {
      "cell_type": "code",
      "metadata": {
        "id": "wV4lfLLIpv6c",
        "colab_type": "code",
        "colab": {
          "base_uri": "https://localhost:8080/",
          "height": 34
        },
        "outputId": "8c620da6-5b20-4b04-f58e-f654eff7c37c"
      },
      "source": [
        "# the class variable has been changed\n",
        "Robot.bettery_amt "
      ],
      "execution_count": 30,
      "outputs": [
        {
          "output_type": "execute_result",
          "data": {
            "text/plain": [
              "60"
            ]
          },
          "metadata": {
            "tags": []
          },
          "execution_count": 30
        }
      ]
    },
    {
      "cell_type": "code",
      "metadata": {
        "id": "q4puzNxappzP",
        "colab_type": "code",
        "colab": {
          "base_uri": "https://localhost:8080/",
          "height": 85
        },
        "outputId": "6a1daf07-b4f5-4caf-cbec-a46789162ff7"
      },
      "source": [
        "# the class attribute for that instance has also been changed\n",
        "alexa.__dict__"
      ],
      "execution_count": 31,
      "outputs": [
        {
          "output_type": "execute_result",
          "data": {
            "text/plain": [
              "{'bettery_amt': 60,\n",
              " 'birth': '08/15',\n",
              " 'ownername': 'Bing',\n",
              " 'robotname': 'alexa'}"
            ]
          },
          "metadata": {
            "tags": []
          },
          "execution_count": 31
        }
      ]
    },
    {
      "cell_type": "code",
      "metadata": {
        "id": "TuegNIOntvX8",
        "colab_type": "code",
        "colab": {
          "base_uri": "https://localhost:8080/",
          "height": 34
        },
        "outputId": "025bf637-d3bf-4b6e-d5ae-ecfd09fbe7a0"
      },
      "source": [
        "# assiging the class variable to a new instance with the updated class variable\n",
        "siri.bettery_amt"
      ],
      "execution_count": 32,
      "outputs": [
        {
          "output_type": "execute_result",
          "data": {
            "text/plain": [
              "60"
            ]
          },
          "metadata": {
            "tags": []
          },
          "execution_count": 32
        }
      ]
    },
    {
      "cell_type": "markdown",
      "metadata": {
        "id": "vTkqW7aLmHmv",
        "colab_type": "text"
      },
      "source": [
        "Using `class method` as alternative constructor to create multipe objects/instances"
      ]
    },
    {
      "cell_type": "code",
      "metadata": {
        "id": "Hlk7gcxYBW40",
        "colab_type": "code",
        "colab": {}
      },
      "source": [
        "robot_string1 = 'rbt-JJ-01/25'\n",
        "rbt = Robot.from_string(robot_string1, '-')"
      ],
      "execution_count": 0,
      "outputs": []
    },
    {
      "cell_type": "code",
      "metadata": {
        "id": "Ln3ORvPTIWCF",
        "colab_type": "code",
        "colab": {
          "base_uri": "https://localhost:8080/",
          "height": 34
        },
        "outputId": "7a52797d-8a08-4881-deee-b8b060bac61f"
      },
      "source": [
        "# calling the class variable\n",
        "rbt.bettery_amt"
      ],
      "execution_count": 34,
      "outputs": [
        {
          "output_type": "execute_result",
          "data": {
            "text/plain": [
              "60"
            ]
          },
          "metadata": {
            "tags": []
          },
          "execution_count": 34
        }
      ]
    },
    {
      "cell_type": "code",
      "metadata": {
        "id": "VU6XcoDkCrrx",
        "colab_type": "code",
        "colab": {
          "base_uri": "https://localhost:8080/",
          "height": 34
        },
        "outputId": "a529eece-38b3-4ff2-eca0-bf3cf662a553"
      },
      "source": [
        "# the class variable was not assigned to the instance as an attribute\n",
        "rbt.__dict__"
      ],
      "execution_count": 35,
      "outputs": [
        {
          "output_type": "execute_result",
          "data": {
            "text/plain": [
              "{'birth': '01/25', 'ownername': 'JJ', 'robotname': 'rbt'}"
            ]
          },
          "metadata": {
            "tags": []
          },
          "execution_count": 35
        }
      ]
    },
    {
      "cell_type": "markdown",
      "metadata": {
        "id": "97XUAXazDwVW",
        "colab_type": "text"
      },
      "source": [
        " `staticmethods` do not pass any instance or class, meaning it does not access an instance or a class anywhere within a function. Call a `staticmethod` from a class."
      ]
    },
    {
      "cell_type": "code",
      "metadata": {
        "id": "AXTLCWVZFbQH",
        "colab_type": "code",
        "colab": {
          "base_uri": "https://localhost:8080/",
          "height": 34
        },
        "outputId": "760d5910-a203-48ca-c5b5-468989e9658d"
      },
      "source": [
        "Robot.lucky_number_1_to_10()"
      ],
      "execution_count": 36,
      "outputs": [
        {
          "output_type": "execute_result",
          "data": {
            "text/plain": [
              "1"
            ]
          },
          "metadata": {
            "tags": []
          },
          "execution_count": 36
        }
      ]
    },
    {
      "cell_type": "markdown",
      "metadata": {
        "id": "FQ1H9ZaegB0u",
        "colab_type": "text"
      },
      "source": [
        "Using `Property Decorators`, `Setter Decorators` to access a method as an attribute and change the attributes."
      ]
    },
    {
      "cell_type": "code",
      "metadata": {
        "id": "pLMq4VU4gWXH",
        "colab_type": "code",
        "colab": {}
      },
      "source": [
        "# set the id attribute to others\n",
        "rbt.id = \"bjw's rbt\""
      ],
      "execution_count": 0,
      "outputs": []
    },
    {
      "cell_type": "code",
      "metadata": {
        "id": "w8sO39GKgtzB",
        "colab_type": "code",
        "colab": {
          "base_uri": "https://localhost:8080/",
          "height": 34
        },
        "outputId": "328d1e79-112a-45df-954a-e6ff17810554"
      },
      "source": [
        "# owner name has been changed\n",
        "rbt.__dict__"
      ],
      "execution_count": 38,
      "outputs": [
        {
          "output_type": "execute_result",
          "data": {
            "text/plain": [
              "{'birth': '01/25', 'ownername': 'bjw', 'robotname': 'rbt'}"
            ]
          },
          "metadata": {
            "tags": []
          },
          "execution_count": 38
        }
      ]
    },
    {
      "cell_type": "markdown",
      "metadata": {
        "id": "PDaua3p008Ou",
        "colab_type": "text"
      },
      "source": [
        "## Class inherent"
      ]
    },
    {
      "cell_type": "markdown",
      "metadata": {
        "id": "evLHZSlq7mqB",
        "colab_type": "text"
      },
      "source": [
        "A `class` can inherent the attribute and method from the other `class`.  Let's say we want to create an advance robot to have advanced functions or improved functions. Here, we are going to create a new `class`, __AdvancedRobot__ data type. The __AdvancedRobot__ data type can not only have the basic functions that a __Robot__ `object` has but also have advanced functions such as playing music and reporting the location. "
      ]
    },
    {
      "cell_type": "code",
      "metadata": {
        "id": "3almR8Si08Ov",
        "colab_type": "code",
        "colab": {}
      },
      "source": [
        "# child classes can inherent methods, class variables and instance attributes from parent class\n",
        "class AdvancedRobot(Robot): \n",
        "    # use Robot class as input to inherent attributes and functions/methods\n",
        "\n",
        "    bettery_amt = 65\n",
        "\n",
        "    def __init__(self, robotname, ownername, birth, location):\n",
        "        # 'robotname', 'ownername', 'birth' are handled by the init method of Robot class, parent class/ base class.\n",
        "        super().__init__(robotname, ownername, birth) \n",
        "        self.locattion = location\n",
        "\n",
        "    \n",
        "    # change the output of time for differencing from Robot class\n",
        "    def tell_me_time(self):\n",
        "        current_time= datetime.now().time()\n",
        "        print('Current time is {}'.format(current_time))\n",
        "        \n",
        "    def where_am_I(self):\n",
        "        place = ['Japan', 'USA', 'Taiwan', 'Korea', \n",
        "               'Germany', 'UK', 'France']\n",
        "        myplace = random.choice(range(7))\n",
        "        print('You are in {}!'.format(myplace))    \n",
        "    \n",
        "    def play_music(self):\n",
        "        print(\"Playing music ...\")\n",
        "    \n",
        "class RobotManager(Robot):\n",
        "    bettery_amt = 70\n",
        "\n",
        "    # always set the default value an immutable\n",
        "    def __init__(self, robotname, ownername, birth, robot_list=None): \n",
        "        # 'robotname', 'ownername', 'birth' are handled by the init method of Robot class, parent class/ base class.\n",
        "        super().__init__(robotname, ownername, birth) \n",
        "        if robot_list is None:\n",
        "            self.robot_list = []\n",
        "        else:\n",
        "            self.robot_list = robot_list\n",
        "        \n",
        "    \n",
        "    def add_robot(self, robot):\n",
        "        if robot not in self.robot_list:\n",
        "            self.robot_list.append(robot)\n",
        "\n",
        "    def remove_robot(self, robot):\n",
        "        if robot in self.robot_list:\n",
        "            self.robot_list.remove(robot)\n",
        "\n",
        "    def print_robots(self):\n",
        "        for robot in self.robot_list:\n",
        "            print('Robot: {} ; Owner: {}'.format(robot.robotname.capitalize(), robot.ownername))\n"
      ],
      "execution_count": 0,
      "outputs": []
    },
    {
      "cell_type": "markdown",
      "metadata": {
        "id": "8ihWSRAj86qH",
        "colab_type": "text"
      },
      "source": [
        "By creating a new instance, we can prove that the AdvancedRobot `object` has perfect inherented everything from __Robot__ `class`."
      ]
    },
    {
      "cell_type": "code",
      "metadata": {
        "id": "0vcgy10e08Oy",
        "colab_type": "code",
        "colab": {}
      },
      "source": [
        "google = AdvancedRobot('google', 'BingJe', '08/15', 'living room')"
      ],
      "execution_count": 0,
      "outputs": []
    },
    {
      "cell_type": "code",
      "metadata": {
        "id": "807LcVcwHrAR",
        "colab_type": "code",
        "colab": {
          "base_uri": "https://localhost:8080/",
          "height": 34
        },
        "outputId": "50fceac6-324e-42ff-c407-aa0a8edfaa6b"
      },
      "source": [
        "google.bettery_amt"
      ],
      "execution_count": 41,
      "outputs": [
        {
          "output_type": "execute_result",
          "data": {
            "text/plain": [
              "65"
            ]
          },
          "metadata": {
            "tags": []
          },
          "execution_count": 41
        }
      ]
    },
    {
      "cell_type": "code",
      "metadata": {
        "id": "x7FmHkwwHm7y",
        "colab_type": "code",
        "colab": {
          "base_uri": "https://localhost:8080/",
          "height": 85
        },
        "outputId": "be9280a7-4092-4961-ff5a-c6e12ecb9061"
      },
      "source": [
        "google.__dict__"
      ],
      "execution_count": 42,
      "outputs": [
        {
          "output_type": "execute_result",
          "data": {
            "text/plain": [
              "{'birth': '08/15',\n",
              " 'locattion': 'living room',\n",
              " 'ownername': 'BingJe',\n",
              " 'robotname': 'google'}"
            ]
          },
          "metadata": {
            "tags": []
          },
          "execution_count": 42
        }
      ]
    },
    {
      "cell_type": "code",
      "metadata": {
        "id": "CriunxZQIGUx",
        "colab_type": "code",
        "colab": {}
      },
      "source": [
        "google.charge_bettery(10)"
      ],
      "execution_count": 0,
      "outputs": []
    },
    {
      "cell_type": "code",
      "metadata": {
        "id": "g4d8suUfIGYX",
        "colab_type": "code",
        "colab": {
          "base_uri": "https://localhost:8080/",
          "height": 34
        },
        "outputId": "a7d25619-90dc-4d82-a747-728325bd8e6e"
      },
      "source": [
        "google.bettery_amt"
      ],
      "execution_count": 44,
      "outputs": [
        {
          "output_type": "execute_result",
          "data": {
            "text/plain": [
              "75"
            ]
          },
          "metadata": {
            "tags": []
          },
          "execution_count": 44
        }
      ]
    },
    {
      "cell_type": "code",
      "metadata": {
        "id": "CcFDGTHtINWd",
        "colab_type": "code",
        "colab": {
          "base_uri": "https://localhost:8080/",
          "height": 102
        },
        "outputId": "3f7cf6e0-ed07-46d0-e039-7f1b0281dd60"
      },
      "source": [
        "google.__dict__"
      ],
      "execution_count": 45,
      "outputs": [
        {
          "output_type": "execute_result",
          "data": {
            "text/plain": [
              "{'bettery_amt': 75,\n",
              " 'birth': '08/15',\n",
              " 'locattion': 'living room',\n",
              " 'ownername': 'BingJe',\n",
              " 'robotname': 'google'}"
            ]
          },
          "metadata": {
            "tags": []
          },
          "execution_count": 45
        }
      ]
    },
    {
      "cell_type": "markdown",
      "metadata": {
        "id": "gHGg6LqsIMuk",
        "colab_type": "text"
      },
      "source": [
        ""
      ]
    },
    {
      "cell_type": "code",
      "metadata": {
        "id": "93mFQjLc08O0",
        "colab_type": "code",
        "outputId": "0d4e4f5a-fa59-45ee-82bb-3c7c88eb8485",
        "colab": {
          "base_uri": "https://localhost:8080/",
          "height": 34
        }
      },
      "source": [
        "google.tell_me_time()"
      ],
      "execution_count": 46,
      "outputs": [
        {
          "output_type": "stream",
          "text": [
            "Current time is 20:10:38.467766\n"
          ],
          "name": "stdout"
        }
      ]
    },
    {
      "cell_type": "code",
      "metadata": {
        "id": "KjIPiPjk08O4",
        "colab_type": "code",
        "outputId": "7e10be1c-5e7f-4ad7-8ea9-d8a73afc15ab",
        "colab": {
          "base_uri": "https://localhost:8080/",
          "height": 34
        }
      },
      "source": [
        "google.what_day_is_today()"
      ],
      "execution_count": 47,
      "outputs": [
        {
          "output_type": "stream",
          "text": [
            "Today is Friday!\n"
          ],
          "name": "stdout"
        }
      ]
    },
    {
      "cell_type": "code",
      "metadata": {
        "id": "z53t4-vp08O7",
        "colab_type": "code",
        "outputId": "1d0bf66b-6b44-433e-93e9-2754fe8aa03d",
        "colab": {
          "base_uri": "https://localhost:8080/",
          "height": 34
        }
      },
      "source": [
        "google.play_music()"
      ],
      "execution_count": 48,
      "outputs": [
        {
          "output_type": "stream",
          "text": [
            "Playing music ...\n"
          ],
          "name": "stdout"
        }
      ]
    },
    {
      "cell_type": "code",
      "metadata": {
        "id": "PNzE8GIAPTrv",
        "colab_type": "code",
        "colab": {}
      },
      "source": [
        "jarvis = RobotManager('javis', 'BingJe', '08/15')"
      ],
      "execution_count": 0,
      "outputs": []
    },
    {
      "cell_type": "code",
      "metadata": {
        "id": "umNqYuNfPfeC",
        "colab_type": "code",
        "colab": {
          "base_uri": "https://localhost:8080/",
          "height": 85
        },
        "outputId": "3e7bf347-62f8-434d-befe-409cd07e3c04"
      },
      "source": [
        "jarvis.__dict__"
      ],
      "execution_count": 50,
      "outputs": [
        {
          "output_type": "execute_result",
          "data": {
            "text/plain": [
              "{'birth': '08/15',\n",
              " 'ownername': 'BingJe',\n",
              " 'robot_list': [],\n",
              " 'robotname': 'javis'}"
            ]
          },
          "metadata": {
            "tags": []
          },
          "execution_count": 50
        }
      ]
    },
    {
      "cell_type": "code",
      "metadata": {
        "id": "03eI3nO7PfiB",
        "colab_type": "code",
        "colab": {}
      },
      "source": [
        "jarvis.add_robot(alexa)\n",
        "jarvis.add_robot(siri)\n",
        "jarvis.add_robot(google)"
      ],
      "execution_count": 0,
      "outputs": []
    },
    {
      "cell_type": "code",
      "metadata": {
        "id": "z2Y50jOUQBuM",
        "colab_type": "code",
        "colab": {
          "base_uri": "https://localhost:8080/",
          "height": 68
        },
        "outputId": "4933cfcd-dba4-4991-d2f3-e8c501da489a"
      },
      "source": [
        "jarvis.print_robots()"
      ],
      "execution_count": 52,
      "outputs": [
        {
          "output_type": "stream",
          "text": [
            "Robot: Alexa ; Owner: Bing\n",
            "Robot: Siri ; Owner: Bing-Je\n",
            "Robot: Google ; Owner: BingJe\n"
          ],
          "name": "stdout"
        }
      ]
    },
    {
      "cell_type": "code",
      "metadata": {
        "id": "wabvI5ZZWCJa",
        "colab_type": "code",
        "colab": {}
      },
      "source": [
        "jarvis.remove_robot(siri)"
      ],
      "execution_count": 0,
      "outputs": []
    },
    {
      "cell_type": "code",
      "metadata": {
        "id": "KWiotk0jWPVp",
        "colab_type": "code",
        "colab": {
          "base_uri": "https://localhost:8080/",
          "height": 51
        },
        "outputId": "0429f8da-85ac-45a4-bb02-85f7e749d2c2"
      },
      "source": [
        "jarvis.print_robots()"
      ],
      "execution_count": 54,
      "outputs": [
        {
          "output_type": "stream",
          "text": [
            "Robot: Alexa ; Owner: Bing\n",
            "Robot: Google ; Owner: BingJe\n"
          ],
          "name": "stdout"
        }
      ]
    },
    {
      "cell_type": "markdown",
      "metadata": {
        "id": "fOfmlJtNWuD6",
        "colab_type": "text"
      },
      "source": [
        "`isinstance()` can check if an object is an instance.\n",
        "`issubclass()` can check if a subclass is of another class.\n"
      ]
    },
    {
      "cell_type": "code",
      "metadata": {
        "id": "pxPtX77zXLOV",
        "colab_type": "code",
        "colab": {
          "base_uri": "https://localhost:8080/",
          "height": 34
        },
        "outputId": "7afb01c0-2b7b-4b2a-d1ce-f9c924a38539"
      },
      "source": [
        "isinstance(google, Robot)"
      ],
      "execution_count": 55,
      "outputs": [
        {
          "output_type": "execute_result",
          "data": {
            "text/plain": [
              "True"
            ]
          },
          "metadata": {
            "tags": []
          },
          "execution_count": 55
        }
      ]
    },
    {
      "cell_type": "code",
      "metadata": {
        "id": "AldMaSIYXLR2",
        "colab_type": "code",
        "colab": {
          "base_uri": "https://localhost:8080/",
          "height": 34
        },
        "outputId": "fdd275cf-c2b7-4ee8-cdd8-e5c45b56d5fe"
      },
      "source": [
        "issubclass(RobotManager, Robot)"
      ],
      "execution_count": 56,
      "outputs": [
        {
          "output_type": "execute_result",
          "data": {
            "text/plain": [
              "True"
            ]
          },
          "metadata": {
            "tags": []
          },
          "execution_count": 56
        }
      ]
    },
    {
      "cell_type": "markdown",
      "metadata": {
        "id": "gEiso0zy08O-",
        "colab_type": "text"
      },
      "source": [
        "## Multiple Choice Question Application"
      ]
    },
    {
      "cell_type": "code",
      "metadata": {
        "id": "LSC8H3To08O_",
        "colab_type": "code",
        "colab": {}
      },
      "source": [
        "# a list of questions\n",
        "question_prompts = [\n",
        "    \"What color are apples?\\n(a) Red/Green\\n(b) Purple\\n(c) Orange\\n\\n\",\n",
        "    \"What color are bananas?\\n(a) Teal\\n(b) Magneta\\n(c) Yellow\\n\\n\",\n",
        "    \"What color are strawberries?\\n(a) Yellow\\n(b) Red\\n(c) Blue\\n\\n\",\n",
        "]"
      ],
      "execution_count": 0,
      "outputs": []
    },
    {
      "cell_type": "code",
      "metadata": {
        "id": "HB59238q08PC",
        "colab_type": "code",
        "colab": {}
      },
      "source": [
        "class Question:\n",
        "    def __init__(self, prompt, answer):\n",
        "        self.prompt = prompt\n",
        "        self.answer = answer"
      ],
      "execution_count": 0,
      "outputs": []
    },
    {
      "cell_type": "code",
      "metadata": {
        "id": "z-HsmpQR08PE",
        "colab_type": "code",
        "colab": {}
      },
      "source": [
        "# a list of question objects with answers\n",
        "questions = [\n",
        "    Question(question_prompts[0], 'a'),\n",
        "    Question(question_prompts[1], 'c'),\n",
        "    Question(question_prompts[2], 'b'),\n",
        "]"
      ],
      "execution_count": 0,
      "outputs": []
    },
    {
      "cell_type": "code",
      "metadata": {
        "id": "IEAIfdEn08PH",
        "colab_type": "code",
        "outputId": "8ae3f918-d55f-4e9a-e39c-e127753d6af1",
        "colab": {
          "base_uri": "https://localhost:8080/",
          "height": 34
        }
      },
      "source": [
        "questions[1].prompt"
      ],
      "execution_count": 60,
      "outputs": [
        {
          "output_type": "execute_result",
          "data": {
            "text/plain": [
              "'What color are bananas?\\n(a) Teal\\n(b) Magneta\\n(c) Yellow\\n\\n'"
            ]
          },
          "metadata": {
            "tags": []
          },
          "execution_count": 60
        }
      ]
    },
    {
      "cell_type": "code",
      "metadata": {
        "id": "caYxPZ4d08PL",
        "colab_type": "code",
        "colab": {}
      },
      "source": [
        "def run_qeustions(questions):\n",
        "    score = 0\n",
        "    for q in questions: # q is Question object\n",
        "        answer = input(q.prompt) # call the prompt attribute from the class\n",
        "        if answer == q.answer:  # compare the answer attribute from the class\n",
        "            score += 1\n",
        "    if score < 3:\n",
        "        print('\\nYou got {} question(s) wrong ! Sorry :('.format(3-score))\n",
        "    else:\n",
        "        print('\\nYou got {} questions right ! Congrats !!'.format(score))\n"
      ],
      "execution_count": 0,
      "outputs": []
    },
    {
      "cell_type": "code",
      "metadata": {
        "id": "6A0qG8-308PN",
        "colab_type": "code",
        "outputId": "e0618af7-b103-4e3f-a852-bcaf30fb7d95",
        "colab": {
          "base_uri": "https://localhost:8080/",
          "height": 357
        }
      },
      "source": [
        "run_qeustions(questions)"
      ],
      "execution_count": 62,
      "outputs": [
        {
          "output_type": "stream",
          "text": [
            "What color are apples?\n",
            "(a) Red/Green\n",
            "(b) Purple\n",
            "(c) Orange\n",
            "\n",
            "c\n",
            "What color are bananas?\n",
            "(a) Teal\n",
            "(b) Magneta\n",
            "(c) Yellow\n",
            "\n",
            "\n",
            "What color are strawberries?\n",
            "(a) Yellow\n",
            "(b) Red\n",
            "(c) Blue\n",
            "\n",
            "\n",
            "\n",
            "You got 3 question(s) wrong ! Sorry :(\n"
          ],
          "name": "stdout"
        }
      ]
    },
    {
      "cell_type": "code",
      "metadata": {
        "id": "ajO4Bbry08PQ",
        "colab_type": "code",
        "colab": {}
      },
      "source": [
        ""
      ],
      "execution_count": 0,
      "outputs": []
    }
  ]
}