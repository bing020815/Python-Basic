{
  "nbformat": 4,
  "nbformat_minor": 0,
  "metadata": {
    "kernelspec": {
      "display_name": "Python 3",
      "language": "python",
      "name": "python3"
    },
    "language_info": {
      "codemirror_mode": {
        "name": "ipython",
        "version": 3
      },
      "file_extension": ".py",
      "mimetype": "text/x-python",
      "name": "python",
      "nbconvert_exporter": "python",
      "pygments_lexer": "ipython3",
      "version": "3.7.3"
    },
    "colab": {
      "name": "  python_class_object.ipynb",
      "provenance": [],
      "collapsed_sections": [],
      "include_colab_link": true
    }
  },
  "cells": [
    {
      "cell_type": "markdown",
      "metadata": {
        "id": "view-in-github",
        "colab_type": "text"
      },
      "source": [
        "<a href=\"https://colab.research.google.com/github/bing020815/Python-Basic/blob/master/class_object/python_class_object.ipynb\" target=\"_parent\"><img src=\"https://colab.research.google.com/assets/colab-badge.svg\" alt=\"Open In Colab\"/></a>"
      ]
    },
    {
      "cell_type": "markdown",
      "metadata": {
        "id": "A8MkViNb08Nw",
        "colab_type": "text"
      },
      "source": [
        "# class and object\n",
        "\n",
        "Python is an object oriented programming language.  \n",
        "Almost everything in Python is an `object`, with its properties and methods.  \n",
        "\n",
        "\n",
        "A `class` is like an object constructor, or a \"blueprint\" for creating objects.  \n",
        "  \n",
        "\n",
        "Example:   \n",
        "A factory can have a blueprint of making a car for a specific model. The blueprint is a 'class'.   \n",
        "Customer can buy a customized car, leather interior, roof, navigation system ...etc, for that specific model. The customized car here is an `object`.  "
      ]
    },
    {
      "cell_type": "markdown",
      "metadata": {
        "id": "NWUT4NZA08Ny",
        "colab_type": "text"
      },
      "source": [
        "## Basic Python Class"
      ]
    },
    {
      "cell_type": "markdown",
      "metadata": {
        "id": "D0KSv9Te3BLm",
        "colab_type": "text"
      },
      "source": [
        "In python, there are built-in data types, such as numeric (`int`, `float`), Boolean (`True`, `False`), Sequence Type (`string`, `list`, `tuple`) and Dictionary (`dict`).  \n",
        "\n",
        "Python has an in-built function `type()` to ascertain the data type of a certain value.  \n",
        "\n",
        "However, a custom datatype can be built by using python class.   \n",
        "\n",
        "Let's say we want to have a __Book__ datatype in python. We want the __Book__ datatype contains the information of book name, publish year, author name, book price, and if it is kindle version.  \n",
        "\n"
      ]
    },
    {
      "cell_type": "code",
      "metadata": {
        "id": "gm02Vb2r08Nz",
        "colab_type": "code",
        "colab": {}
      },
      "source": [
        "class Book:\n",
        "    # The __init__ method is roughly what represents a constructor in Python\n",
        "    # 'name', 'publish_year', 'author', 'price', 'is_kindle' are parameters\n",
        "    def __init__(self, name, publish_year, author, price, is_kindle):\n",
        "    # 'self.name', 'self.publish_year', 'self.author', 'self.price', 'self.is_kindle' are attributes\n",
        "        self.name = name\n",
        "        self.publish_year = publish_year        \n",
        "        self.author = author        \n",
        "        self.price = price \n",
        "        self.is_kindle = is_kindle "
      ],
      "execution_count": 0,
      "outputs": []
    },
    {
      "cell_type": "markdown",
      "metadata": {
        "id": "qzm2y4L343am",
        "colab_type": "text"
      },
      "source": [
        "Now, the __Book__ data type has been created. The next step is to initialize the class to create an object, a book."
      ]
    },
    {
      "cell_type": "code",
      "metadata": {
        "id": "LLtyTZW608N3",
        "colab_type": "code",
        "colab": {}
      },
      "source": [
        "book1 = Book('How to master python', 2020, \"Bing-Je\", 20, False)"
      ],
      "execution_count": 0,
      "outputs": []
    },
    {
      "cell_type": "code",
      "metadata": {
        "id": "SxN1_HGe08N6",
        "colab_type": "code",
        "colab": {
          "base_uri": "https://localhost:8080/",
          "height": 34
        },
        "outputId": "a6244151-c530-402b-b2d0-39d3b391707a"
      },
      "source": [
        "book1.name"
      ],
      "execution_count": 4,
      "outputs": [
        {
          "output_type": "execute_result",
          "data": {
            "text/plain": [
              "'How to master python'"
            ]
          },
          "metadata": {
            "tags": []
          },
          "execution_count": 4
        }
      ]
    },
    {
      "cell_type": "code",
      "metadata": {
        "id": "FKHIH5gM08OA",
        "colab_type": "code",
        "colab": {
          "base_uri": "https://localhost:8080/",
          "height": 34
        },
        "outputId": "7a171d1b-d6a2-4582-9f0b-b9b85d50ae97"
      },
      "source": [
        "book1.publish_year"
      ],
      "execution_count": 5,
      "outputs": [
        {
          "output_type": "execute_result",
          "data": {
            "text/plain": [
              "2020"
            ]
          },
          "metadata": {
            "tags": []
          },
          "execution_count": 5
        }
      ]
    },
    {
      "cell_type": "code",
      "metadata": {
        "id": "TbgK0LK308OG",
        "colab_type": "code",
        "colab": {
          "base_uri": "https://localhost:8080/",
          "height": 34
        },
        "outputId": "0c212357-c8e7-4155-823b-1c3207960d45"
      },
      "source": [
        "book1.price"
      ],
      "execution_count": 6,
      "outputs": [
        {
          "output_type": "execute_result",
          "data": {
            "text/plain": [
              "20"
            ]
          },
          "metadata": {
            "tags": []
          },
          "execution_count": 6
        }
      ]
    },
    {
      "cell_type": "code",
      "metadata": {
        "id": "NllLAjT808OJ",
        "colab_type": "code",
        "colab": {
          "base_uri": "https://localhost:8080/",
          "height": 34
        },
        "outputId": "e9a846aa-722c-4bd2-c8ce-0563e80a45e6"
      },
      "source": [
        "book1.author"
      ],
      "execution_count": 7,
      "outputs": [
        {
          "output_type": "execute_result",
          "data": {
            "text/plain": [
              "'Bing-Je'"
            ]
          },
          "metadata": {
            "tags": []
          },
          "execution_count": 7
        }
      ]
    },
    {
      "cell_type": "code",
      "metadata": {
        "id": "_VHGLcvl08OM",
        "colab_type": "code",
        "colab": {
          "base_uri": "https://localhost:8080/",
          "height": 34
        },
        "outputId": "ea1d42b0-d016-403e-f879-4d27cc39eb18"
      },
      "source": [
        "book1.is_kindle"
      ],
      "execution_count": 8,
      "outputs": [
        {
          "output_type": "execute_result",
          "data": {
            "text/plain": [
              "False"
            ]
          },
          "metadata": {
            "tags": []
          },
          "execution_count": 8
        }
      ]
    },
    {
      "cell_type": "markdown",
      "metadata": {
        "id": "Or_GiMET518v",
        "colab_type": "text"
      },
      "source": [
        "Let's create another object, second book."
      ]
    },
    {
      "cell_type": "code",
      "metadata": {
        "id": "dePFxxE908OQ",
        "colab_type": "code",
        "colab": {}
      },
      "source": [
        "book2 = Book('The Road Ahead: Completely Revised and Up-to-Date', 1996, 'Bill Gates', 24, True)"
      ],
      "execution_count": 0,
      "outputs": []
    },
    {
      "cell_type": "code",
      "metadata": {
        "id": "a_4YBwcq08OS",
        "colab_type": "code",
        "colab": {
          "base_uri": "https://localhost:8080/",
          "height": 34
        },
        "outputId": "a50b89b3-64b9-4245-a3a7-153647d2ff91"
      },
      "source": [
        "book2.name"
      ],
      "execution_count": 10,
      "outputs": [
        {
          "output_type": "execute_result",
          "data": {
            "text/plain": [
              "'The Road Ahead: Completely Revised and Up-to-Date'"
            ]
          },
          "metadata": {
            "tags": []
          },
          "execution_count": 10
        }
      ]
    },
    {
      "cell_type": "code",
      "metadata": {
        "id": "SMkjuWpz08OV",
        "colab_type": "code",
        "colab": {
          "base_uri": "https://localhost:8080/",
          "height": 34
        },
        "outputId": "02e6b181-e399-4d6b-db6b-c279aecd2a7e"
      },
      "source": [
        "book2.is_kindle"
      ],
      "execution_count": 11,
      "outputs": [
        {
          "output_type": "execute_result",
          "data": {
            "text/plain": [
              "True"
            ]
          },
          "metadata": {
            "tags": []
          },
          "execution_count": 11
        }
      ]
    },
    {
      "cell_type": "markdown",
      "metadata": {
        "id": "pvu8QI1i59P5",
        "colab_type": "text"
      },
      "source": [
        "Alright, that is the basis of the python class and object."
      ]
    },
    {
      "cell_type": "markdown",
      "metadata": {
        "id": "U07qJkK208OY",
        "colab_type": "text"
      },
      "source": [
        "## Python Class Method"
      ]
    },
    {
      "cell_type": "markdown",
      "metadata": {
        "id": "PLsd616N6Ftm",
        "colab_type": "text"
      },
      "source": [
        "Within a python `class`, it can define mutiple functions as the method of an `object`. When an `object` is created based on the `class`, it is automatically assigned the functions as methods that can be used in advanced."
      ]
    },
    {
      "cell_type": "code",
      "metadata": {
        "id": "uGc5TKQR08Of",
        "colab_type": "code",
        "colab": {}
      },
      "source": [
        "# importing datetime module and random module for the functions created in the Robot class\n",
        "from datetime import datetime\n",
        "import random\n",
        "\n",
        "class Robot:\n",
        "    \n",
        "    def __init__(self, name):\n",
        "        self.name = name\n",
        "    \n",
        "    # saying hello with user name\n",
        "    def say_hello(self):\n",
        "        print('Hello, {}!'.format(self.name))\n",
        "        \n",
        "    # return the current time    \n",
        "    def tell_me_time(self):\n",
        "        current_time= datetime.now()\n",
        "        print('Current time is {}'.format(current_time))\n",
        "\n",
        "    # return what day is today randomly    \n",
        "    def what_day_is_today(self):\n",
        "        day = ['Monday', 'Tuesday', 'Wednesday', 'Thursday', \n",
        "               'Friday', 'Saturday', 'Sunday']\n",
        "        today = random.choice(range(7))\n",
        "        print('Today is {}!'.format(day[today]))"
      ],
      "execution_count": 0,
      "outputs": []
    },
    {
      "cell_type": "markdown",
      "metadata": {
        "id": "4qwz_g-C7Tp4",
        "colab_type": "text"
      },
      "source": [
        "Now, we have created a new `class`, __Robot__ data type. We are ready to create instances, `objects`."
      ]
    },
    {
      "cell_type": "code",
      "metadata": {
        "id": "_oqLa_Dp08Oi",
        "colab_type": "code",
        "colab": {}
      },
      "source": [
        "alexa = Robot('Bing')"
      ],
      "execution_count": 0,
      "outputs": []
    },
    {
      "cell_type": "code",
      "metadata": {
        "id": "e6h-D1Zj08On",
        "colab_type": "code",
        "colab": {
          "base_uri": "https://localhost:8080/",
          "height": 34
        },
        "outputId": "c50a3e8a-fbcc-40fb-cbba-86dfa3b4f00c"
      },
      "source": [
        "alexa.say_hello()"
      ],
      "execution_count": 14,
      "outputs": [
        {
          "output_type": "stream",
          "text": [
            "Hello, Bing!\n"
          ],
          "name": "stdout"
        }
      ]
    },
    {
      "cell_type": "code",
      "metadata": {
        "id": "s2B-nQhz08Op",
        "colab_type": "code",
        "colab": {
          "base_uri": "https://localhost:8080/",
          "height": 34
        },
        "outputId": "b6cf4a13-a319-4c5c-cffc-dfa58a8bc5ca"
      },
      "source": [
        "alexa.tell_me_time()"
      ],
      "execution_count": 15,
      "outputs": [
        {
          "output_type": "stream",
          "text": [
            "Current time is 2020-04-21 04:10:38.117218\n"
          ],
          "name": "stdout"
        }
      ]
    },
    {
      "cell_type": "code",
      "metadata": {
        "id": "sEyeVFYg08Or",
        "colab_type": "code",
        "colab": {
          "base_uri": "https://localhost:8080/",
          "height": 34
        },
        "outputId": "7117fd59-1463-42c4-a84f-32c0f65b4323"
      },
      "source": [
        "alexa.what_day_is_today()"
      ],
      "execution_count": 16,
      "outputs": [
        {
          "output_type": "stream",
          "text": [
            "Today is Friday!\n"
          ],
          "name": "stdout"
        }
      ]
    },
    {
      "cell_type": "markdown",
      "metadata": {
        "id": "PDaua3p008Ou",
        "colab_type": "text"
      },
      "source": [
        "## Class inherent"
      ]
    },
    {
      "cell_type": "markdown",
      "metadata": {
        "id": "evLHZSlq7mqB",
        "colab_type": "text"
      },
      "source": [
        "A `class` can inherent the attribute and method from the other `class`.  Let's say we want to create an advance robot to have advanced functions or improved functions. Here, we are going to create a new `class`, __AdvancedRobot__ data type. The __AdvancedRobot__ data type can not only have the basic functions that a __Robot__ `object` has but also have advanced functions such as playing music and reporting the location. "
      ]
    },
    {
      "cell_type": "code",
      "metadata": {
        "id": "3almR8Si08Ov",
        "colab_type": "code",
        "colab": {}
      },
      "source": [
        "class AdvancedRobot(Robot): \n",
        "    # use Robot class as input to inherent attributes and functions/methods\n",
        "    \n",
        "    # change the output of time for differencing from Robot class\n",
        "    def tell_me_time(self):\n",
        "        current_time= datetime.now().time()\n",
        "        print('Current time is {}'.format(current_time))\n",
        "        \n",
        "    def where_am_I(self):\n",
        "        place = ['Japan', 'USA', 'Taiwan', 'Korea', \n",
        "               'Germany', 'UK', 'France']\n",
        "        myplace = random.choice(range(7))\n",
        "        print('You are in {}!'.format(myplace))    \n",
        "    \n",
        "    def play_music(self):\n",
        "        print(\"Playing music ...\")\n",
        "    "
      ],
      "execution_count": 0,
      "outputs": []
    },
    {
      "cell_type": "markdown",
      "metadata": {
        "id": "8ihWSRAj86qH",
        "colab_type": "text"
      },
      "source": [
        "By creating a new instance, we can prove that the AdvancedRobot `object` has perfect inherented everything from __Robot__ `class`."
      ]
    },
    {
      "cell_type": "code",
      "metadata": {
        "id": "0vcgy10e08Oy",
        "colab_type": "code",
        "colab": {}
      },
      "source": [
        "google = AdvancedRobot('Bing')"
      ],
      "execution_count": 0,
      "outputs": []
    },
    {
      "cell_type": "code",
      "metadata": {
        "id": "93mFQjLc08O0",
        "colab_type": "code",
        "colab": {
          "base_uri": "https://localhost:8080/",
          "height": 34
        },
        "outputId": "3b7fde07-1744-4b91-b2d5-8c097144c5b2"
      },
      "source": [
        "google.tell_me_time()"
      ],
      "execution_count": 20,
      "outputs": [
        {
          "output_type": "stream",
          "text": [
            "Current time is 04:18:27.061782\n"
          ],
          "name": "stdout"
        }
      ]
    },
    {
      "cell_type": "code",
      "metadata": {
        "id": "KjIPiPjk08O4",
        "colab_type": "code",
        "colab": {
          "base_uri": "https://localhost:8080/",
          "height": 34
        },
        "outputId": "e2e8890c-7a59-46d1-c45b-1471bd07a2e4"
      },
      "source": [
        "google.what_day_is_today()"
      ],
      "execution_count": 21,
      "outputs": [
        {
          "output_type": "stream",
          "text": [
            "Today is Saturday!\n"
          ],
          "name": "stdout"
        }
      ]
    },
    {
      "cell_type": "code",
      "metadata": {
        "id": "z53t4-vp08O7",
        "colab_type": "code",
        "colab": {
          "base_uri": "https://localhost:8080/",
          "height": 34
        },
        "outputId": "cc8769a9-019b-40e4-e0bc-bc976c72b3a5"
      },
      "source": [
        "google.play_music()"
      ],
      "execution_count": 22,
      "outputs": [
        {
          "output_type": "stream",
          "text": [
            "Playing music ...\n"
          ],
          "name": "stdout"
        }
      ]
    },
    {
      "cell_type": "markdown",
      "metadata": {
        "id": "gEiso0zy08O-",
        "colab_type": "text"
      },
      "source": [
        "## Multiple Choice Question"
      ]
    },
    {
      "cell_type": "code",
      "metadata": {
        "id": "LSC8H3To08O_",
        "colab_type": "code",
        "colab": {}
      },
      "source": [
        "# a list of questions\n",
        "question_prompts = [\n",
        "    \"What color are apples?\\n(a) Red/Green\\n(b) Purple\\n(c) Orange\\n\\n\",\n",
        "    \"What color are bananas?\\n(a) Teal\\n(b) Magneta\\n(c) Yellow\\n\\n\",\n",
        "    \"What color are strawberries?\\n(a) Yellow\\n(b) Red\\n(c) Blue\\n\\n\",\n",
        "]"
      ],
      "execution_count": 0,
      "outputs": []
    },
    {
      "cell_type": "code",
      "metadata": {
        "id": "HB59238q08PC",
        "colab_type": "code",
        "colab": {}
      },
      "source": [
        "class Question:\n",
        "    def __init__(self, prompt, answer):\n",
        "        self.prompt = prompt\n",
        "        self.answer = answer"
      ],
      "execution_count": 0,
      "outputs": []
    },
    {
      "cell_type": "code",
      "metadata": {
        "id": "z-HsmpQR08PE",
        "colab_type": "code",
        "colab": {}
      },
      "source": [
        "# a list of question object with answers\n",
        "questions = [\n",
        "    Question(question_prompts[0], 'a'),\n",
        "    Question(question_prompts[1], 'c'),\n",
        "    Question(question_prompts[2], 'b'),\n",
        "]"
      ],
      "execution_count": 0,
      "outputs": []
    },
    {
      "cell_type": "code",
      "metadata": {
        "id": "IEAIfdEn08PH",
        "colab_type": "code",
        "colab": {},
        "outputId": "261def34-6989-4a5e-d769-bc3c8ac70736"
      },
      "source": [
        "questions[1].prompt"
      ],
      "execution_count": 0,
      "outputs": [
        {
          "output_type": "execute_result",
          "data": {
            "text/plain": [
              "'What color are bananas?\\n(a) Teal\\n(b) Magneta\\n(c) Yellow\\n\\n'"
            ]
          },
          "metadata": {
            "tags": []
          },
          "execution_count": 40
        }
      ]
    },
    {
      "cell_type": "code",
      "metadata": {
        "id": "caYxPZ4d08PL",
        "colab_type": "code",
        "colab": {}
      },
      "source": [
        "def run_qeustions(questions):\n",
        "    score = 0\n",
        "    for q in questions: # q is Question object\n",
        "        answer = input(q.prompt) # call the prompt attribute from the class\n",
        "        if answer == q.answer:  # compare the answer attribute from the class\n",
        "            score += 1\n",
        "    if score < 3:\n",
        "        print('\\nYou got {} question(s) wrong ! Sorry :('.format(3-score))\n",
        "    else:\n",
        "        print('\\nYou got {} questions right ! Congrats !!'.format(score))\n"
      ],
      "execution_count": 0,
      "outputs": []
    },
    {
      "cell_type": "code",
      "metadata": {
        "id": "6A0qG8-308PN",
        "colab_type": "code",
        "colab": {},
        "outputId": "9a68b8f7-5005-4f3f-c2b4-c044c069639b"
      },
      "source": [
        "run_qeustions(questions)"
      ],
      "execution_count": 0,
      "outputs": [
        {
          "output_type": "stream",
          "text": [
            "What color are apples?\n",
            "(a) Red/Green\n",
            "(b) Purple\n",
            "(c) Orange\n",
            "\n",
            "a\n",
            "What color are bananas?\n",
            "(a) Teal\n",
            "(b) Magneta\n",
            "(c) Yellow\n",
            "\n",
            "c\n",
            "What color are strawberries?\n",
            "(a) Yellow\n",
            "(b) Red\n",
            "(c) Blue\n",
            "\n",
            "b\n",
            "\n",
            "You got 3 questions right ! Congrats !!\n"
          ],
          "name": "stdout"
        }
      ]
    },
    {
      "cell_type": "code",
      "metadata": {
        "id": "ajO4Bbry08PQ",
        "colab_type": "code",
        "colab": {}
      },
      "source": [
        ""
      ],
      "execution_count": 0,
      "outputs": []
    }
  ]
}